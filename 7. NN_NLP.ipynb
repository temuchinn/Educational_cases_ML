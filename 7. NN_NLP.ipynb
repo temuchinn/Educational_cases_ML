{
  "nbformat": 4,
  "nbformat_minor": 0,
  "metadata": {
    "colab": {
      "name": "HW_nlp.ipynb\"",
      "provenance": [],
      "collapsed_sections": []
    },
    "kernelspec": {
      "name": "python3",
      "display_name": "Python 3"
    },
    "language_info": {
      "name": "python"
    },
    "accelerator": "GPU"
  },
  "cells": [
    {
      "cell_type": "code",
      "metadata": {
        "id": "mDqmKfivrwao",
        "colab": {
          "base_uri": "https://localhost:8080/"
        },
        "outputId": "ae1835da-e9d2-408b-ef4d-8ee64e440102"
      },
      "source": [
        "!pip install pandarallel"
      ],
      "execution_count": null,
      "outputs": [
        {
          "output_type": "stream",
          "name": "stdout",
          "text": [
            "Requirement already satisfied: pandarallel in /usr/local/lib/python3.7/dist-packages (1.5.4)\n",
            "Requirement already satisfied: dill in /usr/local/lib/python3.7/dist-packages (from pandarallel) (0.3.4)\n"
          ]
        }
      ]
    },
    {
      "cell_type": "code",
      "metadata": {
        "colab": {
          "base_uri": "https://localhost:8080/"
        },
        "id": "BJERPuv6iZTq",
        "outputId": "df9655db-2c27-4c0e-87a4-431b48a7cc39"
      },
      "source": [
        "import numpy as np \n",
        "import pandas as pd\n",
        "import matplotlib.pyplot as plt\n",
        "import seaborn as sns\n",
        "\n",
        "\n",
        "from sklearn.model_selection import train_test_split, cross_val_score, GridSearchCV, KFold, RandomizedSearchCV\n",
        "from sklearn.metrics import confusion_matrix, classification_report, roc_auc_score, make_scorer, roc_curve\n",
        "from sklearn.metrics import accuracy_score, f1_score\n",
        "from sklearn.metrics import precision_score, recall_score\n",
        "\n",
        "from sklearn.naive_bayes import MultinomialNB\n",
        "from sklearn.naive_bayes import GaussianNB\n",
        "from sklearn.linear_model import LogisticRegression\n",
        "from sklearn.svm import LinearSVC, SVC\n",
        "from sklearn.linear_model import SGDClassifier\n",
        "from sklearn.ensemble import RandomForestClassifier\n",
        "from sklearn.decomposition import TruncatedSVD\n",
        "\n",
        "from sklearn.feature_extraction.text import TfidfVectorizer\n",
        "from gensim.models import Doc2Vec\n",
        "\n",
        "from sklearn.pipeline import Pipeline\n",
        "\n",
        "import unicodedata\n",
        "from sklearn.base import BaseEstimator, TransformerMixin\n",
        "from nltk.corpus import wordnet as wn\n",
        "from nltk.stem.wordnet import WordNetLemmatizer\n",
        "from nltk.stem import SnowballStemmer, PorterStemmer\n",
        "import string\n",
        "import nltk\n",
        "from nltk.tokenize import sent_tokenize, wordpunct_tokenize\n",
        "from nltk.corpus import stopwords\n",
        "from nltk import pos_tag\n",
        "import pandas as pd\n",
        "import re\n",
        "from pandarallel import pandarallel\n",
        "from pandarallel.utils import progress_bars\n",
        "from tqdm import tqdm\n",
        "\n",
        "\n",
        "import gensim\n",
        "from gensim.models import Word2Vec,KeyedVectors\n",
        "\n",
        "tqdm.pandas()\n",
        "pandarallel.initialize(progress_bar=True)\n",
        "progress_bars.is_notebook_lab = lambda : True\n",
        "nltk.download('averaged_perceptron_tagger')\n",
        "nltk.download('stopwords')\n",
        "nltk.download('punkt')\n",
        "nltk.download('wordnet')"
      ],
      "execution_count": null,
      "outputs": [
        {
          "output_type": "stream",
          "name": "stdout",
          "text": [
            "INFO: Pandarallel will run on 2 workers.\n",
            "INFO: Pandarallel will use Memory file system to transfer data between the main process and workers.\n",
            "[nltk_data] Downloading package averaged_perceptron_tagger to\n",
            "[nltk_data]     /root/nltk_data...\n",
            "[nltk_data]   Package averaged_perceptron_tagger is already up-to-\n",
            "[nltk_data]       date!\n",
            "[nltk_data] Downloading package stopwords to /root/nltk_data...\n",
            "[nltk_data]   Package stopwords is already up-to-date!\n",
            "[nltk_data] Downloading package punkt to /root/nltk_data...\n",
            "[nltk_data]   Package punkt is already up-to-date!\n",
            "[nltk_data] Downloading package wordnet to /root/nltk_data...\n",
            "[nltk_data]   Package wordnet is already up-to-date!\n"
          ]
        },
        {
          "output_type": "execute_result",
          "data": {
            "text/plain": [
              "True"
            ]
          },
          "metadata": {},
          "execution_count": 24
        }
      ]
    },
    {
      "cell_type": "code",
      "metadata": {
        "id": "3Ap58v06sDcj",
        "colab": {
          "base_uri": "https://localhost:8080/"
        },
        "outputId": "48730f5d-f3ec-4171-a4ee-fc3939080835"
      },
      "source": [
        "from google.colab import drive\n",
        "drive.mount('/content/drive')"
      ],
      "execution_count": null,
      "outputs": [
        {
          "output_type": "stream",
          "name": "stdout",
          "text": [
            "Drive already mounted at /content/drive; to attempt to forcibly remount, call drive.mount(\"/content/drive\", force_remount=True).\n"
          ]
        }
      ]
    },
    {
      "cell_type": "markdown",
      "metadata": {
        "id": "k5XdY3lQvNys"
      },
      "source": [
        "# Data preparation"
      ]
    },
    {
      "cell_type": "markdown",
      "metadata": {
        "id": "zQCdcOy4Pix-"
      },
      "source": [
        "All the data preparation can be seen in the previous home work: https://colab.research.google.com/drive/11rejVFJ5Yx96DOGYBI8O0b5O1ulWA54v?usp=sharing."
      ]
    },
    {
      "cell_type": "code",
      "metadata": {
        "id": "6uZCPt-icuXC",
        "colab": {
          "base_uri": "https://localhost:8080/",
          "height": 453
        },
        "outputId": "751dde13-6940-433e-f4e6-733688996630"
      },
      "source": [
        "%%time\n",
        "df = pd.read_json('drive/MyDrive/training/HW/data/normalized.json', )[['lemm', 'sent']]\n",
        "display(df)"
      ],
      "execution_count": null,
      "outputs": [
        {
          "output_type": "display_data",
          "data": {
            "text/html": [
              "<div>\n",
              "<style scoped>\n",
              "    .dataframe tbody tr th:only-of-type {\n",
              "        vertical-align: middle;\n",
              "    }\n",
              "\n",
              "    .dataframe tbody tr th {\n",
              "        vertical-align: top;\n",
              "    }\n",
              "\n",
              "    .dataframe thead th {\n",
              "        text-align: right;\n",
              "    }\n",
              "</style>\n",
              "<table border=\"1\" class=\"dataframe\">\n",
              "  <thead>\n",
              "    <tr style=\"text-align: right;\">\n",
              "      <th></th>\n",
              "      <th>lemm</th>\n",
              "      <th>sent</th>\n",
              "    </tr>\n",
              "  </thead>\n",
              "  <tbody>\n",
              "    <tr>\n",
              "      <th>0</th>\n",
              "      <td>[one, reviewer, mention, watch, oz, episode, h...</td>\n",
              "      <td>1</td>\n",
              "    </tr>\n",
              "    <tr>\n",
              "      <th>1</th>\n",
              "      <td>[wonderful, little, production, filming, techn...</td>\n",
              "      <td>1</td>\n",
              "    </tr>\n",
              "    <tr>\n",
              "      <th>2</th>\n",
              "      <td>[think, wonderful, way, spend, time, hot, summ...</td>\n",
              "      <td>1</td>\n",
              "    </tr>\n",
              "    <tr>\n",
              "      <th>3</th>\n",
              "      <td>[basically, family, little, boy, jake, think, ...</td>\n",
              "      <td>0</td>\n",
              "    </tr>\n",
              "    <tr>\n",
              "      <th>4</th>\n",
              "      <td>[petter, mattei, love, time, money, visually, ...</td>\n",
              "      <td>1</td>\n",
              "    </tr>\n",
              "    <tr>\n",
              "      <th>...</th>\n",
              "      <td>...</td>\n",
              "      <td>...</td>\n",
              "    </tr>\n",
              "    <tr>\n",
              "      <th>49995</th>\n",
              "      <td>[think, movie, right, good, job, creative, ori...</td>\n",
              "      <td>1</td>\n",
              "    </tr>\n",
              "    <tr>\n",
              "      <th>49996</th>\n",
              "      <td>[bad, plot, bad, dialogue, bad, acting, idioti...</td>\n",
              "      <td>0</td>\n",
              "    </tr>\n",
              "    <tr>\n",
              "      <th>49997</th>\n",
              "      <td>[catholic, taught, parochial, elementary, scho...</td>\n",
              "      <td>0</td>\n",
              "    </tr>\n",
              "    <tr>\n",
              "      <th>49998</th>\n",
              "      <td>[go, disagree, previous, comment, side, maltin...</td>\n",
              "      <td>0</td>\n",
              "    </tr>\n",
              "    <tr>\n",
              "      <th>49999</th>\n",
              "      <td>[one, expect, star, trek, movie, high, art, fa...</td>\n",
              "      <td>0</td>\n",
              "    </tr>\n",
              "  </tbody>\n",
              "</table>\n",
              "<p>50000 rows × 2 columns</p>\n",
              "</div>"
            ],
            "text/plain": [
              "                                                    lemm  sent\n",
              "0      [one, reviewer, mention, watch, oz, episode, h...     1\n",
              "1      [wonderful, little, production, filming, techn...     1\n",
              "2      [think, wonderful, way, spend, time, hot, summ...     1\n",
              "3      [basically, family, little, boy, jake, think, ...     0\n",
              "4      [petter, mattei, love, time, money, visually, ...     1\n",
              "...                                                  ...   ...\n",
              "49995  [think, movie, right, good, job, creative, ori...     1\n",
              "49996  [bad, plot, bad, dialogue, bad, acting, idioti...     0\n",
              "49997  [catholic, taught, parochial, elementary, scho...     0\n",
              "49998  [go, disagree, previous, comment, side, maltin...     0\n",
              "49999  [one, expect, star, trek, movie, high, art, fa...     0\n",
              "\n",
              "[50000 rows x 2 columns]"
            ]
          },
          "metadata": {}
        },
        {
          "output_type": "stream",
          "name": "stdout",
          "text": [
            "CPU times: user 18.4 s, sys: 2.48 s, total: 20.9 s\n",
            "Wall time: 21 s\n"
          ]
        }
      ]
    },
    {
      "cell_type": "code",
      "metadata": {
        "colab": {
          "base_uri": "https://localhost:8080/"
        },
        "id": "ptbv9S5CN5zu",
        "outputId": "8700b270-9c92-485f-8655-10def168cdb3"
      },
      "source": [
        "df['sent'].value_counts()"
      ],
      "execution_count": null,
      "outputs": [
        {
          "output_type": "execute_result",
          "data": {
            "text/plain": [
              "1    25000\n",
              "0    25000\n",
              "Name: sent, dtype: int64"
            ]
          },
          "metadata": {},
          "execution_count": 27
        }
      ]
    },
    {
      "cell_type": "markdown",
      "metadata": {
        "id": "TovojHUI-L8R"
      },
      "source": [
        "# Baseline model"
      ]
    },
    {
      "cell_type": "markdown",
      "metadata": {
        "id": "4B_lnd-XOGf4"
      },
      "source": [
        "The datset is balanced, so accuracy can be a good metric. "
      ]
    },
    {
      "cell_type": "markdown",
      "metadata": {
        "id": "fDbcNHGkj7IU"
      },
      "source": [
        "We will start with baseline model. We will define function for pipeline creation."
      ]
    },
    {
      "cell_type": "code",
      "metadata": {
        "id": "ea2tKL9098Sb"
      },
      "source": [
        "def identity(words):\n",
        "  return words\n",
        "\n",
        "def create_pipeline(estimator):\n",
        "\n",
        "  steps = [\n",
        "      ('vectorize', TfidfVectorizer(\n",
        "          tokenizer=identity, preprocessor=None, lowercase=False\n",
        "      ))\n",
        "  ]\n",
        "\n",
        "  # Add the estimator\n",
        "  steps.append(('classifier', estimator))\n",
        "  return Pipeline(steps)"
      ],
      "execution_count": null,
      "outputs": []
    },
    {
      "cell_type": "code",
      "metadata": {
        "id": "R5JS92JS-EFB",
        "colab": {
          "base_uri": "https://localhost:8080/"
        },
        "outputId": "709fd511-dd89-4fdf-f3bf-3756b9e91c43"
      },
      "source": [
        "X_train, X_test, y_train, y_test = train_test_split(\n",
        "    df['lemm'], df['sent'], test_size=0.25, shuffle=True, random_state=42)\n",
        "\n",
        "pipe = create_pipeline(LogisticRegression())\n",
        "\n",
        "pipe.fit(X_train, y_train)\n",
        "\n",
        "y_pred = pipe.predict(X_test)\n",
        "y_pred_train = pipe.predict(X_train)\n",
        "\n",
        "y_pred_prob = pipe.predict_proba(X_test)\n",
        "y_pred_train_prob = pipe.predict_proba(X_train)\n",
        "\n",
        "print(classification_report(y_test, y_pred))\n",
        "\n",
        "print(\"Accuracy train:\", accuracy_score(y_train, y_pred_train))\n",
        "print(\"Accuracy test: \", accuracy_score(y_test, y_pred))\n",
        "\n",
        "print(\"ROC AUC train:\", roc_auc_score(y_train, y_pred_train_prob[:, 1]))\n",
        "print(\"ROC AUC test: \", roc_auc_score(y_test, y_pred_prob[:, 1]))"
      ],
      "execution_count": null,
      "outputs": [
        {
          "output_type": "stream",
          "name": "stdout",
          "text": [
            "              precision    recall  f1-score   support\n",
            "\n",
            "           0       0.90      0.88      0.89      6157\n",
            "           1       0.88      0.91      0.89      6343\n",
            "\n",
            "    accuracy                           0.89     12500\n",
            "   macro avg       0.89      0.89      0.89     12500\n",
            "weighted avg       0.89      0.89      0.89     12500\n",
            "\n",
            "Accuracy train: 0.92888\n",
            "Accuracy test:  0.892\n",
            "ROC AUC train: 0.9793802770773801\n",
            "ROC AUC test:  0.9590675705706972\n"
          ]
        }
      ]
    },
    {
      "cell_type": "code",
      "metadata": {
        "id": "485cjYvmJgn6"
      },
      "source": [
        "import tensorflow as tf\n",
        "from tensorflow.keras.layers import Dense, LSTM, Embedding, Flatten, Dropout, Bidirectional\n",
        "from tensorflow.keras.models import Model\n",
        "from tensorflow.keras.callbacks import ModelCheckpoint, EarlyStopping\n",
        "from tensorflow.keras.models import Sequential\n",
        "from tensorflow.keras.preprocessing.sequence import pad_sequences\n",
        "from tensorflow.keras.preprocessing.text import Tokenizer\n",
        "from tensorflow.python.ops.numpy_ops import np_config\n",
        "np_config.enable_numpy_behavior()\n",
        "import keras\n",
        "import numpy as np\n",
        "import pandas as pd\n",
        "\n",
        "from keras.preprocessing.text import Tokenizer\n",
        "import gensim\n",
        "import pandas as pd\n",
        "import numpy as np\n",
        "from itertools import chain\n",
        "\n",
        "import tensorflow_hub as hub\n",
        "import numpy as np"
      ],
      "execution_count": null,
      "outputs": []
    },
    {
      "cell_type": "markdown",
      "metadata": {
        "id": "8oOBXmtACyOv"
      },
      "source": [
        "# Texts to sequences"
      ]
    },
    {
      "cell_type": "markdown",
      "metadata": {
        "id": "gl1dljeIfZ7h"
      },
      "source": [
        "It is very expensive to store vectors for each word in a dataframe. So, we can transform texts into sequences of indicies. So, this requires much less space, and we can use Embedding layer to convert sequences to vectors."
      ]
    },
    {
      "cell_type": "code",
      "metadata": {
        "id": "g62rDkV5Zg1E"
      },
      "source": [
        "# prepare tokenizer\n",
        "t = Tokenizer()\n",
        "t.fit_on_texts(X_train)\n",
        "vocab_size = len(t.word_index) + 1"
      ],
      "execution_count": null,
      "outputs": []
    },
    {
      "cell_type": "code",
      "metadata": {
        "id": "iDlEbFHMaBy5"
      },
      "source": [
        "# integer encode the documents\n",
        "X_train_seq = t.texts_to_sequences(X_train)\n",
        "X_test_seq = t.texts_to_sequences(X_test)"
      ],
      "execution_count": null,
      "outputs": []
    },
    {
      "cell_type": "code",
      "metadata": {
        "colab": {
          "base_uri": "https://localhost:8080/",
          "height": 265
        },
        "id": "W5u3HMisbkPp",
        "outputId": "c0e8b60a-e4ea-48fd-f0ac-0d8cb0636c46"
      },
      "source": [
        "df['lemm'].apply(lambda x: len(x)).hist(bins=100);"
      ],
      "execution_count": null,
      "outputs": [
        {
          "output_type": "display_data",
          "data": {
            "image/png": "[encoded data removed]",
            "text/plain": [
              "<Figure size 432x288 with 1 Axes>"
            ]
          },
          "metadata": {
            "needs_background": "light"
          }
        }
      ]
    },
    {
      "cell_type": "code",
      "metadata": {
        "id": "9oq6JLmaav_C"
      },
      "source": [
        "# pad documents to a max length of 4 words\n",
        "max_length = int(df['lemm'].apply(lambda x: len(x)).quantile(0.9))\n",
        "X_train_pad = pad_sequences(X_train_seq, maxlen=max_length, padding='post')\n",
        "X_test_pad = pad_sequences(X_test_seq, maxlen=max_length, padding='post')"
      ],
      "execution_count": null,
      "outputs": []
    },
    {
      "cell_type": "code",
      "metadata": {
        "colab": {
          "base_uri": "https://localhost:8080/"
        },
        "id": "vfsD49Qua4h2",
        "outputId": "e0ee8c3d-1265-400b-cf6d-76a3dedd3bf4"
      },
      "source": [
        "X_train_pad"
      ],
      "execution_count": null,
      "outputs": [
        {
          "output_type": "execute_result",
          "data": {
            "text/plain": [
              "array([[ 435, 3188,  461, ...,    0,    0,    0],\n",
              "       [ 137,    1,   48, ...,    0,    0,    0],\n",
              "       [ 133,   13,    1, ...,    0,    0,    0],\n",
              "       ...,\n",
              "       [ 527,    3,  293, ...,    0,    0,    0],\n",
              "       [ 231,   95,  329, ...,    0,    0,    0],\n",
              "       [ 423,    1,  166, ...,    0,    0,    0]], dtype=int32)"
            ]
          },
          "metadata": {},
          "execution_count": 35
        }
      ]
    },
    {
      "cell_type": "markdown",
      "metadata": {
        "id": "nEjQbV3cIpdN"
      },
      "source": [
        "# Recurrent NNs"
      ]
    },
    {
      "cell_type": "markdown",
      "metadata": {
        "id": "heSp_5PyvS_o"
      },
      "source": [
        "In this work will be used 2 embedding types and 2 NN types. The best model will be chosen using model checkpoints, and early stopping will also be used."
      ]
    },
    {
      "cell_type": "markdown",
      "metadata": {
        "id": "sf5aqYSrHsqR"
      },
      "source": [
        "## Glove"
      ]
    },
    {
      "cell_type": "code",
      "metadata": {
        "colab": {
          "base_uri": "https://localhost:8080/"
        },
        "id": "OTUXoCc5C2Gd",
        "outputId": "77899e59-5327-45e7-d79d-639095e8db98"
      },
      "source": [
        "# load the whole embedding into memory\n",
        "embeddings_index = dict()\n",
        "f = open('drive/MyDrive/training/HW/data/glove.6B.300d.txt')\n",
        "for line in f:\n",
        "\tvalues = line.split()\n",
        "\tword = values[0]\n",
        "\tcoefs = np.asarray(values[1:], dtype='float32')\n",
        "\tembeddings_index[word] = coefs\n",
        "f.close()\n",
        "print('Loaded %s word vectors.' % len(embeddings_index))"
      ],
      "execution_count": null,
      "outputs": [
        {
          "output_type": "stream",
          "name": "stdout",
          "text": [
            "Loaded 400000 word vectors.\n"
          ]
        }
      ]
    },
    {
      "cell_type": "code",
      "metadata": {
        "colab": {
          "base_uri": "https://localhost:8080/"
        },
        "id": "6QhzGHGLH0A9",
        "outputId": "ef6c44cb-4713-4588-af40-a950a1e5d079"
      },
      "source": [
        "embeddings_index['school']"
      ],
      "execution_count": null,
      "outputs": [
        {
          "output_type": "execute_result",
          "data": {
            "text/plain": [
              "array([-6.4161e-01,  6.8240e-02,  5.1487e-02,  6.4869e-02,  2.1723e-01,\n",
              "        5.4558e-02,  1.3024e-01, -1.0667e-01,  1.4072e-01, -9.3076e-01,\n",
              "        1.7477e-01,  4.2712e-01,  6.6720e-01,  4.4806e-01,  4.0159e-02,\n",
              "        3.3519e-01,  6.9483e-03, -7.3516e-01,  4.0616e-01, -6.5180e-01,\n",
              "        5.2317e-02, -2.7736e-01, -8.1789e-02,  5.5772e-01, -1.4005e-01,\n",
              "        2.0077e-01, -1.5129e-01,  2.4109e-02,  2.0042e-01, -1.8521e-03,\n",
              "        1.0963e+00, -3.2770e-01,  1.4748e-01,  8.3094e-01, -8.9014e-01,\n",
              "        3.2464e-02, -1.4011e-01, -5.8803e-03, -2.4651e-01, -2.1943e-01,\n",
              "        2.2134e-01, -7.0916e-01, -3.3977e-01,  2.2341e-01,  4.5329e-01,\n",
              "        2.9131e-01, -1.9803e-02,  6.3039e-01,  6.0066e-01, -5.5588e-01,\n",
              "        7.9623e-02, -2.1045e-01, -4.6800e-02, -4.7401e-01,  9.2838e-02,\n",
              "       -1.4301e-01,  6.2879e-02,  2.9913e-01, -5.9922e-02, -3.6503e-01,\n",
              "       -5.4157e-02,  6.3134e-02,  4.1571e-01,  2.6924e-01,  1.8764e-01,\n",
              "       -7.4354e-01,  1.1313e-01, -3.2984e-01, -5.5670e-01, -4.8854e-01,\n",
              "       -6.3728e-01, -6.4813e-01, -5.1405e-01, -2.0622e-01, -2.8326e-01,\n",
              "       -1.9427e-01,  2.3696e-01,  8.0155e-01, -1.9739e-01, -1.4081e-01,\n",
              "        1.7155e-01, -2.8588e-01,  1.1697e-01, -1.5297e-01,  3.8919e-01,\n",
              "        2.2305e-02,  4.2353e-01, -4.0057e-01, -2.5891e-01,  4.7362e-01,\n",
              "        1.9845e-01,  2.5841e-01,  2.6475e-02,  2.5707e-01,  7.6718e-02,\n",
              "       -3.8436e-02,  2.6509e-01, -1.4234e-01, -8.9589e-01, -1.9442e-01,\n",
              "       -2.9115e-01, -6.1827e-02,  2.3151e-01,  4.7197e-01, -1.3790e-01,\n",
              "       -5.8582e-01,  1.2926e-02, -3.9827e-02,  1.0920e-01, -6.8868e-02,\n",
              "       -3.0203e-01, -6.8411e-01,  6.4680e-01,  3.8228e-01, -1.0111e-02,\n",
              "        1.6152e-02, -2.2873e-01,  1.4318e-01, -1.8320e-01, -5.1417e-02,\n",
              "        7.9725e-02,  5.4102e-01,  8.6507e-02, -1.9234e-01,  1.9465e-01,\n",
              "       -5.3547e-01, -4.2695e-02, -2.7354e-01,  6.1035e-01, -1.6446e-01,\n",
              "       -7.3264e-02,  1.0742e-01,  6.4089e-01, -4.9200e-01,  2.7500e-01,\n",
              "        2.5291e-01, -1.0340e-01,  3.8821e-01, -4.1347e-01,  3.8299e-02,\n",
              "        5.1165e-01, -1.4268e-02,  1.2695e-01, -8.2008e-01,  1.2296e-01,\n",
              "       -1.2291e-01,  5.0211e-01, -1.6886e-01,  3.1155e-01,  5.8806e-01,\n",
              "        1.1202e+00, -1.3103e-01,  7.0168e-01,  5.5765e-01,  1.3997e-01,\n",
              "        1.4697e-01, -3.3871e-01, -1.9498e-01,  1.6068e-01,  1.8296e-01,\n",
              "        8.1318e-01, -5.0526e-01, -5.0410e-02, -8.3246e-01, -3.6023e-01,\n",
              "       -5.7670e-01, -6.6416e-02,  4.1684e-01, -1.5166e-01, -1.6916e-01,\n",
              "        1.8017e-01, -1.1211e-01, -4.9226e-01,  5.7539e-01,  1.8002e-01,\n",
              "        7.8844e-01, -3.1432e-02, -6.3417e-01,  3.6353e-01,  1.2123e-01,\n",
              "        8.7792e-02,  3.7909e-01, -1.9283e-01,  7.8218e-03,  4.1315e-02,\n",
              "        4.4721e-01, -6.7678e-01,  6.7948e-02, -2.6153e-02,  3.2517e-01,\n",
              "       -5.0928e-01,  7.1717e-02,  1.3885e-01, -1.2809e-01,  2.4737e-01,\n",
              "        5.5598e-01, -3.3073e-01, -3.1008e-01,  3.3718e-01, -2.9018e-01,\n",
              "        9.7470e-01,  3.3833e-01,  1.4512e-01, -1.2210e-01, -1.0004e-01,\n",
              "       -4.6636e-01, -3.2400e-01,  2.0660e-01, -2.5499e-01,  1.7932e-01,\n",
              "        7.6575e-02,  9.5538e-02, -5.8068e-01, -2.8031e-01, -1.8916e-02,\n",
              "       -1.4590e-01, -1.3179e-01, -2.7302e-01,  6.0837e-02, -6.9488e-01,\n",
              "        2.5779e-01,  3.0887e-01, -3.6916e-01,  2.6813e-01,  4.0887e-01,\n",
              "       -3.5938e-02, -3.7564e-01, -2.2307e-01, -4.0262e-01,  3.9288e-03,\n",
              "        1.0849e-02,  2.9434e-01, -5.7996e-01, -3.4200e-01, -1.2675e-01,\n",
              "        2.7396e-01,  9.9212e-01,  1.7445e-01, -1.0461e-01,  2.5403e-01,\n",
              "        4.2659e-01, -1.0019e-01,  3.5478e-01, -2.8901e-01, -1.1165e+00,\n",
              "        3.8400e-01,  1.6750e-01, -1.5567e-01, -2.5741e-02, -1.1852e-01,\n",
              "        4.4902e-01,  4.5213e-01, -4.1616e-01, -2.9712e-02,  7.4412e-02,\n",
              "        2.0578e-02,  7.1285e-01,  2.1487e-01, -1.4977e-01, -2.5878e-01,\n",
              "       -2.3096e-01, -4.6956e-01,  2.0738e-01, -6.3445e-01,  3.1301e-01,\n",
              "        7.5033e-02, -3.0934e-01,  5.5355e-02, -7.0390e-02,  6.7768e-01,\n",
              "       -9.9573e-01,  4.3487e-02,  2.5511e-01, -1.4198e-01,  1.1963e-01,\n",
              "       -2.2128e-01, -2.4439e+00, -1.3592e-01,  5.1828e-02,  6.5525e-01,\n",
              "       -9.0219e-03,  1.4642e-01, -3.2958e-01, -3.4853e-01,  1.5741e-01,\n",
              "        9.9815e-01, -1.0566e-01,  2.5076e-01, -2.0421e-01, -4.8349e-01,\n",
              "       -2.3959e-01, -3.2026e-01, -4.8219e-01,  4.0511e-01,  4.3210e-01,\n",
              "       -3.7059e-01,  2.2151e-01, -8.4095e-01, -2.7062e-01,  2.5325e-01],\n",
              "      dtype=float32)"
            ]
          },
          "metadata": {},
          "execution_count": 37
        }
      ]
    },
    {
      "cell_type": "code",
      "metadata": {
        "id": "gUJQ9qzhDL_g"
      },
      "source": [
        "# create a weight matrix for words in training docs\n",
        "embedding_matrix = np.zeros((vocab_size, 300))\n",
        "for word, i in t.word_index.items():\n",
        "\tembedding_vector = embeddings_index.get(word)\n",
        "\tif embedding_vector is not None:\n",
        "\t\tembedding_matrix[i] = embedding_vector"
      ],
      "execution_count": null,
      "outputs": []
    },
    {
      "cell_type": "code",
      "metadata": {
        "colab": {
          "base_uri": "https://localhost:8080/"
        },
        "id": "53Jc38GJH1Nj",
        "outputId": "95241113-1bc8-4696-d8ea-41a27e936c14"
      },
      "source": [
        "embedding_matrix.shape, vocab_size"
      ],
      "execution_count": null,
      "outputs": [
        {
          "output_type": "execute_result",
          "data": {
            "text/plain": [
              "((82269, 300), 82269)"
            ]
          },
          "metadata": {},
          "execution_count": 39
        }
      ]
    },
    {
      "cell_type": "code",
      "metadata": {
        "colab": {
          "base_uri": "https://localhost:8080/"
        },
        "id": "nc4Xy3zYcdKb",
        "outputId": "57e074be-d7a8-45ce-fc7d-26426fb8451d"
      },
      "source": [
        "X_test_pad"
      ],
      "execution_count": null,
      "outputs": [
        {
          "output_type": "execute_result",
          "data": {
            "text/plain": [
              "array([[   19,     5, 43972, ...,     0,     0,     0],\n",
              "       [   46,   560,    20, ...,     0,     0,     0],\n",
              "       [    2,   772,     8, ...,     0,     0,     0],\n",
              "       ...,\n",
              "       [ 3049,     1,    16, ...,     0,     0,     0],\n",
              "       [ 1829,    19,   152, ...,     0,     0,     0],\n",
              "       [ 1470,    62,  3485, ...,     0,     0,     0]], dtype=int32)"
            ]
          },
          "metadata": {},
          "execution_count": 40
        }
      ]
    },
    {
      "cell_type": "markdown",
      "metadata": {
        "id": "opzjrhyYSpHe"
      },
      "source": [
        ""
      ]
    },
    {
      "cell_type": "code",
      "metadata": {
        "id": "Igs2xlcaSpig"
      },
      "source": [
        "# \n",
        "checkpoint_filepath = '/tmp/checkpoint'\n",
        "model_checkpoint_callback = ModelCheckpoint(\n",
        "    filepath=checkpoint_filepath,\n",
        "    save_weights_only=True,\n",
        "    monitor='val_accuracy',\n",
        "    mode='max',\n",
        "    save_best_only=True)\n",
        "\n",
        "# \n",
        "es_callback = EarlyStopping(monitor='val_loss', patience=4, )\n"
      ],
      "execution_count": null,
      "outputs": []
    },
    {
      "cell_type": "markdown",
      "metadata": {
        "id": "ypFkgS4il27V"
      },
      "source": [
        "## LSTM (Glove)"
      ]
    },
    {
      "cell_type": "markdown",
      "metadata": {
        "id": "t7gGLIpE5hpB"
      },
      "source": [
        "### Model"
      ]
    },
    {
      "cell_type": "code",
      "metadata": {
        "colab": {
          "base_uri": "https://localhost:8080/"
        },
        "id": "8jyn3ZRPZIDK",
        "outputId": "9e79e0a6-0bc1-4077-e7bf-ac488b58c63a"
      },
      "source": [
        "model = Sequential()\n",
        "embedding_layer = Embedding(vocab_size, 300, weights=[embedding_matrix], input_length=max_length, trainable=False, )\n",
        "\n",
        "model.add(embedding_layer)\n",
        "model.add(LSTM(128, return_sequences=True))\n",
        "model.add(LSTM(128))\n",
        "model.add(Dropout(0.5))\n",
        "model.add(Dense(1, activation='sigmoid'))\n",
        "\n",
        "# compile the model\n",
        "model.compile(optimizer='adam', loss='binary_crossentropy', metrics=['accuracy'])\n",
        "\n",
        "# summarize the model\n",
        "print(model.summary())\n",
        "\n",
        "# fit the model\n",
        "history = model.fit(X_train_pad, y_train, epochs=25, verbose=1, validation_split=0.1,\n",
        "    callbacks=[model_checkpoint_callback, es_callback])\n",
        "\n",
        "# evaluate the model\n",
        "loss, accuracy = model.evaluate(X_test_pad, y_test, verbose=0)\n",
        "print('Accuracy: %f' % (accuracy*100))"
      ],
      "execution_count": null,
      "outputs": [
        {
          "output_type": "stream",
          "name": "stdout",
          "text": [
            "Model: \"sequential_2\"\n",
            "_________________________________________________________________\n",
            "Layer (type)                 Output Shape              Param #   \n",
            "=================================================================\n",
            "embedding_2 (Embedding)      (None, 233, 300)          24680700  \n",
            "_________________________________________________________________\n",
            "lstm_4 (LSTM)                (None, 233, 128)          219648    \n",
            "_________________________________________________________________\n",
            "lstm_5 (LSTM)                (None, 128)               131584    \n",
            "_________________________________________________________________\n",
            "dropout_2 (Dropout)          (None, 128)               0         \n",
            "_________________________________________________________________\n",
            "dense_2 (Dense)              (None, 1)                 129       \n",
            "=================================================================\n",
            "Total params: 25,032,061\n",
            "Trainable params: 351,361\n",
            "Non-trainable params: 24,680,700\n",
            "_________________________________________________________________\n",
            "None\n",
            "Epoch 1/25\n",
            "1055/1055 [==============================] - 94s 86ms/step - loss: 0.6877 - accuracy: 0.5208 - val_loss: 0.6871 - val_accuracy: 0.5227\n",
            "Epoch 2/25\n",
            "1055/1055 [==============================] - 90s 85ms/step - loss: 0.6262 - accuracy: 0.6283 - val_loss: 0.4263 - val_accuracy: 0.8192\n",
            "Epoch 3/25\n",
            "1055/1055 [==============================] - 89s 85ms/step - loss: 0.4269 - accuracy: 0.8132 - val_loss: 0.3370 - val_accuracy: 0.8592\n",
            "Epoch 4/25\n",
            "1055/1055 [==============================] - 89s 84ms/step - loss: 0.3283 - accuracy: 0.8652 - val_loss: 0.3044 - val_accuracy: 0.8744\n",
            "Epoch 5/25\n",
            "1055/1055 [==============================] - 89s 84ms/step - loss: 0.2922 - accuracy: 0.8816 - val_loss: 0.2886 - val_accuracy: 0.8824\n",
            "Epoch 6/25\n",
            "1055/1055 [==============================] - 88s 84ms/step - loss: 0.2579 - accuracy: 0.8983 - val_loss: 0.2873 - val_accuracy: 0.8848\n",
            "Epoch 7/25\n",
            "1055/1055 [==============================] - 89s 84ms/step - loss: 0.2217 - accuracy: 0.9136 - val_loss: 0.2873 - val_accuracy: 0.8885\n",
            "Epoch 8/25\n",
            "1055/1055 [==============================] - 89s 84ms/step - loss: 0.1832 - accuracy: 0.9316 - val_loss: 0.3328 - val_accuracy: 0.8845\n",
            "Epoch 9/25\n",
            "1055/1055 [==============================] - 89s 84ms/step - loss: 0.1428 - accuracy: 0.9501 - val_loss: 0.3021 - val_accuracy: 0.8843\n",
            "Epoch 10/25\n",
            "1055/1055 [==============================] - 88s 84ms/step - loss: 0.1098 - accuracy: 0.9635 - val_loss: 0.3976 - val_accuracy: 0.8811\n",
            "Epoch 11/25\n",
            "1055/1055 [==============================] - 88s 83ms/step - loss: 0.0881 - accuracy: 0.9706 - val_loss: 0.3969 - val_accuracy: 0.8803\n",
            "Accuracy: 87.528002\n"
          ]
        }
      ]
    },
    {
      "cell_type": "code",
      "metadata": {
        "colab": {
          "base_uri": "https://localhost:8080/"
        },
        "id": "5lpmKcBq1-Tg",
        "outputId": "f7862bdc-f295-475c-e751-d0ef22d3f446"
      },
      "source": [
        "model.load_weights(checkpoint_filepath)\n",
        "loss, accuracy = model.evaluate(X_test_pad, y_test, verbose=0)\n",
        "print('Accuracy of the best model on val: %f' % (accuracy*100))"
      ],
      "execution_count": null,
      "outputs": [
        {
          "output_type": "stream",
          "name": "stdout",
          "text": [
            "Accuracy of the best model on val: 87.944001\n"
          ]
        }
      ]
    },
    {
      "cell_type": "code",
      "metadata": {
        "id": "Pb0ValLOtRcY"
      },
      "source": [
        "y_pred_lstm_glove = model.predict(X_test_pad)"
      ],
      "execution_count": null,
      "outputs": []
    },
    {
      "cell_type": "markdown",
      "metadata": {
        "id": "AygidOW25pH1"
      },
      "source": [
        "### Learning curves"
      ]
    },
    {
      "cell_type": "code",
      "metadata": {
        "id": "HNjWmicOcP46"
      },
      "source": [
        "def plot_history(history):\n",
        "  plt.plot(history.history['accuracy'][1:], \n",
        "          label='accuracy train')\n",
        "  plt.plot(history.history['val_accuracy'][1:], \n",
        "          label='accuracy test')\n",
        "  plt.xlabel('epoch')\n",
        "  plt.ylabel('accuracy')\n",
        "  plt.legend()\n",
        "  plt.show()\n",
        "\n",
        "  plt.plot(history.history['loss'][1:], \n",
        "          label='loss train')\n",
        "  plt.plot(history.history['val_loss'][1:], \n",
        "          label='loss test')\n",
        "  plt.xlabel('epoch')\n",
        "  plt.ylabel('loss')\n",
        "  plt.legend()\n",
        "  plt.show()"
      ],
      "execution_count": null,
      "outputs": []
    },
    {
      "cell_type": "code",
      "metadata": {
        "colab": {
          "base_uri": "https://localhost:8080/",
          "height": 541
        },
        "id": "kQnBZb3e16FV",
        "outputId": "09ff50b2-e0d9-4ae2-a7ff-61afd7dda292"
      },
      "source": [
        "plot_history(history)"
      ],
      "execution_count": null,
      "outputs": [
        {
          "output_type": "display_data",
          "data": {
            "image/png": "[encoded data removed]",
            "text/plain": [
              "<Figure size 432x288 with 1 Axes>"
            ]
          },
          "metadata": {
            "needs_background": "light"
          }
        },
        {
          "output_type": "display_data",
          "data": {
            "image/png": "[encoded data removed]",
            "text/plain": [
              "<Figure size 432x288 with 1 Axes>"
            ]
          },
          "metadata": {
            "needs_background": "light"
          }
        }
      ]
    },
    {
      "cell_type": "markdown",
      "metadata": {
        "id": "ertJRRpC0z1q"
      },
      "source": [
        "## Bidirectional LSTM (Glove)"
      ]
    },
    {
      "cell_type": "markdown",
      "metadata": {
        "id": "xzm6kzMj5uDt"
      },
      "source": [
        "### Model"
      ]
    },
    {
      "cell_type": "code",
      "metadata": {
        "colab": {
          "base_uri": "https://localhost:8080/"
        },
        "id": "m6gpRuQc04SV",
        "outputId": "a6cddb9e-3089-4a80-8a34-49643f6df032"
      },
      "source": [
        "model = Sequential()\n",
        "embedding_layer = Embedding(vocab_size, 300, weights=[embedding_matrix], input_length=max_length, trainable=False, )\n",
        "\n",
        "model.add(embedding_layer)\n",
        "model.add(Bidirectional(LSTM(128, return_sequences=True)))\n",
        "model.add(Bidirectional(LSTM(128)))\n",
        "model.add(Dropout(0.5))\n",
        "model.add(Dense(1, activation='sigmoid'))\n",
        "\n",
        "# compile the model\n",
        "model.compile(optimizer=keras.optimizers.adam_v2.Adam(learning_rate=0.0003), loss='binary_crossentropy', metrics=['accuracy'])\n",
        "\n",
        "# summarize the model\n",
        "print(model.summary())\n",
        "\n",
        "# fit the model\n",
        "history = model.fit(X_train_pad, y_train, epochs=25, verbose=1, validation_split=0.1,\n",
        "    callbacks=[model_checkpoint_callback, es_callback])\n",
        "\n",
        "# evaluate the model\n",
        "loss, accuracy = model.evaluate(X_test_pad, y_test, verbose=0)\n",
        "print('Accuracy: %f' % (accuracy*100))"
      ],
      "execution_count": null,
      "outputs": [
        {
          "output_type": "stream",
          "name": "stdout",
          "text": [
            "Model: \"sequential_7\"\n",
            "_________________________________________________________________\n",
            "Layer (type)                 Output Shape              Param #   \n",
            "=================================================================\n",
            "embedding_7 (Embedding)      (None, 233, 300)          24680700  \n",
            "_________________________________________________________________\n",
            "bidirectional_8 (Bidirection (None, 233, 256)          439296    \n",
            "_________________________________________________________________\n",
            "bidirectional_9 (Bidirection (None, 256)               394240    \n",
            "_________________________________________________________________\n",
            "dropout_7 (Dropout)          (None, 256)               0         \n",
            "_________________________________________________________________\n",
            "dense_7 (Dense)              (None, 1)                 257       \n",
            "=================================================================\n",
            "Total params: 25,514,493\n",
            "Trainable params: 833,793\n",
            "Non-trainable params: 24,680,700\n",
            "_________________________________________________________________\n",
            "None\n",
            "Epoch 1/25\n",
            "1055/1055 [==============================] - 197s 178ms/step - loss: 0.4787 - accuracy: 0.7764 - val_loss: 0.3753 - val_accuracy: 0.8437\n",
            "Epoch 2/25\n",
            "1055/1055 [==============================] - 186s 176ms/step - loss: 0.4024 - accuracy: 0.8228 - val_loss: 0.4321 - val_accuracy: 0.8112\n",
            "Epoch 3/25\n",
            "1055/1055 [==============================] - 186s 176ms/step - loss: 0.3755 - accuracy: 0.8404 - val_loss: 0.3721 - val_accuracy: 0.8616\n",
            "Epoch 4/25\n",
            "1055/1055 [==============================] - 186s 176ms/step - loss: 0.3521 - accuracy: 0.8489 - val_loss: 0.3354 - val_accuracy: 0.8592\n",
            "Epoch 5/25\n",
            "1055/1055 [==============================] - 185s 176ms/step - loss: 0.3152 - accuracy: 0.8666 - val_loss: 0.3229 - val_accuracy: 0.8632\n",
            "Epoch 6/25\n",
            "1055/1055 [==============================] - 187s 177ms/step - loss: 0.3004 - accuracy: 0.8746 - val_loss: 0.3259 - val_accuracy: 0.8693\n",
            "Epoch 7/25\n",
            "1055/1055 [==============================] - 187s 177ms/step - loss: 0.2914 - accuracy: 0.8819 - val_loss: 0.3252 - val_accuracy: 0.8688\n",
            "Epoch 8/25\n",
            "1055/1055 [==============================] - 186s 176ms/step - loss: 0.2671 - accuracy: 0.8934 - val_loss: 0.3106 - val_accuracy: 0.8741\n",
            "Epoch 9/25\n",
            "1055/1055 [==============================] - 185s 175ms/step - loss: 0.2551 - accuracy: 0.8974 - val_loss: 0.3130 - val_accuracy: 0.8755\n",
            "Epoch 10/25\n",
            "1055/1055 [==============================] - 186s 176ms/step - loss: 0.2463 - accuracy: 0.9017 - val_loss: 0.3078 - val_accuracy: 0.8824\n",
            "Epoch 11/25\n",
            "1055/1055 [==============================] - 188s 178ms/step - loss: 0.2227 - accuracy: 0.9126 - val_loss: 0.3048 - val_accuracy: 0.8795\n",
            "Epoch 12/25\n",
            "1055/1055 [==============================] - 185s 176ms/step - loss: 0.1999 - accuracy: 0.9234 - val_loss: 0.3123 - val_accuracy: 0.8875\n",
            "Epoch 13/25\n",
            "1055/1055 [==============================] - 184s 175ms/step - loss: 0.1770 - accuracy: 0.9328 - val_loss: 0.3054 - val_accuracy: 0.8859\n",
            "Epoch 14/25\n",
            "1055/1055 [==============================] - 185s 175ms/step - loss: 0.1513 - accuracy: 0.9443 - val_loss: 0.3514 - val_accuracy: 0.8797\n",
            "Epoch 15/25\n",
            "1055/1055 [==============================] - 184s 174ms/step - loss: 0.1258 - accuracy: 0.9538 - val_loss: 0.4069 - val_accuracy: 0.8835\n",
            "Epoch 16/25\n",
            "1055/1055 [==============================] - 185s 175ms/step - loss: 0.1108 - accuracy: 0.9605 - val_loss: 0.4209 - val_accuracy: 0.8656\n",
            "Accuracy: 86.431998\n"
          ]
        }
      ]
    },
    {
      "cell_type": "code",
      "metadata": {
        "id": "1cHK0hcL2ktF",
        "colab": {
          "base_uri": "https://localhost:8080/"
        },
        "outputId": "3fe3fbf7-34df-4288-8d69-57b1546cf621"
      },
      "source": [
        "model.load_weights(checkpoint_filepath)\n",
        "loss, accuracy = model.evaluate(X_test_pad, y_test, verbose=0)\n",
        "print('Accuracy of the best model on val: %f' % (accuracy*100))"
      ],
      "execution_count": null,
      "outputs": [
        {
          "output_type": "stream",
          "name": "stdout",
          "text": [
            "Accuracy of the best model on val: 87.816000\n"
          ]
        }
      ]
    },
    {
      "cell_type": "code",
      "metadata": {
        "id": "IcQh-smQs9P-"
      },
      "source": [
        "y_pred_blstm_glove = model.predict(X_test_pad)"
      ],
      "execution_count": null,
      "outputs": []
    },
    {
      "cell_type": "markdown",
      "metadata": {
        "id": "FHLAK4HK5wF6"
      },
      "source": [
        "### Learning curves"
      ]
    },
    {
      "cell_type": "code",
      "metadata": {
        "id": "u11pE-Mb21Np",
        "colab": {
          "base_uri": "https://localhost:8080/",
          "height": 541
        },
        "outputId": "9416c8ff-6305-49a8-ee0b-b1ff17c4c26c"
      },
      "source": [
        "plot_history(history)"
      ],
      "execution_count": null,
      "outputs": [
        {
          "output_type": "display_data",
          "data": {
            "image/png": "[encoded data removed]",
            "text/plain": [
              "<Figure size 432x288 with 1 Axes>"
            ]
          },
          "metadata": {
            "needs_background": "light"
          }
        },
        {
          "output_type": "display_data",
          "data": {
            "image/png": "[encoded data removed]",
            "text/plain": [
              "<Figure size 432x288 with 1 Axes>"
            ]
          },
          "metadata": {
            "needs_background": "light"
          }
        }
      ]
    },
    {
      "cell_type": "markdown",
      "metadata": {
        "id": "gg9gID3R5ykI"
      },
      "source": [
        "## Word2Vec"
      ]
    },
    {
      "cell_type": "code",
      "metadata": {
        "id": "wl5X4WUZ562r"
      },
      "source": [
        "from gensim.models import KeyedVectors\n",
        "filename = 'drive/MyDrive/training/HW/data/GoogleNews-vectors-negative300.bin'\n",
        "model = KeyedVectors.load_word2vec_format(filename, binary=True)"
      ],
      "execution_count": null,
      "outputs": []
    },
    {
      "cell_type": "code",
      "metadata": {
        "id": "cLawsj7YJ9ER"
      },
      "source": [
        "# create a weight matrix for words in training docs\n",
        "embedding_matrix = np.zeros((vocab_size, 300))\n",
        "for word, i in t.word_index.items():\n",
        "\tif word in model.vocab:\n",
        "\t\tembedding_matrix[i] =  model.word_vec(word)"
      ],
      "execution_count": null,
      "outputs": []
    },
    {
      "cell_type": "markdown",
      "metadata": {
        "id": "STyjKe3uLzjC"
      },
      "source": [
        "### LSTM (word2vec)"
      ]
    },
    {
      "cell_type": "code",
      "metadata": {
        "id": "GRtnj2gop4iL"
      },
      "source": [
        "checkpoint_filepath = '/tmp/checkpoint_w2v'\n",
        "model_checkpoint_callback = ModelCheckpoint(\n",
        "    filepath=checkpoint_filepath,\n",
        "    save_weights_only=True,\n",
        "    monitor='val_accuracy',\n",
        "    mode='max',\n",
        "    save_best_only=True)"
      ],
      "execution_count": null,
      "outputs": []
    },
    {
      "cell_type": "code",
      "metadata": {
        "id": "1_Uqtz908NPJ",
        "colab": {
          "base_uri": "https://localhost:8080/"
        },
        "outputId": "d5f1c045-49c4-41db-fa38-88c8ff5ce99d"
      },
      "source": [
        "model = Sequential()\n",
        "embedding_layer = Embedding(vocab_size, 300, weights=[embedding_matrix], input_length=max_length, trainable=False, )\n",
        "\n",
        "model.add(embedding_layer)\n",
        "model.add(LSTM(128, return_sequences=True))\n",
        "model.add(LSTM(128))\n",
        "model.add(Dropout(0.5))\n",
        "model.add(Dense(1, activation='sigmoid'))\n",
        "\n",
        "# compile the model\n",
        "model.compile(optimizer='adam', loss='binary_crossentropy', metrics=['accuracy'])\n",
        "\n",
        "# summarize the model\n",
        "print(model.summary())\n",
        "\n",
        "# fit the model\n",
        "history = model.fit(X_train_pad, y_train, epochs=25, verbose=1, validation_split=0.1,\n",
        "    callbacks=[model_checkpoint_callback, es_callback])\n",
        "\n",
        "# evaluate the model\n",
        "loss, accuracy = model.evaluate(X_test_pad, y_test, verbose=0)\n",
        "print('Accuracy: %f' % (accuracy*100))"
      ],
      "execution_count": null,
      "outputs": [
        {
          "output_type": "stream",
          "name": "stdout",
          "text": [
            "Model: \"sequential_8\"\n",
            "_________________________________________________________________\n",
            "Layer (type)                 Output Shape              Param #   \n",
            "=================================================================\n",
            "embedding_8 (Embedding)      (None, 233, 300)          24680700  \n",
            "_________________________________________________________________\n",
            "lstm_16 (LSTM)               (None, 233, 128)          219648    \n",
            "_________________________________________________________________\n",
            "lstm_17 (LSTM)               (None, 128)               131584    \n",
            "_________________________________________________________________\n",
            "dropout_8 (Dropout)          (None, 128)               0         \n",
            "_________________________________________________________________\n",
            "dense_8 (Dense)              (None, 1)                 129       \n",
            "=================================================================\n",
            "Total params: 25,032,061\n",
            "Trainable params: 351,361\n",
            "Non-trainable params: 24,680,700\n",
            "_________________________________________________________________\n",
            "None\n",
            "Epoch 1/25\n",
            "1055/1055 [==============================] - 93s 84ms/step - loss: 0.6906 - accuracy: 0.5233 - val_loss: 0.6647 - val_accuracy: 0.5504\n",
            "Epoch 2/25\n",
            "1055/1055 [==============================] - 88s 83ms/step - loss: 0.6853 - accuracy: 0.5261 - val_loss: 0.6883 - val_accuracy: 0.5261\n",
            "Epoch 3/25\n",
            "1055/1055 [==============================] - 88s 83ms/step - loss: 0.6645 - accuracy: 0.5711 - val_loss: 0.6867 - val_accuracy: 0.4893\n",
            "Epoch 4/25\n",
            "1055/1055 [==============================] - 88s 83ms/step - loss: 0.6486 - accuracy: 0.6086 - val_loss: 0.6242 - val_accuracy: 0.6736\n",
            "Epoch 5/25\n",
            "1055/1055 [==============================] - 88s 83ms/step - loss: 0.5670 - accuracy: 0.7218 - val_loss: 0.4987 - val_accuracy: 0.7832\n",
            "Epoch 6/25\n",
            "1055/1055 [==============================] - 88s 83ms/step - loss: 0.5808 - accuracy: 0.6958 - val_loss: 0.4878 - val_accuracy: 0.8005\n",
            "Epoch 7/25\n",
            "1055/1055 [==============================] - 87s 83ms/step - loss: 0.4700 - accuracy: 0.7877 - val_loss: 0.3739 - val_accuracy: 0.8360\n",
            "Epoch 8/25\n",
            "1055/1055 [==============================] - 87s 83ms/step - loss: 0.3896 - accuracy: 0.8354 - val_loss: 0.3532 - val_accuracy: 0.8496\n",
            "Epoch 9/25\n",
            "1055/1055 [==============================] - 87s 83ms/step - loss: 0.4669 - accuracy: 0.7823 - val_loss: 0.4438 - val_accuracy: 0.7704\n",
            "Epoch 10/25\n",
            "1055/1055 [==============================] - 87s 83ms/step - loss: 0.3852 - accuracy: 0.8314 - val_loss: 0.3759 - val_accuracy: 0.8192\n",
            "Epoch 11/25\n",
            "1055/1055 [==============================] - 88s 83ms/step - loss: 0.3421 - accuracy: 0.8540 - val_loss: 0.3266 - val_accuracy: 0.8621\n",
            "Epoch 12/25\n",
            "1055/1055 [==============================] - 88s 83ms/step - loss: 0.3310 - accuracy: 0.8633 - val_loss: 0.3188 - val_accuracy: 0.8675\n",
            "Epoch 13/25\n",
            "1055/1055 [==============================] - 87s 83ms/step - loss: 0.3166 - accuracy: 0.8688 - val_loss: 0.3178 - val_accuracy: 0.8637\n",
            "Epoch 14/25\n",
            "1055/1055 [==============================] - 87s 83ms/step - loss: 0.3276 - accuracy: 0.8658 - val_loss: 0.3037 - val_accuracy: 0.8720\n",
            "Epoch 15/25\n",
            "1055/1055 [==============================] - 87s 83ms/step - loss: 0.3007 - accuracy: 0.8778 - val_loss: 0.3014 - val_accuracy: 0.8837\n",
            "Epoch 16/25\n",
            "1055/1055 [==============================] - 87s 83ms/step - loss: 0.2837 - accuracy: 0.8854 - val_loss: 0.2869 - val_accuracy: 0.8824\n",
            "Epoch 17/25\n",
            "1055/1055 [==============================] - 87s 82ms/step - loss: 0.2731 - accuracy: 0.8876 - val_loss: 0.2878 - val_accuracy: 0.8856\n",
            "Epoch 18/25\n",
            "1055/1055 [==============================] - 87s 83ms/step - loss: 0.2578 - accuracy: 0.8973 - val_loss: 0.2736 - val_accuracy: 0.8872\n",
            "Epoch 19/25\n",
            "1055/1055 [==============================] - 87s 83ms/step - loss: 0.2455 - accuracy: 0.9025 - val_loss: 0.2789 - val_accuracy: 0.8907\n",
            "Epoch 20/25\n",
            "1055/1055 [==============================] - 87s 83ms/step - loss: 0.2298 - accuracy: 0.9083 - val_loss: 0.2904 - val_accuracy: 0.8795\n",
            "Epoch 21/25\n",
            "1055/1055 [==============================] - 88s 83ms/step - loss: 0.2076 - accuracy: 0.9192 - val_loss: 0.2836 - val_accuracy: 0.8885\n",
            "Epoch 22/25\n",
            "1055/1055 [==============================] - 88s 83ms/step - loss: 0.1893 - accuracy: 0.9287 - val_loss: 0.2899 - val_accuracy: 0.8939\n",
            "Accuracy: 89.007998\n"
          ]
        }
      ]
    },
    {
      "cell_type": "code",
      "metadata": {
        "colab": {
          "base_uri": "https://localhost:8080/"
        },
        "id": "uuuj2M_yMA_n",
        "outputId": "7747cd27-95dd-4e32-ab7c-8de57b62b97d"
      },
      "source": [
        "model.load_weights(checkpoint_filepath)\n",
        "loss, accuracy = model.evaluate(X_test_pad, y_test, verbose=0)\n",
        "print('Accuracy of the best model on val: %f' % (accuracy*100))"
      ],
      "execution_count": null,
      "outputs": [
        {
          "output_type": "stream",
          "name": "stdout",
          "text": [
            "Accuracy of the best model on val: 89.007998\n"
          ]
        }
      ]
    },
    {
      "cell_type": "code",
      "metadata": {
        "id": "C2hk5axvtX11"
      },
      "source": [
        "y_pred_lstm_w2v = model.predict(X_test_pad)"
      ],
      "execution_count": null,
      "outputs": []
    },
    {
      "cell_type": "code",
      "metadata": {
        "colab": {
          "base_uri": "https://localhost:8080/",
          "height": 541
        },
        "id": "FEtpFFubmzFj",
        "outputId": "6cae5342-ea31-466f-b3c3-a2a7236da988"
      },
      "source": [
        "plot_history(history)"
      ],
      "execution_count": null,
      "outputs": [
        {
          "output_type": "display_data",
          "data": {
            "image/png": "[encoded data removed]",
            "text/plain": [
              "<Figure size 432x288 with 1 Axes>"
            ]
          },
          "metadata": {
            "needs_background": "light"
          }
        },
        {
          "output_type": "display_data",
          "data": {
            "image/png": "[encoded data removed]",
            "text/plain": [
              "<Figure size 432x288 with 1 Axes>"
            ]
          },
          "metadata": {
            "needs_background": "light"
          }
        }
      ]
    },
    {
      "cell_type": "markdown",
      "metadata": {
        "id": "9NccKSvmtZ9V"
      },
      "source": [
        "###Bidirectional LSTM (word2vec)"
      ]
    },
    {
      "cell_type": "code",
      "metadata": {
        "colab": {
          "base_uri": "https://localhost:8080/"
        },
        "id": "Jn-kctcRtqCA",
        "outputId": "324b10d2-fefb-4f1d-e052-5d029201078f"
      },
      "source": [
        "model = Sequential()\n",
        "embedding_layer = Embedding(vocab_size, 300, weights=[embedding_matrix], input_length=max_length, trainable=False, )\n",
        "\n",
        "model.add(embedding_layer)\n",
        "model.add(Bidirectional(LSTM(128, return_sequences=True)))\n",
        "model.add(Bidirectional(LSTM(128)))\n",
        "model.add(Dropout(0.5))\n",
        "model.add(Dense(1, activation='sigmoid'))\n",
        "\n",
        "# compile the model\n",
        "model.compile(optimizer=keras.optimizers.adam_v2.Adam(learning_rate=0.0003), loss='binary_crossentropy', metrics=['accuracy'])\n",
        "\n",
        "# summarize the model\n",
        "print(model.summary())\n",
        "\n",
        "# fit the model\n",
        "history = model.fit(X_train_pad, y_train, epochs=25, verbose=1, validation_split=0.1,\n",
        "    callbacks=[model_checkpoint_callback, es_callback])\n",
        "\n",
        "# evaluate the model\n",
        "loss, accuracy = model.evaluate(X_test_pad, y_test, verbose=0)\n",
        "print('Accuracy: %f' % (accuracy*100))"
      ],
      "execution_count": null,
      "outputs": [
        {
          "output_type": "stream",
          "name": "stdout",
          "text": [
            "Model: \"sequential_9\"\n",
            "_________________________________________________________________\n",
            "Layer (type)                 Output Shape              Param #   \n",
            "=================================================================\n",
            "embedding_9 (Embedding)      (None, 233, 300)          24680700  \n",
            "_________________________________________________________________\n",
            "bidirectional_10 (Bidirectio (None, 233, 256)          439296    \n",
            "_________________________________________________________________\n",
            "bidirectional_11 (Bidirectio (None, 256)               394240    \n",
            "_________________________________________________________________\n",
            "dropout_9 (Dropout)          (None, 256)               0         \n",
            "_________________________________________________________________\n",
            "dense_9 (Dense)              (None, 1)                 257       \n",
            "=================================================================\n",
            "Total params: 25,514,493\n",
            "Trainable params: 833,793\n",
            "Non-trainable params: 24,680,700\n",
            "_________________________________________________________________\n",
            "None\n",
            "Epoch 1/25\n",
            "1055/1055 [==============================] - 195s 177ms/step - loss: 0.4162 - accuracy: 0.8163 - val_loss: 0.3827 - val_accuracy: 0.8355\n",
            "Epoch 2/25\n",
            "1055/1055 [==============================] - 184s 175ms/step - loss: 0.3648 - accuracy: 0.8474 - val_loss: 0.3468 - val_accuracy: 0.8603\n",
            "Epoch 3/25\n",
            "1055/1055 [==============================] - 184s 174ms/step - loss: 0.3408 - accuracy: 0.8601 - val_loss: 0.3258 - val_accuracy: 0.8696\n",
            "Epoch 4/25\n",
            "1055/1055 [==============================] - 184s 174ms/step - loss: 0.3240 - accuracy: 0.8683 - val_loss: 0.3311 - val_accuracy: 0.8691\n",
            "Epoch 5/25\n",
            "1055/1055 [==============================] - 184s 174ms/step - loss: 0.3049 - accuracy: 0.8762 - val_loss: 0.3066 - val_accuracy: 0.8787\n",
            "Epoch 6/25\n",
            "1055/1055 [==============================] - 184s 175ms/step - loss: 0.2893 - accuracy: 0.8830 - val_loss: 0.3246 - val_accuracy: 0.8717\n",
            "Epoch 7/25\n",
            "1055/1055 [==============================] - 184s 174ms/step - loss: 0.2802 - accuracy: 0.8861 - val_loss: 0.3150 - val_accuracy: 0.8741\n",
            "Epoch 8/25\n",
            "1055/1055 [==============================] - 184s 175ms/step - loss: 0.2859 - accuracy: 0.8837 - val_loss: 0.3154 - val_accuracy: 0.8779\n",
            "Epoch 9/25\n",
            "1055/1055 [==============================] - 184s 174ms/step - loss: 0.2606 - accuracy: 0.8960 - val_loss: 0.2951 - val_accuracy: 0.8861\n",
            "Epoch 10/25\n",
            "1055/1055 [==============================] - 184s 174ms/step - loss: 0.2489 - accuracy: 0.8993 - val_loss: 0.3022 - val_accuracy: 0.8803\n",
            "Epoch 11/25\n",
            "1055/1055 [==============================] - 183s 174ms/step - loss: 0.2365 - accuracy: 0.9062 - val_loss: 0.3283 - val_accuracy: 0.8699\n",
            "Epoch 12/25\n",
            "1055/1055 [==============================] - 183s 174ms/step - loss: 0.2255 - accuracy: 0.9110 - val_loss: 0.3087 - val_accuracy: 0.8899\n",
            "Epoch 13/25\n",
            "1055/1055 [==============================] - 185s 175ms/step - loss: 0.2127 - accuracy: 0.9157 - val_loss: 0.3304 - val_accuracy: 0.8747\n",
            "Accuracy: 87.159997\n"
          ]
        }
      ]
    },
    {
      "cell_type": "code",
      "metadata": {
        "id": "DJOVBdqWuHaW"
      },
      "source": [
        "y_pred_blstm_w2v = model.predict(X_test_pad)"
      ],
      "execution_count": null,
      "outputs": []
    },
    {
      "cell_type": "code",
      "metadata": {
        "colab": {
          "base_uri": "https://localhost:8080/",
          "height": 541
        },
        "id": "DyS5CAxzuHc3",
        "outputId": "cfa779f2-1efc-4301-de51-9ef13efd723a"
      },
      "source": [
        "plot_history(history)"
      ],
      "execution_count": null,
      "outputs": [
        {
          "output_type": "display_data",
          "data": {
            "image/png": "[encoded data removed]",
            "text/plain": [
              "<Figure size 432x288 with 1 Axes>"
            ]
          },
          "metadata": {
            "needs_background": "light"
          }
        },
        {
          "output_type": "display_data",
          "data": {
            "image/png": "[encoded data removed]",
            "text/plain": [
              "<Figure size 432x288 with 1 Axes>"
            ]
          },
          "metadata": {
            "needs_background": "light"
          }
        }
      ]
    },
    {
      "cell_type": "markdown",
      "metadata": {
        "id": "iAr6s9-e2C9L"
      },
      "source": [
        "# Results"
      ]
    },
    {
      "cell_type": "markdown",
      "metadata": {
        "id": "7-6hIwht_4hu"
      },
      "source": [
        "We can see, that LSTM with word2vec embeddings showed the best results. Let's check the confusion matrix."
      ]
    },
    {
      "cell_type": "code",
      "metadata": {
        "id": "c06_e_3S76Q4"
      },
      "source": [
        "def conf_matrix(y_true, y_pred, target_names):\n",
        "  conf = confusion_matrix(y_true, y_pred)\n",
        "  print(conf)\n",
        "  sns.heatmap(conf,\n",
        "              annot=conf/np.sum(conf, axis=1)[:, np.newaxis], #normalized by true class sizes\n",
        "              yticklabels=target_names,\n",
        "              xticklabels=target_names,\n",
        "              cmap='bwr');\n",
        "  plt.title('Logistic regression confusion matrix');\n",
        "  plt.xlabel('Predicted label');\n",
        "  plt.ylabel('True label');"
      ],
      "execution_count": null,
      "outputs": []
    },
    {
      "cell_type": "code",
      "metadata": {
        "id": "ZB6SD9Nu1sDB"
      },
      "source": [
        "y_p = [1 if i else 0 for i in y_pred_lstm_w2v > 0.5]"
      ],
      "execution_count": null,
      "outputs": []
    },
    {
      "cell_type": "code",
      "metadata": {
        "colab": {
          "base_uri": "https://localhost:8080/",
          "height": 331
        },
        "id": "fyUuEvt-_l8I",
        "outputId": "e70d2129-86dc-4adc-b956-d89dd01f9e25"
      },
      "source": [
        "conf_matrix(y_test, y_p, ['0', '1'])"
      ],
      "execution_count": null,
      "outputs": [
        {
          "output_type": "stream",
          "name": "stdout",
          "text": [
            "[[5490  667]\n",
            " [ 707 5636]]\n"
          ]
        },
        {
          "output_type": "display_data",
          "data": {
            "image/png": "[encoded data removed]",
            "text/plain": [
              "<Figure size 432x288 with 2 Axes>"
            ]
          },
          "metadata": {
            "needs_background": "light"
          }
        }
      ]
    },
    {
      "cell_type": "markdown",
      "metadata": {
        "id": "MF1cqXKfAKyH"
      },
      "source": [
        "As can be seen, neural network make almost the same number of errors for each class. "
      ]
    },
    {
      "cell_type": "markdown",
      "metadata": {
        "id": "EQNDHOlTAbvk"
      },
      "source": [
        "Some insights and conclusions:\n",
        "\n",
        "* Almost all NNs showed accuracy about 0.88, despite the best.\n",
        "* The best NN showed acc=0.89, and it is almost the same as the classical model's result (0.892). Probably, another starting weights can lead to better accurqacy score for NN.\n",
        "* The best learning curves can be seen also for the best score NN, other one overfitted (but we chose the best score thanks to early stopping and model checkpoints)"
      ]
    },
    {
      "cell_type": "code",
      "metadata": {
        "id": "p0JRvoow_uvN"
      },
      "source": [
        ""
      ],
      "execution_count": null,
      "outputs": []
    }
  ]
}