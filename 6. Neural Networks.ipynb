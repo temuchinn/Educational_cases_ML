{
  "nbformat": 4,
  "nbformat_minor": 0,
  "metadata": {
    "colab": {
      "name": "HW_NN.ipynb",
      "provenance": [],
      "collapsed_sections": []
    },
    "kernelspec": {
      "display_name": "Python 3",
      "name": "python3"
    },
    "language_info": {
      "name": "python"
    },
    "accelerator": "GPU"
  },
  "cells": [
    {
      "cell_type": "code",
      "metadata": {
        "colab": {
          "base_uri": "https://localhost:8080/"
        },
        "id": "w2Ai-IbtKkj-",
        "outputId": "aebd7875-c249-47b2-8155-1019905512f5"
      },
      "source": [
        "from google.colab import drive\n",
        "drive.mount('/content/drive')"
      ],
      "execution_count": null,
      "outputs": [
        {
          "output_type": "stream",
          "name": "stdout",
          "text": [
            "Drive already mounted at /content/drive; to attempt to forcibly remount, call drive.mount(\"/content/drive\", force_remount=True).\n"
          ]
        }
      ]
    },
    {
      "cell_type": "code",
      "metadata": {
        "id": "OqnXmLwkK3Vq"
      },
      "source": [
        "\n",
        "import numpy as np \n",
        "import pandas as pd\n",
        "import matplotlib.pyplot as plt\n",
        "import seaborn as sns\n",
        "\n",
        "import torch\n",
        "import torch.nn as nn\n",
        "import torchvision\n",
        "import torchvision.transforms as transforms\n",
        "from torchvision.datasets import ImageFolder\n",
        "from torch.utils.data import Dataset, DataLoader\n",
        "import torch.nn.functional as F\n",
        "from sklearn.model_selection import train_test_split\n",
        "from torchvision.utils import make_grid\n",
        "\n",
        "import os\n",
        "from tqdm.notebook import trange, tqdm\n",
        "from skimage import io, transform\n",
        "\n",
        "from datetime import datetime\n",
        "import time\n",
        "\n",
        "from copy import copy\n",
        "\n",
        "\n",
        "from tensorflow.keras.models import Sequential\n",
        "from tensorflow.keras.layers import Dense, Dropout, BatchNormalization\n",
        "import keras as keras\n",
        "\n",
        "\n",
        "from sklearn.pipeline import Pipeline\n",
        "from sklearn.preprocessing import OrdinalEncoder, LabelBinarizer\n",
        "from sklearn.compose import ColumnTransformer\n",
        "from sklearn.model_selection import train_test_split, cross_val_score, GridSearchCV, KFold, TimeSeriesSplit, RandomizedSearchCV\n",
        "from sklearn.impute import SimpleImputer, KNNImputer\n",
        "from sklearn_pandas import DataFrameMapper, gen_features\n",
        "from sklearn.preprocessing import StandardScaler, PowerTransformer, OneHotEncoder, PolynomialFeatures, MinMaxScaler\n",
        "from sklearn.model_selection import train_test_split\n",
        "from sklearn.metrics import mean_squared_error, r2_score, mean_absolute_error\n",
        "from sklearn import metrics\n",
        "from sklearn.base import clone\n",
        "from sklearn.linear_model import LinearRegression, Ridge, Lasso, ElasticNet\n",
        "from sklearn.ensemble import RandomForestClassifier\n",
        "from sklearn.feature_selection import SelectFromModel\n",
        "from sklearn.metrics import confusion_matrix, classification_report, roc_auc_score, f1_score, make_scorer\n",
        "from sklearn.svm import LinearSVC\n",
        "import datetime"
      ],
      "execution_count": null,
      "outputs": []
    },
    {
      "cell_type": "markdown",
      "metadata": {
        "id": "mJd67PPlLWdn"
      },
      "source": [
        "# Regression"
      ]
    },
    {
      "cell_type": "code",
      "metadata": {
        "colab": {
          "base_uri": "https://localhost:8080/",
          "height": 419
        },
        "id": "Fk9CZoxCLVdU",
        "outputId": "95c97cce-f899-4d27-bd0a-1b395e3aa6fb"
      },
      "source": [
        "df = pd.read_excel(\"drive/MyDrive/training/HW/data/AirQualityUCI.xlsx\")\n",
        "df"
      ],
      "execution_count": null,
      "outputs": [
        {
          "output_type": "execute_result",
          "data": {
            "text/html": [
              "<div>\n",
              "<style scoped>\n",
              "    .dataframe tbody tr th:only-of-type {\n",
              "        vertical-align: middle;\n",
              "    }\n",
              "\n",
              "    .dataframe tbody tr th {\n",
              "        vertical-align: top;\n",
              "    }\n",
              "\n",
              "    .dataframe thead th {\n",
              "        text-align: right;\n",
              "    }\n",
              "</style>\n",
              "<table border=\"1\" class=\"dataframe\">\n",
              "  <thead>\n",
              "    <tr style=\"text-align: right;\">\n",
              "      <th></th>\n",
              "      <th>Date</th>\n",
              "      <th>Time</th>\n",
              "      <th>CO(GT)</th>\n",
              "      <th>PT08.S1(CO)</th>\n",
              "      <th>NMHC(GT)</th>\n",
              "      <th>C6H6(GT)</th>\n",
              "      <th>PT08.S2(NMHC)</th>\n",
              "      <th>NOx(GT)</th>\n",
              "      <th>PT08.S3(NOx)</th>\n",
              "      <th>NO2(GT)</th>\n",
              "      <th>PT08.S4(NO2)</th>\n",
              "      <th>PT08.S5(O3)</th>\n",
              "      <th>T</th>\n",
              "      <th>RH</th>\n",
              "      <th>AH</th>\n",
              "    </tr>\n",
              "  </thead>\n",
              "  <tbody>\n",
              "    <tr>\n",
              "      <th>0</th>\n",
              "      <td>2004-03-10</td>\n",
              "      <td>18:00:00</td>\n",
              "      <td>2.6</td>\n",
              "      <td>1360.00</td>\n",
              "      <td>150</td>\n",
              "      <td>11.881723</td>\n",
              "      <td>1045.50</td>\n",
              "      <td>166.0</td>\n",
              "      <td>1056.25</td>\n",
              "      <td>113.0</td>\n",
              "      <td>1692.00</td>\n",
              "      <td>1267.50</td>\n",
              "      <td>13.600</td>\n",
              "      <td>48.875001</td>\n",
              "      <td>0.757754</td>\n",
              "    </tr>\n",
              "    <tr>\n",
              "      <th>1</th>\n",
              "      <td>2004-03-10</td>\n",
              "      <td>19:00:00</td>\n",
              "      <td>2.0</td>\n",
              "      <td>1292.25</td>\n",
              "      <td>112</td>\n",
              "      <td>9.397165</td>\n",
              "      <td>954.75</td>\n",
              "      <td>103.0</td>\n",
              "      <td>1173.75</td>\n",
              "      <td>92.0</td>\n",
              "      <td>1558.75</td>\n",
              "      <td>972.25</td>\n",
              "      <td>13.300</td>\n",
              "      <td>47.700000</td>\n",
              "      <td>0.725487</td>\n",
              "    </tr>\n",
              "    <tr>\n",
              "      <th>2</th>\n",
              "      <td>2004-03-10</td>\n",
              "      <td>20:00:00</td>\n",
              "      <td>2.2</td>\n",
              "      <td>1402.00</td>\n",
              "      <td>88</td>\n",
              "      <td>8.997817</td>\n",
              "      <td>939.25</td>\n",
              "      <td>131.0</td>\n",
              "      <td>1140.00</td>\n",
              "      <td>114.0</td>\n",
              "      <td>1554.50</td>\n",
              "      <td>1074.00</td>\n",
              "      <td>11.900</td>\n",
              "      <td>53.975000</td>\n",
              "      <td>0.750239</td>\n",
              "    </tr>\n",
              "    <tr>\n",
              "      <th>3</th>\n",
              "      <td>2004-03-10</td>\n",
              "      <td>21:00:00</td>\n",
              "      <td>2.2</td>\n",
              "      <td>1375.50</td>\n",
              "      <td>80</td>\n",
              "      <td>9.228796</td>\n",
              "      <td>948.25</td>\n",
              "      <td>172.0</td>\n",
              "      <td>1092.00</td>\n",
              "      <td>122.0</td>\n",
              "      <td>1583.75</td>\n",
              "      <td>1203.25</td>\n",
              "      <td>11.000</td>\n",
              "      <td>60.000000</td>\n",
              "      <td>0.786713</td>\n",
              "    </tr>\n",
              "    <tr>\n",
              "      <th>4</th>\n",
              "      <td>2004-03-10</td>\n",
              "      <td>22:00:00</td>\n",
              "      <td>1.6</td>\n",
              "      <td>1272.25</td>\n",
              "      <td>51</td>\n",
              "      <td>6.518224</td>\n",
              "      <td>835.50</td>\n",
              "      <td>131.0</td>\n",
              "      <td>1205.00</td>\n",
              "      <td>116.0</td>\n",
              "      <td>1490.00</td>\n",
              "      <td>1110.00</td>\n",
              "      <td>11.150</td>\n",
              "      <td>59.575001</td>\n",
              "      <td>0.788794</td>\n",
              "    </tr>\n",
              "    <tr>\n",
              "      <th>...</th>\n",
              "      <td>...</td>\n",
              "      <td>...</td>\n",
              "      <td>...</td>\n",
              "      <td>...</td>\n",
              "      <td>...</td>\n",
              "      <td>...</td>\n",
              "      <td>...</td>\n",
              "      <td>...</td>\n",
              "      <td>...</td>\n",
              "      <td>...</td>\n",
              "      <td>...</td>\n",
              "      <td>...</td>\n",
              "      <td>...</td>\n",
              "      <td>...</td>\n",
              "      <td>...</td>\n",
              "    </tr>\n",
              "    <tr>\n",
              "      <th>9352</th>\n",
              "      <td>2005-04-04</td>\n",
              "      <td>10:00:00</td>\n",
              "      <td>3.1</td>\n",
              "      <td>1314.25</td>\n",
              "      <td>-200</td>\n",
              "      <td>13.529605</td>\n",
              "      <td>1101.25</td>\n",
              "      <td>471.7</td>\n",
              "      <td>538.50</td>\n",
              "      <td>189.8</td>\n",
              "      <td>1374.25</td>\n",
              "      <td>1728.50</td>\n",
              "      <td>21.850</td>\n",
              "      <td>29.250000</td>\n",
              "      <td>0.756824</td>\n",
              "    </tr>\n",
              "    <tr>\n",
              "      <th>9353</th>\n",
              "      <td>2005-04-04</td>\n",
              "      <td>11:00:00</td>\n",
              "      <td>2.4</td>\n",
              "      <td>1162.50</td>\n",
              "      <td>-200</td>\n",
              "      <td>11.355157</td>\n",
              "      <td>1027.00</td>\n",
              "      <td>353.3</td>\n",
              "      <td>603.75</td>\n",
              "      <td>179.2</td>\n",
              "      <td>1263.50</td>\n",
              "      <td>1269.00</td>\n",
              "      <td>24.325</td>\n",
              "      <td>23.725000</td>\n",
              "      <td>0.711864</td>\n",
              "    </tr>\n",
              "    <tr>\n",
              "      <th>9354</th>\n",
              "      <td>2005-04-04</td>\n",
              "      <td>12:00:00</td>\n",
              "      <td>2.4</td>\n",
              "      <td>1142.00</td>\n",
              "      <td>-200</td>\n",
              "      <td>12.374538</td>\n",
              "      <td>1062.50</td>\n",
              "      <td>293.0</td>\n",
              "      <td>603.25</td>\n",
              "      <td>174.7</td>\n",
              "      <td>1240.75</td>\n",
              "      <td>1092.00</td>\n",
              "      <td>26.900</td>\n",
              "      <td>18.350000</td>\n",
              "      <td>0.640649</td>\n",
              "    </tr>\n",
              "    <tr>\n",
              "      <th>9355</th>\n",
              "      <td>2005-04-04</td>\n",
              "      <td>13:00:00</td>\n",
              "      <td>2.1</td>\n",
              "      <td>1002.50</td>\n",
              "      <td>-200</td>\n",
              "      <td>9.547187</td>\n",
              "      <td>960.50</td>\n",
              "      <td>234.5</td>\n",
              "      <td>701.50</td>\n",
              "      <td>155.7</td>\n",
              "      <td>1041.00</td>\n",
              "      <td>769.75</td>\n",
              "      <td>28.325</td>\n",
              "      <td>13.550000</td>\n",
              "      <td>0.513866</td>\n",
              "    </tr>\n",
              "    <tr>\n",
              "      <th>9356</th>\n",
              "      <td>2005-04-04</td>\n",
              "      <td>14:00:00</td>\n",
              "      <td>2.2</td>\n",
              "      <td>1070.75</td>\n",
              "      <td>-200</td>\n",
              "      <td>11.932060</td>\n",
              "      <td>1047.25</td>\n",
              "      <td>265.2</td>\n",
              "      <td>654.00</td>\n",
              "      <td>167.7</td>\n",
              "      <td>1128.50</td>\n",
              "      <td>816.00</td>\n",
              "      <td>28.500</td>\n",
              "      <td>13.125000</td>\n",
              "      <td>0.502804</td>\n",
              "    </tr>\n",
              "  </tbody>\n",
              "</table>\n",
              "<p>9357 rows × 15 columns</p>\n",
              "</div>"
            ],
            "text/plain": [
              "           Date      Time  CO(GT)  ...       T         RH        AH\n",
              "0    2004-03-10  18:00:00     2.6  ...  13.600  48.875001  0.757754\n",
              "1    2004-03-10  19:00:00     2.0  ...  13.300  47.700000  0.725487\n",
              "2    2004-03-10  20:00:00     2.2  ...  11.900  53.975000  0.750239\n",
              "3    2004-03-10  21:00:00     2.2  ...  11.000  60.000000  0.786713\n",
              "4    2004-03-10  22:00:00     1.6  ...  11.150  59.575001  0.788794\n",
              "...         ...       ...     ...  ...     ...        ...       ...\n",
              "9352 2005-04-04  10:00:00     3.1  ...  21.850  29.250000  0.756824\n",
              "9353 2005-04-04  11:00:00     2.4  ...  24.325  23.725000  0.711864\n",
              "9354 2005-04-04  12:00:00     2.4  ...  26.900  18.350000  0.640649\n",
              "9355 2005-04-04  13:00:00     2.1  ...  28.325  13.550000  0.513866\n",
              "9356 2005-04-04  14:00:00     2.2  ...  28.500  13.125000  0.502804\n",
              "\n",
              "[9357 rows x 15 columns]"
            ]
          },
          "metadata": {},
          "execution_count": 3
        }
      ]
    },
    {
      "cell_type": "markdown",
      "metadata": {
        "id": "45e7uOQAUy_S"
      },
      "source": [
        "## Data Preprocessing"
      ]
    },
    {
      "cell_type": "markdown",
      "metadata": {
        "id": "DEoGhLcjOPFn"
      },
      "source": [
        "Al the preprocessing from regression hw."
      ]
    },
    {
      "cell_type": "code",
      "metadata": {
        "id": "AJpTlbTlMRtZ"
      },
      "source": [
        "columns_titles = ['Date', 'Time', 'CO(GT)', 'PT08.S1(CO)', 'NMHC(GT)',\n",
        "       'PT08.S2(NMHC)', 'NOx(GT)', 'PT08.S3(NOx)', 'NO2(GT)', 'PT08.S4(NO2)',\n",
        "       'PT08.S5(O3)', 'T', 'RH', 'AH','C6H6(GT)']\n",
        "df=df.reindex(columns=columns_titles)\n",
        "df.rename(columns={'C6H6(GT)' : 'y'}, inplace=True)"
      ],
      "execution_count": null,
      "outputs": []
    },
    {
      "cell_type": "markdown",
      "metadata": {
        "id": "6I2Zs2S4VNyf"
      },
      "source": [
        "* Set NaNs"
      ]
    },
    {
      "cell_type": "code",
      "metadata": {
        "id": "nowdxvG1T0Rz"
      },
      "source": [
        "df[df == -200] = np.NaN"
      ],
      "execution_count": null,
      "outputs": []
    },
    {
      "cell_type": "markdown",
      "metadata": {
        "id": "rSHP-05IVRH1"
      },
      "source": [
        "* Drop some features"
      ]
    },
    {
      "cell_type": "code",
      "metadata": {
        "id": "JpsjyVlFMsPR"
      },
      "source": [
        "df.drop(['NMHC(GT)'], inplace=True, axis=1)\n",
        "df.drop(['PT08.S2(NMHC)'], inplace=True, axis=1)"
      ],
      "execution_count": null,
      "outputs": []
    },
    {
      "cell_type": "markdown",
      "metadata": {
        "id": "Y2It_qnGVgXp"
      },
      "source": [
        "* Drop missing target values."
      ]
    },
    {
      "cell_type": "code",
      "metadata": {
        "id": "lhIYBqDrVXnJ"
      },
      "source": [
        "df.dropna(subset=['y'], how='any', axis=0, inplace=True)"
      ],
      "execution_count": null,
      "outputs": []
    },
    {
      "cell_type": "code",
      "metadata": {
        "id": "0kDoX_ojNgOD"
      },
      "source": [
        "order = list()\n",
        "for i in range(24):\n",
        "  order.append(datetime.time(i, 0))\n",
        "\n",
        "mapper = dict(zip(order, range(24)))\n",
        "df['time'] = df.Time.map(mapper)\n",
        "df['weekday'] = df.Date.dt.weekday"
      ],
      "execution_count": null,
      "outputs": []
    },
    {
      "cell_type": "markdown",
      "metadata": {
        "id": "RALTNT6VVl45"
      },
      "source": [
        "* Filling missing values"
      ]
    },
    {
      "cell_type": "code",
      "metadata": {
        "id": "xqhjAe-9Nmc-"
      },
      "source": [
        "df_missed = df.interpolate(limit_direction='forward')"
      ],
      "execution_count": null,
      "outputs": []
    },
    {
      "cell_type": "markdown",
      "metadata": {
        "id": "6V55Qzz3VoXw"
      },
      "source": [
        "* Train/Test split"
      ]
    },
    {
      "cell_type": "code",
      "metadata": {
        "id": "Z_ZGvlCTN8ON"
      },
      "source": [
        "threshold_train = round(df.shape[0] * 0.7)\n",
        "\n",
        "train = df_missed.drop(['Date', 'Time'], axis=1).iloc[:threshold_train]\n",
        "test = df_missed.drop(['Date', 'Time'], axis=1).iloc[threshold_train:]"
      ],
      "execution_count": null,
      "outputs": []
    },
    {
      "cell_type": "code",
      "metadata": {
        "colab": {
          "base_uri": "https://localhost:8080/",
          "height": 419
        },
        "id": "Mb4ybSMjOHVC",
        "outputId": "fdd6c9c9-8cb8-4d70-bd85-ccc6696f6431"
      },
      "source": [
        "train"
      ],
      "execution_count": null,
      "outputs": [
        {
          "output_type": "execute_result",
          "data": {
            "text/html": [
              "<div>\n",
              "<style scoped>\n",
              "    .dataframe tbody tr th:only-of-type {\n",
              "        vertical-align: middle;\n",
              "    }\n",
              "\n",
              "    .dataframe tbody tr th {\n",
              "        vertical-align: top;\n",
              "    }\n",
              "\n",
              "    .dataframe thead th {\n",
              "        text-align: right;\n",
              "    }\n",
              "</style>\n",
              "<table border=\"1\" class=\"dataframe\">\n",
              "  <thead>\n",
              "    <tr style=\"text-align: right;\">\n",
              "      <th></th>\n",
              "      <th>CO(GT)</th>\n",
              "      <th>PT08.S1(CO)</th>\n",
              "      <th>NOx(GT)</th>\n",
              "      <th>PT08.S3(NOx)</th>\n",
              "      <th>NO2(GT)</th>\n",
              "      <th>PT08.S4(NO2)</th>\n",
              "      <th>PT08.S5(O3)</th>\n",
              "      <th>T</th>\n",
              "      <th>RH</th>\n",
              "      <th>AH</th>\n",
              "      <th>y</th>\n",
              "      <th>time</th>\n",
              "      <th>weekday</th>\n",
              "    </tr>\n",
              "  </thead>\n",
              "  <tbody>\n",
              "    <tr>\n",
              "      <th>0</th>\n",
              "      <td>2.6</td>\n",
              "      <td>1360.00</td>\n",
              "      <td>166.0</td>\n",
              "      <td>1056.25</td>\n",
              "      <td>113.0</td>\n",
              "      <td>1692.00</td>\n",
              "      <td>1267.50</td>\n",
              "      <td>13.600</td>\n",
              "      <td>48.875001</td>\n",
              "      <td>0.757754</td>\n",
              "      <td>11.881723</td>\n",
              "      <td>18</td>\n",
              "      <td>2</td>\n",
              "    </tr>\n",
              "    <tr>\n",
              "      <th>1</th>\n",
              "      <td>2.0</td>\n",
              "      <td>1292.25</td>\n",
              "      <td>103.0</td>\n",
              "      <td>1173.75</td>\n",
              "      <td>92.0</td>\n",
              "      <td>1558.75</td>\n",
              "      <td>972.25</td>\n",
              "      <td>13.300</td>\n",
              "      <td>47.700000</td>\n",
              "      <td>0.725487</td>\n",
              "      <td>9.397165</td>\n",
              "      <td>19</td>\n",
              "      <td>2</td>\n",
              "    </tr>\n",
              "    <tr>\n",
              "      <th>2</th>\n",
              "      <td>2.2</td>\n",
              "      <td>1402.00</td>\n",
              "      <td>131.0</td>\n",
              "      <td>1140.00</td>\n",
              "      <td>114.0</td>\n",
              "      <td>1554.50</td>\n",
              "      <td>1074.00</td>\n",
              "      <td>11.900</td>\n",
              "      <td>53.975000</td>\n",
              "      <td>0.750239</td>\n",
              "      <td>8.997817</td>\n",
              "      <td>20</td>\n",
              "      <td>2</td>\n",
              "    </tr>\n",
              "    <tr>\n",
              "      <th>3</th>\n",
              "      <td>2.2</td>\n",
              "      <td>1375.50</td>\n",
              "      <td>172.0</td>\n",
              "      <td>1092.00</td>\n",
              "      <td>122.0</td>\n",
              "      <td>1583.75</td>\n",
              "      <td>1203.25</td>\n",
              "      <td>11.000</td>\n",
              "      <td>60.000000</td>\n",
              "      <td>0.786713</td>\n",
              "      <td>9.228796</td>\n",
              "      <td>21</td>\n",
              "      <td>2</td>\n",
              "    </tr>\n",
              "    <tr>\n",
              "      <th>4</th>\n",
              "      <td>1.6</td>\n",
              "      <td>1272.25</td>\n",
              "      <td>131.0</td>\n",
              "      <td>1205.00</td>\n",
              "      <td>116.0</td>\n",
              "      <td>1490.00</td>\n",
              "      <td>1110.00</td>\n",
              "      <td>11.150</td>\n",
              "      <td>59.575001</td>\n",
              "      <td>0.788794</td>\n",
              "      <td>6.518224</td>\n",
              "      <td>22</td>\n",
              "      <td>2</td>\n",
              "    </tr>\n",
              "    <tr>\n",
              "      <th>...</th>\n",
              "      <td>...</td>\n",
              "      <td>...</td>\n",
              "      <td>...</td>\n",
              "      <td>...</td>\n",
              "      <td>...</td>\n",
              "      <td>...</td>\n",
              "      <td>...</td>\n",
              "      <td>...</td>\n",
              "      <td>...</td>\n",
              "      <td>...</td>\n",
              "      <td>...</td>\n",
              "      <td>...</td>\n",
              "      <td>...</td>\n",
              "    </tr>\n",
              "    <tr>\n",
              "      <th>6437</th>\n",
              "      <td>3.4</td>\n",
              "      <td>1269.50</td>\n",
              "      <td>542.0</td>\n",
              "      <td>586.25</td>\n",
              "      <td>101.0</td>\n",
              "      <td>1528.25</td>\n",
              "      <td>1290.00</td>\n",
              "      <td>13.100</td>\n",
              "      <td>78.700001</td>\n",
              "      <td>1.181744</td>\n",
              "      <td>13.996181</td>\n",
              "      <td>23</td>\n",
              "      <td>4</td>\n",
              "    </tr>\n",
              "    <tr>\n",
              "      <th>6438</th>\n",
              "      <td>3.5</td>\n",
              "      <td>1257.00</td>\n",
              "      <td>577.0</td>\n",
              "      <td>592.00</td>\n",
              "      <td>94.0</td>\n",
              "      <td>1520.00</td>\n",
              "      <td>1287.00</td>\n",
              "      <td>12.625</td>\n",
              "      <td>78.400002</td>\n",
              "      <td>1.141883</td>\n",
              "      <td>13.742933</td>\n",
              "      <td>0</td>\n",
              "      <td>5</td>\n",
              "    </tr>\n",
              "    <tr>\n",
              "      <th>6439</th>\n",
              "      <td>3.2</td>\n",
              "      <td>1245.75</td>\n",
              "      <td>568.0</td>\n",
              "      <td>621.00</td>\n",
              "      <td>99.0</td>\n",
              "      <td>1461.50</td>\n",
              "      <td>1234.50</td>\n",
              "      <td>12.750</td>\n",
              "      <td>77.900002</td>\n",
              "      <td>1.143753</td>\n",
              "      <td>12.794194</td>\n",
              "      <td>1</td>\n",
              "      <td>5</td>\n",
              "    </tr>\n",
              "    <tr>\n",
              "      <th>6440</th>\n",
              "      <td>2.9</td>\n",
              "      <td>1166.25</td>\n",
              "      <td>451.0</td>\n",
              "      <td>643.00</td>\n",
              "      <td>90.0</td>\n",
              "      <td>1408.00</td>\n",
              "      <td>1143.75</td>\n",
              "      <td>12.125</td>\n",
              "      <td>79.425001</td>\n",
              "      <td>1.120146</td>\n",
              "      <td>10.956517</td>\n",
              "      <td>2</td>\n",
              "      <td>5</td>\n",
              "    </tr>\n",
              "    <tr>\n",
              "      <th>6441</th>\n",
              "      <td>2.1</td>\n",
              "      <td>1062.00</td>\n",
              "      <td>346.5</td>\n",
              "      <td>723.75</td>\n",
              "      <td>80.5</td>\n",
              "      <td>1304.50</td>\n",
              "      <td>1004.25</td>\n",
              "      <td>11.575</td>\n",
              "      <td>80.075001</td>\n",
              "      <td>1.089861</td>\n",
              "      <td>8.153993</td>\n",
              "      <td>3</td>\n",
              "      <td>5</td>\n",
              "    </tr>\n",
              "  </tbody>\n",
              "</table>\n",
              "<p>6294 rows × 13 columns</p>\n",
              "</div>"
            ],
            "text/plain": [
              "      CO(GT)  PT08.S1(CO)  NOx(GT)  ...          y  time  weekday\n",
              "0        2.6      1360.00    166.0  ...  11.881723    18        2\n",
              "1        2.0      1292.25    103.0  ...   9.397165    19        2\n",
              "2        2.2      1402.00    131.0  ...   8.997817    20        2\n",
              "3        2.2      1375.50    172.0  ...   9.228796    21        2\n",
              "4        1.6      1272.25    131.0  ...   6.518224    22        2\n",
              "...      ...          ...      ...  ...        ...   ...      ...\n",
              "6437     3.4      1269.50    542.0  ...  13.996181    23        4\n",
              "6438     3.5      1257.00    577.0  ...  13.742933     0        5\n",
              "6439     3.2      1245.75    568.0  ...  12.794194     1        5\n",
              "6440     2.9      1166.25    451.0  ...  10.956517     2        5\n",
              "6441     2.1      1062.00    346.5  ...   8.153993     3        5\n",
              "\n",
              "[6294 rows x 13 columns]"
            ]
          },
          "metadata": {},
          "execution_count": 11
        }
      ]
    },
    {
      "cell_type": "markdown",
      "metadata": {
        "id": "hXl1QTMKWAYJ"
      },
      "source": [
        "* Removing outliers"
      ]
    },
    {
      "cell_type": "code",
      "metadata": {
        "colab": {
          "base_uri": "https://localhost:8080/"
        },
        "id": "lXgMGqfmOT4Q",
        "outputId": "31a04cce-323f-4734-c102-a2b10965b5d3"
      },
      "source": [
        "train_out = train\n",
        "\n",
        "q1 = dict()\n",
        "q2 = dict()\n",
        "iqr = dict()\n",
        "\n",
        "for col in train.columns[:-3]:\n",
        "  q1[col] = train[col].quantile(0.25)\n",
        "  q2[col] = train[col].quantile(0.75)\n",
        "  iqr[col] = q2[col] - q1[col]\n",
        "\n",
        "for col in train.columns[:-3]:\n",
        "  train_out = train_out[~((train_out[col] < q1[col]-1.5*iqr[col] ) | (train_out[col] > q2[col]+1.5*iqr[col]))]\n",
        "  \n",
        "train_out.shape"
      ],
      "execution_count": null,
      "outputs": [
        {
          "output_type": "execute_result",
          "data": {
            "text/plain": [
              "(5608, 13)"
            ]
          },
          "metadata": {},
          "execution_count": 12
        }
      ]
    },
    {
      "cell_type": "code",
      "metadata": {
        "id": "P8GruQsEOIrg"
      },
      "source": [
        "train_out = train_out[~((train_out['y'] > 30))]"
      ],
      "execution_count": null,
      "outputs": []
    },
    {
      "cell_type": "markdown",
      "metadata": {
        "id": "yf-hYnHIV6I_"
      },
      "source": [
        "* Data scaling and transformations"
      ]
    },
    {
      "cell_type": "code",
      "metadata": {
        "id": "z26TYfwaWEgb"
      },
      "source": [
        "NUMERICAL_POWER_TRANS = [ 'NOx(GT)', 'PT08.S5(O3)']\n",
        "NUMERICAL_NO_TRANS = ['PT08.S1(CO)', 'T', 'RH', 'PT08.S4(NO2)']\n",
        "CATEGORICAL = ['weekday', 'time']\n",
        "target = ['y']"
      ],
      "execution_count": null,
      "outputs": []
    },
    {
      "cell_type": "code",
      "metadata": {
        "id": "3wMB63tqOZdF"
      },
      "source": [
        "def make_mapper(num_pow_trans, num_std_scaler, categorical):\n",
        "  \n",
        "  numerical_pow_def = gen_features(\n",
        "      columns=[[c] for c in num_pow_trans],\n",
        "      classes=[\n",
        "          {'class': PowerTransformer}\n",
        "      ]\n",
        "  )\n",
        "\n",
        "  numerical_scaler_def = gen_features(\n",
        "      columns=[[c] for c in num_std_scaler],\n",
        "      classes=[\n",
        "          {'class': StandardScaler}\n",
        "      ]\n",
        "  )\n",
        "\n",
        "  categorical_def = gen_features(\n",
        "      columns=[[c] for c in categorical],\n",
        "      classes=[\n",
        "          {'class': OneHotEncoder}\n",
        "      ]    \n",
        "  )\n",
        "  features = numerical_pow_def + numerical_scaler_def  + categorical_def\n",
        "  mapper = DataFrameMapper(features)\n",
        "\n",
        "  return mapper, features"
      ],
      "execution_count": null,
      "outputs": []
    },
    {
      "cell_type": "markdown",
      "metadata": {
        "id": "wQvw8BJ0WFop"
      },
      "source": [
        "* Function for model evaluation"
      ]
    },
    {
      "cell_type": "code",
      "metadata": {
        "id": "bu99Ggh5PYF2"
      },
      "source": [
        "def evaluate_model(train, val, tr_y, val_y, pipeline):\n",
        "    pipeline.fit(train, tr_y)\n",
        "    pred_val = pipeline.predict(val)\n",
        "    pred_train = pipeline.predict(train)\n",
        "    mapper = pipeline.named_steps['mapper']\n",
        "\n",
        "    return pd.DataFrame({\n",
        "        'train_RMSE': [np.sqrt(mean_squared_error(tr_y, pred_train))], \n",
        "        'train_R2': [r2_score(tr_y, pred_train)],\n",
        "        'val_RMSE': [np.sqrt(mean_squared_error(val_y, pred_val))],\n",
        "        'val_R2': [r2_score(val_y, pred_val)]\n",
        "    }), mapper.transformed_names_"
      ],
      "execution_count": null,
      "outputs": []
    },
    {
      "cell_type": "markdown",
      "metadata": {
        "id": "YXSfnz6CWLjZ"
      },
      "source": [
        "* Final train/test split"
      ]
    },
    {
      "cell_type": "code",
      "metadata": {
        "id": "zhZ4ADzOUj2U"
      },
      "source": [
        "X_train, X_test = train_out.drop('y', axis=1), test.drop('y', axis=1)\n",
        "y_train, y_test = train_out['y'], test['y']\n",
        "\n",
        "\n",
        "pt = PowerTransformer()\n",
        "minmax = MinMaxScaler()\n",
        "\n",
        "y_train = minmax.fit_transform(\n",
        "    pt.fit_transform(np.array(y_train).reshape(-1, 1))\n",
        ")\n",
        "\n",
        "y_test = minmax.transform(\n",
        "    pt.transform(np.array(y_test).reshape(-1, 1))\n",
        ")"
      ],
      "execution_count": null,
      "outputs": []
    },
    {
      "cell_type": "markdown",
      "metadata": {
        "id": "rW4tpuqyWRP-"
      },
      "source": [
        "## Previous best model for regression\n",
        "(according to the previous homework: https://colab.research.google.com/drive/1LVT3E4zyhgrDg41Z3QGPLJxgq0zc475O#scrollTo=NP_dLss39k-E)\n",
        "\n",
        "There were some issues, so the model is not perfect."
      ]
    },
    {
      "cell_type": "code",
      "metadata": {
        "colab": {
          "base_uri": "https://localhost:8080/",
          "height": 80
        },
        "id": "fISlWv8CPS5f",
        "outputId": "b0ad5dd7-4ea2-48a7-a9b7-fc19ab636537"
      },
      "source": [
        "mapper, features = make_mapper(NUMERICAL_POWER_TRANS, NUMERICAL_NO_TRANS, CATEGORICAL)\n",
        "pipeline = Pipeline([\n",
        "  ('mapper', DataFrameMapper(features)),\n",
        "  ('estimator', LinearRegression())\n",
        "])\n",
        "scores, _ = evaluate_model(X_train, X_test, y_train, y_test, pipeline)\n",
        "scores"
      ],
      "execution_count": null,
      "outputs": [
        {
          "output_type": "execute_result",
          "data": {
            "text/html": [
              "<div>\n",
              "<style scoped>\n",
              "    .dataframe tbody tr th:only-of-type {\n",
              "        vertical-align: middle;\n",
              "    }\n",
              "\n",
              "    .dataframe tbody tr th {\n",
              "        vertical-align: top;\n",
              "    }\n",
              "\n",
              "    .dataframe thead th {\n",
              "        text-align: right;\n",
              "    }\n",
              "</style>\n",
              "<table border=\"1\" class=\"dataframe\">\n",
              "  <thead>\n",
              "    <tr style=\"text-align: right;\">\n",
              "      <th></th>\n",
              "      <th>train_RMSE</th>\n",
              "      <th>train_R2</th>\n",
              "      <th>val_RMSE</th>\n",
              "      <th>val_R2</th>\n",
              "    </tr>\n",
              "  </thead>\n",
              "  <tbody>\n",
              "    <tr>\n",
              "      <th>0</th>\n",
              "      <td>0.048308</td>\n",
              "      <td>0.94531</td>\n",
              "      <td>0.052118</td>\n",
              "      <td>0.955013</td>\n",
              "    </tr>\n",
              "  </tbody>\n",
              "</table>\n",
              "</div>"
            ],
            "text/plain": [
              "   train_RMSE  train_R2  val_RMSE    val_R2\n",
              "0    0.048308   0.94531  0.052118  0.955013"
            ]
          },
          "metadata": {},
          "execution_count": 18
        }
      ]
    },
    {
      "cell_type": "markdown",
      "metadata": {
        "id": "-zGOG7OyW5KE"
      },
      "source": [
        "## Neural Network"
      ]
    },
    {
      "cell_type": "code",
      "metadata": {
        "id": "BlqPQk-FX1-t"
      },
      "source": [
        "X_train_, X_test_ = mapper.fit_transform(X_train), mapper.transform(X_test)"
      ],
      "execution_count": null,
      "outputs": []
    },
    {
      "cell_type": "code",
      "metadata": {
        "colab": {
          "base_uri": "https://localhost:8080/"
        },
        "id": "thtLGypXE5gA",
        "outputId": "ea1b9f27-5229-4116-9e77-990b3e1e49e2"
      },
      "source": [
        "X_train_.shape"
      ],
      "execution_count": null,
      "outputs": [
        {
          "output_type": "execute_result",
          "data": {
            "text/plain": [
              "(5594, 37)"
            ]
          },
          "metadata": {},
          "execution_count": 20
        }
      ]
    },
    {
      "cell_type": "code",
      "metadata": {
        "id": "N8g2r9MIUYap"
      },
      "source": [
        "model = Sequential()\n",
        "model.add(Dense(64, activation='relu',))\n",
        "model.add(Dense(32, activation='relu',))\n",
        "model.add(Dense(1, activation='sigmoid'))"
      ],
      "execution_count": null,
      "outputs": []
    },
    {
      "cell_type": "code",
      "metadata": {
        "id": "cruafr-8Xw-z"
      },
      "source": [
        "model.compile(optimizer=keras.optimizers.adam_v2.Adam(learning_rate=0.00012), loss='mse', metrics=['mae'])"
      ],
      "execution_count": null,
      "outputs": []
    },
    {
      "cell_type": "code",
      "metadata": {
        "id": "cmLx4TzJ2gIk"
      },
      "source": [
        "checkpoint_filepath = '/tmp/checkpoint'\n",
        "model_checkpoint_callback = keras.callbacks.ModelCheckpoint(\n",
        "    filepath=checkpoint_filepath,\n",
        "    save_weights_only=True,\n",
        "    monitor='val_mae',\n",
        "    mode='min',\n",
        "    save_best_only=True)"
      ],
      "execution_count": null,
      "outputs": []
    },
    {
      "cell_type": "code",
      "metadata": {
        "colab": {
          "base_uri": "https://localhost:8080/"
        },
        "id": "8-_SCFK3bys2",
        "outputId": "03daf240-5e06-4499-b2a2-4157a8e88938"
      },
      "source": [
        "history = model.fit(X_train_, \n",
        "                    y_train, \n",
        "                    epochs=300, \n",
        "                    validation_split=0.1, \n",
        "                    verbose=2,\n",
        "                    batch_size=32,\n",
        "                    callbacks=[model_checkpoint_callback]\n",
        "                    )"
      ],
      "execution_count": null,
      "outputs": [
        {
          "output_type": "stream",
          "name": "stdout",
          "text": [
            "Epoch 1/300\n",
            "158/158 - 1s - loss: 0.0126 - mae: 0.0881 - val_loss: 0.0072 - val_mae: 0.0681\n",
            "Epoch 2/300\n",
            "158/158 - 0s - loss: 0.0043 - mae: 0.0512 - val_loss: 0.0043 - val_mae: 0.0519\n",
            "Epoch 3/300\n",
            "158/158 - 0s - loss: 0.0033 - mae: 0.0452 - val_loss: 0.0047 - val_mae: 0.0554\n",
            "Epoch 4/300\n",
            "158/158 - 0s - loss: 0.0028 - mae: 0.0414 - val_loss: 0.0048 - val_mae: 0.0569\n",
            "Epoch 5/300\n",
            "158/158 - 0s - loss: 0.0024 - mae: 0.0388 - val_loss: 0.0051 - val_mae: 0.0592\n",
            "Epoch 6/300\n",
            "158/158 - 0s - loss: 0.0022 - mae: 0.0370 - val_loss: 0.0051 - val_mae: 0.0589\n",
            "Epoch 7/300\n",
            "158/158 - 0s - loss: 0.0021 - mae: 0.0356 - val_loss: 0.0053 - val_mae: 0.0601\n",
            "Epoch 8/300\n",
            "158/158 - 0s - loss: 0.0019 - mae: 0.0344 - val_loss: 0.0051 - val_mae: 0.0592\n",
            "Epoch 9/300\n",
            "158/158 - 0s - loss: 0.0018 - mae: 0.0336 - val_loss: 0.0050 - val_mae: 0.0585\n",
            "Epoch 10/300\n",
            "158/158 - 0s - loss: 0.0018 - mae: 0.0329 - val_loss: 0.0049 - val_mae: 0.0579\n",
            "Epoch 11/300\n",
            "158/158 - 0s - loss: 0.0017 - mae: 0.0323 - val_loss: 0.0047 - val_mae: 0.0562\n",
            "Epoch 12/300\n",
            "158/158 - 0s - loss: 0.0017 - mae: 0.0318 - val_loss: 0.0043 - val_mae: 0.0538\n",
            "Epoch 13/300\n",
            "158/158 - 0s - loss: 0.0016 - mae: 0.0314 - val_loss: 0.0047 - val_mae: 0.0571\n",
            "Epoch 14/300\n",
            "158/158 - 0s - loss: 0.0016 - mae: 0.0310 - val_loss: 0.0044 - val_mae: 0.0548\n",
            "Epoch 15/300\n",
            "158/158 - 0s - loss: 0.0015 - mae: 0.0307 - val_loss: 0.0043 - val_mae: 0.0540\n",
            "Epoch 16/300\n",
            "158/158 - 0s - loss: 0.0015 - mae: 0.0304 - val_loss: 0.0042 - val_mae: 0.0537\n",
            "Epoch 17/300\n",
            "158/158 - 0s - loss: 0.0015 - mae: 0.0301 - val_loss: 0.0042 - val_mae: 0.0536\n",
            "Epoch 18/300\n",
            "158/158 - 0s - loss: 0.0014 - mae: 0.0298 - val_loss: 0.0043 - val_mae: 0.0540\n",
            "Epoch 19/300\n",
            "158/158 - 0s - loss: 0.0014 - mae: 0.0295 - val_loss: 0.0039 - val_mae: 0.0516\n",
            "Epoch 20/300\n",
            "158/158 - 0s - loss: 0.0014 - mae: 0.0293 - val_loss: 0.0041 - val_mae: 0.0532\n",
            "Epoch 21/300\n",
            "158/158 - 0s - loss: 0.0014 - mae: 0.0291 - val_loss: 0.0038 - val_mae: 0.0510\n",
            "Epoch 22/300\n",
            "158/158 - 0s - loss: 0.0014 - mae: 0.0288 - val_loss: 0.0037 - val_mae: 0.0499\n",
            "Epoch 23/300\n",
            "158/158 - 0s - loss: 0.0013 - mae: 0.0286 - val_loss: 0.0039 - val_mae: 0.0513\n",
            "Epoch 24/300\n",
            "158/158 - 0s - loss: 0.0013 - mae: 0.0284 - val_loss: 0.0039 - val_mae: 0.0513\n",
            "Epoch 25/300\n",
            "158/158 - 0s - loss: 0.0013 - mae: 0.0282 - val_loss: 0.0036 - val_mae: 0.0488\n",
            "Epoch 26/300\n",
            "158/158 - 0s - loss: 0.0013 - mae: 0.0280 - val_loss: 0.0034 - val_mae: 0.0477\n",
            "Epoch 27/300\n",
            "158/158 - 0s - loss: 0.0013 - mae: 0.0278 - val_loss: 0.0033 - val_mae: 0.0468\n",
            "Epoch 28/300\n",
            "158/158 - 0s - loss: 0.0012 - mae: 0.0277 - val_loss: 0.0035 - val_mae: 0.0483\n",
            "Epoch 29/300\n",
            "158/158 - 0s - loss: 0.0012 - mae: 0.0275 - val_loss: 0.0032 - val_mae: 0.0460\n",
            "Epoch 30/300\n",
            "158/158 - 0s - loss: 0.0012 - mae: 0.0272 - val_loss: 0.0034 - val_mae: 0.0472\n",
            "Epoch 31/300\n",
            "158/158 - 0s - loss: 0.0012 - mae: 0.0271 - val_loss: 0.0032 - val_mae: 0.0459\n",
            "Epoch 32/300\n",
            "158/158 - 0s - loss: 0.0012 - mae: 0.0268 - val_loss: 0.0033 - val_mae: 0.0464\n",
            "Epoch 33/300\n",
            "158/158 - 0s - loss: 0.0012 - mae: 0.0267 - val_loss: 0.0033 - val_mae: 0.0466\n",
            "Epoch 34/300\n",
            "158/158 - 0s - loss: 0.0012 - mae: 0.0266 - val_loss: 0.0034 - val_mae: 0.0469\n",
            "Epoch 35/300\n",
            "158/158 - 0s - loss: 0.0011 - mae: 0.0264 - val_loss: 0.0031 - val_mae: 0.0448\n",
            "Epoch 36/300\n",
            "158/158 - 0s - loss: 0.0011 - mae: 0.0263 - val_loss: 0.0033 - val_mae: 0.0463\n",
            "Epoch 37/300\n",
            "158/158 - 0s - loss: 0.0011 - mae: 0.0261 - val_loss: 0.0031 - val_mae: 0.0447\n",
            "Epoch 38/300\n",
            "158/158 - 0s - loss: 0.0011 - mae: 0.0259 - val_loss: 0.0030 - val_mae: 0.0437\n",
            "Epoch 39/300\n",
            "158/158 - 0s - loss: 0.0011 - mae: 0.0258 - val_loss: 0.0033 - val_mae: 0.0461\n",
            "Epoch 40/300\n",
            "158/158 - 0s - loss: 0.0011 - mae: 0.0256 - val_loss: 0.0030 - val_mae: 0.0440\n",
            "Epoch 41/300\n",
            "158/158 - 0s - loss: 0.0011 - mae: 0.0255 - val_loss: 0.0031 - val_mae: 0.0447\n",
            "Epoch 42/300\n",
            "158/158 - 0s - loss: 0.0011 - mae: 0.0254 - val_loss: 0.0031 - val_mae: 0.0443\n",
            "Epoch 43/300\n",
            "158/158 - 0s - loss: 0.0010 - mae: 0.0252 - val_loss: 0.0032 - val_mae: 0.0457\n",
            "Epoch 44/300\n",
            "158/158 - 0s - loss: 0.0010 - mae: 0.0251 - val_loss: 0.0031 - val_mae: 0.0446\n",
            "Epoch 45/300\n",
            "158/158 - 0s - loss: 0.0010 - mae: 0.0250 - val_loss: 0.0030 - val_mae: 0.0433\n",
            "Epoch 46/300\n",
            "158/158 - 0s - loss: 0.0010 - mae: 0.0248 - val_loss: 0.0032 - val_mae: 0.0456\n",
            "Epoch 47/300\n",
            "158/158 - 0s - loss: 9.9847e-04 - mae: 0.0247 - val_loss: 0.0033 - val_mae: 0.0463\n",
            "Epoch 48/300\n",
            "158/158 - 0s - loss: 9.8783e-04 - mae: 0.0245 - val_loss: 0.0031 - val_mae: 0.0442\n",
            "Epoch 49/300\n",
            "158/158 - 0s - loss: 9.7747e-04 - mae: 0.0244 - val_loss: 0.0030 - val_mae: 0.0434\n",
            "Epoch 50/300\n",
            "158/158 - 0s - loss: 9.6700e-04 - mae: 0.0243 - val_loss: 0.0030 - val_mae: 0.0436\n",
            "Epoch 51/300\n",
            "158/158 - 0s - loss: 9.5624e-04 - mae: 0.0242 - val_loss: 0.0030 - val_mae: 0.0436\n",
            "Epoch 52/300\n",
            "158/158 - 0s - loss: 9.4658e-04 - mae: 0.0240 - val_loss: 0.0030 - val_mae: 0.0434\n",
            "Epoch 53/300\n",
            "158/158 - 0s - loss: 9.3946e-04 - mae: 0.0239 - val_loss: 0.0030 - val_mae: 0.0435\n",
            "Epoch 54/300\n",
            "158/158 - 0s - loss: 9.3258e-04 - mae: 0.0238 - val_loss: 0.0030 - val_mae: 0.0432\n",
            "Epoch 55/300\n",
            "158/158 - 0s - loss: 9.2204e-04 - mae: 0.0237 - val_loss: 0.0030 - val_mae: 0.0430\n",
            "Epoch 56/300\n",
            "158/158 - 0s - loss: 9.1184e-04 - mae: 0.0236 - val_loss: 0.0030 - val_mae: 0.0435\n",
            "Epoch 57/300\n",
            "158/158 - 0s - loss: 9.0765e-04 - mae: 0.0235 - val_loss: 0.0032 - val_mae: 0.0446\n",
            "Epoch 58/300\n",
            "158/158 - 0s - loss: 8.9471e-04 - mae: 0.0233 - val_loss: 0.0031 - val_mae: 0.0444\n",
            "Epoch 59/300\n",
            "158/158 - 0s - loss: 8.9011e-04 - mae: 0.0232 - val_loss: 0.0029 - val_mae: 0.0427\n",
            "Epoch 60/300\n",
            "158/158 - 0s - loss: 8.8034e-04 - mae: 0.0232 - val_loss: 0.0031 - val_mae: 0.0442\n",
            "Epoch 61/300\n",
            "158/158 - 0s - loss: 8.7340e-04 - mae: 0.0230 - val_loss: 0.0029 - val_mae: 0.0423\n",
            "Epoch 62/300\n",
            "158/158 - 0s - loss: 8.6599e-04 - mae: 0.0229 - val_loss: 0.0029 - val_mae: 0.0423\n",
            "Epoch 63/300\n",
            "158/158 - 0s - loss: 8.6025e-04 - mae: 0.0229 - val_loss: 0.0030 - val_mae: 0.0429\n",
            "Epoch 64/300\n",
            "158/158 - 0s - loss: 8.5504e-04 - mae: 0.0228 - val_loss: 0.0030 - val_mae: 0.0431\n",
            "Epoch 65/300\n",
            "158/158 - 0s - loss: 8.4883e-04 - mae: 0.0227 - val_loss: 0.0029 - val_mae: 0.0418\n",
            "Epoch 66/300\n",
            "158/158 - 0s - loss: 8.4417e-04 - mae: 0.0226 - val_loss: 0.0031 - val_mae: 0.0439\n",
            "Epoch 67/300\n",
            "158/158 - 0s - loss: 8.3457e-04 - mae: 0.0225 - val_loss: 0.0030 - val_mae: 0.0432\n",
            "Epoch 68/300\n",
            "158/158 - 0s - loss: 8.2782e-04 - mae: 0.0224 - val_loss: 0.0031 - val_mae: 0.0433\n",
            "Epoch 69/300\n",
            "158/158 - 0s - loss: 8.2280e-04 - mae: 0.0223 - val_loss: 0.0030 - val_mae: 0.0426\n",
            "Epoch 70/300\n",
            "158/158 - 0s - loss: 8.1436e-04 - mae: 0.0222 - val_loss: 0.0031 - val_mae: 0.0438\n",
            "Epoch 71/300\n",
            "158/158 - 0s - loss: 8.1267e-04 - mae: 0.0222 - val_loss: 0.0031 - val_mae: 0.0435\n",
            "Epoch 72/300\n",
            "158/158 - 0s - loss: 8.0393e-04 - mae: 0.0221 - val_loss: 0.0030 - val_mae: 0.0425\n",
            "Epoch 73/300\n",
            "158/158 - 0s - loss: 7.9944e-04 - mae: 0.0220 - val_loss: 0.0029 - val_mae: 0.0422\n",
            "Epoch 74/300\n",
            "158/158 - 0s - loss: 7.9509e-04 - mae: 0.0220 - val_loss: 0.0029 - val_mae: 0.0414\n",
            "Epoch 75/300\n",
            "158/158 - 0s - loss: 7.8890e-04 - mae: 0.0218 - val_loss: 0.0031 - val_mae: 0.0432\n",
            "Epoch 76/300\n",
            "158/158 - 0s - loss: 7.8420e-04 - mae: 0.0218 - val_loss: 0.0031 - val_mae: 0.0435\n",
            "Epoch 77/300\n",
            "158/158 - 0s - loss: 7.7725e-04 - mae: 0.0217 - val_loss: 0.0030 - val_mae: 0.0420\n",
            "Epoch 78/300\n",
            "158/158 - 0s - loss: 7.7555e-04 - mae: 0.0216 - val_loss: 0.0030 - val_mae: 0.0422\n",
            "Epoch 79/300\n",
            "158/158 - 0s - loss: 7.6784e-04 - mae: 0.0215 - val_loss: 0.0031 - val_mae: 0.0430\n",
            "Epoch 80/300\n",
            "158/158 - 0s - loss: 7.6253e-04 - mae: 0.0214 - val_loss: 0.0029 - val_mae: 0.0414\n",
            "Epoch 81/300\n",
            "158/158 - 0s - loss: 7.5908e-04 - mae: 0.0214 - val_loss: 0.0031 - val_mae: 0.0431\n",
            "Epoch 82/300\n",
            "158/158 - 0s - loss: 7.5852e-04 - mae: 0.0214 - val_loss: 0.0029 - val_mae: 0.0416\n",
            "Epoch 83/300\n",
            "158/158 - 0s - loss: 7.5211e-04 - mae: 0.0213 - val_loss: 0.0032 - val_mae: 0.0435\n",
            "Epoch 84/300\n",
            "158/158 - 0s - loss: 7.4797e-04 - mae: 0.0212 - val_loss: 0.0030 - val_mae: 0.0418\n",
            "Epoch 85/300\n",
            "158/158 - 0s - loss: 7.3890e-04 - mae: 0.0211 - val_loss: 0.0030 - val_mae: 0.0418\n",
            "Epoch 86/300\n",
            "158/158 - 0s - loss: 7.3588e-04 - mae: 0.0210 - val_loss: 0.0030 - val_mae: 0.0419\n",
            "Epoch 87/300\n",
            "158/158 - 0s - loss: 7.3039e-04 - mae: 0.0210 - val_loss: 0.0031 - val_mae: 0.0428\n",
            "Epoch 88/300\n",
            "158/158 - 0s - loss: 7.3014e-04 - mae: 0.0210 - val_loss: 0.0031 - val_mae: 0.0428\n",
            "Epoch 89/300\n",
            "158/158 - 0s - loss: 7.2555e-04 - mae: 0.0209 - val_loss: 0.0030 - val_mae: 0.0422\n",
            "Epoch 90/300\n",
            "158/158 - 0s - loss: 7.2247e-04 - mae: 0.0208 - val_loss: 0.0031 - val_mae: 0.0423\n",
            "Epoch 91/300\n",
            "158/158 - 0s - loss: 7.1606e-04 - mae: 0.0207 - val_loss: 0.0029 - val_mae: 0.0414\n",
            "Epoch 92/300\n",
            "158/158 - 0s - loss: 7.1215e-04 - mae: 0.0207 - val_loss: 0.0030 - val_mae: 0.0421\n",
            "Epoch 93/300\n",
            "158/158 - 0s - loss: 7.0915e-04 - mae: 0.0207 - val_loss: 0.0031 - val_mae: 0.0427\n",
            "Epoch 94/300\n",
            "158/158 - 0s - loss: 7.0399e-04 - mae: 0.0206 - val_loss: 0.0029 - val_mae: 0.0413\n",
            "Epoch 95/300\n",
            "158/158 - 0s - loss: 6.9852e-04 - mae: 0.0205 - val_loss: 0.0030 - val_mae: 0.0419\n",
            "Epoch 96/300\n",
            "158/158 - 0s - loss: 6.9748e-04 - mae: 0.0204 - val_loss: 0.0030 - val_mae: 0.0416\n",
            "Epoch 97/300\n",
            "158/158 - 0s - loss: 6.9626e-04 - mae: 0.0204 - val_loss: 0.0029 - val_mae: 0.0410\n",
            "Epoch 98/300\n",
            "158/158 - 0s - loss: 6.9068e-04 - mae: 0.0204 - val_loss: 0.0031 - val_mae: 0.0425\n",
            "Epoch 99/300\n",
            "158/158 - 0s - loss: 6.8854e-04 - mae: 0.0204 - val_loss: 0.0030 - val_mae: 0.0419\n",
            "Epoch 100/300\n",
            "158/158 - 0s - loss: 6.8252e-04 - mae: 0.0203 - val_loss: 0.0030 - val_mae: 0.0414\n",
            "Epoch 101/300\n",
            "158/158 - 0s - loss: 6.8091e-04 - mae: 0.0202 - val_loss: 0.0031 - val_mae: 0.0424\n",
            "Epoch 102/300\n",
            "158/158 - 0s - loss: 6.7816e-04 - mae: 0.0202 - val_loss: 0.0029 - val_mae: 0.0408\n",
            "Epoch 103/300\n",
            "158/158 - 0s - loss: 6.7191e-04 - mae: 0.0201 - val_loss: 0.0030 - val_mae: 0.0415\n",
            "Epoch 104/300\n",
            "158/158 - 0s - loss: 6.7158e-04 - mae: 0.0201 - val_loss: 0.0031 - val_mae: 0.0425\n",
            "Epoch 105/300\n",
            "158/158 - 0s - loss: 6.6716e-04 - mae: 0.0200 - val_loss: 0.0031 - val_mae: 0.0423\n",
            "Epoch 106/300\n",
            "158/158 - 0s - loss: 6.6363e-04 - mae: 0.0200 - val_loss: 0.0031 - val_mae: 0.0418\n",
            "Epoch 107/300\n",
            "158/158 - 0s - loss: 6.6235e-04 - mae: 0.0199 - val_loss: 0.0030 - val_mae: 0.0414\n",
            "Epoch 108/300\n",
            "158/158 - 0s - loss: 6.5849e-04 - mae: 0.0198 - val_loss: 0.0032 - val_mae: 0.0431\n",
            "Epoch 109/300\n",
            "158/158 - 0s - loss: 6.5760e-04 - mae: 0.0199 - val_loss: 0.0031 - val_mae: 0.0419\n",
            "Epoch 110/300\n",
            "158/158 - 0s - loss: 6.5244e-04 - mae: 0.0198 - val_loss: 0.0031 - val_mae: 0.0419\n",
            "Epoch 111/300\n",
            "158/158 - 0s - loss: 6.4573e-04 - mae: 0.0197 - val_loss: 0.0030 - val_mae: 0.0412\n",
            "Epoch 112/300\n",
            "158/158 - 0s - loss: 6.4478e-04 - mae: 0.0196 - val_loss: 0.0030 - val_mae: 0.0411\n",
            "Epoch 113/300\n",
            "158/158 - 0s - loss: 6.4376e-04 - mae: 0.0197 - val_loss: 0.0031 - val_mae: 0.0419\n",
            "Epoch 114/300\n",
            "158/158 - 0s - loss: 6.3930e-04 - mae: 0.0196 - val_loss: 0.0031 - val_mae: 0.0422\n",
            "Epoch 115/300\n",
            "158/158 - 0s - loss: 6.3615e-04 - mae: 0.0196 - val_loss: 0.0030 - val_mae: 0.0412\n",
            "Epoch 116/300\n",
            "158/158 - 0s - loss: 6.3566e-04 - mae: 0.0195 - val_loss: 0.0030 - val_mae: 0.0411\n",
            "Epoch 117/300\n",
            "158/158 - 0s - loss: 6.3109e-04 - mae: 0.0195 - val_loss: 0.0031 - val_mae: 0.0423\n",
            "Epoch 118/300\n",
            "158/158 - 0s - loss: 6.2553e-04 - mae: 0.0194 - val_loss: 0.0033 - val_mae: 0.0431\n",
            "Epoch 119/300\n",
            "158/158 - 0s - loss: 6.2605e-04 - mae: 0.0194 - val_loss: 0.0030 - val_mae: 0.0408\n",
            "Epoch 120/300\n",
            "158/158 - 0s - loss: 6.2486e-04 - mae: 0.0194 - val_loss: 0.0030 - val_mae: 0.0412\n",
            "Epoch 121/300\n",
            "158/158 - 0s - loss: 6.1897e-04 - mae: 0.0193 - val_loss: 0.0031 - val_mae: 0.0417\n",
            "Epoch 122/300\n",
            "158/158 - 0s - loss: 6.1693e-04 - mae: 0.0192 - val_loss: 0.0031 - val_mae: 0.0415\n",
            "Epoch 123/300\n",
            "158/158 - 0s - loss: 6.1412e-04 - mae: 0.0192 - val_loss: 0.0031 - val_mae: 0.0419\n",
            "Epoch 124/300\n",
            "158/158 - 0s - loss: 6.1124e-04 - mae: 0.0191 - val_loss: 0.0031 - val_mae: 0.0415\n",
            "Epoch 125/300\n",
            "158/158 - 0s - loss: 6.0859e-04 - mae: 0.0191 - val_loss: 0.0032 - val_mae: 0.0429\n",
            "Epoch 126/300\n",
            "158/158 - 0s - loss: 6.0892e-04 - mae: 0.0191 - val_loss: 0.0030 - val_mae: 0.0409\n",
            "Epoch 127/300\n",
            "158/158 - 0s - loss: 6.0309e-04 - mae: 0.0190 - val_loss: 0.0031 - val_mae: 0.0414\n",
            "Epoch 128/300\n",
            "158/158 - 0s - loss: 6.0286e-04 - mae: 0.0190 - val_loss: 0.0031 - val_mae: 0.0418\n",
            "Epoch 129/300\n",
            "158/158 - 0s - loss: 5.9953e-04 - mae: 0.0190 - val_loss: 0.0031 - val_mae: 0.0419\n",
            "Epoch 130/300\n",
            "158/158 - 0s - loss: 5.9718e-04 - mae: 0.0189 - val_loss: 0.0030 - val_mae: 0.0408\n",
            "Epoch 131/300\n",
            "158/158 - 0s - loss: 5.9492e-04 - mae: 0.0189 - val_loss: 0.0030 - val_mae: 0.0410\n",
            "Epoch 132/300\n",
            "158/158 - 0s - loss: 5.9376e-04 - mae: 0.0189 - val_loss: 0.0032 - val_mae: 0.0422\n",
            "Epoch 133/300\n",
            "158/158 - 0s - loss: 5.9071e-04 - mae: 0.0188 - val_loss: 0.0031 - val_mae: 0.0421\n",
            "Epoch 134/300\n",
            "158/158 - 0s - loss: 5.8703e-04 - mae: 0.0188 - val_loss: 0.0031 - val_mae: 0.0415\n",
            "Epoch 135/300\n",
            "158/158 - 0s - loss: 5.8565e-04 - mae: 0.0187 - val_loss: 0.0030 - val_mae: 0.0413\n",
            "Epoch 136/300\n",
            "158/158 - 0s - loss: 5.8440e-04 - mae: 0.0187 - val_loss: 0.0031 - val_mae: 0.0420\n",
            "Epoch 137/300\n",
            "158/158 - 0s - loss: 5.8175e-04 - mae: 0.0187 - val_loss: 0.0032 - val_mae: 0.0424\n",
            "Epoch 138/300\n",
            "158/158 - 0s - loss: 5.7943e-04 - mae: 0.0186 - val_loss: 0.0033 - val_mae: 0.0435\n",
            "Epoch 139/300\n",
            "158/158 - 0s - loss: 5.7843e-04 - mae: 0.0187 - val_loss: 0.0031 - val_mae: 0.0418\n",
            "Epoch 140/300\n",
            "158/158 - 0s - loss: 5.7602e-04 - mae: 0.0186 - val_loss: 0.0031 - val_mae: 0.0417\n",
            "Epoch 141/300\n",
            "158/158 - 0s - loss: 5.7217e-04 - mae: 0.0186 - val_loss: 0.0030 - val_mae: 0.0407\n",
            "Epoch 142/300\n",
            "158/158 - 0s - loss: 5.7029e-04 - mae: 0.0185 - val_loss: 0.0033 - val_mae: 0.0431\n",
            "Epoch 143/300\n",
            "158/158 - 0s - loss: 5.6948e-04 - mae: 0.0185 - val_loss: 0.0031 - val_mae: 0.0416\n",
            "Epoch 144/300\n",
            "158/158 - 0s - loss: 5.6704e-04 - mae: 0.0185 - val_loss: 0.0031 - val_mae: 0.0416\n",
            "Epoch 145/300\n",
            "158/158 - 0s - loss: 5.6343e-04 - mae: 0.0184 - val_loss: 0.0033 - val_mae: 0.0429\n",
            "Epoch 146/300\n",
            "158/158 - 0s - loss: 5.6422e-04 - mae: 0.0184 - val_loss: 0.0033 - val_mae: 0.0428\n",
            "Epoch 147/300\n",
            "158/158 - 0s - loss: 5.5971e-04 - mae: 0.0184 - val_loss: 0.0031 - val_mae: 0.0416\n",
            "Epoch 148/300\n",
            "158/158 - 0s - loss: 5.6028e-04 - mae: 0.0183 - val_loss: 0.0032 - val_mae: 0.0421\n",
            "Epoch 149/300\n",
            "158/158 - 0s - loss: 5.5597e-04 - mae: 0.0183 - val_loss: 0.0030 - val_mae: 0.0409\n",
            "Epoch 150/300\n",
            "158/158 - 0s - loss: 5.5449e-04 - mae: 0.0182 - val_loss: 0.0031 - val_mae: 0.0417\n",
            "Epoch 151/300\n",
            "158/158 - 0s - loss: 5.5707e-04 - mae: 0.0183 - val_loss: 0.0031 - val_mae: 0.0418\n",
            "Epoch 152/300\n",
            "158/158 - 0s - loss: 5.5023e-04 - mae: 0.0182 - val_loss: 0.0031 - val_mae: 0.0416\n",
            "Epoch 153/300\n",
            "158/158 - 0s - loss: 5.4872e-04 - mae: 0.0181 - val_loss: 0.0032 - val_mae: 0.0421\n",
            "Epoch 154/300\n",
            "158/158 - 0s - loss: 5.4576e-04 - mae: 0.0181 - val_loss: 0.0032 - val_mae: 0.0419\n",
            "Epoch 155/300\n",
            "158/158 - 0s - loss: 5.4658e-04 - mae: 0.0181 - val_loss: 0.0032 - val_mae: 0.0417\n",
            "Epoch 156/300\n",
            "158/158 - 0s - loss: 5.4332e-04 - mae: 0.0180 - val_loss: 0.0034 - val_mae: 0.0438\n",
            "Epoch 157/300\n",
            "158/158 - 0s - loss: 5.4380e-04 - mae: 0.0180 - val_loss: 0.0032 - val_mae: 0.0421\n",
            "Epoch 158/300\n",
            "158/158 - 0s - loss: 5.3721e-04 - mae: 0.0179 - val_loss: 0.0034 - val_mae: 0.0437\n",
            "Epoch 159/300\n",
            "158/158 - 0s - loss: 5.3703e-04 - mae: 0.0180 - val_loss: 0.0032 - val_mae: 0.0422\n",
            "Epoch 160/300\n",
            "158/158 - 0s - loss: 5.3413e-04 - mae: 0.0179 - val_loss: 0.0032 - val_mae: 0.0423\n",
            "Epoch 161/300\n",
            "158/158 - 0s - loss: 5.3434e-04 - mae: 0.0179 - val_loss: 0.0032 - val_mae: 0.0422\n",
            "Epoch 162/300\n",
            "158/158 - 0s - loss: 5.3147e-04 - mae: 0.0178 - val_loss: 0.0032 - val_mae: 0.0422\n",
            "Epoch 163/300\n",
            "158/158 - 0s - loss: 5.3068e-04 - mae: 0.0178 - val_loss: 0.0032 - val_mae: 0.0420\n",
            "Epoch 164/300\n",
            "158/158 - 0s - loss: 5.2946e-04 - mae: 0.0178 - val_loss: 0.0034 - val_mae: 0.0431\n",
            "Epoch 165/300\n",
            "158/158 - 0s - loss: 5.2698e-04 - mae: 0.0178 - val_loss: 0.0033 - val_mae: 0.0430\n",
            "Epoch 166/300\n",
            "158/158 - 0s - loss: 5.2518e-04 - mae: 0.0178 - val_loss: 0.0032 - val_mae: 0.0421\n",
            "Epoch 167/300\n",
            "158/158 - 0s - loss: 5.2485e-04 - mae: 0.0177 - val_loss: 0.0034 - val_mae: 0.0436\n",
            "Epoch 168/300\n",
            "158/158 - 0s - loss: 5.2120e-04 - mae: 0.0177 - val_loss: 0.0033 - val_mae: 0.0424\n",
            "Epoch 169/300\n",
            "158/158 - 0s - loss: 5.2128e-04 - mae: 0.0177 - val_loss: 0.0034 - val_mae: 0.0432\n",
            "Epoch 170/300\n",
            "158/158 - 0s - loss: 5.1730e-04 - mae: 0.0176 - val_loss: 0.0032 - val_mae: 0.0414\n",
            "Epoch 171/300\n",
            "158/158 - 0s - loss: 5.1444e-04 - mae: 0.0176 - val_loss: 0.0035 - val_mae: 0.0439\n",
            "Epoch 172/300\n",
            "158/158 - 0s - loss: 5.1608e-04 - mae: 0.0176 - val_loss: 0.0034 - val_mae: 0.0435\n",
            "Epoch 173/300\n",
            "158/158 - 0s - loss: 5.1363e-04 - mae: 0.0175 - val_loss: 0.0033 - val_mae: 0.0425\n",
            "Epoch 174/300\n",
            "158/158 - 0s - loss: 5.1284e-04 - mae: 0.0175 - val_loss: 0.0034 - val_mae: 0.0433\n",
            "Epoch 175/300\n",
            "158/158 - 0s - loss: 5.1002e-04 - mae: 0.0174 - val_loss: 0.0033 - val_mae: 0.0426\n",
            "Epoch 176/300\n",
            "158/158 - 0s - loss: 5.0836e-04 - mae: 0.0174 - val_loss: 0.0035 - val_mae: 0.0439\n",
            "Epoch 177/300\n",
            "158/158 - 0s - loss: 5.0883e-04 - mae: 0.0175 - val_loss: 0.0034 - val_mae: 0.0435\n",
            "Epoch 178/300\n",
            "158/158 - 0s - loss: 5.0410e-04 - mae: 0.0173 - val_loss: 0.0035 - val_mae: 0.0436\n",
            "Epoch 179/300\n",
            "158/158 - 0s - loss: 5.0330e-04 - mae: 0.0173 - val_loss: 0.0034 - val_mae: 0.0429\n",
            "Epoch 180/300\n",
            "158/158 - 0s - loss: 5.0296e-04 - mae: 0.0173 - val_loss: 0.0034 - val_mae: 0.0430\n",
            "Epoch 181/300\n",
            "158/158 - 0s - loss: 5.0148e-04 - mae: 0.0173 - val_loss: 0.0035 - val_mae: 0.0441\n",
            "Epoch 182/300\n",
            "158/158 - 0s - loss: 4.9888e-04 - mae: 0.0173 - val_loss: 0.0033 - val_mae: 0.0422\n",
            "Epoch 183/300\n",
            "158/158 - 0s - loss: 4.9792e-04 - mae: 0.0172 - val_loss: 0.0034 - val_mae: 0.0433\n",
            "Epoch 184/300\n",
            "158/158 - 0s - loss: 4.9659e-04 - mae: 0.0172 - val_loss: 0.0034 - val_mae: 0.0431\n",
            "Epoch 185/300\n",
            "158/158 - 0s - loss: 4.9697e-04 - mae: 0.0172 - val_loss: 0.0034 - val_mae: 0.0435\n",
            "Epoch 186/300\n",
            "158/158 - 0s - loss: 4.9338e-04 - mae: 0.0172 - val_loss: 0.0033 - val_mae: 0.0425\n",
            "Epoch 187/300\n",
            "158/158 - 0s - loss: 4.9109e-04 - mae: 0.0171 - val_loss: 0.0033 - val_mae: 0.0422\n",
            "Epoch 188/300\n",
            "158/158 - 0s - loss: 4.9272e-04 - mae: 0.0172 - val_loss: 0.0034 - val_mae: 0.0428\n",
            "Epoch 189/300\n",
            "158/158 - 0s - loss: 4.8824e-04 - mae: 0.0171 - val_loss: 0.0033 - val_mae: 0.0422\n",
            "Epoch 190/300\n",
            "158/158 - 0s - loss: 4.8805e-04 - mae: 0.0171 - val_loss: 0.0035 - val_mae: 0.0437\n",
            "Epoch 191/300\n",
            "158/158 - 0s - loss: 4.8719e-04 - mae: 0.0171 - val_loss: 0.0036 - val_mae: 0.0447\n",
            "Epoch 192/300\n",
            "158/158 - 0s - loss: 4.8536e-04 - mae: 0.0170 - val_loss: 0.0036 - val_mae: 0.0448\n",
            "Epoch 193/300\n",
            "158/158 - 0s - loss: 4.8431e-04 - mae: 0.0170 - val_loss: 0.0035 - val_mae: 0.0437\n",
            "Epoch 194/300\n",
            "158/158 - 0s - loss: 4.8384e-04 - mae: 0.0170 - val_loss: 0.0034 - val_mae: 0.0432\n",
            "Epoch 195/300\n",
            "158/158 - 0s - loss: 4.8213e-04 - mae: 0.0169 - val_loss: 0.0035 - val_mae: 0.0437\n",
            "Epoch 196/300\n",
            "158/158 - 0s - loss: 4.7983e-04 - mae: 0.0169 - val_loss: 0.0034 - val_mae: 0.0427\n",
            "Epoch 197/300\n",
            "158/158 - 0s - loss: 4.7964e-04 - mae: 0.0169 - val_loss: 0.0035 - val_mae: 0.0433\n",
            "Epoch 198/300\n",
            "158/158 - 0s - loss: 4.7594e-04 - mae: 0.0168 - val_loss: 0.0035 - val_mae: 0.0434\n",
            "Epoch 199/300\n",
            "158/158 - 0s - loss: 4.7687e-04 - mae: 0.0168 - val_loss: 0.0035 - val_mae: 0.0436\n",
            "Epoch 200/300\n",
            "158/158 - 0s - loss: 4.7635e-04 - mae: 0.0168 - val_loss: 0.0034 - val_mae: 0.0434\n",
            "Epoch 201/300\n",
            "158/158 - 0s - loss: 4.7445e-04 - mae: 0.0168 - val_loss: 0.0035 - val_mae: 0.0436\n",
            "Epoch 202/300\n",
            "158/158 - 0s - loss: 4.7653e-04 - mae: 0.0169 - val_loss: 0.0035 - val_mae: 0.0439\n",
            "Epoch 203/300\n",
            "158/158 - 0s - loss: 4.7103e-04 - mae: 0.0168 - val_loss: 0.0035 - val_mae: 0.0438\n",
            "Epoch 204/300\n",
            "158/158 - 0s - loss: 4.7093e-04 - mae: 0.0167 - val_loss: 0.0035 - val_mae: 0.0437\n",
            "Epoch 205/300\n",
            "158/158 - 0s - loss: 4.6788e-04 - mae: 0.0167 - val_loss: 0.0034 - val_mae: 0.0432\n",
            "Epoch 206/300\n",
            "158/158 - 0s - loss: 4.6720e-04 - mae: 0.0167 - val_loss: 0.0035 - val_mae: 0.0435\n",
            "Epoch 207/300\n",
            "158/158 - 0s - loss: 4.6622e-04 - mae: 0.0167 - val_loss: 0.0035 - val_mae: 0.0439\n",
            "Epoch 208/300\n",
            "158/158 - 0s - loss: 4.6463e-04 - mae: 0.0166 - val_loss: 0.0036 - val_mae: 0.0443\n",
            "Epoch 209/300\n",
            "158/158 - 0s - loss: 4.6440e-04 - mae: 0.0167 - val_loss: 0.0035 - val_mae: 0.0440\n",
            "Epoch 210/300\n",
            "158/158 - 0s - loss: 4.6107e-04 - mae: 0.0166 - val_loss: 0.0036 - val_mae: 0.0443\n",
            "Epoch 211/300\n",
            "158/158 - 0s - loss: 4.6174e-04 - mae: 0.0166 - val_loss: 0.0036 - val_mae: 0.0441\n",
            "Epoch 212/300\n",
            "158/158 - 0s - loss: 4.6047e-04 - mae: 0.0166 - val_loss: 0.0035 - val_mae: 0.0438\n",
            "Epoch 213/300\n",
            "158/158 - 0s - loss: 4.5983e-04 - mae: 0.0165 - val_loss: 0.0036 - val_mae: 0.0446\n",
            "Epoch 214/300\n",
            "158/158 - 0s - loss: 4.5802e-04 - mae: 0.0165 - val_loss: 0.0036 - val_mae: 0.0444\n",
            "Epoch 215/300\n",
            "158/158 - 0s - loss: 4.5969e-04 - mae: 0.0165 - val_loss: 0.0036 - val_mae: 0.0441\n",
            "Epoch 216/300\n",
            "158/158 - 0s - loss: 4.5456e-04 - mae: 0.0164 - val_loss: 0.0035 - val_mae: 0.0435\n",
            "Epoch 217/300\n",
            "158/158 - 0s - loss: 4.5370e-04 - mae: 0.0164 - val_loss: 0.0036 - val_mae: 0.0443\n",
            "Epoch 218/300\n",
            "158/158 - 0s - loss: 4.5357e-04 - mae: 0.0164 - val_loss: 0.0036 - val_mae: 0.0445\n",
            "Epoch 219/300\n",
            "158/158 - 0s - loss: 4.5252e-04 - mae: 0.0164 - val_loss: 0.0035 - val_mae: 0.0439\n",
            "Epoch 220/300\n",
            "158/158 - 0s - loss: 4.5151e-04 - mae: 0.0164 - val_loss: 0.0035 - val_mae: 0.0435\n",
            "Epoch 221/300\n",
            "158/158 - 0s - loss: 4.4905e-04 - mae: 0.0163 - val_loss: 0.0036 - val_mae: 0.0443\n",
            "Epoch 222/300\n",
            "158/158 - 0s - loss: 4.4946e-04 - mae: 0.0164 - val_loss: 0.0037 - val_mae: 0.0445\n",
            "Epoch 223/300\n",
            "158/158 - 0s - loss: 4.4694e-04 - mae: 0.0163 - val_loss: 0.0037 - val_mae: 0.0446\n",
            "Epoch 224/300\n",
            "158/158 - 0s - loss: 4.4763e-04 - mae: 0.0163 - val_loss: 0.0035 - val_mae: 0.0437\n",
            "Epoch 225/300\n",
            "158/158 - 0s - loss: 4.4618e-04 - mae: 0.0163 - val_loss: 0.0035 - val_mae: 0.0438\n",
            "Epoch 226/300\n",
            "158/158 - 0s - loss: 4.4451e-04 - mae: 0.0163 - val_loss: 0.0036 - val_mae: 0.0440\n",
            "Epoch 227/300\n",
            "158/158 - 0s - loss: 4.4551e-04 - mae: 0.0163 - val_loss: 0.0036 - val_mae: 0.0441\n",
            "Epoch 228/300\n",
            "158/158 - 0s - loss: 4.4287e-04 - mae: 0.0162 - val_loss: 0.0035 - val_mae: 0.0437\n",
            "Epoch 229/300\n",
            "158/158 - 0s - loss: 4.4309e-04 - mae: 0.0163 - val_loss: 0.0036 - val_mae: 0.0445\n",
            "Epoch 230/300\n",
            "158/158 - 0s - loss: 4.4037e-04 - mae: 0.0162 - val_loss: 0.0038 - val_mae: 0.0453\n",
            "Epoch 231/300\n",
            "158/158 - 0s - loss: 4.4282e-04 - mae: 0.0163 - val_loss: 0.0036 - val_mae: 0.0447\n",
            "Epoch 232/300\n",
            "158/158 - 0s - loss: 4.3737e-04 - mae: 0.0161 - val_loss: 0.0036 - val_mae: 0.0441\n",
            "Epoch 233/300\n",
            "158/158 - 0s - loss: 4.3723e-04 - mae: 0.0161 - val_loss: 0.0037 - val_mae: 0.0447\n",
            "Epoch 234/300\n",
            "158/158 - 0s - loss: 4.3822e-04 - mae: 0.0161 - val_loss: 0.0036 - val_mae: 0.0441\n",
            "Epoch 235/300\n",
            "158/158 - 0s - loss: 4.3677e-04 - mae: 0.0161 - val_loss: 0.0036 - val_mae: 0.0442\n",
            "Epoch 236/300\n",
            "158/158 - 0s - loss: 4.3459e-04 - mae: 0.0161 - val_loss: 0.0037 - val_mae: 0.0449\n",
            "Epoch 237/300\n",
            "158/158 - 0s - loss: 4.3416e-04 - mae: 0.0160 - val_loss: 0.0036 - val_mae: 0.0445\n",
            "Epoch 238/300\n",
            "158/158 - 0s - loss: 4.3202e-04 - mae: 0.0160 - val_loss: 0.0037 - val_mae: 0.0446\n",
            "Epoch 239/300\n",
            "158/158 - 0s - loss: 4.3229e-04 - mae: 0.0160 - val_loss: 0.0036 - val_mae: 0.0444\n",
            "Epoch 240/300\n",
            "158/158 - 0s - loss: 4.3180e-04 - mae: 0.0160 - val_loss: 0.0038 - val_mae: 0.0455\n",
            "Epoch 241/300\n",
            "158/158 - 0s - loss: 4.2992e-04 - mae: 0.0160 - val_loss: 0.0038 - val_mae: 0.0457\n",
            "Epoch 242/300\n",
            "158/158 - 0s - loss: 4.3153e-04 - mae: 0.0160 - val_loss: 0.0037 - val_mae: 0.0451\n",
            "Epoch 243/300\n",
            "158/158 - 0s - loss: 4.2775e-04 - mae: 0.0159 - val_loss: 0.0037 - val_mae: 0.0446\n",
            "Epoch 244/300\n",
            "158/158 - 0s - loss: 4.2561e-04 - mae: 0.0159 - val_loss: 0.0036 - val_mae: 0.0440\n",
            "Epoch 245/300\n",
            "158/158 - 0s - loss: 4.2431e-04 - mae: 0.0159 - val_loss: 0.0037 - val_mae: 0.0451\n",
            "Epoch 246/300\n",
            "158/158 - 0s - loss: 4.2419e-04 - mae: 0.0159 - val_loss: 0.0037 - val_mae: 0.0451\n",
            "Epoch 247/300\n",
            "158/158 - 0s - loss: 4.2452e-04 - mae: 0.0159 - val_loss: 0.0036 - val_mae: 0.0442\n",
            "Epoch 248/300\n",
            "158/158 - 0s - loss: 4.2419e-04 - mae: 0.0159 - val_loss: 0.0036 - val_mae: 0.0444\n",
            "Epoch 249/300\n",
            "158/158 - 0s - loss: 4.2237e-04 - mae: 0.0158 - val_loss: 0.0036 - val_mae: 0.0442\n",
            "Epoch 250/300\n",
            "158/158 - 0s - loss: 4.2076e-04 - mae: 0.0158 - val_loss: 0.0037 - val_mae: 0.0449\n",
            "Epoch 251/300\n",
            "158/158 - 0s - loss: 4.2045e-04 - mae: 0.0158 - val_loss: 0.0037 - val_mae: 0.0445\n",
            "Epoch 252/300\n",
            "158/158 - 0s - loss: 4.2013e-04 - mae: 0.0158 - val_loss: 0.0037 - val_mae: 0.0449\n",
            "Epoch 253/300\n",
            "158/158 - 0s - loss: 4.1679e-04 - mae: 0.0157 - val_loss: 0.0038 - val_mae: 0.0451\n",
            "Epoch 254/300\n",
            "158/158 - 0s - loss: 4.1780e-04 - mae: 0.0158 - val_loss: 0.0036 - val_mae: 0.0444\n",
            "Epoch 255/300\n",
            "158/158 - 0s - loss: 4.1775e-04 - mae: 0.0158 - val_loss: 0.0037 - val_mae: 0.0450\n",
            "Epoch 256/300\n",
            "158/158 - 0s - loss: 4.1639e-04 - mae: 0.0157 - val_loss: 0.0038 - val_mae: 0.0456\n",
            "Epoch 257/300\n",
            "158/158 - 0s - loss: 4.1260e-04 - mae: 0.0157 - val_loss: 0.0037 - val_mae: 0.0449\n",
            "Epoch 258/300\n",
            "158/158 - 0s - loss: 4.1437e-04 - mae: 0.0157 - val_loss: 0.0037 - val_mae: 0.0452\n",
            "Epoch 259/300\n",
            "158/158 - 0s - loss: 4.1405e-04 - mae: 0.0157 - val_loss: 0.0037 - val_mae: 0.0451\n",
            "Epoch 260/300\n",
            "158/158 - 0s - loss: 4.1060e-04 - mae: 0.0156 - val_loss: 0.0037 - val_mae: 0.0446\n",
            "Epoch 261/300\n",
            "158/158 - 0s - loss: 4.1158e-04 - mae: 0.0156 - val_loss: 0.0038 - val_mae: 0.0454\n",
            "Epoch 262/300\n",
            "158/158 - 0s - loss: 4.1032e-04 - mae: 0.0156 - val_loss: 0.0036 - val_mae: 0.0443\n",
            "Epoch 263/300\n",
            "158/158 - 0s - loss: 4.1114e-04 - mae: 0.0156 - val_loss: 0.0037 - val_mae: 0.0444\n",
            "Epoch 264/300\n",
            "158/158 - 0s - loss: 4.0799e-04 - mae: 0.0156 - val_loss: 0.0038 - val_mae: 0.0454\n",
            "Epoch 265/300\n",
            "158/158 - 0s - loss: 4.0759e-04 - mae: 0.0156 - val_loss: 0.0038 - val_mae: 0.0453\n",
            "Epoch 266/300\n",
            "158/158 - 0s - loss: 4.0796e-04 - mae: 0.0156 - val_loss: 0.0038 - val_mae: 0.0454\n",
            "Epoch 267/300\n",
            "158/158 - 0s - loss: 4.0487e-04 - mae: 0.0156 - val_loss: 0.0036 - val_mae: 0.0444\n",
            "Epoch 268/300\n",
            "158/158 - 0s - loss: 4.0557e-04 - mae: 0.0155 - val_loss: 0.0037 - val_mae: 0.0446\n",
            "Epoch 269/300\n",
            "158/158 - 0s - loss: 4.0306e-04 - mae: 0.0155 - val_loss: 0.0037 - val_mae: 0.0448\n",
            "Epoch 270/300\n",
            "158/158 - 0s - loss: 4.0201e-04 - mae: 0.0154 - val_loss: 0.0037 - val_mae: 0.0449\n",
            "Epoch 271/300\n",
            "158/158 - 0s - loss: 4.0213e-04 - mae: 0.0154 - val_loss: 0.0037 - val_mae: 0.0449\n",
            "Epoch 272/300\n",
            "158/158 - 0s - loss: 4.0184e-04 - mae: 0.0155 - val_loss: 0.0038 - val_mae: 0.0456\n",
            "Epoch 273/300\n",
            "158/158 - 0s - loss: 3.9767e-04 - mae: 0.0153 - val_loss: 0.0037 - val_mae: 0.0450\n",
            "Epoch 274/300\n",
            "158/158 - 0s - loss: 3.9839e-04 - mae: 0.0154 - val_loss: 0.0038 - val_mae: 0.0457\n",
            "Epoch 275/300\n",
            "158/158 - 0s - loss: 3.9741e-04 - mae: 0.0154 - val_loss: 0.0037 - val_mae: 0.0451\n",
            "Epoch 276/300\n",
            "158/158 - 0s - loss: 3.9617e-04 - mae: 0.0153 - val_loss: 0.0040 - val_mae: 0.0465\n",
            "Epoch 277/300\n",
            "158/158 - 0s - loss: 3.9707e-04 - mae: 0.0153 - val_loss: 0.0037 - val_mae: 0.0450\n",
            "Epoch 278/300\n",
            "158/158 - 0s - loss: 3.9588e-04 - mae: 0.0153 - val_loss: 0.0038 - val_mae: 0.0456\n",
            "Epoch 279/300\n",
            "158/158 - 0s - loss: 3.9392e-04 - mae: 0.0153 - val_loss: 0.0039 - val_mae: 0.0458\n",
            "Epoch 280/300\n",
            "158/158 - 0s - loss: 3.9337e-04 - mae: 0.0153 - val_loss: 0.0038 - val_mae: 0.0453\n",
            "Epoch 281/300\n",
            "158/158 - 0s - loss: 3.9642e-04 - mae: 0.0153 - val_loss: 0.0038 - val_mae: 0.0454\n",
            "Epoch 282/300\n",
            "158/158 - 0s - loss: 3.9313e-04 - mae: 0.0153 - val_loss: 0.0038 - val_mae: 0.0454\n",
            "Epoch 283/300\n",
            "158/158 - 0s - loss: 3.9209e-04 - mae: 0.0153 - val_loss: 0.0037 - val_mae: 0.0449\n",
            "Epoch 284/300\n",
            "158/158 - 0s - loss: 3.9126e-04 - mae: 0.0152 - val_loss: 0.0038 - val_mae: 0.0459\n",
            "Epoch 285/300\n",
            "158/158 - 0s - loss: 3.8944e-04 - mae: 0.0152 - val_loss: 0.0039 - val_mae: 0.0461\n",
            "Epoch 286/300\n",
            "158/158 - 0s - loss: 3.8742e-04 - mae: 0.0152 - val_loss: 0.0037 - val_mae: 0.0449\n",
            "Epoch 287/300\n",
            "158/158 - 0s - loss: 3.8936e-04 - mae: 0.0152 - val_loss: 0.0038 - val_mae: 0.0454\n",
            "Epoch 288/300\n",
            "158/158 - 0s - loss: 3.8801e-04 - mae: 0.0152 - val_loss: 0.0038 - val_mae: 0.0451\n",
            "Epoch 289/300\n",
            "158/158 - 0s - loss: 3.8569e-04 - mae: 0.0151 - val_loss: 0.0038 - val_mae: 0.0453\n",
            "Epoch 290/300\n",
            "158/158 - 0s - loss: 3.8527e-04 - mae: 0.0151 - val_loss: 0.0039 - val_mae: 0.0464\n",
            "Epoch 291/300\n",
            "158/158 - 0s - loss: 3.8259e-04 - mae: 0.0151 - val_loss: 0.0038 - val_mae: 0.0455\n",
            "Epoch 292/300\n",
            "158/158 - 0s - loss: 3.8339e-04 - mae: 0.0150 - val_loss: 0.0038 - val_mae: 0.0454\n",
            "Epoch 293/300\n",
            "158/158 - 0s - loss: 3.8336e-04 - mae: 0.0151 - val_loss: 0.0039 - val_mae: 0.0458\n",
            "Epoch 294/300\n",
            "158/158 - 0s - loss: 3.8372e-04 - mae: 0.0151 - val_loss: 0.0039 - val_mae: 0.0463\n",
            "Epoch 295/300\n",
            "158/158 - 0s - loss: 3.8214e-04 - mae: 0.0151 - val_loss: 0.0038 - val_mae: 0.0457\n",
            "Epoch 296/300\n",
            "158/158 - 0s - loss: 3.8160e-04 - mae: 0.0151 - val_loss: 0.0039 - val_mae: 0.0460\n",
            "Epoch 297/300\n",
            "158/158 - 0s - loss: 3.7955e-04 - mae: 0.0150 - val_loss: 0.0039 - val_mae: 0.0460\n",
            "Epoch 298/300\n",
            "158/158 - 0s - loss: 3.7972e-04 - mae: 0.0150 - val_loss: 0.0039 - val_mae: 0.0461\n",
            "Epoch 299/300\n",
            "158/158 - 0s - loss: 3.7931e-04 - mae: 0.0150 - val_loss: 0.0039 - val_mae: 0.0459\n",
            "Epoch 300/300\n",
            "158/158 - 0s - loss: 3.7756e-04 - mae: 0.0150 - val_loss: 0.0039 - val_mae: 0.0459\n"
          ]
        }
      ]
    },
    {
      "cell_type": "code",
      "metadata": {
        "colab": {
          "base_uri": "https://localhost:8080/",
          "height": 279
        },
        "id": "PlvyVYQleYdP",
        "outputId": "73b8c739-d282-4fe1-a800-6f2bb5c37316"
      },
      "source": [
        "# Считаем графики ошибки\n",
        "plt.plot(history.history['mae'], \n",
        "         label='Средняя абсолютная ошибка на обучающем наборе')\n",
        "plt.plot(history.history['val_mae'], \n",
        "         label='Средняя абсолютная ошибка на проверочном наборе')\n",
        "plt.xlabel('Эпоха обучения')\n",
        "plt.ylabel('Средняя абсолютная ошибка')\n",
        "plt.legend()\n",
        "plt.show()"
      ],
      "execution_count": null,
      "outputs": [
        {
          "output_type": "display_data",
          "data": {
            "image/png": "[encoded data removed]",
            "text/plain": [
              "<Figure size 432x288 with 1 Axes>"
            ]
          },
          "metadata": {
            "needs_background": "light"
          }
        }
      ]
    },
    {
      "cell_type": "code",
      "metadata": {
        "colab": {
          "base_uri": "https://localhost:8080/"
        },
        "id": "yvoDMLlObzft",
        "outputId": "9104cdb5-8764-48bf-8501-e8e5e32c1a26"
      },
      "source": [
        "model.load_weights(checkpoint_filepath)\n",
        "y_pred = model.predict(X_test_)\n",
        "\n",
        "print(\"RMSE:\", np.sqrt(mean_squared_error(y_test, y_pred)))\n",
        "print(\"R2:\", r2_score(y_test, y_pred))"
      ],
      "execution_count": null,
      "outputs": [
        {
          "output_type": "stream",
          "name": "stdout",
          "text": [
            "RMSE: 0.06025703181050204\n",
            "R2: 0.9398655544553166\n"
          ]
        }
      ]
    },
    {
      "cell_type": "markdown",
      "metadata": {
        "id": "gAqNvj71OjZb"
      },
      "source": [
        "Some insights:\n",
        "\n",
        "* NN showed good results, but worse, than the best model from the previous homework\n",
        "\n",
        "* NN predicted a little bit randomly, so the results were random (R2: 0.93-0.94)\n",
        "\n",
        "* It is harder to tune parameters for NNs"
      ]
    },
    {
      "cell_type": "markdown",
      "metadata": {
        "id": "H0IdXij6v8Cb"
      },
      "source": [
        "# Classification"
      ]
    },
    {
      "cell_type": "markdown",
      "metadata": {
        "id": "Zu5TUZ98PqD2"
      },
      "source": [
        "## Data Preprocessing"
      ]
    },
    {
      "cell_type": "code",
      "metadata": {
        "id": "hgIvAPW_qDuw"
      },
      "source": [
        "def conf_matrix(y_true, y_pred, target_names):\n",
        "  conf = confusion_matrix(y_true, y_pred)\n",
        "  print(conf)\n",
        "  sns.heatmap(conf,\n",
        "              annot=conf/np.sum(conf, axis=1)[:, np.newaxis], #normalized by true class sizes\n",
        "              yticklabels=target_names,\n",
        "              xticklabels=target_names,\n",
        "              cmap='bwr');\n",
        "  plt.title('Regression confusion matrix');\n",
        "  plt.xlabel('Predicted label');\n",
        "  plt.ylabel('True label');"
      ],
      "execution_count": null,
      "outputs": []
    },
    {
      "cell_type": "code",
      "metadata": {
        "colab": {
          "base_uri": "https://localhost:8080/",
          "height": 439
        },
        "id": "ZdfxAMqOcGjN",
        "outputId": "4d88704a-f6c1-4d86-e399-0fdd06f891e3"
      },
      "source": [
        "df_cls = pd.read_csv(\"drive/MyDrive/training/HW/data/dataset_57_hypothyroid.csv\", sep=\",\",  na_values = \"?\")\n",
        "df_cls"
      ],
      "execution_count": null,
      "outputs": [
        {
          "output_type": "execute_result",
          "data": {
            "text/html": [
              "<div>\n",
              "<style scoped>\n",
              "    .dataframe tbody tr th:only-of-type {\n",
              "        vertical-align: middle;\n",
              "    }\n",
              "\n",
              "    .dataframe tbody tr th {\n",
              "        vertical-align: top;\n",
              "    }\n",
              "\n",
              "    .dataframe thead th {\n",
              "        text-align: right;\n",
              "    }\n",
              "</style>\n",
              "<table border=\"1\" class=\"dataframe\">\n",
              "  <thead>\n",
              "    <tr style=\"text-align: right;\">\n",
              "      <th></th>\n",
              "      <th>age</th>\n",
              "      <th>sex</th>\n",
              "      <th>on_thyroxine</th>\n",
              "      <th>query_on_thyroxine</th>\n",
              "      <th>on_antithyroid_medication</th>\n",
              "      <th>sick</th>\n",
              "      <th>pregnant</th>\n",
              "      <th>thyroid_surgery</th>\n",
              "      <th>I131_treatment</th>\n",
              "      <th>query_hypothyroid</th>\n",
              "      <th>query_hyperthyroid</th>\n",
              "      <th>lithium</th>\n",
              "      <th>goitre</th>\n",
              "      <th>tumor</th>\n",
              "      <th>hypopituitary</th>\n",
              "      <th>psych</th>\n",
              "      <th>TSH_measured</th>\n",
              "      <th>TSH</th>\n",
              "      <th>T3_measured</th>\n",
              "      <th>T3</th>\n",
              "      <th>TT4_measured</th>\n",
              "      <th>TT4</th>\n",
              "      <th>T4U_measured</th>\n",
              "      <th>T4U</th>\n",
              "      <th>FTI_measured</th>\n",
              "      <th>FTI</th>\n",
              "      <th>TBG_measured</th>\n",
              "      <th>TBG</th>\n",
              "      <th>referral_source</th>\n",
              "      <th>Class</th>\n",
              "    </tr>\n",
              "  </thead>\n",
              "  <tbody>\n",
              "    <tr>\n",
              "      <th>0</th>\n",
              "      <td>41.0</td>\n",
              "      <td>F</td>\n",
              "      <td>f</td>\n",
              "      <td>f</td>\n",
              "      <td>f</td>\n",
              "      <td>f</td>\n",
              "      <td>f</td>\n",
              "      <td>f</td>\n",
              "      <td>f</td>\n",
              "      <td>f</td>\n",
              "      <td>f</td>\n",
              "      <td>f</td>\n",
              "      <td>f</td>\n",
              "      <td>f</td>\n",
              "      <td>f</td>\n",
              "      <td>f</td>\n",
              "      <td>t</td>\n",
              "      <td>1.30</td>\n",
              "      <td>t</td>\n",
              "      <td>2.5</td>\n",
              "      <td>t</td>\n",
              "      <td>125.0</td>\n",
              "      <td>t</td>\n",
              "      <td>1.14</td>\n",
              "      <td>t</td>\n",
              "      <td>109.0</td>\n",
              "      <td>f</td>\n",
              "      <td>NaN</td>\n",
              "      <td>SVHC</td>\n",
              "      <td>negative</td>\n",
              "    </tr>\n",
              "    <tr>\n",
              "      <th>1</th>\n",
              "      <td>23.0</td>\n",
              "      <td>F</td>\n",
              "      <td>f</td>\n",
              "      <td>f</td>\n",
              "      <td>f</td>\n",
              "      <td>f</td>\n",
              "      <td>f</td>\n",
              "      <td>f</td>\n",
              "      <td>f</td>\n",
              "      <td>f</td>\n",
              "      <td>f</td>\n",
              "      <td>f</td>\n",
              "      <td>f</td>\n",
              "      <td>f</td>\n",
              "      <td>f</td>\n",
              "      <td>f</td>\n",
              "      <td>t</td>\n",
              "      <td>4.10</td>\n",
              "      <td>t</td>\n",
              "      <td>2.0</td>\n",
              "      <td>t</td>\n",
              "      <td>102.0</td>\n",
              "      <td>f</td>\n",
              "      <td>NaN</td>\n",
              "      <td>f</td>\n",
              "      <td>NaN</td>\n",
              "      <td>f</td>\n",
              "      <td>NaN</td>\n",
              "      <td>other</td>\n",
              "      <td>negative</td>\n",
              "    </tr>\n",
              "    <tr>\n",
              "      <th>2</th>\n",
              "      <td>46.0</td>\n",
              "      <td>M</td>\n",
              "      <td>f</td>\n",
              "      <td>f</td>\n",
              "      <td>f</td>\n",
              "      <td>f</td>\n",
              "      <td>f</td>\n",
              "      <td>f</td>\n",
              "      <td>f</td>\n",
              "      <td>f</td>\n",
              "      <td>f</td>\n",
              "      <td>f</td>\n",
              "      <td>f</td>\n",
              "      <td>f</td>\n",
              "      <td>f</td>\n",
              "      <td>f</td>\n",
              "      <td>t</td>\n",
              "      <td>0.98</td>\n",
              "      <td>f</td>\n",
              "      <td>NaN</td>\n",
              "      <td>t</td>\n",
              "      <td>109.0</td>\n",
              "      <td>t</td>\n",
              "      <td>0.91</td>\n",
              "      <td>t</td>\n",
              "      <td>120.0</td>\n",
              "      <td>f</td>\n",
              "      <td>NaN</td>\n",
              "      <td>other</td>\n",
              "      <td>negative</td>\n",
              "    </tr>\n",
              "    <tr>\n",
              "      <th>3</th>\n",
              "      <td>70.0</td>\n",
              "      <td>F</td>\n",
              "      <td>t</td>\n",
              "      <td>f</td>\n",
              "      <td>f</td>\n",
              "      <td>f</td>\n",
              "      <td>f</td>\n",
              "      <td>f</td>\n",
              "      <td>f</td>\n",
              "      <td>f</td>\n",
              "      <td>f</td>\n",
              "      <td>f</td>\n",
              "      <td>f</td>\n",
              "      <td>f</td>\n",
              "      <td>f</td>\n",
              "      <td>f</td>\n",
              "      <td>t</td>\n",
              "      <td>0.16</td>\n",
              "      <td>t</td>\n",
              "      <td>1.9</td>\n",
              "      <td>t</td>\n",
              "      <td>175.0</td>\n",
              "      <td>f</td>\n",
              "      <td>NaN</td>\n",
              "      <td>f</td>\n",
              "      <td>NaN</td>\n",
              "      <td>f</td>\n",
              "      <td>NaN</td>\n",
              "      <td>other</td>\n",
              "      <td>negative</td>\n",
              "    </tr>\n",
              "    <tr>\n",
              "      <th>4</th>\n",
              "      <td>70.0</td>\n",
              "      <td>F</td>\n",
              "      <td>f</td>\n",
              "      <td>f</td>\n",
              "      <td>f</td>\n",
              "      <td>f</td>\n",
              "      <td>f</td>\n",
              "      <td>f</td>\n",
              "      <td>f</td>\n",
              "      <td>f</td>\n",
              "      <td>f</td>\n",
              "      <td>f</td>\n",
              "      <td>f</td>\n",
              "      <td>f</td>\n",
              "      <td>f</td>\n",
              "      <td>f</td>\n",
              "      <td>t</td>\n",
              "      <td>0.72</td>\n",
              "      <td>t</td>\n",
              "      <td>1.2</td>\n",
              "      <td>t</td>\n",
              "      <td>61.0</td>\n",
              "      <td>t</td>\n",
              "      <td>0.87</td>\n",
              "      <td>t</td>\n",
              "      <td>70.0</td>\n",
              "      <td>f</td>\n",
              "      <td>NaN</td>\n",
              "      <td>SVI</td>\n",
              "      <td>negative</td>\n",
              "    </tr>\n",
              "    <tr>\n",
              "      <th>...</th>\n",
              "      <td>...</td>\n",
              "      <td>...</td>\n",
              "      <td>...</td>\n",
              "      <td>...</td>\n",
              "      <td>...</td>\n",
              "      <td>...</td>\n",
              "      <td>...</td>\n",
              "      <td>...</td>\n",
              "      <td>...</td>\n",
              "      <td>...</td>\n",
              "      <td>...</td>\n",
              "      <td>...</td>\n",
              "      <td>...</td>\n",
              "      <td>...</td>\n",
              "      <td>...</td>\n",
              "      <td>...</td>\n",
              "      <td>...</td>\n",
              "      <td>...</td>\n",
              "      <td>...</td>\n",
              "      <td>...</td>\n",
              "      <td>...</td>\n",
              "      <td>...</td>\n",
              "      <td>...</td>\n",
              "      <td>...</td>\n",
              "      <td>...</td>\n",
              "      <td>...</td>\n",
              "      <td>...</td>\n",
              "      <td>...</td>\n",
              "      <td>...</td>\n",
              "      <td>...</td>\n",
              "    </tr>\n",
              "    <tr>\n",
              "      <th>3767</th>\n",
              "      <td>30.0</td>\n",
              "      <td>F</td>\n",
              "      <td>f</td>\n",
              "      <td>f</td>\n",
              "      <td>f</td>\n",
              "      <td>f</td>\n",
              "      <td>f</td>\n",
              "      <td>f</td>\n",
              "      <td>f</td>\n",
              "      <td>f</td>\n",
              "      <td>f</td>\n",
              "      <td>f</td>\n",
              "      <td>f</td>\n",
              "      <td>t</td>\n",
              "      <td>f</td>\n",
              "      <td>f</td>\n",
              "      <td>f</td>\n",
              "      <td>NaN</td>\n",
              "      <td>f</td>\n",
              "      <td>NaN</td>\n",
              "      <td>f</td>\n",
              "      <td>NaN</td>\n",
              "      <td>f</td>\n",
              "      <td>NaN</td>\n",
              "      <td>f</td>\n",
              "      <td>NaN</td>\n",
              "      <td>f</td>\n",
              "      <td>NaN</td>\n",
              "      <td>other</td>\n",
              "      <td>negative</td>\n",
              "    </tr>\n",
              "    <tr>\n",
              "      <th>3768</th>\n",
              "      <td>68.0</td>\n",
              "      <td>F</td>\n",
              "      <td>f</td>\n",
              "      <td>f</td>\n",
              "      <td>f</td>\n",
              "      <td>f</td>\n",
              "      <td>f</td>\n",
              "      <td>f</td>\n",
              "      <td>f</td>\n",
              "      <td>f</td>\n",
              "      <td>f</td>\n",
              "      <td>f</td>\n",
              "      <td>f</td>\n",
              "      <td>f</td>\n",
              "      <td>f</td>\n",
              "      <td>f</td>\n",
              "      <td>t</td>\n",
              "      <td>1.00</td>\n",
              "      <td>t</td>\n",
              "      <td>2.1</td>\n",
              "      <td>t</td>\n",
              "      <td>124.0</td>\n",
              "      <td>t</td>\n",
              "      <td>1.08</td>\n",
              "      <td>t</td>\n",
              "      <td>114.0</td>\n",
              "      <td>f</td>\n",
              "      <td>NaN</td>\n",
              "      <td>SVI</td>\n",
              "      <td>negative</td>\n",
              "    </tr>\n",
              "    <tr>\n",
              "      <th>3769</th>\n",
              "      <td>74.0</td>\n",
              "      <td>F</td>\n",
              "      <td>f</td>\n",
              "      <td>f</td>\n",
              "      <td>f</td>\n",
              "      <td>f</td>\n",
              "      <td>f</td>\n",
              "      <td>f</td>\n",
              "      <td>f</td>\n",
              "      <td>f</td>\n",
              "      <td>t</td>\n",
              "      <td>f</td>\n",
              "      <td>f</td>\n",
              "      <td>f</td>\n",
              "      <td>f</td>\n",
              "      <td>f</td>\n",
              "      <td>t</td>\n",
              "      <td>5.10</td>\n",
              "      <td>t</td>\n",
              "      <td>1.8</td>\n",
              "      <td>t</td>\n",
              "      <td>112.0</td>\n",
              "      <td>t</td>\n",
              "      <td>1.07</td>\n",
              "      <td>t</td>\n",
              "      <td>105.0</td>\n",
              "      <td>f</td>\n",
              "      <td>NaN</td>\n",
              "      <td>other</td>\n",
              "      <td>negative</td>\n",
              "    </tr>\n",
              "    <tr>\n",
              "      <th>3770</th>\n",
              "      <td>72.0</td>\n",
              "      <td>M</td>\n",
              "      <td>f</td>\n",
              "      <td>f</td>\n",
              "      <td>f</td>\n",
              "      <td>f</td>\n",
              "      <td>f</td>\n",
              "      <td>f</td>\n",
              "      <td>f</td>\n",
              "      <td>f</td>\n",
              "      <td>f</td>\n",
              "      <td>f</td>\n",
              "      <td>f</td>\n",
              "      <td>f</td>\n",
              "      <td>f</td>\n",
              "      <td>f</td>\n",
              "      <td>t</td>\n",
              "      <td>0.70</td>\n",
              "      <td>t</td>\n",
              "      <td>2.0</td>\n",
              "      <td>t</td>\n",
              "      <td>82.0</td>\n",
              "      <td>t</td>\n",
              "      <td>0.94</td>\n",
              "      <td>t</td>\n",
              "      <td>87.0</td>\n",
              "      <td>f</td>\n",
              "      <td>NaN</td>\n",
              "      <td>SVI</td>\n",
              "      <td>negative</td>\n",
              "    </tr>\n",
              "    <tr>\n",
              "      <th>3771</th>\n",
              "      <td>64.0</td>\n",
              "      <td>F</td>\n",
              "      <td>f</td>\n",
              "      <td>f</td>\n",
              "      <td>f</td>\n",
              "      <td>f</td>\n",
              "      <td>f</td>\n",
              "      <td>f</td>\n",
              "      <td>f</td>\n",
              "      <td>f</td>\n",
              "      <td>f</td>\n",
              "      <td>f</td>\n",
              "      <td>f</td>\n",
              "      <td>f</td>\n",
              "      <td>f</td>\n",
              "      <td>f</td>\n",
              "      <td>t</td>\n",
              "      <td>1.00</td>\n",
              "      <td>t</td>\n",
              "      <td>2.2</td>\n",
              "      <td>t</td>\n",
              "      <td>99.0</td>\n",
              "      <td>t</td>\n",
              "      <td>1.07</td>\n",
              "      <td>t</td>\n",
              "      <td>92.0</td>\n",
              "      <td>f</td>\n",
              "      <td>NaN</td>\n",
              "      <td>other</td>\n",
              "      <td>negative</td>\n",
              "    </tr>\n",
              "  </tbody>\n",
              "</table>\n",
              "<p>3772 rows × 30 columns</p>\n",
              "</div>"
            ],
            "text/plain": [
              "       age sex on_thyroxine  ... TBG referral_source     Class\n",
              "0     41.0   F            f  ... NaN            SVHC  negative\n",
              "1     23.0   F            f  ... NaN           other  negative\n",
              "2     46.0   M            f  ... NaN           other  negative\n",
              "3     70.0   F            t  ... NaN           other  negative\n",
              "4     70.0   F            f  ... NaN             SVI  negative\n",
              "...    ...  ..          ...  ...  ..             ...       ...\n",
              "3767  30.0   F            f  ... NaN           other  negative\n",
              "3768  68.0   F            f  ... NaN             SVI  negative\n",
              "3769  74.0   F            f  ... NaN           other  negative\n",
              "3770  72.0   M            f  ... NaN             SVI  negative\n",
              "3771  64.0   F            f  ... NaN           other  negative\n",
              "\n",
              "[3772 rows x 30 columns]"
            ]
          },
          "metadata": {},
          "execution_count": 28
        }
      ]
    },
    {
      "cell_type": "code",
      "metadata": {
        "id": "dp4X4PZr5DjR"
      },
      "source": [
        "df_cls.drop('referral_source', axis=1, inplace=True)\n",
        "df_cls.drop([\"TBG\", \"TBG_measured\"], axis=1, inplace=True)"
      ],
      "execution_count": null,
      "outputs": []
    },
    {
      "cell_type": "code",
      "metadata": {
        "id": "j5-QCHEW5RZf"
      },
      "source": [
        "CATEGORICAL = df_cls.select_dtypes(include=['object']).columns.tolist()\n",
        "CATEGORICAL.remove('Class')\n",
        "NUMERICAL = df_cls.select_dtypes(exclude=['object']).columns.tolist()\n",
        "TARGET = 'Class'"
      ],
      "execution_count": null,
      "outputs": []
    },
    {
      "cell_type": "code",
      "metadata": {
        "id": "7v4EHzyU5RcE"
      },
      "source": [
        "df_cls = df_cls[~(df_cls.Class == 'secondary_hypothyroid')]"
      ],
      "execution_count": null,
      "outputs": []
    },
    {
      "cell_type": "code",
      "metadata": {
        "colab": {
          "base_uri": "https://localhost:8080/"
        },
        "id": "4ybW4Kug5ReY",
        "outputId": "ad276e9f-71f7-451a-b440-fdd6ff96061a"
      },
      "source": [
        "mapper = {\n",
        "    'negative': 'neg',\n",
        "    'compensated_hypothyroid': 'ch',\n",
        "    'primary_hypothyroid': 'ph',\n",
        "}\n",
        "df_cls.Class = df_cls.Class.map(mapper)"
      ],
      "execution_count": null,
      "outputs": [
        {
          "output_type": "stream",
          "name": "stderr",
          "text": [
            "/usr/local/lib/python3.7/dist-packages/pandas/core/generic.py:5170: SettingWithCopyWarning: \n",
            "A value is trying to be set on a copy of a slice from a DataFrame.\n",
            "Try using .loc[row_indexer,col_indexer] = value instead\n",
            "\n",
            "See the caveats in the documentation: https://pandas.pydata.org/pandas-docs/stable/user_guide/indexing.html#returning-a-view-versus-a-copy\n",
            "  self[name] = value\n"
          ]
        }
      ]
    },
    {
      "cell_type": "code",
      "metadata": {
        "colab": {
          "base_uri": "https://localhost:8080/"
        },
        "id": "KAa-dRbW5Rhe",
        "outputId": "08f3272a-1c86-44b5-bc69-15aeac72367c"
      },
      "source": [
        "df_cls.loc[df_cls.age == 455, 'age'] = 45"
      ],
      "execution_count": null,
      "outputs": [
        {
          "output_type": "stream",
          "name": "stderr",
          "text": [
            "/usr/local/lib/python3.7/dist-packages/pandas/core/indexing.py:1763: SettingWithCopyWarning: \n",
            "A value is trying to be set on a copy of a slice from a DataFrame.\n",
            "Try using .loc[row_indexer,col_indexer] = value instead\n",
            "\n",
            "See the caveats in the documentation: https://pandas.pydata.org/pandas-docs/stable/user_guide/indexing.html#returning-a-view-versus-a-copy\n",
            "  isetter(loc, value)\n"
          ]
        }
      ]
    },
    {
      "cell_type": "code",
      "metadata": {
        "colab": {
          "base_uri": "https://localhost:8080/"
        },
        "id": "8jfZFwSB5qcW",
        "outputId": "b319ddbf-e771-4ced-e1a1-1a75464ad0b1"
      },
      "source": [
        "CATEGORICAL = ['sex','on_thyroxine','query_on_thyroxine','on_antithyroid_medication','sick','pregnant','thyroid_surgery',\n",
        "               'I131_treatment','query_hypothyroid','query_hyperthyroid','lithium','goitre','tumor',\n",
        "               'psych','TSH_measured','T3_measured','TT4_measured','T4U_measured','FTI_measured']\n",
        "\n",
        "\n",
        "NUMERICAL = ['age', 'TSH', 'T3', 'TT4', 'T4U', 'FTI']\n",
        "TARGET = 'Class'\n",
        "BINARY = ['sex'] + [col for col in CATEGORICAL if len(df_cls[col].unique()) == 2]\n",
        "BINARY"
      ],
      "execution_count": null,
      "outputs": [
        {
          "output_type": "execute_result",
          "data": {
            "text/plain": [
              "['sex',\n",
              " 'on_thyroxine',\n",
              " 'query_on_thyroxine',\n",
              " 'on_antithyroid_medication',\n",
              " 'sick',\n",
              " 'pregnant',\n",
              " 'thyroid_surgery',\n",
              " 'I131_treatment',\n",
              " 'query_hypothyroid',\n",
              " 'query_hyperthyroid',\n",
              " 'lithium',\n",
              " 'goitre',\n",
              " 'tumor',\n",
              " 'psych',\n",
              " 'TSH_measured',\n",
              " 'T3_measured',\n",
              " 'TT4_measured',\n",
              " 'T4U_measured',\n",
              " 'FTI_measured']"
            ]
          },
          "metadata": {},
          "execution_count": 34
        }
      ]
    },
    {
      "cell_type": "code",
      "metadata": {
        "id": "lMC9UNwN58ha"
      },
      "source": [
        "numerical_def = gen_features(\n",
        "    columns=[[c] for c in NUMERICAL],\n",
        "    classes=[\n",
        "        {'class': SimpleImputer, 'strategy': 'median'},\n",
        "        {'class': PowerTransformer}\n",
        "    ]\n",
        ")\n",
        "# SimpleImputer, 'strategy': 'median'\n",
        "\n",
        "bin_def = gen_features(\n",
        "    columns=[[c] for c in BINARY],\n",
        "    classes=[\n",
        "        {'class': SimpleImputer, 'strategy': 'most_frequent'},\n",
        "        {'class': OrdinalEncoder}\n",
        "    ]\n",
        ")"
      ],
      "execution_count": null,
      "outputs": []
    },
    {
      "cell_type": "code",
      "metadata": {
        "id": "0i3HajKb8Nqf"
      },
      "source": [
        "features = numerical_def + bin_def"
      ],
      "execution_count": null,
      "outputs": []
    },
    {
      "cell_type": "code",
      "metadata": {
        "colab": {
          "base_uri": "https://localhost:8080/"
        },
        "id": "et9r8wS76fcq",
        "outputId": "c2013de2-5992-4118-f1de-bac81346fb70"
      },
      "source": [
        "target_names = ['neg', 'ch', 'ph']\n",
        "mapper_y = {\n",
        "    'neg': 0,\n",
        "    'ch': 1, \n",
        "    'ph': 2,\n",
        "}\n",
        "y = df_cls.Class.map(mapper_y)\n",
        "y"
      ],
      "execution_count": null,
      "outputs": [
        {
          "output_type": "execute_result",
          "data": {
            "text/plain": [
              "0       0\n",
              "1       0\n",
              "2       0\n",
              "3       0\n",
              "4       0\n",
              "       ..\n",
              "3767    0\n",
              "3768    0\n",
              "3769    0\n",
              "3770    0\n",
              "3771    0\n",
              "Name: Class, Length: 3770, dtype: int64"
            ]
          },
          "metadata": {},
          "execution_count": 37
        }
      ]
    },
    {
      "cell_type": "markdown",
      "metadata": {
        "id": "9C9F5oyOPwzn"
      },
      "source": [
        "## Previous best model for classification"
      ]
    },
    {
      "cell_type": "code",
      "metadata": {
        "id": "uIshfYyA6Clf"
      },
      "source": [
        "X_train, X_test, y_train, y_test = train_test_split(df_cls.drop('Class', axis=1), y, test_size=0.3, shuffle=True, random_state=42, stratify=y)"
      ],
      "execution_count": null,
      "outputs": []
    },
    {
      "cell_type": "code",
      "metadata": {
        "id": "mGREgnrC7Pjt"
      },
      "source": [
        "pipeline = Pipeline([\n",
        "    ('mapper', DataFrameMapper(features)),\n",
        "    ('feature_selection', SelectFromModel(LinearSVC(C=0.17777, penalty=\"l1\", dual=False, random_state=42, max_iter=10000))),\n",
        "])"
      ],
      "execution_count": null,
      "outputs": []
    },
    {
      "cell_type": "code",
      "metadata": {
        "id": "5_HdL7cw7hYC"
      },
      "source": [
        "X_train_ = pipeline.fit_transform(X_train, y_train)\n",
        "X_test_ = pipeline.transform(X_test)"
      ],
      "execution_count": null,
      "outputs": []
    },
    {
      "cell_type": "code",
      "metadata": {
        "colab": {
          "base_uri": "https://localhost:8080/"
        },
        "id": "7qxPQhBI8iUe",
        "outputId": "abeb198f-44cc-49f9-cbeb-3aed8a90bfe2"
      },
      "source": [
        "X_train_.shape"
      ],
      "execution_count": null,
      "outputs": [
        {
          "output_type": "execute_result",
          "data": {
            "text/plain": [
              "(2639, 17)"
            ]
          },
          "metadata": {},
          "execution_count": 41
        }
      ]
    },
    {
      "cell_type": "code",
      "metadata": {
        "colab": {
          "base_uri": "https://localhost:8080/"
        },
        "id": "hp3VbgSk7emB",
        "outputId": "20455f63-5066-455e-8ca9-905381f6f319"
      },
      "source": [
        "rf = RandomForestClassifier(random_state=42, **{'criterion': 'gini', 'max_depth': 9, 'n_estimators': 200})\n",
        "rf.fit(X_train_, y_train)\n",
        "y_pred = rf.predict(X_test_)\n",
        "y_pred_train = rf.predict(X_train_)\n",
        "print(classification_report(y_test, y_pred))"
      ],
      "execution_count": null,
      "outputs": [
        {
          "output_type": "stream",
          "name": "stdout",
          "text": [
            "              precision    recall  f1-score   support\n",
            "\n",
            "           0       1.00      1.00      1.00      1044\n",
            "           1       0.98      0.98      0.98        58\n",
            "           2       0.93      0.97      0.95        29\n",
            "\n",
            "    accuracy                           1.00      1131\n",
            "   macro avg       0.97      0.98      0.98      1131\n",
            "weighted avg       1.00      1.00      1.00      1131\n",
            "\n"
          ]
        }
      ]
    },
    {
      "cell_type": "code",
      "metadata": {
        "colab": {
          "base_uri": "https://localhost:8080/"
        },
        "id": "9NeCBqTL8gDW",
        "outputId": "991aec88-4d20-4ce1-b6cd-f7417908351d"
      },
      "source": [
        "print(f1_score(y_train, y_pred_train, average='macro'))\n",
        "print(f1_score(y_test, y_pred, average='macro'))"
      ],
      "execution_count": null,
      "outputs": [
        {
          "output_type": "stream",
          "name": "stdout",
          "text": [
            "0.9987105946473892\n",
            "0.9771440021261003\n"
          ]
        }
      ]
    },
    {
      "cell_type": "markdown",
      "metadata": {
        "id": "mHZ3S5osUn7n"
      },
      "source": [
        "## Neural Network"
      ]
    },
    {
      "cell_type": "markdown",
      "metadata": {
        "id": "kdId9go2P7dD"
      },
      "source": [
        "Data is imbalanced, so we should apply some methods to treat this issue.  We choose f1 as the main metric. Also, we can set class weights in optimizer."
      ]
    },
    {
      "cell_type": "code",
      "metadata": {
        "id": "ChvG9MPHdK9a"
      },
      "source": [
        "from keras import backend as K\n",
        "\n",
        "def f1(y_true, y_pred):\n",
        "    def recall(y_true, y_pred):\n",
        "        \"\"\"Recall metric.\n",
        "\n",
        "        Only computes a batch-wise average of recall.\n",
        "\n",
        "        Computes the recall, a metric for multi-label classification of\n",
        "        how many relevant items are selected.\n",
        "        \"\"\"\n",
        "        true_positives = K.sum(K.round(K.clip(y_true * y_pred, 0, 1)))\n",
        "        possible_positives = K.sum(K.round(K.clip(y_true, 0, 1)))\n",
        "        recall = true_positives / (possible_positives + K.epsilon())\n",
        "        return recall\n",
        "\n",
        "    def precision(y_true, y_pred):\n",
        "        \"\"\"Precision metric.\n",
        "\n",
        "        Only computes a batch-wise average of precision.\n",
        "\n",
        "        Computes the precision, a metric for multi-label classification of\n",
        "        how many selected items are relevant.\n",
        "        \"\"\"\n",
        "        true_positives = K.sum(K.round(K.clip(y_true * y_pred, 0, 1)))\n",
        "        predicted_positives = K.sum(K.round(K.clip(y_pred, 0, 1)))\n",
        "        precision = true_positives / (predicted_positives + K.epsilon())\n",
        "        return precision\n",
        "    precision = precision(y_true, y_pred)\n",
        "    recall = recall(y_true, y_pred)\n",
        "    return 2*((precision*recall)/(precision+recall+K.epsilon()))"
      ],
      "execution_count": null,
      "outputs": []
    },
    {
      "cell_type": "code",
      "metadata": {
        "id": "T47iiAKmcYSe"
      },
      "source": [
        "lb = LabelBinarizer()\n",
        "y_train_ = lb.fit_transform(y_train)\n",
        "y_test_ = lb.transform(y_test)"
      ],
      "execution_count": null,
      "outputs": []
    },
    {
      "cell_type": "code",
      "metadata": {
        "id": "tG7yaf38uVOK"
      },
      "source": [
        "from sklearn.utils import class_weight\n",
        "class_weight = class_weight.compute_class_weight('balanced'\n",
        "                                               ,np.unique(y_train)\n",
        "                                               ,y_train)"
      ],
      "execution_count": null,
      "outputs": []
    },
    {
      "cell_type": "code",
      "metadata": {
        "colab": {
          "base_uri": "https://localhost:8080/"
        },
        "id": "sGfbW72nutR3",
        "outputId": "1f2dd4db-0843-45bf-a43c-cead76f30629"
      },
      "source": [
        "class_weight"
      ],
      "execution_count": null,
      "outputs": [
        {
          "output_type": "execute_result",
          "data": {
            "text/plain": [
              "array([ 0.36096293,  6.46813725, 13.32828283])"
            ]
          },
          "metadata": {},
          "execution_count": 47
        }
      ]
    },
    {
      "cell_type": "code",
      "metadata": {
        "id": "vshp0SQ-vEKJ"
      },
      "source": [
        "class_weight = {0: 0.36096293,\n",
        "                1: 6.46813725,\n",
        "                2: 13.32828283}"
      ],
      "execution_count": null,
      "outputs": []
    },
    {
      "cell_type": "code",
      "metadata": {
        "id": "n-7UC2Hh84QR"
      },
      "source": [
        "model = Sequential()\n",
        "model.add(Dense(32, activation='relu',))\n",
        "model.add(Dense(32, activation='relu',))\n",
        "model.add(Dropout(0.1))\n",
        "model.add(Dense(32, activation='relu',))\n",
        "model.add(Dense(32, activation='relu',))\n",
        "model.add(Dropout(0.1))\n",
        "model.add(Dense(3, activation='softmax'))"
      ],
      "execution_count": null,
      "outputs": []
    },
    {
      "cell_type": "code",
      "metadata": {
        "id": "7wAU4CpRbHFV"
      },
      "source": [
        "model.compile(optimizer=keras.optimizers.adam_v2.Adam(learning_rate=0.001), loss='categorical_crossentropy', metrics=[f1])"
      ],
      "execution_count": null,
      "outputs": []
    },
    {
      "cell_type": "code",
      "metadata": {
        "id": "iqkIayGMbKJ9"
      },
      "source": [
        "checkpoint_filepath = '/tmp/checkpoint'\n",
        "model_checkpoint_callback = keras.callbacks.ModelCheckpoint(\n",
        "    filepath=checkpoint_filepath,\n",
        "    save_weights_only=True,\n",
        "    monitor='val_f1',\n",
        "    mode='max',\n",
        "    save_best_only=True)"
      ],
      "execution_count": null,
      "outputs": []
    },
    {
      "cell_type": "code",
      "metadata": {
        "colab": {
          "base_uri": "https://localhost:8080/"
        },
        "id": "IAh5e5EcbKMg",
        "outputId": "7b9efc9a-9ef4-4a23-f869-566eaa16cd18"
      },
      "source": [
        "history = model.fit(\n",
        "    X_train_, \n",
        "    y_train_, \n",
        "    epochs=150, \n",
        "    validation_split=0.1, \n",
        "    verbose=2,\n",
        "    batch_size=32,\n",
        "    callbacks=[model_checkpoint_callback],\n",
        "    class_weight=class_weight,\n",
        ")"
      ],
      "execution_count": null,
      "outputs": [
        {
          "output_type": "stream",
          "name": "stdout",
          "text": [
            "Epoch 1/150\n",
            "75/75 - 1s - loss: 0.8647 - f1: 0.4224 - val_loss: 0.4016 - val_f1: 0.8577\n",
            "Epoch 2/150\n",
            "75/75 - 0s - loss: 0.4218 - f1: 0.8900 - val_loss: 0.2397 - val_f1: 0.9034\n",
            "Epoch 3/150\n",
            "75/75 - 0s - loss: 0.2451 - f1: 0.9261 - val_loss: 0.1361 - val_f1: 0.9444\n",
            "Epoch 4/150\n",
            "75/75 - 0s - loss: 0.1851 - f1: 0.9366 - val_loss: 0.1409 - val_f1: 0.9444\n",
            "Epoch 5/150\n",
            "75/75 - 0s - loss: 0.1554 - f1: 0.9534 - val_loss: 0.1227 - val_f1: 0.9479\n",
            "Epoch 6/150\n",
            "75/75 - 0s - loss: 0.1459 - f1: 0.9512 - val_loss: 0.1265 - val_f1: 0.9479\n",
            "Epoch 7/150\n",
            "75/75 - 0s - loss: 0.1339 - f1: 0.9493 - val_loss: 0.1352 - val_f1: 0.9479\n",
            "Epoch 8/150\n",
            "75/75 - 0s - loss: 0.1227 - f1: 0.9516 - val_loss: 0.1714 - val_f1: 0.9479\n",
            "Epoch 9/150\n",
            "75/75 - 0s - loss: 0.1052 - f1: 0.9616 - val_loss: 0.1038 - val_f1: 0.9618\n",
            "Epoch 10/150\n",
            "75/75 - 0s - loss: 0.0839 - f1: 0.9597 - val_loss: 0.1412 - val_f1: 0.9514\n",
            "Epoch 11/150\n",
            "75/75 - 0s - loss: 0.0808 - f1: 0.9594 - val_loss: 0.1137 - val_f1: 0.9618\n",
            "Epoch 12/150\n",
            "75/75 - 0s - loss: 0.0660 - f1: 0.9710 - val_loss: 0.1234 - val_f1: 0.9583\n",
            "Epoch 13/150\n",
            "75/75 - 0s - loss: 0.0696 - f1: 0.9670 - val_loss: 0.1630 - val_f1: 0.9514\n",
            "Epoch 14/150\n",
            "75/75 - 0s - loss: 0.0866 - f1: 0.9637 - val_loss: 0.2060 - val_f1: 0.9444\n",
            "Epoch 15/150\n",
            "75/75 - 0s - loss: 0.0739 - f1: 0.9617 - val_loss: 0.1446 - val_f1: 0.9583\n",
            "Epoch 16/150\n",
            "75/75 - 0s - loss: 0.0650 - f1: 0.9687 - val_loss: 0.0927 - val_f1: 0.9722\n",
            "Epoch 17/150\n",
            "75/75 - 0s - loss: 0.0599 - f1: 0.9752 - val_loss: 0.1099 - val_f1: 0.9618\n",
            "Epoch 18/150\n",
            "75/75 - 0s - loss: 0.0548 - f1: 0.9748 - val_loss: 0.0990 - val_f1: 0.9739\n",
            "Epoch 19/150\n",
            "75/75 - 0s - loss: 0.0440 - f1: 0.9798 - val_loss: 0.1151 - val_f1: 0.9653\n",
            "Epoch 20/150\n",
            "75/75 - 0s - loss: 0.0395 - f1: 0.9769 - val_loss: 0.1792 - val_f1: 0.9479\n",
            "Epoch 21/150\n",
            "75/75 - 0s - loss: 0.0407 - f1: 0.9754 - val_loss: 0.1362 - val_f1: 0.9688\n",
            "Epoch 22/150\n",
            "75/75 - 0s - loss: 0.0446 - f1: 0.9819 - val_loss: 0.1571 - val_f1: 0.9618\n",
            "Epoch 23/150\n",
            "75/75 - 0s - loss: 0.0465 - f1: 0.9758 - val_loss: 0.1679 - val_f1: 0.9514\n",
            "Epoch 24/150\n",
            "75/75 - 0s - loss: 0.0405 - f1: 0.9719 - val_loss: 0.1390 - val_f1: 0.9688\n",
            "Epoch 25/150\n",
            "75/75 - 0s - loss: 0.0403 - f1: 0.9806 - val_loss: 0.1091 - val_f1: 0.9792\n",
            "Epoch 26/150\n",
            "75/75 - 0s - loss: 0.0299 - f1: 0.9789 - val_loss: 0.1234 - val_f1: 0.9722\n",
            "Epoch 27/150\n",
            "75/75 - 0s - loss: 0.0317 - f1: 0.9819 - val_loss: 0.1240 - val_f1: 0.9722\n",
            "Epoch 28/150\n",
            "75/75 - 0s - loss: 0.0432 - f1: 0.9770 - val_loss: 0.1282 - val_f1: 0.9722\n",
            "Epoch 29/150\n",
            "75/75 - 0s - loss: 0.0504 - f1: 0.9739 - val_loss: 0.1073 - val_f1: 0.9826\n",
            "Epoch 30/150\n",
            "75/75 - 0s - loss: 0.0272 - f1: 0.9827 - val_loss: 0.1219 - val_f1: 0.9792\n",
            "Epoch 31/150\n",
            "75/75 - 0s - loss: 0.0236 - f1: 0.9860 - val_loss: 0.1392 - val_f1: 0.9688\n",
            "Epoch 32/150\n",
            "75/75 - 0s - loss: 0.0242 - f1: 0.9848 - val_loss: 0.1362 - val_f1: 0.9722\n",
            "Epoch 33/150\n",
            "75/75 - 0s - loss: 0.0213 - f1: 0.9852 - val_loss: 0.1227 - val_f1: 0.9826\n",
            "Epoch 34/150\n",
            "75/75 - 0s - loss: 0.0292 - f1: 0.9842 - val_loss: 0.1857 - val_f1: 0.9653\n",
            "Epoch 35/150\n",
            "75/75 - 0s - loss: 0.0386 - f1: 0.9779 - val_loss: 0.1462 - val_f1: 0.9757\n",
            "Epoch 36/150\n",
            "75/75 - 0s - loss: 0.0290 - f1: 0.9854 - val_loss: 0.2223 - val_f1: 0.9514\n",
            "Epoch 37/150\n",
            "75/75 - 0s - loss: 0.0394 - f1: 0.9758 - val_loss: 0.1400 - val_f1: 0.9792\n",
            "Epoch 38/150\n",
            "75/75 - 0s - loss: 0.0272 - f1: 0.9850 - val_loss: 0.1339 - val_f1: 0.9688\n",
            "Epoch 39/150\n",
            "75/75 - 0s - loss: 0.0226 - f1: 0.9844 - val_loss: 0.1303 - val_f1: 0.9792\n",
            "Epoch 40/150\n",
            "75/75 - 0s - loss: 0.0273 - f1: 0.9869 - val_loss: 0.1729 - val_f1: 0.9688\n",
            "Epoch 41/150\n",
            "75/75 - 0s - loss: 0.0184 - f1: 0.9881 - val_loss: 0.1531 - val_f1: 0.9722\n",
            "Epoch 42/150\n",
            "75/75 - 0s - loss: 0.0190 - f1: 0.9877 - val_loss: 0.1510 - val_f1: 0.9757\n",
            "Epoch 43/150\n",
            "75/75 - 0s - loss: 0.0202 - f1: 0.9867 - val_loss: 0.1541 - val_f1: 0.9722\n",
            "Epoch 44/150\n",
            "75/75 - 0s - loss: 0.0183 - f1: 0.9867 - val_loss: 0.1465 - val_f1: 0.9792\n",
            "Epoch 45/150\n",
            "75/75 - 0s - loss: 0.0249 - f1: 0.9869 - val_loss: 0.1671 - val_f1: 0.9757\n",
            "Epoch 46/150\n",
            "75/75 - 0s - loss: 0.0826 - f1: 0.9787 - val_loss: 0.1610 - val_f1: 0.9688\n",
            "Epoch 47/150\n",
            "75/75 - 0s - loss: 0.0344 - f1: 0.9829 - val_loss: 0.1495 - val_f1: 0.9722\n",
            "Epoch 48/150\n",
            "75/75 - 0s - loss: 0.0251 - f1: 0.9833 - val_loss: 0.1077 - val_f1: 0.9757\n",
            "Epoch 49/150\n",
            "75/75 - 0s - loss: 0.0228 - f1: 0.9839 - val_loss: 0.1244 - val_f1: 0.9722\n",
            "Epoch 50/150\n",
            "75/75 - 0s - loss: 0.0145 - f1: 0.9904 - val_loss: 0.1243 - val_f1: 0.9757\n",
            "Epoch 51/150\n",
            "75/75 - 0s - loss: 0.0296 - f1: 0.9868 - val_loss: 0.1993 - val_f1: 0.9514\n",
            "Epoch 52/150\n",
            "75/75 - 0s - loss: 0.0418 - f1: 0.9758 - val_loss: 0.1412 - val_f1: 0.9688\n",
            "Epoch 53/150\n",
            "75/75 - 0s - loss: 0.0188 - f1: 0.9871 - val_loss: 0.1541 - val_f1: 0.9722\n",
            "Epoch 54/150\n",
            "75/75 - 0s - loss: 0.0288 - f1: 0.9829 - val_loss: 0.2701 - val_f1: 0.9444\n",
            "Epoch 55/150\n",
            "75/75 - 0s - loss: 0.0250 - f1: 0.9827 - val_loss: 0.1736 - val_f1: 0.9688\n",
            "Epoch 56/150\n",
            "75/75 - 0s - loss: 0.0187 - f1: 0.9865 - val_loss: 0.1719 - val_f1: 0.9688\n",
            "Epoch 57/150\n",
            "75/75 - 0s - loss: 0.0150 - f1: 0.9902 - val_loss: 0.1542 - val_f1: 0.9688\n",
            "Epoch 58/150\n",
            "75/75 - 0s - loss: 0.0118 - f1: 0.9929 - val_loss: 0.1625 - val_f1: 0.9722\n",
            "Epoch 59/150\n",
            "75/75 - 0s - loss: 0.0110 - f1: 0.9927 - val_loss: 0.1643 - val_f1: 0.9722\n",
            "Epoch 60/150\n",
            "75/75 - 0s - loss: 0.0129 - f1: 0.9908 - val_loss: 0.1516 - val_f1: 0.9792\n",
            "Epoch 61/150\n",
            "75/75 - 0s - loss: 0.0131 - f1: 0.9921 - val_loss: 0.1601 - val_f1: 0.9792\n",
            "Epoch 62/150\n",
            "75/75 - 0s - loss: 0.0131 - f1: 0.9910 - val_loss: 0.1652 - val_f1: 0.9792\n",
            "Epoch 63/150\n",
            "75/75 - 0s - loss: 0.0084 - f1: 0.9925 - val_loss: 0.1773 - val_f1: 0.9792\n",
            "Epoch 64/150\n",
            "75/75 - 0s - loss: 0.0068 - f1: 0.9962 - val_loss: 0.1535 - val_f1: 0.9826\n",
            "Epoch 65/150\n",
            "75/75 - 0s - loss: 0.0132 - f1: 0.9892 - val_loss: 0.1884 - val_f1: 0.9792\n",
            "Epoch 66/150\n",
            "75/75 - 0s - loss: 0.0098 - f1: 0.9927 - val_loss: 0.1953 - val_f1: 0.9792\n",
            "Epoch 67/150\n",
            "75/75 - 0s - loss: 0.0266 - f1: 0.9869 - val_loss: 0.1405 - val_f1: 0.9826\n",
            "Epoch 68/150\n",
            "75/75 - 0s - loss: 0.0098 - f1: 0.9944 - val_loss: 0.1682 - val_f1: 0.9792\n",
            "Epoch 69/150\n",
            "75/75 - 0s - loss: 0.0128 - f1: 0.9927 - val_loss: 0.1896 - val_f1: 0.9722\n",
            "Epoch 70/150\n",
            "75/75 - 0s - loss: 0.0277 - f1: 0.9890 - val_loss: 0.1714 - val_f1: 0.9757\n",
            "Epoch 71/150\n",
            "75/75 - 0s - loss: 0.0386 - f1: 0.9848 - val_loss: 0.2009 - val_f1: 0.9792\n",
            "Epoch 72/150\n",
            "75/75 - 0s - loss: 0.0909 - f1: 0.9750 - val_loss: 0.1977 - val_f1: 0.9688\n",
            "Epoch 73/150\n",
            "75/75 - 0s - loss: 0.0254 - f1: 0.9862 - val_loss: 0.1802 - val_f1: 0.9792\n",
            "Epoch 74/150\n",
            "75/75 - 0s - loss: 0.0165 - f1: 0.9900 - val_loss: 0.1765 - val_f1: 0.9757\n",
            "Epoch 75/150\n",
            "75/75 - 0s - loss: 0.0117 - f1: 0.9929 - val_loss: 0.1877 - val_f1: 0.9792\n",
            "Epoch 76/150\n",
            "75/75 - 0s - loss: 0.0096 - f1: 0.9933 - val_loss: 0.1845 - val_f1: 0.9757\n",
            "Epoch 77/150\n",
            "75/75 - 0s - loss: 0.0173 - f1: 0.9896 - val_loss: 0.1424 - val_f1: 0.9792\n",
            "Epoch 78/150\n",
            "75/75 - 0s - loss: 0.0106 - f1: 0.9956 - val_loss: 0.1522 - val_f1: 0.9722\n",
            "Epoch 79/150\n",
            "75/75 - 0s - loss: 0.0104 - f1: 0.9942 - val_loss: 0.1698 - val_f1: 0.9722\n",
            "Epoch 80/150\n",
            "75/75 - 0s - loss: 0.0126 - f1: 0.9921 - val_loss: 0.1674 - val_f1: 0.9826\n",
            "Epoch 81/150\n",
            "75/75 - 0s - loss: 0.0105 - f1: 0.9937 - val_loss: 0.1802 - val_f1: 0.9792\n",
            "Epoch 82/150\n",
            "75/75 - 0s - loss: 0.0177 - f1: 0.9898 - val_loss: 0.1634 - val_f1: 0.9826\n",
            "Epoch 83/150\n",
            "75/75 - 0s - loss: 0.0063 - f1: 0.9967 - val_loss: 0.1920 - val_f1: 0.9757\n",
            "Epoch 84/150\n",
            "75/75 - 0s - loss: 0.0216 - f1: 0.9883 - val_loss: 0.1657 - val_f1: 0.9792\n",
            "Epoch 85/150\n",
            "75/75 - 0s - loss: 0.0093 - f1: 0.9950 - val_loss: 0.1740 - val_f1: 0.9792\n",
            "Epoch 86/150\n",
            "75/75 - 0s - loss: 0.0090 - f1: 0.9942 - val_loss: 0.1949 - val_f1: 0.9792\n",
            "Epoch 87/150\n",
            "75/75 - 0s - loss: 0.0045 - f1: 0.9979 - val_loss: 0.1940 - val_f1: 0.9792\n",
            "Epoch 88/150\n",
            "75/75 - 0s - loss: 0.0071 - f1: 0.9960 - val_loss: 0.1832 - val_f1: 0.9792\n",
            "Epoch 89/150\n",
            "75/75 - 0s - loss: 0.0074 - f1: 0.9950 - val_loss: 0.1811 - val_f1: 0.9792\n",
            "Epoch 90/150\n",
            "75/75 - 0s - loss: 0.0052 - f1: 0.9975 - val_loss: 0.1910 - val_f1: 0.9792\n",
            "Epoch 91/150\n",
            "75/75 - 0s - loss: 0.0183 - f1: 0.9912 - val_loss: 0.2399 - val_f1: 0.9722\n",
            "Epoch 92/150\n",
            "75/75 - 0s - loss: 0.0121 - f1: 0.9927 - val_loss: 0.2166 - val_f1: 0.9688\n",
            "Epoch 93/150\n",
            "75/75 - 0s - loss: 0.0095 - f1: 0.9933 - val_loss: 0.1904 - val_f1: 0.9792\n",
            "Epoch 94/150\n",
            "75/75 - 0s - loss: 0.0077 - f1: 0.9939 - val_loss: 0.1905 - val_f1: 0.9792\n",
            "Epoch 95/150\n",
            "75/75 - 0s - loss: 0.0046 - f1: 0.9971 - val_loss: 0.2078 - val_f1: 0.9792\n",
            "Epoch 96/150\n",
            "75/75 - 0s - loss: 0.0027 - f1: 0.9979 - val_loss: 0.2158 - val_f1: 0.9792\n",
            "Epoch 97/150\n",
            "75/75 - 0s - loss: 0.0029 - f1: 0.9983 - val_loss: 0.1974 - val_f1: 0.9826\n",
            "Epoch 98/150\n",
            "75/75 - 0s - loss: 0.0035 - f1: 0.9967 - val_loss: 0.2011 - val_f1: 0.9826\n",
            "Epoch 99/150\n",
            "75/75 - 0s - loss: 0.0016 - f1: 0.9992 - val_loss: 0.2112 - val_f1: 0.9792\n",
            "Epoch 100/150\n",
            "75/75 - 0s - loss: 0.0044 - f1: 0.9975 - val_loss: 0.1939 - val_f1: 0.9792\n",
            "Epoch 101/150\n",
            "75/75 - 0s - loss: 0.0078 - f1: 0.9967 - val_loss: 0.2344 - val_f1: 0.9826\n",
            "Epoch 102/150\n",
            "75/75 - 0s - loss: 0.0500 - f1: 0.9858 - val_loss: 0.3268 - val_f1: 0.9618\n",
            "Epoch 103/150\n",
            "75/75 - 0s - loss: 0.0968 - f1: 0.9810 - val_loss: 0.1563 - val_f1: 0.9722\n",
            "Epoch 104/150\n",
            "75/75 - 0s - loss: 0.0633 - f1: 0.9617 - val_loss: 0.1090 - val_f1: 0.9792\n",
            "Epoch 105/150\n",
            "75/75 - 0s - loss: 0.0182 - f1: 0.9896 - val_loss: 0.1206 - val_f1: 0.9809\n",
            "Epoch 106/150\n",
            "75/75 - 0s - loss: 0.0161 - f1: 0.9929 - val_loss: 0.1657 - val_f1: 0.9688\n",
            "Epoch 107/150\n",
            "75/75 - 0s - loss: 0.0150 - f1: 0.9912 - val_loss: 0.1548 - val_f1: 0.9722\n",
            "Epoch 108/150\n",
            "75/75 - 0s - loss: 0.0117 - f1: 0.9912 - val_loss: 0.1546 - val_f1: 0.9792\n",
            "Epoch 109/150\n",
            "75/75 - 0s - loss: 0.0100 - f1: 0.9937 - val_loss: 0.1544 - val_f1: 0.9722\n",
            "Epoch 110/150\n",
            "75/75 - 0s - loss: 0.0111 - f1: 0.9931 - val_loss: 0.1318 - val_f1: 0.9861\n",
            "Epoch 111/150\n",
            "75/75 - 0s - loss: 0.0060 - f1: 0.9954 - val_loss: 0.1435 - val_f1: 0.9792\n",
            "Epoch 112/150\n",
            "75/75 - 0s - loss: 0.0430 - f1: 0.9902 - val_loss: 0.1540 - val_f1: 0.9792\n",
            "Epoch 113/150\n",
            "75/75 - 0s - loss: 0.0134 - f1: 0.9933 - val_loss: 0.1545 - val_f1: 0.9792\n",
            "Epoch 114/150\n",
            "75/75 - 0s - loss: 0.0149 - f1: 0.9933 - val_loss: 0.1466 - val_f1: 0.9826\n",
            "Epoch 115/150\n",
            "75/75 - 0s - loss: 0.0088 - f1: 0.9952 - val_loss: 0.1603 - val_f1: 0.9826\n",
            "Epoch 116/150\n",
            "75/75 - 0s - loss: 0.0127 - f1: 0.9940 - val_loss: 0.1481 - val_f1: 0.9757\n",
            "Epoch 117/150\n",
            "75/75 - 0s - loss: 0.0052 - f1: 0.9954 - val_loss: 0.1449 - val_f1: 0.9826\n",
            "Epoch 118/150\n",
            "75/75 - 0s - loss: 0.0051 - f1: 0.9971 - val_loss: 0.1490 - val_f1: 0.9792\n",
            "Epoch 119/150\n",
            "75/75 - 0s - loss: 0.0082 - f1: 0.9948 - val_loss: 0.1492 - val_f1: 0.9826\n",
            "Epoch 120/150\n",
            "75/75 - 0s - loss: 0.0084 - f1: 0.9954 - val_loss: 0.1506 - val_f1: 0.9826\n",
            "Epoch 121/150\n",
            "75/75 - 0s - loss: 0.0152 - f1: 0.9929 - val_loss: 0.1684 - val_f1: 0.9722\n",
            "Epoch 122/150\n",
            "75/75 - 0s - loss: 0.0140 - f1: 0.9921 - val_loss: 0.1413 - val_f1: 0.9826\n",
            "Epoch 123/150\n",
            "75/75 - 0s - loss: 0.0051 - f1: 0.9950 - val_loss: 0.1932 - val_f1: 0.9688\n",
            "Epoch 124/150\n",
            "75/75 - 0s - loss: 0.0073 - f1: 0.9958 - val_loss: 0.2003 - val_f1: 0.9722\n",
            "Epoch 125/150\n",
            "75/75 - 0s - loss: 0.0079 - f1: 0.9944 - val_loss: 0.1673 - val_f1: 0.9826\n",
            "Epoch 126/150\n",
            "75/75 - 0s - loss: 0.0041 - f1: 0.9971 - val_loss: 0.1736 - val_f1: 0.9792\n",
            "Epoch 127/150\n",
            "75/75 - 0s - loss: 0.0018 - f1: 0.9987 - val_loss: 0.2002 - val_f1: 0.9792\n",
            "Epoch 128/150\n",
            "75/75 - 0s - loss: 0.0035 - f1: 0.9979 - val_loss: 0.1714 - val_f1: 0.9792\n",
            "Epoch 129/150\n",
            "75/75 - 0s - loss: 0.0022 - f1: 0.9992 - val_loss: 0.1879 - val_f1: 0.9792\n",
            "Epoch 130/150\n",
            "75/75 - 0s - loss: 0.0034 - f1: 0.9979 - val_loss: 0.1788 - val_f1: 0.9826\n",
            "Epoch 131/150\n",
            "75/75 - 0s - loss: 0.0090 - f1: 0.9950 - val_loss: 0.1652 - val_f1: 0.9757\n",
            "Epoch 132/150\n",
            "75/75 - 0s - loss: 0.0055 - f1: 0.9983 - val_loss: 0.1606 - val_f1: 0.9826\n",
            "Epoch 133/150\n",
            "75/75 - 0s - loss: 0.1030 - f1: 0.9950 - val_loss: 0.1292 - val_f1: 0.9826\n",
            "Epoch 134/150\n",
            "75/75 - 0s - loss: 0.0559 - f1: 0.9894 - val_loss: 0.1612 - val_f1: 0.9757\n",
            "Epoch 135/150\n",
            "75/75 - 0s - loss: 0.0096 - f1: 0.9948 - val_loss: 0.1397 - val_f1: 0.9826\n",
            "Epoch 136/150\n",
            "75/75 - 0s - loss: 0.0048 - f1: 0.9977 - val_loss: 0.1514 - val_f1: 0.9826\n",
            "Epoch 137/150\n",
            "75/75 - 0s - loss: 0.0040 - f1: 0.9977 - val_loss: 0.1798 - val_f1: 0.9792\n",
            "Epoch 138/150\n",
            "75/75 - 0s - loss: 0.0061 - f1: 0.9969 - val_loss: 0.1686 - val_f1: 0.9757\n",
            "Epoch 139/150\n",
            "75/75 - 0s - loss: 0.0044 - f1: 0.9967 - val_loss: 0.1899 - val_f1: 0.9792\n",
            "Epoch 140/150\n",
            "75/75 - 0s - loss: 0.0017 - f1: 0.9992 - val_loss: 0.1805 - val_f1: 0.9792\n",
            "Epoch 141/150\n",
            "75/75 - 0s - loss: 0.0143 - f1: 0.9937 - val_loss: 0.1949 - val_f1: 0.9757\n",
            "Epoch 142/150\n",
            "75/75 - 0s - loss: 0.0438 - f1: 0.9824 - val_loss: 0.2610 - val_f1: 0.9653\n",
            "Epoch 143/150\n",
            "75/75 - 0s - loss: 0.0180 - f1: 0.9894 - val_loss: 0.2177 - val_f1: 0.9618\n",
            "Epoch 144/150\n",
            "75/75 - 0s - loss: 0.0142 - f1: 0.9908 - val_loss: 0.1917 - val_f1: 0.9722\n",
            "Epoch 145/150\n",
            "75/75 - 0s - loss: 0.0080 - f1: 0.9958 - val_loss: 0.1834 - val_f1: 0.9792\n",
            "Epoch 146/150\n",
            "75/75 - 0s - loss: 0.0966 - f1: 0.9837 - val_loss: 0.1993 - val_f1: 0.9757\n",
            "Epoch 147/150\n",
            "75/75 - 0s - loss: 0.0464 - f1: 0.9800 - val_loss: 0.1534 - val_f1: 0.9722\n",
            "Epoch 148/150\n",
            "75/75 - 0s - loss: 0.0166 - f1: 0.9854 - val_loss: 0.1687 - val_f1: 0.9688\n",
            "Epoch 149/150\n",
            "75/75 - 0s - loss: 0.0084 - f1: 0.9942 - val_loss: 0.1738 - val_f1: 0.9792\n",
            "Epoch 150/150\n",
            "75/75 - 0s - loss: 0.0054 - f1: 0.9969 - val_loss: 0.1877 - val_f1: 0.9792\n"
          ]
        }
      ]
    },
    {
      "cell_type": "code",
      "metadata": {
        "colab": {
          "base_uri": "https://localhost:8080/",
          "height": 279
        },
        "id": "BP3XNqVCbKPK",
        "outputId": "3322e759-7a75-4ab3-e0e8-afa094d689e8"
      },
      "source": [
        "\n",
        "plt.plot(history.history['f1'][1:], \n",
        "         label='f1 train')\n",
        "plt.plot(history.history['val_f1'][1:], \n",
        "         label='f1 test')\n",
        "plt.xlabel('epoch')\n",
        "plt.ylabel('f1')\n",
        "plt.legend()\n",
        "plt.show()"
      ],
      "execution_count": null,
      "outputs": [
        {
          "output_type": "display_data",
          "data": {
            "image/png": "[encoded data removed]",
            "text/plain": [
              "<Figure size 432x288 with 1 Axes>"
            ]
          },
          "metadata": {
            "needs_background": "light"
          }
        }
      ]
    },
    {
      "cell_type": "code",
      "metadata": {
        "colab": {
          "base_uri": "https://localhost:8080/"
        },
        "id": "GRwQZ2mleCmF",
        "outputId": "d25cffde-be7a-4b25-ddd4-fcbcd2c82028"
      },
      "source": [
        "model.load_weights(checkpoint_filepath)\n",
        "y_pred = lb.inverse_transform(model.predict(X_test_)).reshape(-1, 1)\n",
        "\n",
        "print(f1_score(y_test, y_pred, average='macro'))"
      ],
      "execution_count": null,
      "outputs": [
        {
          "output_type": "stream",
          "name": "stdout",
          "text": [
            "0.8930544075142565\n"
          ]
        }
      ]
    },
    {
      "cell_type": "code",
      "metadata": {
        "colab": {
          "base_uri": "https://localhost:8080/",
          "height": 346
        },
        "id": "LlcdZxPuesLh",
        "outputId": "98b48484-3ee7-4af2-89c5-01b8e1c5cc69"
      },
      "source": [
        "conf_matrix(y_test, y_pred, target_names)"
      ],
      "execution_count": null,
      "outputs": [
        {
          "output_type": "stream",
          "name": "stdout",
          "text": [
            "[[1034    5    5]\n",
            " [   8   48    2]\n",
            " [   1    2   26]]\n"
          ]
        },
        {
          "output_type": "display_data",
          "data": {
            "image/png": "[encoded data removed]",
            "text/plain": [
              "<Figure size 432x288 with 2 Axes>"
            ]
          },
          "metadata": {
            "needs_background": "light"
          }
        }
      ]
    },
    {
      "cell_type": "markdown",
      "metadata": {
        "id": "MeDzRvAdQgUT"
      },
      "source": [
        "Some insights:\n",
        "\n",
        "* The results obtained using NN are significantly worse than using Random Forest"
      ]
    },
    {
      "cell_type": "markdown",
      "metadata": {
        "id": "_gQhepmHzKx7"
      },
      "source": [
        "# Image Classification"
      ]
    },
    {
      "cell_type": "markdown",
      "metadata": {
        "id": "rQYcqQPD4wWv"
      },
      "source": [
        "## Data Loading and Augmentation"
      ]
    },
    {
      "cell_type": "markdown",
      "metadata": {
        "id": "mmphZNFXRGl5"
      },
      "source": [
        "Firstly, we need to create image dataset. We can set transformations, which will be applied to each image."
      ]
    },
    {
      "cell_type": "code",
      "metadata": {
        "id": "qd716rAZ0vFz"
      },
      "source": [
        "transform_test = transforms.Compose([\n",
        "    transforms.Resize(256),\n",
        "    transforms.CenterCrop(224),\n",
        "    transforms.ToTensor(),\n",
        "    transforms.Normalize(mean=[0.485, 0.456, 0.406], std=[0.229, 0.224, 0.225]),\n",
        "])\n",
        "\n",
        "dataset_train = ImageFolder('/content/drive/MyDrive/data/hotdogs/train')\n",
        "test = ImageFolder('/content/drive/MyDrive/data/hotdogs/test', transform=transform_test)"
      ],
      "execution_count": null,
      "outputs": []
    },
    {
      "cell_type": "code",
      "metadata": {
        "colab": {
          "base_uri": "https://localhost:8080/"
        },
        "id": "qzaW4piV2gx9",
        "outputId": "9b86170d-4d9e-4995-c22e-4e48abf6e55b"
      },
      "source": [
        "test.class_to_idx"
      ],
      "execution_count": null,
      "outputs": [
        {
          "output_type": "execute_result",
          "data": {
            "text/plain": [
              "{'hot_dog': 0, 'not_hot_dog': 1}"
            ]
          },
          "metadata": {},
          "execution_count": 4
        }
      ]
    },
    {
      "cell_type": "markdown",
      "metadata": {
        "id": "6StEjUS-RYvX"
      },
      "source": [
        "Secondly, we should divide our training data into training and validation. Augmentations should be applied to training set."
      ]
    },
    {
      "cell_type": "code",
      "metadata": {
        "id": "NFdLYV8jOna9"
      },
      "source": [
        "train_size = int(dataset_train.__len__()*0.8)\n",
        "val_size = dataset_train.__len__() - train_size\n",
        "\n",
        "train, val = torch.utils.data.random_split(dataset_train, [train_size, val_size])\n",
        "train.dataset = copy(dataset_train)\n",
        "\n",
        "val.dataset.transform = transforms.Compose([\n",
        "    transforms.Resize(256),\n",
        "    transforms.CenterCrop(224),\n",
        "    transforms.ToTensor(),\n",
        "    transforms.Normalize(mean=[0.485, 0.456, 0.406], std=[0.229, 0.224, 0.225]),\n",
        "])\n",
        "\n",
        "train.dataset.transform = transforms.Compose([\n",
        "    transforms.Resize(256),\n",
        "    transforms.RandomGrayscale(p=0.1),\n",
        "    transforms.RandomRotation(45),\n",
        "    transforms.RandomHorizontalFlip(),\n",
        "    transforms.CenterCrop(224),\n",
        "    transforms.ToTensor(),\n",
        "    transforms.Normalize(mean=[0.485, 0.456, 0.406], std=[0.229, 0.224, 0.225]),\n",
        "])"
      ],
      "execution_count": null,
      "outputs": []
    },
    {
      "cell_type": "markdown",
      "metadata": {
        "id": "Mq0FZNjpR96i"
      },
      "source": [
        "Let's overview some images."
      ]
    },
    {
      "cell_type": "code",
      "metadata": {
        "colab": {
          "base_uri": "https://localhost:8080/",
          "height": 282
        },
        "id": "pCg6nuBQ0vIP",
        "outputId": "6aa4e68f-b8d5-4bcb-d624-a863f9bb46d2"
      },
      "source": [
        "print(test[11][1])\n",
        "plt.imshow(test[11][0].squeeze().permute(1,2,0))\n",
        "plt.axis('off')\n",
        "plt.show()"
      ],
      "execution_count": null,
      "outputs": [
        {
          "output_type": "stream",
          "name": "stderr",
          "text": [
            "Clipping input data to the valid range for imshow with RGB data ([0..1] for floats or [0..255] for integers).\n"
          ]
        },
        {
          "output_type": "stream",
          "name": "stdout",
          "text": [
            "0\n"
          ]
        },
        {
          "output_type": "display_data",
          "data": {
            "image/png": "[encoded data removed]",
            "text/plain": [
              "<Figure size 432x288 with 1 Axes>"
            ]
          },
          "metadata": {
            "needs_background": "light"
          }
        }
      ]
    },
    {
      "cell_type": "code",
      "metadata": {
        "colab": {
          "base_uri": "https://localhost:8080/",
          "height": 282
        },
        "id": "doGUjWuE0vO7",
        "outputId": "f2eeaead-916d-4c84-b0d7-c1b079a12c03"
      },
      "source": [
        "print(train[0][1])\n",
        "plt.imshow(train[0][0].squeeze().permute(1,2,0))\n",
        "plt.axis('off')\n",
        "plt.show()"
      ],
      "execution_count": null,
      "outputs": [
        {
          "output_type": "stream",
          "name": "stderr",
          "text": [
            "Clipping input data to the valid range for imshow with RGB data ([0..1] for floats or [0..255] for integers).\n"
          ]
        },
        {
          "output_type": "stream",
          "name": "stdout",
          "text": [
            "1\n"
          ]
        },
        {
          "output_type": "display_data",
          "data": {
            "image/png": "[encoded data removed]",
            "text/plain": [
              "<Figure size 432x288 with 1 Axes>"
            ]
          },
          "metadata": {
            "needs_background": "light"
          }
        }
      ]
    },
    {
      "cell_type": "code",
      "metadata": {
        "id": "HbXbNckws5Ne"
      },
      "source": [
        "train_loader = torch.utils.data.DataLoader(train, batch_size=50, )\n",
        "val_loader = torch.utils.data.DataLoader(val, batch_size=50, )\n",
        "test_loader = torch.utils.data.DataLoader(test, batch_size=50)"
      ],
      "execution_count": null,
      "outputs": []
    },
    {
      "cell_type": "markdown",
      "metadata": {
        "id": "ZOVH3bJJ4s3b"
      },
      "source": [
        "## Train and Test Fuctions"
      ]
    },
    {
      "cell_type": "code",
      "metadata": {
        "id": "dLGwEm914p5h"
      },
      "source": [
        "def train_model(model, optimizer, loss_fn, train_loader, val_loader, epochs=20, device=\"cpu\", PATH='/tmp/checkpoint'):\n",
        "  model = model.to(device)\n",
        "  history = []\n",
        "  max_acc = 0\n",
        "  for epoch in range(1, epochs+1):\n",
        "    training_loss = 0.0\n",
        "    valid_loss = 0.0\n",
        "    num_correct = 0 \n",
        "    num_examples = 0\n",
        "    model.train()\n",
        "\n",
        "    start_time = time.time()\n",
        "    for batch in train_loader:\n",
        "      optimizer.zero_grad()\n",
        "      inputs, targets = batch\n",
        "      inputs = inputs.to(device)\n",
        "      targets = targets.to(device)\n",
        "      output = model(inputs)  \n",
        "      loss = loss_fn(output, targets)\n",
        "      loss.backward()\n",
        "      optimizer.step()\n",
        "\n",
        "      training_loss += loss.data.item() * inputs.size(0)\n",
        "      correct = torch.eq(torch.max(F.softmax(output, dim=1), dim=1)[1],\n",
        "                         targets)\n",
        "      num_correct += torch.sum(correct).item()\n",
        "      num_examples += correct.shape[0]\n",
        "\n",
        "    train_time = time.time() - start_time\n",
        "    training_loss /= len(train_loader.dataset)\n",
        "    train_acc = num_correct / num_examples\n",
        "\n",
        "    model.eval()\n",
        "    num_correct = 0 \n",
        "    num_examples = 0\n",
        "\n",
        "    start_time = time.time()\n",
        "    for batch in val_loader:\n",
        "      inputs, targets = batch\n",
        "      inputs = inputs.to(device)\n",
        "      output = model(inputs)\n",
        "      targets = targets.to(device)\n",
        "      loss = loss_fn(output,targets) \n",
        "\n",
        "      valid_loss += loss.data.item() * inputs.size(0)\n",
        "      correct = torch.eq(torch.max(F.softmax(output, dim=1), dim=1)[1],\n",
        "                          targets)\n",
        "      num_correct += torch.sum(correct).item()\n",
        "      num_examples += correct.shape[0]\n",
        "\n",
        "    val_time = time.time() - start_time\n",
        "    valid_loss /= len(val_loader.dataset)\n",
        "    val_acc = num_correct / num_examples\n",
        "\n",
        "    if val_acc > max_acc:\n",
        "      max_acc = val_acc\n",
        "      torch.save(model.state_dict(), PATH)\n",
        "\n",
        "    history.append((training_loss, valid_loss, train_acc, val_acc, train_time, val_time))\n",
        "    print('Epoch: {}, Training Loss: {:.2f}, Validation Loss: {:.2f}, Training accuracy = {:.2f}, Test accuracy = {:.2f}, train_time = {:.2f}, test_time = {:.2f} '.format(epoch, training_loss,\n",
        "    valid_loss, train_acc, val_acc, train_time, val_time))\n",
        "    \n",
        "  return history"
      ],
      "execution_count": null,
      "outputs": []
    },
    {
      "cell_type": "code",
      "metadata": {
        "id": "Q6N_PHabRhUR"
      },
      "source": [
        "def test_model(model, loss_fn, test_loader, device=\"cpu\"):\n",
        "  model = model.to(device)\n",
        "  model.eval()\n",
        "  num_correct = 0 \n",
        "  num_examples = 0\n",
        "  test_loss = 0.0\n",
        "  start_time = time.time()\n",
        "  for batch in test_loader:\n",
        "    inputs, targets = batch\n",
        "    inputs = inputs.to(device)\n",
        "    output = model(inputs)\n",
        "    targets = targets.to(device)\n",
        "    loss = loss_fn(output, targets) \n",
        "    test_loss += loss.data.item() * inputs.size(0)\n",
        "    correct = torch.eq(torch.max(F.softmax(output, dim=1), dim=1)[1],\n",
        "                        targets)\n",
        "    num_correct += torch.sum(correct).item()\n",
        "    num_examples += correct.shape[0]\n",
        "\n",
        "  test_time = time.time() - start_time\n",
        "  test_loss /= len(test_loader.dataset)\n",
        "\n",
        "  print('accuracy = {:.2f}, test_time = {:.2f} '.format(num_correct / num_examples, test_time))"
      ],
      "execution_count": null,
      "outputs": []
    },
    {
      "cell_type": "code",
      "metadata": {
        "id": "sfokX-B0-36G"
      },
      "source": [
        "def plot_history(history):\n",
        "  df_res_ = pd.DataFrame(columns=['Epoch', 'Train Loss', 'Test Loss', 'Test Acc'])\n",
        "  df_res_['Train Loss'] = [i[0] for i in history]\n",
        "  df_res_['Test Loss'] = [i[1] for i in history]\n",
        "  df_res_['Train Acc'] = [i[2] for i in history]\n",
        "  df_res_['Test Acc'] = [i[3] for i in history]\n",
        "  df_res_['Train Time'] = [i[4] for i in history]\n",
        "  df_res_['Test Time'] = [i[5] for i in history]\n",
        "  df_res_['Epoch'] = range(1, len(history)+1)\n",
        "\n",
        "  df_res_[['Train Acc', 'Test Acc']][1:].plot(title='Accuracy history')\n",
        "  df_res_[['Train Loss', 'Test Loss']][1:].plot(title='Loss history');"
      ],
      "execution_count": null,
      "outputs": []
    },
    {
      "cell_type": "markdown",
      "metadata": {
        "id": "vIYyeyr3422M"
      },
      "source": [
        "## Simple Convolution Neural Network"
      ]
    },
    {
      "cell_type": "markdown",
      "metadata": {
        "id": "2ptBiDiPSShn"
      },
      "source": [
        "Before using large pretrained models, let's use a simple convolution network as a baseline model."
      ]
    },
    {
      "cell_type": "code",
      "metadata": {
        "id": "OyYacsPxCPD7"
      },
      "source": [
        "PATH='/tmp/checkpoint'"
      ],
      "execution_count": null,
      "outputs": []
    },
    {
      "cell_type": "code",
      "metadata": {
        "id": "o3kObxfY41c9"
      },
      "source": [
        "class CNN(nn.Module):\n",
        "\n",
        "    def __init__(self):\n",
        "        super(CNN, self).__init__()\n",
        "        self.conv = nn.Sequential(          \n",
        "            nn.Conv2d(3, 64, kernel_size=5),\n",
        "            nn.Conv2d(64, 32, kernel_size=5),\n",
        "            nn.ReLU(),\n",
        "            nn.BatchNorm2d(32),\n",
        "            nn.MaxPool2d(kernel_size=3),\n",
        "        )\n",
        "        self.fconnected = nn.Sequential(\n",
        "            nn.Dropout(),\n",
        "            nn.LazyLinear(1024),\n",
        "            nn.ReLU(),\n",
        "            nn.Linear(1024, 1024),\n",
        "            nn.ReLU(),\n",
        "            nn.Linear(1024, 2)\n",
        "        )\n",
        "\n",
        "    def forward(self, x):\n",
        "        x = self.conv(x)\n",
        "        x = torch.flatten(x, 1)\n",
        "        x = self.fconnected(x)\n",
        "        return x"
      ],
      "execution_count": null,
      "outputs": []
    },
    {
      "cell_type": "code",
      "metadata": {
        "colab": {
          "base_uri": "https://localhost:8080/"
        },
        "id": "42I7prWC6RBD",
        "outputId": "8d8a204a-5824-4fbd-cee9-343442e2facf"
      },
      "source": [
        "model = CNN()\n",
        "loss_fn = nn.CrossEntropyLoss()\n",
        "optimizer = torch.optim.Adam(model.parameters(), lr=0.0001)\n",
        "history_values = train_model(model, optimizer, loss_fn, train_loader, val_loader, epochs=40, device='cuda')"
      ],
      "execution_count": null,
      "outputs": [
        {
          "output_type": "stream",
          "name": "stderr",
          "text": [
            "/usr/local/lib/python3.7/dist-packages/torch/nn/modules/lazy.py:178: UserWarning: Lazy modules are a new feature under heavy development so changes to the API or functionality can happen at any moment.\n",
            "  warnings.warn('Lazy modules are a new feature under heavy development '\n"
          ]
        },
        {
          "output_type": "stream",
          "name": "stdout",
          "text": [
            "Epoch: 1, Training Loss: 0.84, Validation Loss: 0.72, Training accuracy = 0.62, Test accuracy = 0.51, train_time = 9.15, test_time = 1.20 \n",
            "Epoch: 2, Training Loss: 0.68, Validation Loss: 0.83, Training accuracy = 0.69, Test accuracy = 0.55, train_time = 9.06, test_time = 1.20 \n",
            "Epoch: 3, Training Loss: 0.77, Validation Loss: 0.86, Training accuracy = 0.63, Test accuracy = 0.54, train_time = 9.08, test_time = 1.17 \n",
            "Epoch: 4, Training Loss: 0.68, Validation Loss: 0.91, Training accuracy = 0.68, Test accuracy = 0.56, train_time = 8.91, test_time = 1.16 \n",
            "Epoch: 5, Training Loss: 0.55, Validation Loss: 0.72, Training accuracy = 0.76, Test accuracy = 0.60, train_time = 9.05, test_time = 1.19 \n",
            "Epoch: 6, Training Loss: 0.47, Validation Loss: 0.77, Training accuracy = 0.80, Test accuracy = 0.62, train_time = 9.17, test_time = 1.21 \n",
            "Epoch: 7, Training Loss: 0.43, Validation Loss: 0.79, Training accuracy = 0.79, Test accuracy = 0.64, train_time = 8.98, test_time = 1.18 \n",
            "Epoch: 8, Training Loss: 0.39, Validation Loss: 0.80, Training accuracy = 0.83, Test accuracy = 0.61, train_time = 8.93, test_time = 1.19 \n",
            "Epoch: 9, Training Loss: 0.34, Validation Loss: 0.79, Training accuracy = 0.86, Test accuracy = 0.69, train_time = 8.98, test_time = 1.18 \n",
            "Epoch: 10, Training Loss: 0.34, Validation Loss: 0.78, Training accuracy = 0.87, Test accuracy = 0.64, train_time = 9.03, test_time = 1.14 \n",
            "Epoch: 11, Training Loss: 0.32, Validation Loss: 0.75, Training accuracy = 0.86, Test accuracy = 0.62, train_time = 8.89, test_time = 1.18 \n",
            "Epoch: 12, Training Loss: 0.25, Validation Loss: 0.82, Training accuracy = 0.90, Test accuracy = 0.65, train_time = 8.84, test_time = 1.17 \n",
            "Epoch: 13, Training Loss: 0.25, Validation Loss: 0.77, Training accuracy = 0.91, Test accuracy = 0.68, train_time = 8.86, test_time = 1.17 \n",
            "Epoch: 14, Training Loss: 0.28, Validation Loss: 0.88, Training accuracy = 0.88, Test accuracy = 0.62, train_time = 8.85, test_time = 1.17 \n",
            "Epoch: 15, Training Loss: 0.25, Validation Loss: 0.89, Training accuracy = 0.90, Test accuracy = 0.60, train_time = 8.90, test_time = 1.15 \n",
            "Epoch: 16, Training Loss: 0.27, Validation Loss: 0.97, Training accuracy = 0.89, Test accuracy = 0.57, train_time = 8.89, test_time = 1.15 \n",
            "Epoch: 17, Training Loss: 0.23, Validation Loss: 1.18, Training accuracy = 0.91, Test accuracy = 0.64, train_time = 9.01, test_time = 1.19 \n",
            "Epoch: 18, Training Loss: 0.20, Validation Loss: 0.85, Training accuracy = 0.93, Test accuracy = 0.61, train_time = 8.98, test_time = 1.18 \n",
            "Epoch: 19, Training Loss: 0.18, Validation Loss: 0.97, Training accuracy = 0.94, Test accuracy = 0.58, train_time = 8.99, test_time = 1.17 \n",
            "Epoch: 20, Training Loss: 0.19, Validation Loss: 1.14, Training accuracy = 0.93, Test accuracy = 0.54, train_time = 8.94, test_time = 1.20 \n",
            "Epoch: 21, Training Loss: 0.16, Validation Loss: 1.07, Training accuracy = 0.94, Test accuracy = 0.58, train_time = 9.04, test_time = 1.19 \n",
            "Epoch: 22, Training Loss: 0.12, Validation Loss: 1.01, Training accuracy = 0.96, Test accuracy = 0.61, train_time = 8.99, test_time = 1.17 \n",
            "Epoch: 23, Training Loss: 0.13, Validation Loss: 0.93, Training accuracy = 0.95, Test accuracy = 0.62, train_time = 9.06, test_time = 1.18 \n",
            "Epoch: 24, Training Loss: 0.10, Validation Loss: 0.96, Training accuracy = 0.96, Test accuracy = 0.66, train_time = 9.05, test_time = 1.21 \n",
            "Epoch: 25, Training Loss: 0.10, Validation Loss: 1.11, Training accuracy = 0.96, Test accuracy = 0.66, train_time = 9.09, test_time = 1.18 \n",
            "Epoch: 26, Training Loss: 0.08, Validation Loss: 1.08, Training accuracy = 0.97, Test accuracy = 0.66, train_time = 9.10, test_time = 1.16 \n",
            "Epoch: 27, Training Loss: 0.07, Validation Loss: 1.03, Training accuracy = 0.98, Test accuracy = 0.66, train_time = 9.06, test_time = 1.18 \n",
            "Epoch: 28, Training Loss: 0.07, Validation Loss: 1.12, Training accuracy = 0.98, Test accuracy = 0.65, train_time = 8.99, test_time = 1.23 \n",
            "Epoch: 29, Training Loss: 0.08, Validation Loss: 1.26, Training accuracy = 0.97, Test accuracy = 0.63, train_time = 9.14, test_time = 1.18 \n",
            "Epoch: 30, Training Loss: 0.11, Validation Loss: 1.01, Training accuracy = 0.95, Test accuracy = 0.58, train_time = 9.00, test_time = 1.16 \n",
            "Epoch: 31, Training Loss: 0.12, Validation Loss: 1.36, Training accuracy = 0.95, Test accuracy = 0.59, train_time = 8.96, test_time = 1.18 \n",
            "Epoch: 32, Training Loss: 0.13, Validation Loss: 1.18, Training accuracy = 0.96, Test accuracy = 0.63, train_time = 8.99, test_time = 1.19 \n",
            "Epoch: 33, Training Loss: 0.12, Validation Loss: 1.03, Training accuracy = 0.96, Test accuracy = 0.56, train_time = 9.02, test_time = 1.18 \n",
            "Epoch: 34, Training Loss: 0.12, Validation Loss: 1.25, Training accuracy = 0.96, Test accuracy = 0.63, train_time = 9.07, test_time = 1.19 \n",
            "Epoch: 35, Training Loss: 0.08, Validation Loss: 1.18, Training accuracy = 0.98, Test accuracy = 0.62, train_time = 9.11, test_time = 1.22 \n",
            "Epoch: 36, Training Loss: 0.12, Validation Loss: 0.99, Training accuracy = 0.96, Test accuracy = 0.63, train_time = 9.03, test_time = 1.17 \n",
            "Epoch: 37, Training Loss: 0.07, Validation Loss: 0.95, Training accuracy = 0.98, Test accuracy = 0.64, train_time = 9.11, test_time = 1.19 \n",
            "Epoch: 38, Training Loss: 0.05, Validation Loss: 1.03, Training accuracy = 0.98, Test accuracy = 0.67, train_time = 9.00, test_time = 1.16 \n",
            "Epoch: 39, Training Loss: 0.06, Validation Loss: 1.18, Training accuracy = 0.98, Test accuracy = 0.69, train_time = 8.86, test_time = 1.17 \n",
            "Epoch: 40, Training Loss: 0.06, Validation Loss: 1.12, Training accuracy = 0.97, Test accuracy = 0.68, train_time = 8.80, test_time = 1.15 \n"
          ]
        }
      ]
    },
    {
      "cell_type": "code",
      "metadata": {
        "id": "j9Va9u37-2dI",
        "colab": {
          "base_uri": "https://localhost:8080/",
          "height": 545
        },
        "outputId": "45697288-69eb-4cdb-e62a-51acd060f76b"
      },
      "source": [
        "plot_history(history_values)"
      ],
      "execution_count": null,
      "outputs": [
        {
          "output_type": "display_data",
          "data": {
            "image/png": "[encoded data removed]",
            "text/plain": [
              "<Figure size 432x288 with 1 Axes>"
            ]
          },
          "metadata": {
            "needs_background": "light"
          }
        },
        {
          "output_type": "display_data",
          "data": {
            "image/png": "[encoded data removed]",
            "text/plain": [
              "<Figure size 432x288 with 1 Axes>"
            ]
          },
          "metadata": {
            "needs_background": "light"
          }
        }
      ]
    },
    {
      "cell_type": "code",
      "metadata": {
        "id": "EPBdEtqAC4O3",
        "colab": {
          "base_uri": "https://localhost:8080/"
        },
        "outputId": "e5a1c40d-fb7a-4dfb-d573-1f1e881be6fe"
      },
      "source": [
        "test_model(model, loss_fn, test_loader, )"
      ],
      "execution_count": null,
      "outputs": [
        {
          "output_type": "stream",
          "name": "stdout",
          "text": [
            "accuracy = 0.61, test_time = 54.36 \n"
          ]
        }
      ]
    },
    {
      "cell_type": "code",
      "metadata": {
        "id": "MWpPOGQqCERK",
        "colab": {
          "base_uri": "https://localhost:8080/"
        },
        "outputId": "ffb86cc8-c7b3-460a-f6f0-3fb2f24a125e"
      },
      "source": [
        "best_model = CNN()\n",
        "best_model.load_state_dict(torch.load(PATH))"
      ],
      "execution_count": null,
      "outputs": [
        {
          "output_type": "stream",
          "name": "stderr",
          "text": [
            "/usr/local/lib/python3.7/dist-packages/torch/nn/modules/lazy.py:178: UserWarning: Lazy modules are a new feature under heavy development so changes to the API or functionality can happen at any moment.\n",
            "  warnings.warn('Lazy modules are a new feature under heavy development '\n"
          ]
        },
        {
          "output_type": "execute_result",
          "data": {
            "text/plain": [
              "<All keys matched successfully>"
            ]
          },
          "metadata": {},
          "execution_count": 70
        }
      ]
    },
    {
      "cell_type": "code",
      "metadata": {
        "id": "2pfUpbzN6l-w",
        "colab": {
          "base_uri": "https://localhost:8080/"
        },
        "outputId": "ab60db69-a709-439f-db75-b0f356d7a2a1"
      },
      "source": [
        "test_model(best_model, loss_fn, test_loader, )"
      ],
      "execution_count": null,
      "outputs": [
        {
          "output_type": "stream",
          "name": "stdout",
          "text": [
            "accuracy = 0.65, test_time = 53.33 \n"
          ]
        }
      ]
    },
    {
      "cell_type": "markdown",
      "metadata": {
        "id": "pcO4o4bwSgek"
      },
      "source": [
        "We can see, that the model significantly overfitted. Accuracy almost didn't rise, loss rose."
      ]
    },
    {
      "cell_type": "markdown",
      "metadata": {
        "id": "HRPMkwHGGKtD"
      },
      "source": [
        "## Pre-trained model"
      ]
    },
    {
      "cell_type": "markdown",
      "metadata": {
        "id": "hkKWG6tYSxIV"
      },
      "source": [
        "Let's try to use pretrained model. We will disable gradient in main layers, despite BatchNormalization."
      ]
    },
    {
      "cell_type": "code",
      "metadata": {
        "id": "hJpzLf1QGOZ7"
      },
      "source": [
        "from torchvision import models\n",
        "transfer_model = models.resnet50(pretrained=True)\n",
        "\n",
        "for name, param in transfer_model.named_parameters():\n",
        "  if(\"bn\" not in name):\n",
        "    param.requires_grad = False\n",
        "\n",
        "transfer_model.fc = nn.Sequential(\n",
        "    nn.Linear(transfer_model.fc.in_features, 512), \n",
        "    nn.ReLU(),\n",
        "    nn.Dropout(), \n",
        "    nn.Linear(512, 2)\n",
        ")\n",
        "\n",
        "loss_fn = nn.CrossEntropyLoss()\n",
        "optimizer = torch.optim.Adam(transfer_model.parameters(), lr=0.0001)"
      ],
      "execution_count": null,
      "outputs": []
    },
    {
      "cell_type": "code",
      "metadata": {
        "id": "ZJo4BSxUGOfq",
        "colab": {
          "base_uri": "https://localhost:8080/"
        },
        "outputId": "8dbe43b9-88d5-4869-ed71-ddaaea448063"
      },
      "source": [
        "history_values1 = train_model(transfer_model, optimizer, loss_fn, train_loader, val_loader, epochs=50, device='cuda')"
      ],
      "execution_count": null,
      "outputs": [
        {
          "output_type": "stream",
          "name": "stdout",
          "text": [
            "Epoch: 1, Training Loss: 0.69, Validation Loss: 0.61, Training accuracy = 0.54, Test accuracy = 0.77, train_time = 10.93, test_time = 1.74 \n",
            "Epoch: 2, Training Loss: 0.62, Validation Loss: 0.57, Training accuracy = 0.73, Test accuracy = 0.83, train_time = 10.99, test_time = 1.70 \n",
            "Epoch: 3, Training Loss: 0.55, Validation Loss: 0.53, Training accuracy = 0.81, Test accuracy = 0.86, train_time = 10.87, test_time = 1.76 \n",
            "Epoch: 4, Training Loss: 0.51, Validation Loss: 0.48, Training accuracy = 0.83, Test accuracy = 0.89, train_time = 10.53, test_time = 1.60 \n",
            "Epoch: 5, Training Loss: 0.45, Validation Loss: 0.44, Training accuracy = 0.84, Test accuracy = 0.89, train_time = 10.53, test_time = 1.67 \n",
            "Epoch: 6, Training Loss: 0.42, Validation Loss: 0.40, Training accuracy = 0.86, Test accuracy = 0.92, train_time = 10.56, test_time = 1.66 \n",
            "Epoch: 7, Training Loss: 0.37, Validation Loss: 0.37, Training accuracy = 0.88, Test accuracy = 0.92, train_time = 10.49, test_time = 1.58 \n",
            "Epoch: 8, Training Loss: 0.36, Validation Loss: 0.35, Training accuracy = 0.88, Test accuracy = 0.91, train_time = 10.23, test_time = 1.62 \n",
            "Epoch: 9, Training Loss: 0.32, Validation Loss: 0.32, Training accuracy = 0.90, Test accuracy = 0.89, train_time = 10.27, test_time = 1.59 \n",
            "Epoch: 10, Training Loss: 0.30, Validation Loss: 0.30, Training accuracy = 0.89, Test accuracy = 0.90, train_time = 10.23, test_time = 1.61 \n",
            "Epoch: 11, Training Loss: 0.28, Validation Loss: 0.30, Training accuracy = 0.89, Test accuracy = 0.89, train_time = 10.22, test_time = 1.61 \n",
            "Epoch: 12, Training Loss: 0.27, Validation Loss: 0.29, Training accuracy = 0.90, Test accuracy = 0.89, train_time = 10.32, test_time = 1.61 \n",
            "Epoch: 13, Training Loss: 0.26, Validation Loss: 0.28, Training accuracy = 0.90, Test accuracy = 0.89, train_time = 10.26, test_time = 1.62 \n",
            "Epoch: 14, Training Loss: 0.22, Validation Loss: 0.27, Training accuracy = 0.92, Test accuracy = 0.89, train_time = 10.22, test_time = 1.58 \n",
            "Epoch: 15, Training Loss: 0.22, Validation Loss: 0.26, Training accuracy = 0.91, Test accuracy = 0.90, train_time = 10.22, test_time = 1.58 \n",
            "Epoch: 16, Training Loss: 0.20, Validation Loss: 0.26, Training accuracy = 0.93, Test accuracy = 0.90, train_time = 10.24, test_time = 1.62 \n",
            "Epoch: 17, Training Loss: 0.19, Validation Loss: 0.26, Training accuracy = 0.92, Test accuracy = 0.90, train_time = 10.27, test_time = 1.62 \n",
            "Epoch: 18, Training Loss: 0.17, Validation Loss: 0.25, Training accuracy = 0.94, Test accuracy = 0.90, train_time = 10.22, test_time = 1.58 \n",
            "Epoch: 19, Training Loss: 0.17, Validation Loss: 0.25, Training accuracy = 0.94, Test accuracy = 0.91, train_time = 10.22, test_time = 1.59 \n",
            "Epoch: 20, Training Loss: 0.17, Validation Loss: 0.25, Training accuracy = 0.94, Test accuracy = 0.92, train_time = 10.29, test_time = 1.63 \n",
            "Epoch: 21, Training Loss: 0.16, Validation Loss: 0.24, Training accuracy = 0.95, Test accuracy = 0.91, train_time = 10.35, test_time = 1.55 \n",
            "Epoch: 22, Training Loss: 0.14, Validation Loss: 0.24, Training accuracy = 0.95, Test accuracy = 0.90, train_time = 10.07, test_time = 1.56 \n",
            "Epoch: 23, Training Loss: 0.13, Validation Loss: 0.24, Training accuracy = 0.96, Test accuracy = 0.91, train_time = 10.02, test_time = 1.51 \n",
            "Epoch: 24, Training Loss: 0.15, Validation Loss: 0.24, Training accuracy = 0.94, Test accuracy = 0.92, train_time = 10.02, test_time = 1.55 \n",
            "Epoch: 25, Training Loss: 0.13, Validation Loss: 0.26, Training accuracy = 0.95, Test accuracy = 0.92, train_time = 10.08, test_time = 1.55 \n",
            "Epoch: 26, Training Loss: 0.13, Validation Loss: 0.25, Training accuracy = 0.96, Test accuracy = 0.91, train_time = 10.07, test_time = 1.53 \n",
            "Epoch: 27, Training Loss: 0.11, Validation Loss: 0.25, Training accuracy = 0.97, Test accuracy = 0.91, train_time = 10.04, test_time = 1.59 \n",
            "Epoch: 28, Training Loss: 0.11, Validation Loss: 0.27, Training accuracy = 0.96, Test accuracy = 0.93, train_time = 10.09, test_time = 1.55 \n",
            "Epoch: 29, Training Loss: 0.10, Validation Loss: 0.25, Training accuracy = 0.97, Test accuracy = 0.93, train_time = 10.05, test_time = 1.57 \n",
            "Epoch: 30, Training Loss: 0.09, Validation Loss: 0.24, Training accuracy = 0.98, Test accuracy = 0.92, train_time = 9.96, test_time = 1.53 \n",
            "Epoch: 31, Training Loss: 0.12, Validation Loss: 0.27, Training accuracy = 0.95, Test accuracy = 0.91, train_time = 10.05, test_time = 1.58 \n",
            "Epoch: 32, Training Loss: 0.08, Validation Loss: 0.25, Training accuracy = 0.98, Test accuracy = 0.94, train_time = 10.01, test_time = 1.53 \n",
            "Epoch: 33, Training Loss: 0.10, Validation Loss: 0.24, Training accuracy = 0.97, Test accuracy = 0.93, train_time = 10.10, test_time = 1.54 \n",
            "Epoch: 34, Training Loss: 0.09, Validation Loss: 0.26, Training accuracy = 0.98, Test accuracy = 0.91, train_time = 10.03, test_time = 1.54 \n",
            "Epoch: 35, Training Loss: 0.09, Validation Loss: 0.23, Training accuracy = 0.97, Test accuracy = 0.93, train_time = 10.00, test_time = 1.56 \n",
            "Epoch: 36, Training Loss: 0.07, Validation Loss: 0.24, Training accuracy = 0.98, Test accuracy = 0.94, train_time = 10.04, test_time = 1.55 \n",
            "Epoch: 37, Training Loss: 0.08, Validation Loss: 0.25, Training accuracy = 0.97, Test accuracy = 0.94, train_time = 10.05, test_time = 1.56 \n",
            "Epoch: 38, Training Loss: 0.07, Validation Loss: 0.24, Training accuracy = 0.98, Test accuracy = 0.94, train_time = 10.07, test_time = 1.54 \n",
            "Epoch: 39, Training Loss: 0.07, Validation Loss: 0.24, Training accuracy = 0.97, Test accuracy = 0.93, train_time = 10.00, test_time = 1.58 \n",
            "Epoch: 40, Training Loss: 0.05, Validation Loss: 0.25, Training accuracy = 0.98, Test accuracy = 0.93, train_time = 10.02, test_time = 1.55 \n",
            "Epoch: 41, Training Loss: 0.07, Validation Loss: 0.27, Training accuracy = 0.98, Test accuracy = 0.91, train_time = 10.02, test_time = 1.55 \n",
            "Epoch: 42, Training Loss: 0.06, Validation Loss: 0.24, Training accuracy = 0.98, Test accuracy = 0.93, train_time = 10.03, test_time = 1.53 \n",
            "Epoch: 43, Training Loss: 0.06, Validation Loss: 0.26, Training accuracy = 0.98, Test accuracy = 0.93, train_time = 10.10, test_time = 1.55 \n",
            "Epoch: 44, Training Loss: 0.05, Validation Loss: 0.27, Training accuracy = 0.97, Test accuracy = 0.91, train_time = 10.05, test_time = 1.55 \n",
            "Epoch: 45, Training Loss: 0.05, Validation Loss: 0.25, Training accuracy = 0.98, Test accuracy = 0.93, train_time = 10.00, test_time = 1.56 \n",
            "Epoch: 46, Training Loss: 0.05, Validation Loss: 0.24, Training accuracy = 0.98, Test accuracy = 0.91, train_time = 10.06, test_time = 1.56 \n",
            "Epoch: 47, Training Loss: 0.04, Validation Loss: 0.25, Training accuracy = 0.99, Test accuracy = 0.94, train_time = 10.15, test_time = 1.55 \n",
            "Epoch: 48, Training Loss: 0.05, Validation Loss: 0.26, Training accuracy = 0.99, Test accuracy = 0.94, train_time = 10.09, test_time = 1.54 \n",
            "Epoch: 49, Training Loss: 0.04, Validation Loss: 0.26, Training accuracy = 0.99, Test accuracy = 0.93, train_time = 10.04, test_time = 1.55 \n",
            "Epoch: 50, Training Loss: 0.04, Validation Loss: 0.25, Training accuracy = 0.99, Test accuracy = 0.94, train_time = 10.07, test_time = 1.56 \n"
          ]
        }
      ]
    },
    {
      "cell_type": "code",
      "metadata": {
        "id": "iSbcYCBOg7wl",
        "colab": {
          "base_uri": "https://localhost:8080/",
          "height": 545
        },
        "outputId": "aa4cf8ad-d112-4512-fcfe-480bfe60c31c"
      },
      "source": [
        "plot_history(history_values1)"
      ],
      "execution_count": null,
      "outputs": [
        {
          "output_type": "display_data",
          "data": {
            "image/png": "[encoded data removed]",
            "text/plain": [
              "<Figure size 432x288 with 1 Axes>"
            ]
          },
          "metadata": {
            "needs_background": "light"
          }
        },
        {
          "output_type": "display_data",
          "data": {
            "image/png": "[encoded data removed]",
            "text/plain": [
              "<Figure size 432x288 with 1 Axes>"
            ]
          },
          "metadata": {
            "needs_background": "light"
          }
        }
      ]
    },
    {
      "cell_type": "code",
      "metadata": {
        "id": "pNyQOwLVMg9m",
        "colab": {
          "base_uri": "https://localhost:8080/"
        },
        "outputId": "a36a33a1-05ec-4d32-9e04-4a948a5390ff"
      },
      "source": [
        "test_model(transfer_model, loss_fn, test_loader, device='cuda')"
      ],
      "execution_count": null,
      "outputs": [
        {
          "output_type": "stream",
          "name": "stdout",
          "text": [
            "accuracy = 0.89, test_time = 7.72 \n"
          ]
        }
      ]
    },
    {
      "cell_type": "code",
      "metadata": {
        "id": "4bGJHcV0MhAY",
        "colab": {
          "base_uri": "https://localhost:8080/"
        },
        "outputId": "6e61dc3b-8eab-4502-ab78-7432701e111b"
      },
      "source": [
        "transfer_model.load_state_dict(torch.load(PATH))"
      ],
      "execution_count": null,
      "outputs": [
        {
          "output_type": "execute_result",
          "data": {
            "text/plain": [
              "<All keys matched successfully>"
            ]
          },
          "metadata": {},
          "execution_count": 49
        }
      ]
    },
    {
      "cell_type": "code",
      "metadata": {
        "id": "Ul9VEB6hMmF7",
        "colab": {
          "base_uri": "https://localhost:8080/"
        },
        "outputId": "a27698d6-383e-4524-815f-7b77b3876e55"
      },
      "source": [
        "test_model(transfer_model, loss_fn, test_loader, device='cuda')"
      ],
      "execution_count": null,
      "outputs": [
        {
          "output_type": "stream",
          "name": "stdout",
          "text": [
            "accuracy = 0.90, test_time = 7.67 \n"
          ]
        }
      ]
    },
    {
      "cell_type": "markdown",
      "metadata": {
        "id": "4gVmcr_stkS_"
      },
      "source": [
        "We can see overfitting, but not so significant, as previous NN showed. Accuracy is about 0.9."
      ]
    },
    {
      "cell_type": "markdown",
      "metadata": {
        "id": "uthQGFsKg_g1"
      },
      "source": [
        "## Un-freezed layers"
      ]
    },
    {
      "cell_type": "code",
      "metadata": {
        "id": "bes6KkaQOiIM"
      },
      "source": [
        "transfer_model = models.resnet50(pretrained=True)\n",
        "\n",
        "for name, param in transfer_model.named_parameters():\n",
        "    param.requires_grad = True\n",
        "\n",
        "transfer_model.fc = nn.Sequential(\n",
        "    nn.Linear(transfer_model.fc.in_features, 512), \n",
        "    nn.ReLU(),\n",
        "    nn.Dropout(), \n",
        "    nn.Linear(512, 2)\n",
        ")\n",
        "\n",
        "loss_fn = nn.CrossEntropyLoss()\n",
        "optimizer = torch.optim.Adam(transfer_model.parameters(), lr=0.00001)"
      ],
      "execution_count": null,
      "outputs": []
    },
    {
      "cell_type": "code",
      "metadata": {
        "colab": {
          "base_uri": "https://localhost:8080/"
        },
        "id": "sj2hZcZlK8Xe",
        "outputId": "390eede9-fd36-414c-b7e6-dd138fcac4d2"
      },
      "source": [
        "history_values2 = train_model(transfer_model, optimizer, loss_fn, train_loader, val_loader, epochs=30, device='cuda')"
      ],
      "execution_count": null,
      "outputs": [
        {
          "output_type": "stream",
          "name": "stdout",
          "text": [
            "Epoch: 1, Training Loss: 0.70, Validation Loss: 0.68, Training accuracy = 0.52, Test accuracy = 0.66, train_time = 12.63, test_time = 1.52 \n",
            "Epoch: 2, Training Loss: 0.67, Validation Loss: 0.65, Training accuracy = 0.61, Test accuracy = 0.80, train_time = 12.53, test_time = 1.53 \n",
            "Epoch: 3, Training Loss: 0.63, Validation Loss: 0.63, Training accuracy = 0.72, Test accuracy = 0.87, train_time = 12.54, test_time = 1.54 \n",
            "Epoch: 4, Training Loss: 0.60, Validation Loss: 0.60, Training accuracy = 0.79, Test accuracy = 0.87, train_time = 12.52, test_time = 1.54 \n",
            "Epoch: 5, Training Loss: 0.56, Validation Loss: 0.57, Training accuracy = 0.85, Test accuracy = 0.89, train_time = 12.61, test_time = 1.55 \n",
            "Epoch: 6, Training Loss: 0.53, Validation Loss: 0.54, Training accuracy = 0.86, Test accuracy = 0.90, train_time = 12.64, test_time = 1.56 \n",
            "Epoch: 7, Training Loss: 0.49, Validation Loss: 0.50, Training accuracy = 0.88, Test accuracy = 0.92, train_time = 12.64, test_time = 1.57 \n",
            "Epoch: 8, Training Loss: 0.44, Validation Loss: 0.45, Training accuracy = 0.90, Test accuracy = 0.92, train_time = 12.59, test_time = 1.58 \n",
            "Epoch: 9, Training Loss: 0.39, Validation Loss: 0.41, Training accuracy = 0.92, Test accuracy = 0.92, train_time = 12.57, test_time = 1.59 \n",
            "Epoch: 10, Training Loss: 0.34, Validation Loss: 0.37, Training accuracy = 0.91, Test accuracy = 0.92, train_time = 12.63, test_time = 1.58 \n",
            "Epoch: 11, Training Loss: 0.29, Validation Loss: 0.34, Training accuracy = 0.94, Test accuracy = 0.92, train_time = 12.55, test_time = 1.55 \n",
            "Epoch: 12, Training Loss: 0.26, Validation Loss: 0.31, Training accuracy = 0.94, Test accuracy = 0.93, train_time = 12.63, test_time = 1.56 \n",
            "Epoch: 13, Training Loss: 0.23, Validation Loss: 0.29, Training accuracy = 0.94, Test accuracy = 0.93, train_time = 12.72, test_time = 1.56 \n",
            "Epoch: 14, Training Loss: 0.19, Validation Loss: 0.27, Training accuracy = 0.97, Test accuracy = 0.92, train_time = 12.60, test_time = 1.57 \n",
            "Epoch: 15, Training Loss: 0.16, Validation Loss: 0.26, Training accuracy = 0.97, Test accuracy = 0.92, train_time = 12.71, test_time = 1.58 \n",
            "Epoch: 16, Training Loss: 0.15, Validation Loss: 0.25, Training accuracy = 0.96, Test accuracy = 0.92, train_time = 12.69, test_time = 1.65 \n",
            "Epoch: 17, Training Loss: 0.13, Validation Loss: 0.23, Training accuracy = 0.97, Test accuracy = 0.93, train_time = 12.76, test_time = 1.54 \n",
            "Epoch: 18, Training Loss: 0.11, Validation Loss: 0.22, Training accuracy = 0.97, Test accuracy = 0.94, train_time = 12.62, test_time = 1.56 \n",
            "Epoch: 19, Training Loss: 0.10, Validation Loss: 0.21, Training accuracy = 0.98, Test accuracy = 0.94, train_time = 12.66, test_time = 1.57 \n",
            "Epoch: 20, Training Loss: 0.09, Validation Loss: 0.20, Training accuracy = 0.98, Test accuracy = 0.94, train_time = 12.58, test_time = 1.57 \n",
            "Epoch: 21, Training Loss: 0.08, Validation Loss: 0.20, Training accuracy = 0.98, Test accuracy = 0.94, train_time = 12.57, test_time = 1.56 \n",
            "Epoch: 22, Training Loss: 0.07, Validation Loss: 0.20, Training accuracy = 0.99, Test accuracy = 0.94, train_time = 12.60, test_time = 1.59 \n",
            "Epoch: 23, Training Loss: 0.05, Validation Loss: 0.20, Training accuracy = 0.99, Test accuracy = 0.93, train_time = 12.61, test_time = 1.57 \n",
            "Epoch: 24, Training Loss: 0.05, Validation Loss: 0.20, Training accuracy = 0.99, Test accuracy = 0.92, train_time = 12.58, test_time = 1.56 \n",
            "Epoch: 25, Training Loss: 0.05, Validation Loss: 0.20, Training accuracy = 0.99, Test accuracy = 0.93, train_time = 12.57, test_time = 1.54 \n",
            "Epoch: 26, Training Loss: 0.05, Validation Loss: 0.19, Training accuracy = 0.99, Test accuracy = 0.93, train_time = 12.62, test_time = 1.57 \n",
            "Epoch: 27, Training Loss: 0.04, Validation Loss: 0.19, Training accuracy = 0.99, Test accuracy = 0.93, train_time = 12.59, test_time = 1.57 \n",
            "Epoch: 28, Training Loss: 0.04, Validation Loss: 0.19, Training accuracy = 1.00, Test accuracy = 0.93, train_time = 12.58, test_time = 1.70 \n",
            "Epoch: 29, Training Loss: 0.03, Validation Loss: 0.19, Training accuracy = 0.99, Test accuracy = 0.94, train_time = 13.32, test_time = 1.75 \n",
            "Epoch: 30, Training Loss: 0.03, Validation Loss: 0.19, Training accuracy = 1.00, Test accuracy = 0.92, train_time = 13.22, test_time = 1.73 \n"
          ]
        }
      ]
    },
    {
      "cell_type": "code",
      "metadata": {
        "colab": {
          "base_uri": "https://localhost:8080/",
          "height": 545
        },
        "id": "YnOzNkoKleKo",
        "outputId": "1f7fa0f4-21e8-43b5-f595-028036fba01b"
      },
      "source": [
        "plot_history(history_values2)"
      ],
      "execution_count": null,
      "outputs": [
        {
          "output_type": "display_data",
          "data": {
            "image/png": "[encoded data removed]",
            "text/plain": [
              "<Figure size 432x288 with 1 Axes>"
            ]
          },
          "metadata": {
            "needs_background": "light"
          }
        },
        {
          "output_type": "display_data",
          "data": {
            "image/png": "[encoded data removed]",
            "text/plain": [
              "<Figure size 432x288 with 1 Axes>"
            ]
          },
          "metadata": {
            "needs_background": "light"
          }
        }
      ]
    },
    {
      "cell_type": "code",
      "metadata": {
        "id": "oT2bke3ZW_pf",
        "colab": {
          "base_uri": "https://localhost:8080/"
        },
        "outputId": "f20dc20a-fd34-47e7-836d-1fba9a660244"
      },
      "source": [
        "test_model(transfer_model, loss_fn, test_loader, device='cuda')"
      ],
      "execution_count": null,
      "outputs": [
        {
          "output_type": "stream",
          "name": "stdout",
          "text": [
            "accuracy = 0.91, test_time = 8.52 \n"
          ]
        }
      ]
    },
    {
      "cell_type": "code",
      "metadata": {
        "colab": {
          "base_uri": "https://localhost:8080/"
        },
        "id": "Kxx9V2ezjP-d",
        "outputId": "c2af5428-d0fd-4f77-e054-a4abbf45c4a0"
      },
      "source": [
        "transfer_model.load_state_dict(torch.load(PATH))"
      ],
      "execution_count": null,
      "outputs": [
        {
          "output_type": "execute_result",
          "data": {
            "text/plain": [
              "<All keys matched successfully>"
            ]
          },
          "metadata": {},
          "execution_count": 43
        }
      ]
    },
    {
      "cell_type": "code",
      "metadata": {
        "colab": {
          "base_uri": "https://localhost:8080/"
        },
        "id": "TeI2QzjfjQAx",
        "outputId": "d47e2b65-ffd0-4940-85fb-dee070a581d2"
      },
      "source": [
        "test_model(transfer_model, loss_fn, test_loader, device='cuda')"
      ],
      "execution_count": null,
      "outputs": [
        {
          "output_type": "stream",
          "name": "stdout",
          "text": [
            "accuracy = 0.92, test_time = 8.62 \n"
          ]
        }
      ]
    },
    {
      "cell_type": "markdown",
      "metadata": {
        "id": "sx_lrvtgs3xl"
      },
      "source": [
        "Some insights:\n",
        "\n",
        "* Model with enabled gradients showed better results, but trained slower. But this can be the result of randomness of NN.\n",
        "\n",
        "* Pre-trained models started with underfitting (Test accuracy > Train accuracy), and after that overfitted."
      ]
    },
    {
      "cell_type": "markdown",
      "metadata": {
        "id": "7F1yEcKjuWgF"
      },
      "source": [
        "Conclusion:\n",
        "\n",
        "NN worked good for classical task of machine learning. But it has some problems: poor interpretability and randomness. NNs built on Gradient Descent, so the results depend on start weights. And there is almost no way to interprete the recieved complex structure of NN. \n",
        "\n",
        "So, we can claim, that Neural Networks are best suited to deal with complicated tasks, like Image Classification, Object Detection and so on."
      ]
    },
    {
      "cell_type": "code",
      "metadata": {
        "id": "70R4weyhuV65"
      },
      "source": [
        ""
      ],
      "execution_count": null,
      "outputs": []
    }
  ]
}