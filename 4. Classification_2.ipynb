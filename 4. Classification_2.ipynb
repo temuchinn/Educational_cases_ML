{
  "nbformat": 4,
  "nbformat_minor": 0,
  "metadata": {
    "colab": {
      "name": "HW_cls_2.ipynb",
      "provenance": [],
      "collapsed_sections": []
    },
    "kernelspec": {
      "name": "python3",
      "display_name": "Python 3"
    },
    "language_info": {
      "name": "python"
    }
  },
  "cells": [
    {
      "cell_type": "code",
      "metadata": {
        "id": "mDqmKfivrwao",
        "colab": {
          "base_uri": "https://localhost:8080/"
        },
        "outputId": "1e15a6c3-85ac-44b6-c668-51f961165df1"
      },
      "source": [
        "!pip install pandarallel"
      ],
      "execution_count": null,
      "outputs": [
        {
          "output_type": "stream",
          "name": "stdout",
          "text": [
            "Collecting pandarallel\n",
            "  Downloading pandarallel-1.5.2.tar.gz (16 kB)\n",
            "Requirement already satisfied: dill in /usr/local/lib/python3.7/dist-packages (from pandarallel) (0.3.4)\n",
            "Building wheels for collected packages: pandarallel\n",
            "  Building wheel for pandarallel (setup.py) ... \u001b[?25l\u001b[?25hdone\n",
            "  Created wheel for pandarallel: filename=pandarallel-1.5.2-py3-none-any.whl size=18398 sha256=9f69263dbaf2c2ce5c7ae3541c8c59bc2c314d4884a45f4d0faaf7418761f8d4\n",
            "  Stored in directory: /root/.cache/pip/wheels/b5/6d/51/9ece2eaf007ea3f7fb0ce053c5773b2eb0d308887da3af12c1\n",
            "Successfully built pandarallel\n",
            "Installing collected packages: pandarallel\n",
            "Successfully installed pandarallel-1.5.2\n"
          ]
        }
      ]
    },
    {
      "cell_type": "code",
      "metadata": {
        "colab": {
          "base_uri": "https://localhost:8080/",
          "height": 289
        },
        "id": "BJERPuv6iZTq",
        "outputId": "df99dd30-93d2-484a-e9dc-d45432512f2d"
      },
      "source": [
        "import numpy as np \n",
        "import pandas as pd\n",
        "import matplotlib.pyplot as plt\n",
        "import seaborn as sns\n",
        "\n",
        "\n",
        "from sklearn.model_selection import train_test_split, cross_val_score, GridSearchCV, KFold, RandomizedSearchCV,\n",
        "from sklearn.metrics import confusion_matrix, classification_report, roc_auc_score, make_scorer, roc_curve\n",
        "from sklearn.metrics import accuracy_score, f1_score\n",
        "from sklearn.metrics import precision_score, recall_score\n",
        "\n",
        "from sklearn.naive_bayes import MultinomialNB\n",
        "from sklearn.naive_bayes import GaussianNB\n",
        "from sklearn.linear_model import LogisticRegression\n",
        "from sklearn.svm import LinearSVC, SVC\n",
        "from sklearn.linear_model import SGDClassifier\n",
        "from sklearn.ensemble import RandomForestClassifier\n",
        "from sklearn.decomposition import TruncatedSVD\n",
        "\n",
        "from sklearn.feature_extraction.text import TfidfVectorizer\n",
        "from gensim.models import Doc2Vec\n",
        "\n",
        "from sklearn.pipeline import Pipeline\n",
        "\n",
        "import unicodedata\n",
        "from sklearn.base import BaseEstimator, TransformerMixin\n",
        "from nltk.corpus import wordnet as wn\n",
        "from nltk.stem.wordnet import WordNetLemmatizer\n",
        "from nltk.stem import SnowballStemmer, PorterStemmer\n",
        "import string\n",
        "import nltk\n",
        "from nltk.tokenize import sent_tokenize, wordpunct_tokenize\n",
        "from nltk.corpus import stopwords\n",
        "from nltk import pos_tag\n",
        "import pandas as pd\n",
        "import re\n",
        "from pandarallel import pandarallel\n",
        "from pandarallel.utils import progress_bars\n",
        "from tqdm import tqdm\n",
        "\n",
        "\n",
        "tqdm.pandas()\n",
        "pandarallel.initialize(progress_bar=True)\n",
        "progress_bars.is_notebook_lab = lambda : True\n",
        "nltk.download('averaged_perceptron_tagger')\n",
        "nltk.download('stopwords')\n",
        "nltk.download('punkt')\n",
        "nltk.download('wordnet')"
      ],
      "execution_count": null,
      "outputs": [
        {
          "output_type": "error",
          "ename": "KeyboardInterrupt",
          "evalue": "ignored",
          "traceback": [
            "\u001b[0;31m---------------------------------------------------------------------------\u001b[0m",
            "\u001b[0;31mKeyboardInterrupt\u001b[0m                         Traceback (most recent call last)",
            "\u001b[0;32m<ipython-input-2-d155b69e641a>\u001b[0m in \u001b[0;36m<module>\u001b[0;34m()\u001b[0m\n\u001b[1;32m     25\u001b[0m \u001b[0;32mimport\u001b[0m \u001b[0municodedata\u001b[0m\u001b[0;34m\u001b[0m\u001b[0;34m\u001b[0m\u001b[0m\n\u001b[1;32m     26\u001b[0m \u001b[0;32mfrom\u001b[0m \u001b[0msklearn\u001b[0m\u001b[0;34m.\u001b[0m\u001b[0mbase\u001b[0m \u001b[0;32mimport\u001b[0m \u001b[0mBaseEstimator\u001b[0m\u001b[0;34m,\u001b[0m \u001b[0mTransformerMixin\u001b[0m\u001b[0;34m\u001b[0m\u001b[0;34m\u001b[0m\u001b[0m\n\u001b[0;32m---> 27\u001b[0;31m \u001b[0;32mfrom\u001b[0m \u001b[0mnltk\u001b[0m\u001b[0;34m.\u001b[0m\u001b[0mcorpus\u001b[0m \u001b[0;32mimport\u001b[0m \u001b[0mwordnet\u001b[0m \u001b[0;32mas\u001b[0m \u001b[0mwn\u001b[0m\u001b[0;34m\u001b[0m\u001b[0;34m\u001b[0m\u001b[0m\n\u001b[0m\u001b[1;32m     28\u001b[0m \u001b[0;32mfrom\u001b[0m \u001b[0mnltk\u001b[0m\u001b[0;34m.\u001b[0m\u001b[0mstem\u001b[0m\u001b[0;34m.\u001b[0m\u001b[0mwordnet\u001b[0m \u001b[0;32mimport\u001b[0m \u001b[0mWordNetLemmatizer\u001b[0m\u001b[0;34m\u001b[0m\u001b[0;34m\u001b[0m\u001b[0m\n\u001b[1;32m     29\u001b[0m \u001b[0;32mfrom\u001b[0m \u001b[0mnltk\u001b[0m\u001b[0;34m.\u001b[0m\u001b[0mstem\u001b[0m \u001b[0;32mimport\u001b[0m \u001b[0mSnowballStemmer\u001b[0m\u001b[0;34m,\u001b[0m \u001b[0mPorterStemmer\u001b[0m\u001b[0;34m\u001b[0m\u001b[0;34m\u001b[0m\u001b[0m\n",
            "\u001b[0;32m/usr/local/lib/python3.7/dist-packages/nltk/__init__.py\u001b[0m in \u001b[0;36m<module>\u001b[0;34m()\u001b[0m\n\u001b[1;32m    135\u001b[0m \u001b[0;32mfrom\u001b[0m \u001b[0mnltk\u001b[0m\u001b[0;34m.\u001b[0m\u001b[0mtranslate\u001b[0m \u001b[0;32mimport\u001b[0m \u001b[0;34m*\u001b[0m\u001b[0;34m\u001b[0m\u001b[0;34m\u001b[0m\u001b[0m\n\u001b[1;32m    136\u001b[0m \u001b[0;32mfrom\u001b[0m \u001b[0mnltk\u001b[0m\u001b[0;34m.\u001b[0m\u001b[0msem\u001b[0m \u001b[0;32mimport\u001b[0m \u001b[0;34m*\u001b[0m\u001b[0;34m\u001b[0m\u001b[0;34m\u001b[0m\u001b[0m\n\u001b[0;32m--> 137\u001b[0;31m \u001b[0;32mfrom\u001b[0m \u001b[0mnltk\u001b[0m\u001b[0;34m.\u001b[0m\u001b[0mstem\u001b[0m \u001b[0;32mimport\u001b[0m \u001b[0;34m*\u001b[0m\u001b[0;34m\u001b[0m\u001b[0;34m\u001b[0m\u001b[0m\n\u001b[0m\u001b[1;32m    138\u001b[0m \u001b[0;34m\u001b[0m\u001b[0m\n\u001b[1;32m    139\u001b[0m \u001b[0;31m# Packages which can be lazily imported\u001b[0m\u001b[0;34m\u001b[0m\u001b[0;34m\u001b[0m\u001b[0;34m\u001b[0m\u001b[0m\n",
            "\u001b[0;32m/usr/lib/python3.7/importlib/_bootstrap.py\u001b[0m in \u001b[0;36m_find_and_load\u001b[0;34m(name, import_)\u001b[0m\n",
            "\u001b[0;32m/usr/lib/python3.7/importlib/_bootstrap.py\u001b[0m in \u001b[0;36m_find_and_load_unlocked\u001b[0;34m(name, import_)\u001b[0m\n",
            "\u001b[0;32m/usr/lib/python3.7/importlib/_bootstrap.py\u001b[0m in \u001b[0;36m_load_unlocked\u001b[0;34m(spec)\u001b[0m\n",
            "\u001b[0;32m/usr/lib/python3.7/importlib/_bootstrap_external.py\u001b[0m in \u001b[0;36mexec_module\u001b[0;34m(self, module)\u001b[0m\n",
            "\u001b[0;32m/usr/lib/python3.7/importlib/_bootstrap_external.py\u001b[0m in \u001b[0;36mget_code\u001b[0;34m(self, fullname)\u001b[0m\n",
            "\u001b[0;32m/usr/lib/python3.7/importlib/_bootstrap_external.py\u001b[0m in \u001b[0;36mget_data\u001b[0;34m(self, path)\u001b[0m\n",
            "\u001b[0;31mKeyboardInterrupt\u001b[0m: "
          ]
        }
      ]
    },
    {
      "cell_type": "code",
      "metadata": {
        "id": "3Ap58v06sDcj"
      },
      "source": [
        "from google.colab import drive\n",
        "drive.mount('/content/drive')"
      ],
      "execution_count": null,
      "outputs": []
    },
    {
      "cell_type": "markdown",
      "metadata": {
        "id": "CJpKq8wHtcFs"
      },
      "source": [
        "# Data"
      ]
    },
    {
      "cell_type": "code",
      "metadata": {
        "id": "s4qR_qGosDuL"
      },
      "source": [
        "df = pd.read_csv(\"drive/MyDrive/training/HW/data/LargeMovieReviewDataset.csv\")\n",
        "df"
      ],
      "execution_count": null,
      "outputs": []
    },
    {
      "cell_type": "code",
      "metadata": {
        "id": "zcROkPltwYrq"
      },
      "source": [
        "df.info()"
      ],
      "execution_count": null,
      "outputs": []
    },
    {
      "cell_type": "code",
      "metadata": {
        "id": "Sr0UDvy-2Bur"
      },
      "source": [
        "SIZE = df.shape[0]\n",
        "SIZE"
      ],
      "execution_count": null,
      "outputs": []
    },
    {
      "cell_type": "code",
      "metadata": {
        "id": "ryvT0VaDtLz4"
      },
      "source": [
        "df.sentiment.value_counts()"
      ],
      "execution_count": null,
      "outputs": []
    },
    {
      "cell_type": "code",
      "metadata": {
        "id": "KgE37bD1tvkc"
      },
      "source": [
        "chars_count = df.review.agg(len)\n",
        "chars_count.max(), chars_count.min(), chars_count.mean(), chars_count.median()"
      ],
      "execution_count": null,
      "outputs": []
    },
    {
      "cell_type": "code",
      "metadata": {
        "id": "v5Zfliw0PDbs"
      },
      "source": [
        "chars_count.hist(bins=100);"
      ],
      "execution_count": null,
      "outputs": []
    },
    {
      "cell_type": "code",
      "metadata": {
        "id": "nl_5HoEyM5nT"
      },
      "source": [
        "df"
      ],
      "execution_count": null,
      "outputs": []
    },
    {
      "cell_type": "markdown",
      "metadata": {
        "id": "ulnot1cROWeu"
      },
      "source": [
        "* We can see, that the dataset is balanced. It contains both large (max: 13704 chars) and small (min: 32 chars) sentences. "
      ]
    },
    {
      "cell_type": "markdown",
      "metadata": {
        "id": "k5XdY3lQvNys"
      },
      "source": [
        "# Data preparation"
      ]
    },
    {
      "cell_type": "markdown",
      "metadata": {
        "id": "zQCdcOy4Pix-"
      },
      "source": [
        "Further we will apply some basic text cleaning and transformation techniques, required for effective vectorization (removing html markup, numbers, punctuation and stopwords; dividing texts into tokens, assigning tags to tokens and text normalization)."
      ]
    },
    {
      "cell_type": "markdown",
      "metadata": {
        "id": "8_sXSZ6XNVlM"
      },
      "source": [
        "## Text cleaning and tagging"
      ]
    },
    {
      "cell_type": "markdown",
      "metadata": {
        "id": "SrzxKpH_Q1FN"
      },
      "source": [
        "Here is the first stage of data preprocessing. We will save the resulted data (these preparations are very long)."
      ]
    },
    {
      "cell_type": "code",
      "metadata": {
        "id": "s3xJdy1jhGB4"
      },
      "source": [
        "def text_preprocessing(text):\n",
        "  \"\"\"\n",
        "  Remove html markup and numbers, dividing into sentences and wordtokens, and after that assigning tags to tokens.\n",
        "  \"\"\"\n",
        "  return [\n",
        "          pos_tag(wordpunct_tokenize(sent)) \n",
        "          for sent in sent_tokenize(remove_numbers_and_html(text))\n",
        "  ]\n",
        "\n",
        "\n",
        "def remove_numbers_and_html(raw_text):\n",
        "  cleanr = re.compile('\\d+|<.*?>|&([a-z0-9]+|#[0-9]{1,6}|#x[0-9a-f]{1,6});')\n",
        "  return re.sub(cleanr, '', raw_text)"
      ],
      "execution_count": null,
      "outputs": []
    },
    {
      "cell_type": "markdown",
      "metadata": {
        "id": "ADPY8bWZRfUV"
      },
      "source": [
        "* Here we save dataframe to json file.\n",
        "* We can parralelize this process. "
      ]
    },
    {
      "cell_type": "code",
      "metadata": {
        "id": "kBE8AC0lfrvG"
      },
      "source": [
        "%%time\n",
        "import os\n",
        "\n",
        "mapper = {\n",
        "    'negative': 0,\n",
        "    'positive': 1\n",
        "}\n",
        "\n",
        "if os.path.isfile('drive/MyDrive/training/HW/data/tagged.json'):\n",
        "  df_tagged = pd.read_json('drive/MyDrive/training/HW/data/tagged.json')[['review', 'sent']]\n",
        "else:\n",
        "  df_tagged = pd.DataFrame()\n",
        "  df_tagged['review'], df_tagged['sent'] = df['review'].parallel_apply(text_preprocessing), df.sentiment.map(mapper)\n",
        "  df_tagged['review', 'sent'].to_json('drive/MyDrive/training/HW/data/tagged.json')\n",
        "\n",
        "display(df_tagged)"
      ],
      "execution_count": null,
      "outputs": []
    },
    {
      "cell_type": "markdown",
      "metadata": {
        "id": "-25icUABNiUS"
      },
      "source": [
        "## Normalizaton"
      ]
    },
    {
      "cell_type": "markdown",
      "metadata": {
        "id": "VodjsMkJSIh7"
      },
      "source": [
        "* Here is the transformer, which can be used in pipeline (but I abandoned that idea, because it is too long; I created new columns in our data: lemmatized and stemmed data)."
      ]
    },
    {
      "cell_type": "code",
      "metadata": {
        "id": "Dz4U9GUhvRFE"
      },
      "source": [
        "class TextNormalizer(BaseEstimator, TransformerMixin):\n",
        "\n",
        "  def __init__(self, norm='stem',language = 'english'):\n",
        "    self.norm = norm\n",
        "    self.stopwords = set(nltk.corpus.stopwords.words(language))\n",
        "    \n",
        "    if self.norm == 'lemm':\n",
        "      self.lemmatizer = WordNetLemmatizer()\n",
        "    elif self.norm == 'stem':\n",
        "      self.stemmer = SnowballStemmer(language)\n",
        "\n",
        "  def is_punct(self, token):\n",
        "    return all(\n",
        "      unicodedata.category(char).startswith('P') for char in token\n",
        "    )\n",
        "\n",
        "  def is_stopword(self, token):\n",
        "    return token.lower() in self.stopwords\n",
        "\n",
        "  def normalize(self, text):\n",
        "    if self.norm == 'lemm':\n",
        "      return [\n",
        "        self.lemmatize(token, tag).lower()\n",
        "        for sentence in text\n",
        "        for (token, tag) in sentence\n",
        "        if not self.is_punct(token) and not self.is_stopword(token)\n",
        "      ]\n",
        "    elif self.norm == 'stem':\n",
        "        return [\n",
        "        self.stemmer.stem(token).lower()\n",
        "        for sentence in text\n",
        "        for (token, tag) in sentence\n",
        "        if not self.is_punct(token) and not self.is_stopword(token)\n",
        "      ]\n",
        "\n",
        "  def lemmatize(self, token, pos_tag):\n",
        "      tag = {\n",
        "          'N': wn.NOUN,\n",
        "          'V': wn.VERB,\n",
        "          'R': wn.ADV,\n",
        "          'J': wn.ADJ\n",
        "      }.get(pos_tag[0], wn.NOUN)\n",
        "      return self.lemmatizer.lemmatize(token, tag)\n",
        "\n",
        "  def fit(self, X, y=None):\n",
        "      return self\n",
        "\n",
        "  def transform(self, documents):\n",
        "      for document in documents['review']:\n",
        "        yield self.normalize(document)"
      ],
      "execution_count": null,
      "outputs": []
    },
    {
      "cell_type": "code",
      "metadata": {
        "id": "6uZCPt-icuXC"
      },
      "source": [
        "%%time\n",
        "stem_normalizer = TextNormalizer(norm='stem').normalize\n",
        "lemm_normalizer = TextNormalizer(norm='lemm').normalize\n",
        "\n",
        "if os.path.isfile('drive/MyDrive/training/HW/data/normalized.json'):\n",
        "  df_tagged = pd.read_json('drive/MyDrive/training/HW/data/normalized.json', )\n",
        "else:\n",
        "  df_tagged['stem'] = df_tagged.review.progress_apply(stem_normalizer)\n",
        "  df_tagged['lemm'] = df_tagged.review.progress_apply(lemm_normalizer)\n",
        "  df_tagged.to_json('drive/MyDrive/training/HW/data/normalized.json')\n",
        "\n",
        "display(df_tagged)"
      ],
      "execution_count": null,
      "outputs": []
    },
    {
      "cell_type": "markdown",
      "metadata": {
        "id": "YeBV5StfVBZq"
      },
      "source": [
        "* We can see the difference between stemming and lemmatization. Stemming more roughly cut words, than lemmatization. \n",
        "\n",
        "* Let's check some sample before and after normalization."
      ]
    },
    {
      "cell_type": "code",
      "metadata": {
        "id": "Ya9GN2CIuNGT"
      },
      "source": [
        "df.iloc[0].review"
      ],
      "execution_count": null,
      "outputs": []
    },
    {
      "cell_type": "code",
      "metadata": {
        "id": "3lXDz_bAfq8Z"
      },
      "source": [
        "tn = TextNormalizer(norm='stem')\n",
        "\" \".join(tn.normalize(df_tagged.iloc[0].review))"
      ],
      "execution_count": null,
      "outputs": []
    },
    {
      "cell_type": "code",
      "metadata": {
        "id": "wZmiR0KXhZqD"
      },
      "source": [
        "tn = TextNormalizer(norm='lemm')\n",
        "\" \".join(tn.normalize(df_tagged.iloc[0].review))"
      ],
      "execution_count": null,
      "outputs": []
    },
    {
      "cell_type": "markdown",
      "metadata": {
        "id": "EnmsN7_XhfAI"
      },
      "source": [
        "It seems, that everything is ok. Lemmatization gives more readable results."
      ]
    },
    {
      "cell_type": "markdown",
      "metadata": {
        "id": "arJ853pvVU64"
      },
      "source": [
        "# WordCloud"
      ]
    },
    {
      "cell_type": "markdown",
      "metadata": {
        "id": "ScUSKvoAhpzK"
      },
      "source": [
        "Now we will use wordcloud to analyze words in our dataset."
      ]
    },
    {
      "cell_type": "code",
      "metadata": {
        "id": "Z5h0-LQ3V3Gf"
      },
      "source": [
        "from wordcloud import WordCloud"
      ],
      "execution_count": null,
      "outputs": []
    },
    {
      "cell_type": "code",
      "metadata": {
        "id": "IOHCxu8zVXIt"
      },
      "source": [
        "import matplotlib.pyplot as plt\n",
        "def identity(words):\n",
        "    return words\n",
        "\n",
        "\n",
        "def build_wordcloud(texts):\n",
        "  \n",
        "  vectorizer_texts = TfidfVectorizer(tokenizer=identity, preprocessor=None, lowercase=False, ngram_range=(1, 1))\n",
        "  vecs_texts = vectorizer_texts.fit_transform(texts)\n",
        "\n",
        "  X = vecs_texts\n",
        "  svd_model = TruncatedSVD(n_components=5, algorithm='randomized', n_iter=100, random_state=42)\n",
        "  svd_model.fit(X)\n",
        "\n",
        "  terms = vectorizer_texts.get_feature_names()\n",
        "  for i, comp in enumerate(svd_model.components_):\n",
        "      terms_comp = zip(terms, comp)\n",
        "      sorted_terms = sorted(terms_comp, key= lambda x:x[1], reverse=True)[:15]\n",
        "      print(\"Тема \"+ str(i + 1) +\": \")\n",
        "      \n",
        "      #for t in sorted_terms:\n",
        "          #print(t[0], end = ' ')\n",
        "      \n",
        "      text = ' '.join([str(t[0]) for t in sorted_terms])\n",
        "\n",
        "      # Create and generate a word cloud image:\n",
        "      wordcloud = WordCloud(background_color=\"white\").generate(text)\n",
        "      \n",
        "      # Display the generated image:\n",
        "      plt.imshow(wordcloud, interpolation='bilinear')\n",
        "      plt.axis(\"off\")\n",
        "      plt.show()\n",
        "      print()"
      ],
      "execution_count": null,
      "outputs": []
    },
    {
      "cell_type": "markdown",
      "metadata": {
        "id": "cuZmMrBViAdZ"
      },
      "source": [
        "We can remove words, which can often be seen in wordclouds and which may be unnecessary. We will do it for text with different normalizations. "
      ]
    },
    {
      "cell_type": "code",
      "metadata": {
        "id": "t-pxpnN0WXB1"
      },
      "source": [
        "build_wordcloud(df_tagged['lemm'])"
      ],
      "execution_count": null,
      "outputs": []
    },
    {
      "cell_type": "code",
      "metadata": {
        "id": "USrbnMfUegIk"
      },
      "source": [
        "def remove_words(tokenized_text, wordset=set()):\n",
        "  return [i for i in tokenized_text if i not in wordset]"
      ],
      "execution_count": null,
      "outputs": []
    },
    {
      "cell_type": "code",
      "metadata": {
        "id": "kVOXidgTpVRu"
      },
      "source": [
        "df_tagged['lemm'] = df_tagged['lemm'].parallel_apply(remove_words,\n",
        "                                     wordset=set([ 'film', 'movie', 'really']))"
      ],
      "execution_count": null,
      "outputs": []
    },
    {
      "cell_type": "code",
      "metadata": {
        "id": "Hhmq0gm6pyn3"
      },
      "source": [
        "build_wordcloud(df_tagged['stem'])"
      ],
      "execution_count": null,
      "outputs": []
    },
    {
      "cell_type": "code",
      "metadata": {
        "id": "UHWo2vbpqFtG"
      },
      "source": [
        "df_tagged['stem'] = df_tagged['stem'].parallel_apply(remove_words,\n",
        "                                     wordset=set([ 'film', 'movi', 'realli']))"
      ],
      "execution_count": null,
      "outputs": []
    },
    {
      "cell_type": "markdown",
      "metadata": {
        "id": "m6UWW_tIdN44"
      },
      "source": [
        "# Word Importance"
      ]
    },
    {
      "cell_type": "markdown",
      "metadata": {
        "id": "Yla0LhxkiTA2"
      },
      "source": [
        "Now we will try to analyze feature importance (word importance). If we cannot see any pattern, probably vectorization worked badly. In other case we can see, what words are most important for training a model. We will use LinearSVC and LogisticRegression with l1 regularization."
      ]
    },
    {
      "cell_type": "code",
      "metadata": {
        "id": "Il5RU0CQdRO6"
      },
      "source": [
        "def plot_importance(est, X, y, n_best=10):\n",
        "\n",
        "  tfidf = TfidfVectorizer(tokenizer=identity, preprocessor=None, lowercase=False)\n",
        "\n",
        "  X_train, X_test, y_train, y_test = train_test_split(X, y, test_size=0.25, \n",
        "                                                      shuffle=True, random_state=42)\n",
        "  X_train = tfidf.fit_transform(X_train)\n",
        "  X_test = tfidf.transform(X_test)\n",
        "\n",
        "  est.fit(X_train, y_train)\n",
        "\n",
        "  fnames = tfidf.get_feature_names()\n",
        "  name_coef = zip(fnames, est.coef_[0])\n",
        "  sorted_name_coef = sorted(name_coef, key=lambda x: x[1], reverse=True)\n",
        "\n",
        "  positive_best = sorted_name_coef[:n_best]\n",
        "  negative_best = sorted_name_coef[-n_best:]\n",
        "  all_best = positive_best + negative_best\n",
        "\n",
        "  required_words = [i[0] for i in all_best]\n",
        "  required_coefs = [i[1] for i in all_best]\n",
        "  \n",
        "  sns.set_theme(style=\"whitegrid\")\n",
        "  plt.figure(figsize=(16, 9))\n",
        "  ax = sns.barplot(x=required_coefs, y=required_words, orient='h');\n",
        "  ax.set(xlabel='coefficients', ylabel='words', title='Feature Importance')"
      ],
      "execution_count": null,
      "outputs": []
    },
    {
      "cell_type": "code",
      "metadata": {
        "colab": {
          "base_uri": "https://localhost:8080/",
          "height": 573
        },
        "id": "oALsSuo5dcJa",
        "outputId": "5980175b-030e-4b1b-9702-04687bed39fb"
      },
      "source": [
        "est = LogisticRegression(solver='liblinear', penalty='l1', C=0.1)\n",
        "plot_importance(est, df_tagged['lemm'], df_tagged['sent'], 20)"
      ],
      "execution_count": null,
      "outputs": [
        {
          "output_type": "display_data",
          "data": {
            "image/png": "[encoded data removed]",
            "text/plain": [
              "<Figure size 1152x648 with 1 Axes>"
            ]
          },
          "metadata": {}
        }
      ]
    },
    {
      "cell_type": "code",
      "metadata": {
        "colab": {
          "base_uri": "https://localhost:8080/",
          "height": 573
        },
        "id": "W5OS9w9IdhAP",
        "outputId": "d3f3d8b3-0e54-4b6c-f8f6-241f95d51801"
      },
      "source": [
        "est = LinearSVC(penalty=\"l1\", dual=False, random_state=42, max_iter=10000, C=0.1)\n",
        "plot_importance(est, df_tagged['lemm'], df_tagged['sent'], 20)"
      ],
      "execution_count": null,
      "outputs": [
        {
          "output_type": "display_data",
          "data": {
            "image/png": "[encoded data removed]",
            "text/plain": [
              "<Figure size 1152x648 with 1 Axes>"
            ]
          },
          "metadata": {}
        }
      ]
    },
    {
      "cell_type": "markdown",
      "metadata": {
        "id": "CZy43m5ZjADt"
      },
      "source": [
        "* As we can see, our 2 models found some patterns in texts: 'positive' words have the highest coefficients (excellent, great, wonderful), 'negative' have the lowest ones (waste, bad, awful, poor). So, vectorization worked well and we can start building classification models."
      ]
    },
    {
      "cell_type": "markdown",
      "metadata": {
        "id": "TovojHUI-L8R"
      },
      "source": [
        "# Baseline model"
      ]
    },
    {
      "cell_type": "markdown",
      "metadata": {
        "id": "fDbcNHGkj7IU"
      },
      "source": [
        "We will start with baseline model. We will define function for pipeline creation."
      ]
    },
    {
      "cell_type": "code",
      "metadata": {
        "id": "ea2tKL9098Sb"
      },
      "source": [
        "def identity(words):\n",
        "    return words\n",
        "\n",
        "def create_pipeline(estimator):\n",
        "\n",
        "    steps = [\n",
        "        ('vectorize', TfidfVectorizer(\n",
        "            tokenizer=identity, preprocessor=None, lowercase=False\n",
        "        ))\n",
        "    ]\n",
        "\n",
        "\n",
        "    # Add the estimator\n",
        "    steps.append(('classifier', estimator))\n",
        "    return Pipeline(steps)"
      ],
      "execution_count": null,
      "outputs": []
    },
    {
      "cell_type": "code",
      "metadata": {
        "id": "R5JS92JS-EFB",
        "colab": {
          "base_uri": "https://localhost:8080/"
        },
        "outputId": "7e8e28bd-4ef7-4e9f-cec1-25b223bf71ad"
      },
      "source": [
        "X_train, X_test, y_train, y_test = train_test_split(\n",
        "    df_tagged['stem'], df_tagged['sent'], test_size=0.25, shuffle=True, random_state=42)\n",
        "\n",
        "pipe = create_pipeline(LogisticRegression())\n",
        "\n",
        "pipe.fit(X_train, y_train)\n",
        "y_pred = pipe.predict(X_test)\n",
        "y_pred_train = pipe.predict(X_train)\n",
        "\n",
        "print(classification_report(y_test, y_pred))\n",
        "print(\"f1 on train:\", f1_score(y_train, y_pred_train, average='macro'))\n",
        "print(\"f1 on test: \", f1_score(y_test, y_pred, average='macro'))"
      ],
      "execution_count": null,
      "outputs": [
        {
          "output_type": "stream",
          "text": [
            "              precision    recall  f1-score   support\n",
            "\n",
            "           0       0.90      0.88      0.89      6157\n",
            "           1       0.88      0.91      0.89      6343\n",
            "\n",
            "    accuracy                           0.89     12500\n",
            "   macro avg       0.89      0.89      0.89     12500\n",
            "weighted avg       0.89      0.89      0.89     12500\n",
            "\n",
            "f1 on train: 0.9268257042262936\n",
            "f1 on test:  0.8917589740585075\n"
          ],
          "name": "stdout"
        }
      ]
    },
    {
      "cell_type": "markdown",
      "metadata": {
        "id": "gQotbkyACuwH"
      },
      "source": [
        "# Models evaluation"
      ]
    },
    {
      "cell_type": "markdown",
      "metadata": {
        "id": "wP35Px0K0NHy"
      },
      "source": [
        "I have chosen 3 classification algorythms: Stochastic Gradient Descent, (Linear)Support Vector Machine and Multinomial Naive Bayes."
      ]
    },
    {
      "cell_type": "markdown",
      "metadata": {
        "id": "hAPhWv6_yD8M"
      },
      "source": [
        "## Stemming and Lemmatization comparing"
      ]
    },
    {
      "cell_type": "code",
      "metadata": {
        "id": "71YKQQz_25QC"
      },
      "source": [
        "stem_X_train, stem_X_test, y_train, y_test = train_test_split(df_tagged['stem'], df_tagged['sent'], test_size=0.25, shuffle=True, random_state=42)\n",
        "lemm_X_train, lemm_X_test = train_test_split(df_tagged['lemm'], test_size=0.25, shuffle=True, random_state=42)"
      ],
      "execution_count": null,
      "outputs": []
    },
    {
      "cell_type": "code",
      "metadata": {
        "id": "r5tF-Lej_QrW"
      },
      "source": [
        "import timeit\n",
        "\n",
        "def flatten(t):\n",
        "    return [item for sublist in t for item in sublist]\n",
        "\n",
        "def evaluate_models(estimators, names, X_train, X_test, y_train, y_test, conf={}):\n",
        "\n",
        "  names = [[name + '_stem', name + '_lemm'] for name in names]\n",
        "  names = flatten(names)\n",
        "\n",
        "  estimators = [[(est, 'stem'), (est, 'lemm')] for est in estimators]\n",
        "  estimators = flatten(estimators)\n",
        "\n",
        "  results_df = pd.DataFrame(index=names, columns=['accuracy', 'f1', 'roc_auc', 'time'])\n",
        "  у_pred_list = []\n",
        "  у_pred_train_list = []\n",
        "  estimators_with_info = list(zip(names, estimators))\n",
        "  for (name, (est, est_norm)) in tqdm(estimators_with_info):\n",
        "    \n",
        "    pipe = create_pipeline(est(**conf.get(est, {})))\n",
        "    if est_norm == 'stem':\n",
        "      X_train = stem_X_train\n",
        "      X_test = stem_X_test\n",
        "    elif est_norm == 'lemm':\n",
        "      X_train = lemm_X_train\n",
        "      X_test = lemm_X_test\n",
        "\n",
        "    start = timeit.default_timer()\n",
        "    pipe.fit(X_train, y_train)\n",
        "    stop = timeit.default_timer()\n",
        "    \n",
        "    y_pred = pipe.predict(X_test)\n",
        "    try:\n",
        "      y_proba = pipe.decision_function(X_test)\n",
        "    except AttributeError:\n",
        "      y_proba = pipe.predict_proba(X_test)[:, 1:]\n",
        "    y_pred_train = pipe.predict(X_train)\n",
        "    \n",
        "\n",
        "\n",
        "    results_df.loc[name]['accuracy'] = accuracy_score(y_test, y_pred)\n",
        "    results_df.loc[name]['f1'] = f1_score(y_test, y_pred)\n",
        "    results_df.loc[name]['roc_auc'] = roc_auc_score(y_test, y_proba)\n",
        "    results_df.loc[name]['time'] = stop - start\n",
        "    #metrics.plot_roc_curve(pipe, stem_X_test, y_test)  \n",
        "    #plt.show() \n",
        "\n",
        "    у_pred_list.append(y_pred)\n",
        "    у_pred_train_list.append(y_pred_train)\n",
        "\n",
        "  return results_df, у_pred_list, у_pred_train_list"
      ],
      "execution_count": null,
      "outputs": []
    },
    {
      "cell_type": "code",
      "metadata": {
        "colab": {
          "base_uri": "https://localhost:8080/"
        },
        "id": "2mnR4sdERNOL",
        "outputId": "9e5f83a3-54f7-4162-f869-c3e28bde5a78"
      },
      "source": [
        "res, у_pred_list, у_pred_train_list = evaluate_models([SGDClassifier, MultinomialNB , LinearSVC], \n",
        "                ['SGD', 'MultNB', 'LSVC'],  \n",
        "                X_train, X_test, y_train, y_test)"
      ],
      "execution_count": null,
      "outputs": [
        {
          "output_type": "stream",
          "text": [
            "100%|██████████| 6/6 [00:46<00:00,  7.68s/it]\n"
          ],
          "name": "stderr"
        }
      ]
    },
    {
      "cell_type": "code",
      "metadata": {
        "id": "xNfPxNXZV16x",
        "colab": {
          "base_uri": "https://localhost:8080/",
          "height": 235
        },
        "outputId": "96d1b643-a64f-465b-eef2-c3a1dfb63b76"
      },
      "source": [
        "res"
      ],
      "execution_count": null,
      "outputs": [
        {
          "output_type": "execute_result",
          "data": {
            "text/html": [
              "<div>\n",
              "<style scoped>\n",
              "    .dataframe tbody tr th:only-of-type {\n",
              "        vertical-align: middle;\n",
              "    }\n",
              "\n",
              "    .dataframe tbody tr th {\n",
              "        vertical-align: top;\n",
              "    }\n",
              "\n",
              "    .dataframe thead th {\n",
              "        text-align: right;\n",
              "    }\n",
              "</style>\n",
              "<table border=\"1\" class=\"dataframe\">\n",
              "  <thead>\n",
              "    <tr style=\"text-align: right;\">\n",
              "      <th></th>\n",
              "      <th>accuracy</th>\n",
              "      <th>f1</th>\n",
              "      <th>roc_auc</th>\n",
              "      <th>time</th>\n",
              "    </tr>\n",
              "  </thead>\n",
              "  <tbody>\n",
              "    <tr>\n",
              "      <th>SGD_stem</th>\n",
              "      <td>0.89192</td>\n",
              "      <td>0.895247</td>\n",
              "      <td>0.959156</td>\n",
              "      <td>2.95349</td>\n",
              "    </tr>\n",
              "    <tr>\n",
              "      <th>SGD_lemm</th>\n",
              "      <td>0.89224</td>\n",
              "      <td>0.895944</td>\n",
              "      <td>0.9591</td>\n",
              "      <td>3.60365</td>\n",
              "    </tr>\n",
              "    <tr>\n",
              "      <th>MultNB_stem</th>\n",
              "      <td>0.8592</td>\n",
              "      <td>0.858952</td>\n",
              "      <td>0.935493</td>\n",
              "      <td>2.6287</td>\n",
              "    </tr>\n",
              "    <tr>\n",
              "      <th>MultNB_lemm</th>\n",
              "      <td>0.86184</td>\n",
              "      <td>0.86114</td>\n",
              "      <td>0.937442</td>\n",
              "      <td>2.91705</td>\n",
              "    </tr>\n",
              "    <tr>\n",
              "      <th>LSVC_stem</th>\n",
              "      <td>0.89256</td>\n",
              "      <td>0.895283</td>\n",
              "      <td>0.959232</td>\n",
              "      <td>3.24027</td>\n",
              "    </tr>\n",
              "    <tr>\n",
              "      <th>LSVC_lemm</th>\n",
              "      <td>0.8932</td>\n",
              "      <td>0.895466</td>\n",
              "      <td>0.959846</td>\n",
              "      <td>3.58876</td>\n",
              "    </tr>\n",
              "  </tbody>\n",
              "</table>\n",
              "</div>"
            ],
            "text/plain": [
              "            accuracy        f1   roc_auc     time\n",
              "SGD_stem     0.89192  0.895247  0.959156  2.95349\n",
              "SGD_lemm     0.89224  0.895944    0.9591  3.60365\n",
              "MultNB_stem   0.8592  0.858952  0.935493   2.6287\n",
              "MultNB_lemm  0.86184   0.86114  0.937442  2.91705\n",
              "LSVC_stem    0.89256  0.895283  0.959232  3.24027\n",
              "LSVC_lemm     0.8932  0.895466  0.959846  3.58876"
            ]
          },
          "metadata": {},
          "execution_count": 141
        }
      ]
    },
    {
      "cell_type": "markdown",
      "metadata": {
        "id": "3a9dWWA11s8-"
      },
      "source": [
        "* So, we can see that models trained faster with stemmed text. Also, there is almost no difference in metrics. The reason is that englsih words have very simple structure (for example, in comparison to russian). So there is almost no difference, to roughly cut words or do it more smart."
      ]
    },
    {
      "cell_type": "markdown",
      "metadata": {
        "id": "1NFGpihGyTkd"
      },
      "source": [
        "## Parameters searching"
      ]
    },
    {
      "cell_type": "markdown",
      "metadata": {
        "id": "CDGi0Rno2weB"
      },
      "source": [
        "Here we will try to find best parameters for our 3 models. We will use 3 mtrics: accuracy, f1 and roc_auc_score (we have balanced dataset, so we can use accuracy).  Also, we will compare work time."
      ]
    },
    {
      "cell_type": "code",
      "metadata": {
        "id": "yl782a62NCql"
      },
      "source": [
        "def make_grid_search(est, cv, params):\n",
        "  gs = GridSearchCV(est, params, \n",
        "                    n_jobs=-1, \n",
        "                    scoring='roc_auc',\n",
        "                    cv=cv,\n",
        "                    verbose=10)\n",
        "  return gs\n",
        "\n",
        "\n",
        "def count_params_number(params_dict):\n",
        "    params_number = 1\n",
        "    for item in params_dict.items():\n",
        "      params_number *= len(item[1])\n",
        "    return params_number\n",
        "\n",
        "\n",
        "def predict_proba(est, X):\n",
        "    try:\n",
        "      y_proba = est.decision_function(X)\n",
        "    except AttributeError:\n",
        "      y_proba = est.predict_proba(X)[:, 1:]\n",
        "    return y_proba\n",
        "\n",
        "\n",
        "def evaluate_models_grid(estimators, names, X_train, X_test, y_train, y_test, params, cv=3):\n",
        "\n",
        "  names = [name + '_stem' for name in names]\n",
        "\n",
        "  estimators = [(est, 'stem') for est in estimators]\n",
        "\n",
        "  cv = KFold(n_splits=cv, shuffle=True, random_state=42)\n",
        "\n",
        "  results_df = pd.DataFrame(index=names, columns=['accuracy', 'accuracy_tr', 'f1', 'f1_tr', 'roc_auc', \n",
        "                                                  'roc_auc_tr', 'time_total', 'time_per_fold'])\n",
        "  \n",
        "  у_pred_list = []\n",
        "  у_pred_train_list = []\n",
        "  y_proba_list = []\n",
        "  best_params = []\n",
        "\n",
        "  estimators_with_info = list(zip(names, estimators))\n",
        "  for (name, (est, est_norm)) in tqdm(estimators_with_info):\n",
        "    print()\n",
        "\n",
        "    pipe = create_pipeline(est())\n",
        "    gs = make_grid_search(pipe, cv, params.get(est, {}))\n",
        "\n",
        "    start = timeit.default_timer()\n",
        "    gs.fit(X_train, y_train)\n",
        "    stop = timeit.default_timer()\n",
        "\n",
        "    y_pred = gs.predict(X_test)\n",
        "    y_pred_train = gs.predict(X_train)\n",
        "    y_proba = predict_proba(gs, X_test)\n",
        "    y_proba_train = predict_proba(gs, X_train)\n",
        "    \n",
        "    params_number = count_params_number(params.get(est, {}))\n",
        "    results_df.loc[name]['accuracy'] = accuracy_score(y_test, y_pred)\n",
        "    results_df.loc[name]['accuracy_tr'] = accuracy_score(y_train, y_pred_train)\n",
        "    results_df.loc[name]['f1'] = f1_score(y_test, y_pred)\n",
        "    results_df.loc[name]['f1_tr'] = f1_score(y_train, y_pred_train)\n",
        "    results_df.loc[name]['roc_auc'] = roc_auc_score(y_test, y_proba)\n",
        "    results_df.loc[name]['roc_auc_tr'] = roc_auc_score(y_train, y_proba_train)\n",
        "    results_df.loc[name]['time_total'] = (stop - start)\n",
        "    results_df.loc[name]['time_per_fold'] = (stop - start)/(params_number * gs.cv.n_splits)\n",
        "\n",
        "    \n",
        "    у_pred_list.append(y_pred)\n",
        "    у_pred_train_list.append(y_pred_train)\n",
        "    y_proba_list.append(y_proba)\n",
        "    best_params.append(gs.best_params_)\n",
        "  return results_df, у_pred_list, у_pred_train_list, y_proba_list, best_params"
      ],
      "execution_count": null,
      "outputs": []
    },
    {
      "cell_type": "code",
      "metadata": {
        "colab": {
          "base_uri": "https://localhost:8080/"
        },
        "id": "wR5D5xN-8o2S",
        "outputId": "88270d29-6bb6-49de-884e-89ffab9f1036"
      },
      "source": [
        "X_train, X_test, y_train, y_test = train_test_split(df_tagged['stem'], df_tagged['sent'], test_size=0.25, shuffle=True, random_state=42)\n",
        "\n",
        "params = {\n",
        "    MultinomialNB : {'classifier__alpha':  np.logspace(-8, 2, 30)},\n",
        "    LinearSVC : {'classifier__penalty' : ['l1', 'l2'], 'classifier__C' : np.logspace(-8, 2, 30)},\n",
        "    SGDClassifier : {\n",
        "        'classifier__penalty' : ['elasticnet'],\n",
        "        'classifier__loss' :  ['hinge', 'log', 'modified_huber'],\n",
        "        'classifier__alpha' :  np.logspace(-7, 2, 5),\n",
        "        'classifier__l1_ratio' : np.logspace(-7, 0, 5)\n",
        "    }\n",
        "}\n",
        "\n",
        "res, у_pred_list, у_pred_train_list, y_proba_list, best_params = evaluate_models_grid([SGDClassifier, MultinomialNB,  LinearSVC], \n",
        "                ['SGD', 'MultNB', 'LSVC'],  \n",
        "                X_train, X_test, y_train, y_test, \n",
        "                params,\n",
        "                cv=3)"
      ],
      "execution_count": null,
      "outputs": [
        {
          "output_type": "stream",
          "text": [
            "\r  0%|          | 0/3 [00:00<?, ?it/s]"
          ],
          "name": "stderr"
        },
        {
          "output_type": "stream",
          "text": [
            "\n",
            "Fitting 3 folds for each of 75 candidates, totalling 225 fits\n"
          ],
          "name": "stdout"
        },
        {
          "output_type": "stream",
          "text": [
            "[Parallel(n_jobs=-1)]: Using backend LokyBackend with 2 concurrent workers.\n",
            "[Parallel(n_jobs=-1)]: Done   1 tasks      | elapsed:   11.1s\n",
            "[Parallel(n_jobs=-1)]: Done   4 tasks      | elapsed:   22.7s\n",
            "[Parallel(n_jobs=-1)]: Done   9 tasks      | elapsed:   45.3s\n",
            "[Parallel(n_jobs=-1)]: Done  14 tasks      | elapsed:  1.1min\n",
            "[Parallel(n_jobs=-1)]: Done  21 tasks      | elapsed:  1.6min\n",
            "[Parallel(n_jobs=-1)]: Done  28 tasks      | elapsed:  2.1min\n",
            "[Parallel(n_jobs=-1)]: Done  37 tasks      | elapsed:  2.7min\n",
            "[Parallel(n_jobs=-1)]: Done  46 tasks      | elapsed:  3.4min\n",
            "[Parallel(n_jobs=-1)]: Done  57 tasks      | elapsed:  4.1min\n",
            "[Parallel(n_jobs=-1)]: Done  68 tasks      | elapsed:  4.9min\n",
            "[Parallel(n_jobs=-1)]: Done  81 tasks      | elapsed:  5.8min\n",
            "[Parallel(n_jobs=-1)]: Done  94 tasks      | elapsed:  6.7min\n",
            "[Parallel(n_jobs=-1)]: Done 109 tasks      | elapsed:  7.7min\n",
            "[Parallel(n_jobs=-1)]: Done 124 tasks      | elapsed:  8.6min\n",
            "[Parallel(n_jobs=-1)]: Done 141 tasks      | elapsed:  9.8min\n",
            "[Parallel(n_jobs=-1)]: Done 158 tasks      | elapsed: 10.9min\n",
            "[Parallel(n_jobs=-1)]: Done 177 tasks      | elapsed: 12.1min\n",
            "[Parallel(n_jobs=-1)]: Done 196 tasks      | elapsed: 13.3min\n",
            "[Parallel(n_jobs=-1)]: Done 217 tasks      | elapsed: 14.7min\n",
            "[Parallel(n_jobs=-1)]: Done 225 out of 225 | elapsed: 15.1min finished\n",
            " 33%|███▎      | 1/3 [15:18<30:36, 918.08s/it][Parallel(n_jobs=-1)]: Using backend LokyBackend with 2 concurrent workers.\n"
          ],
          "name": "stderr"
        },
        {
          "output_type": "stream",
          "text": [
            "\n",
            "Fitting 3 folds for each of 30 candidates, totalling 90 fits\n"
          ],
          "name": "stdout"
        },
        {
          "output_type": "stream",
          "text": [
            "[Parallel(n_jobs=-1)]: Done   1 tasks      | elapsed:    7.7s\n",
            "[Parallel(n_jobs=-1)]: Done   4 tasks      | elapsed:   18.0s\n",
            "[Parallel(n_jobs=-1)]: Done   9 tasks      | elapsed:   37.3s\n",
            "[Parallel(n_jobs=-1)]: Done  14 tasks      | elapsed:   55.1s\n",
            "[Parallel(n_jobs=-1)]: Done  21 tasks      | elapsed:  1.4min\n",
            "[Parallel(n_jobs=-1)]: Done  28 tasks      | elapsed:  1.8min\n",
            "[Parallel(n_jobs=-1)]: Done  37 tasks      | elapsed:  2.3min\n",
            "[Parallel(n_jobs=-1)]: Done  46 tasks      | elapsed:  2.9min\n",
            "[Parallel(n_jobs=-1)]: Done  57 tasks      | elapsed:  3.6min\n",
            "[Parallel(n_jobs=-1)]: Done  68 tasks      | elapsed:  4.3min\n",
            "[Parallel(n_jobs=-1)]: Done  81 tasks      | elapsed:  5.1min\n",
            "[Parallel(n_jobs=-1)]: Done  90 out of  90 | elapsed:  5.6min finished\n",
            " 67%|██████▋   | 2/3 [21:02<09:40, 580.74s/it][Parallel(n_jobs=-1)]: Using backend LokyBackend with 2 concurrent workers.\n"
          ],
          "name": "stderr"
        },
        {
          "output_type": "stream",
          "text": [
            "\n",
            "Fitting 3 folds for each of 60 candidates, totalling 180 fits\n"
          ],
          "name": "stdout"
        },
        {
          "output_type": "stream",
          "text": [
            "[Parallel(n_jobs=-1)]: Done   1 tasks      | elapsed:    6.4s\n",
            "[Parallel(n_jobs=-1)]: Done   4 tasks      | elapsed:   16.5s\n",
            "[Parallel(n_jobs=-1)]: Done   9 tasks      | elapsed:   32.3s\n",
            "[Parallel(n_jobs=-1)]: Done  14 tasks      | elapsed:   49.6s\n",
            "[Parallel(n_jobs=-1)]: Done  21 tasks      | elapsed:  1.2min\n",
            "[Parallel(n_jobs=-1)]: Done  28 tasks      | elapsed:  1.6min\n",
            "[Parallel(n_jobs=-1)]: Done  37 tasks      | elapsed:  2.1min\n",
            "[Parallel(n_jobs=-1)]: Done  46 tasks      | elapsed:  2.6min\n",
            "[Parallel(n_jobs=-1)]: Done  57 tasks      | elapsed:  3.2min\n",
            "[Parallel(n_jobs=-1)]: Done  68 tasks      | elapsed:  3.8min\n",
            "[Parallel(n_jobs=-1)]: Done  81 tasks      | elapsed:  4.6min\n",
            "[Parallel(n_jobs=-1)]: Done  94 tasks      | elapsed:  5.3min\n",
            "[Parallel(n_jobs=-1)]: Done 109 tasks      | elapsed:  6.2min\n",
            "[Parallel(n_jobs=-1)]: Done 124 tasks      | elapsed:  7.0min\n",
            "[Parallel(n_jobs=-1)]: Done 141 tasks      | elapsed:  8.0min\n",
            "[Parallel(n_jobs=-1)]: Done 158 tasks      | elapsed:  9.0min\n",
            "[Parallel(n_jobs=-1)]: Done 177 tasks      | elapsed: 10.4min\n",
            "[Parallel(n_jobs=-1)]: Done 180 out of 180 | elapsed: 10.7min finished\n",
            "100%|██████████| 3/3 [31:56<00:00, 638.75s/it]\n"
          ],
          "name": "stderr"
        }
      ]
    },
    {
      "cell_type": "markdown",
      "metadata": {
        "id": "qOwmVojM6qgF"
      },
      "source": [
        "\\* Here is mistake: used stemmed data, not lemmatized."
      ]
    },
    {
      "cell_type": "code",
      "metadata": {
        "colab": {
          "base_uri": "https://localhost:8080/",
          "height": 142
        },
        "id": "O3A6cXWX86Y1",
        "outputId": "41200be9-8d0b-4f83-d36d-f133f8d3c166"
      },
      "source": [
        "res"
      ],
      "execution_count": null,
      "outputs": [
        {
          "output_type": "execute_result",
          "data": {
            "text/html": [
              "<div>\n",
              "<style scoped>\n",
              "    .dataframe tbody tr th:only-of-type {\n",
              "        vertical-align: middle;\n",
              "    }\n",
              "\n",
              "    .dataframe tbody tr th {\n",
              "        vertical-align: top;\n",
              "    }\n",
              "\n",
              "    .dataframe thead th {\n",
              "        text-align: right;\n",
              "    }\n",
              "</style>\n",
              "<table border=\"1\" class=\"dataframe\">\n",
              "  <thead>\n",
              "    <tr style=\"text-align: right;\">\n",
              "      <th></th>\n",
              "      <th>accuracy</th>\n",
              "      <th>accuracy_tr</th>\n",
              "      <th>f1</th>\n",
              "      <th>f1_tr</th>\n",
              "      <th>roc_auc</th>\n",
              "      <th>roc_auc_tr</th>\n",
              "      <th>time_total</th>\n",
              "      <th>time_per_fold</th>\n",
              "    </tr>\n",
              "  </thead>\n",
              "  <tbody>\n",
              "    <tr>\n",
              "      <th>SGD_lemm</th>\n",
              "      <td>0.8932</td>\n",
              "      <td>0.935867</td>\n",
              "      <td>0.896391</td>\n",
              "      <td>0.936219</td>\n",
              "      <td>0.960393</td>\n",
              "      <td>0.982463</td>\n",
              "      <td>911.125</td>\n",
              "      <td>4.04944</td>\n",
              "    </tr>\n",
              "    <tr>\n",
              "      <th>MultNB_lemm</th>\n",
              "      <td>0.85616</td>\n",
              "      <td>0.87984</td>\n",
              "      <td>0.852984</td>\n",
              "      <td>0.875318</td>\n",
              "      <td>0.935491</td>\n",
              "      <td>0.952531</td>\n",
              "      <td>337.617</td>\n",
              "      <td>3.7513</td>\n",
              "    </tr>\n",
              "    <tr>\n",
              "      <th>LSVC_lemm</th>\n",
              "      <td>0.89552</td>\n",
              "      <td>0.941013</td>\n",
              "      <td>0.898255</td>\n",
              "      <td>0.941111</td>\n",
              "      <td>0.961306</td>\n",
              "      <td>0.985008</td>\n",
              "      <td>646.625</td>\n",
              "      <td>3.59236</td>\n",
              "    </tr>\n",
              "  </tbody>\n",
              "</table>\n",
              "</div>"
            ],
            "text/plain": [
              "            accuracy accuracy_tr        f1  ... roc_auc_tr time_total time_per_fold\n",
              "SGD_lemm      0.8932    0.935867  0.896391  ...   0.982463    911.125       4.04944\n",
              "MultNB_lemm  0.85616     0.87984  0.852984  ...   0.952531    337.617        3.7513\n",
              "LSVC_lemm    0.89552    0.941013  0.898255  ...   0.985008    646.625       3.59236\n",
              "\n",
              "[3 rows x 8 columns]"
            ]
          },
          "metadata": {},
          "execution_count": 132
        }
      ]
    },
    {
      "cell_type": "code",
      "metadata": {
        "colab": {
          "base_uri": "https://localhost:8080/"
        },
        "id": "vv2pnrvIKUnq",
        "outputId": "6e2e7cfd-de25-4469-e5ec-0903852868e8"
      },
      "source": [
        "best_params"
      ],
      "execution_count": null,
      "outputs": [
        {
          "output_type": "execute_result",
          "data": {
            "text/plain": [
              "[{'classifier__alpha': 1.778279410038923e-05,\n",
              "  'classifier__l1_ratio': 0.00031622776601683794,\n",
              "  'classifier__loss': 'log',\n",
              "  'classifier__penalty': 'elasticnet'},\n",
              " {'classifier__alpha': 4.175318936560409},\n",
              " {'classifier__C': 0.1743328822199991, 'classifier__penalty': 'l2'}]"
            ]
          },
          "metadata": {},
          "execution_count": 133
        }
      ]
    },
    {
      "cell_type": "code",
      "metadata": {
        "colab": {
          "base_uri": "https://localhost:8080/",
          "height": 610
        },
        "id": "UzzJtC348spL",
        "outputId": "a81b45a6-79ce-4015-b498-fd3187da4601"
      },
      "source": [
        "plt.figure(figsize=(15, 10))\n",
        "plt.grid(True)\n",
        "plt.title('ROC AUC for different classifiers')\n",
        "\n",
        "for y_pred_proba, classifier in zip(y_proba_list, ['SGD', 'MultNB', 'LSVC']):\n",
        "  fpr, tpr, _ = roc_curve(y_test,  y_pred_proba)\n",
        "  auc = roc_auc_score(y_test, y_pred_proba)\n",
        "  plt.plot(fpr, tpr, label=f\"{classifier}, auc={auc}\")\n",
        "  plt.legend(loc=4)\n",
        "plt.show()"
      ],
      "execution_count": null,
      "outputs": [
        {
          "output_type": "display_data",
          "data": {
            "image/png": "[encoded data removed]",
            "text/plain": [
              "<Figure size 1080x720 with 1 Axes>"
            ]
          },
          "metadata": {}
        }
      ]
    },
    {
      "cell_type": "markdown",
      "metadata": {
        "id": "PK_l1tl6XkU4"
      },
      "source": [
        "* So, we got our first results of tuning. We can see, that SGD and LSVC showed close results. Let's try to narrow the search area and try to find better parameters."
      ]
    },
    {
      "cell_type": "code",
      "metadata": {
        "id": "SyGUDnnJ-7AG",
        "colab": {
          "base_uri": "https://localhost:8080/"
        },
        "outputId": "bbb2daa4-16a4-4f12-9d29-102339f57066"
      },
      "source": [
        "X_train, X_test, y_train, y_test = train_test_split(df_tagged['stem'], df_tagged['sent'], test_size=0.25, shuffle=True, random_state=42)\n",
        "\n",
        "params = {\n",
        "    MultinomialNB : {'classifier__alpha':  np.linspace(3, 4, 30)},\n",
        "    LinearSVC : {'classifier__penalty' : ['l1', 'l2'], 'classifier__C' : np.linspace(0.15, 0.3, 20)},\n",
        "    SGDClassifier : {\n",
        "        'classifier__penalty' : ['elasticnet'],\n",
        "        'classifier__loss' :  ['hinge', 'log', 'modified_huber'],\n",
        "        'classifier__alpha' :  np.logspace(-6, -4, 6),\n",
        "        'classifier__l1_ratio' : np.logspace(-6, -4, 6)\n",
        "    }\n",
        "}\n",
        "\n",
        "res, у_pred_list, у_pred_train_list, y_proba_list, best_params = evaluate_models_grid([SGDClassifier, MultinomialNB,  LinearSVC], \n",
        "                ['SGD', 'MultNB', 'LSVC'],  \n",
        "                X_train, X_test, y_train, y_test, \n",
        "                params,\n",
        "                cv=3)"
      ],
      "execution_count": null,
      "outputs": [
        {
          "output_type": "stream",
          "text": [
            "\r  0%|          | 0/3 [00:00<?, ?it/s]"
          ],
          "name": "stderr"
        },
        {
          "output_type": "stream",
          "text": [
            "\n",
            "Fitting 3 folds for each of 108 candidates, totalling 324 fits\n"
          ],
          "name": "stdout"
        },
        {
          "output_type": "stream",
          "text": [
            "[Parallel(n_jobs=-1)]: Using backend LokyBackend with 2 concurrent workers.\n",
            "[Parallel(n_jobs=-1)]: Done   1 tasks      | elapsed:   10.4s\n",
            "[Parallel(n_jobs=-1)]: Done   4 tasks      | elapsed:   21.7s\n",
            "[Parallel(n_jobs=-1)]: Done   9 tasks      | elapsed:   43.2s\n",
            "[Parallel(n_jobs=-1)]: Done  14 tasks      | elapsed:  1.1min\n",
            "[Parallel(n_jobs=-1)]: Done  21 tasks      | elapsed:  1.6min\n",
            "[Parallel(n_jobs=-1)]: Done  28 tasks      | elapsed:  2.0min\n",
            "[Parallel(n_jobs=-1)]: Done  37 tasks      | elapsed:  2.7min\n",
            "[Parallel(n_jobs=-1)]: Done  46 tasks      | elapsed:  3.3min\n",
            "[Parallel(n_jobs=-1)]: Done  57 tasks      | elapsed:  4.1min\n",
            "[Parallel(n_jobs=-1)]: Done  68 tasks      | elapsed:  4.8min\n",
            "[Parallel(n_jobs=-1)]: Done  81 tasks      | elapsed:  5.7min\n",
            "[Parallel(n_jobs=-1)]: Done  94 tasks      | elapsed:  6.6min\n",
            "[Parallel(n_jobs=-1)]: Done 109 tasks      | elapsed:  7.6min\n",
            "[Parallel(n_jobs=-1)]: Done 124 tasks      | elapsed:  8.7min\n",
            "[Parallel(n_jobs=-1)]: Done 141 tasks      | elapsed:  9.8min\n",
            "[Parallel(n_jobs=-1)]: Done 158 tasks      | elapsed: 11.0min\n",
            "[Parallel(n_jobs=-1)]: Done 177 tasks      | elapsed: 12.3min\n",
            "[Parallel(n_jobs=-1)]: Done 196 tasks      | elapsed: 13.6min\n",
            "[Parallel(n_jobs=-1)]: Done 217 tasks      | elapsed: 15.0min\n",
            "[Parallel(n_jobs=-1)]: Done 238 tasks      | elapsed: 16.5min\n",
            "[Parallel(n_jobs=-1)]: Done 261 tasks      | elapsed: 18.0min\n",
            "[Parallel(n_jobs=-1)]: Done 284 tasks      | elapsed: 19.6min\n",
            "[Parallel(n_jobs=-1)]: Done 309 tasks      | elapsed: 21.3min\n",
            "[Parallel(n_jobs=-1)]: Done 324 out of 324 | elapsed: 22.2min finished\n",
            " 33%|███▎      | 1/3 [22:23<44:47, 1343.82s/it][Parallel(n_jobs=-1)]: Using backend LokyBackend with 2 concurrent workers.\n"
          ],
          "name": "stderr"
        },
        {
          "output_type": "stream",
          "text": [
            "\n",
            "Fitting 3 folds for each of 30 candidates, totalling 90 fits\n"
          ],
          "name": "stdout"
        },
        {
          "output_type": "stream",
          "text": [
            "[Parallel(n_jobs=-1)]: Done   1 tasks      | elapsed:    7.8s\n",
            "[Parallel(n_jobs=-1)]: Done   4 tasks      | elapsed:   18.0s\n",
            "[Parallel(n_jobs=-1)]: Done   9 tasks      | elapsed:   37.3s\n",
            "[Parallel(n_jobs=-1)]: Done  14 tasks      | elapsed:   54.9s\n",
            "[Parallel(n_jobs=-1)]: Done  21 tasks      | elapsed:  1.4min\n",
            "[Parallel(n_jobs=-1)]: Done  28 tasks      | elapsed:  1.8min\n",
            "[Parallel(n_jobs=-1)]: Done  37 tasks      | elapsed:  2.3min\n",
            "[Parallel(n_jobs=-1)]: Done  46 tasks      | elapsed:  2.9min\n",
            "[Parallel(n_jobs=-1)]: Done  57 tasks      | elapsed:  3.6min\n",
            "[Parallel(n_jobs=-1)]: Done  68 tasks      | elapsed:  4.2min\n",
            "[Parallel(n_jobs=-1)]: Done  81 tasks      | elapsed:  5.0min\n",
            "[Parallel(n_jobs=-1)]: Done  90 out of  90 | elapsed:  5.5min finished\n",
            " 67%|██████▋   | 2/3 [28:06<12:34, 754.67s/it] [Parallel(n_jobs=-1)]: Using backend LokyBackend with 2 concurrent workers.\n"
          ],
          "name": "stderr"
        },
        {
          "output_type": "stream",
          "text": [
            "\n",
            "Fitting 3 folds for each of 40 candidates, totalling 120 fits\n"
          ],
          "name": "stdout"
        },
        {
          "output_type": "stream",
          "text": [
            "[Parallel(n_jobs=-1)]: Done   1 tasks      | elapsed:    6.2s\n",
            "[Parallel(n_jobs=-1)]: Done   4 tasks      | elapsed:   16.6s\n",
            "[Parallel(n_jobs=-1)]: Done   9 tasks      | elapsed:   32.3s\n",
            "[Parallel(n_jobs=-1)]: Done  14 tasks      | elapsed:   49.6s\n",
            "[Parallel(n_jobs=-1)]: Done  21 tasks      | elapsed:  1.2min\n",
            "[Parallel(n_jobs=-1)]: Done  28 tasks      | elapsed:  1.6min\n",
            "[Parallel(n_jobs=-1)]: Done  37 tasks      | elapsed:  2.1min\n",
            "[Parallel(n_jobs=-1)]: Done  46 tasks      | elapsed:  2.6min\n",
            "[Parallel(n_jobs=-1)]: Done  57 tasks      | elapsed:  3.2min\n",
            "[Parallel(n_jobs=-1)]: Done  68 tasks      | elapsed:  3.9min\n",
            "[Parallel(n_jobs=-1)]: Done  81 tasks      | elapsed:  4.6min\n",
            "[Parallel(n_jobs=-1)]: Done  94 tasks      | elapsed:  5.4min\n",
            "[Parallel(n_jobs=-1)]: Done 109 tasks      | elapsed:  6.2min\n",
            "[Parallel(n_jobs=-1)]: Done 120 out of 120 | elapsed:  6.8min finished\n",
            "100%|██████████| 3/3 [35:03<00:00, 701.03s/it]\n"
          ],
          "name": "stderr"
        }
      ]
    },
    {
      "cell_type": "code",
      "metadata": {
        "colab": {
          "base_uri": "https://localhost:8080/",
          "height": 142
        },
        "id": "4W7dnUlfEZ28",
        "outputId": "51325ebd-3338-4d7f-b60d-2d6d7481bcd5"
      },
      "source": [
        "res"
      ],
      "execution_count": null,
      "outputs": [
        {
          "output_type": "execute_result",
          "data": {
            "text/html": [
              "<div>\n",
              "<style scoped>\n",
              "    .dataframe tbody tr th:only-of-type {\n",
              "        vertical-align: middle;\n",
              "    }\n",
              "\n",
              "    .dataframe tbody tr th {\n",
              "        vertical-align: top;\n",
              "    }\n",
              "\n",
              "    .dataframe thead th {\n",
              "        text-align: right;\n",
              "    }\n",
              "</style>\n",
              "<table border=\"1\" class=\"dataframe\">\n",
              "  <thead>\n",
              "    <tr style=\"text-align: right;\">\n",
              "      <th></th>\n",
              "      <th>accuracy</th>\n",
              "      <th>accuracy_tr</th>\n",
              "      <th>f1</th>\n",
              "      <th>f1_tr</th>\n",
              "      <th>roc_auc</th>\n",
              "      <th>roc_auc_tr</th>\n",
              "      <th>time_total</th>\n",
              "      <th>time_per_fold</th>\n",
              "    </tr>\n",
              "  </thead>\n",
              "  <tbody>\n",
              "    <tr>\n",
              "      <th>SGD_lemm</th>\n",
              "      <td>0.89352</td>\n",
              "      <td>0.938587</td>\n",
              "      <td>0.895501</td>\n",
              "      <td>0.938295</td>\n",
              "      <td>0.960605</td>\n",
              "      <td>0.983496</td>\n",
              "      <td>1336.94</td>\n",
              "      <td>4.12635</td>\n",
              "    </tr>\n",
              "    <tr>\n",
              "      <th>MultNB_lemm</th>\n",
              "      <td>0.856</td>\n",
              "      <td>0.880453</td>\n",
              "      <td>0.852965</td>\n",
              "      <td>0.876054</td>\n",
              "      <td>0.935506</td>\n",
              "      <td>0.952802</td>\n",
              "      <td>335.328</td>\n",
              "      <td>3.72587</td>\n",
              "    </tr>\n",
              "    <tr>\n",
              "      <th>LSVC_lemm</th>\n",
              "      <td>0.8956</td>\n",
              "      <td>0.948267</td>\n",
              "      <td>0.898357</td>\n",
              "      <td>0.948286</td>\n",
              "      <td>0.961569</td>\n",
              "      <td>0.987726</td>\n",
              "      <td>410.152</td>\n",
              "      <td>3.41793</td>\n",
              "    </tr>\n",
              "  </tbody>\n",
              "</table>\n",
              "</div>"
            ],
            "text/plain": [
              "            accuracy accuracy_tr        f1  ... roc_auc_tr time_total time_per_fold\n",
              "SGD_lemm     0.89352    0.938587  0.895501  ...   0.983496    1336.94       4.12635\n",
              "MultNB_lemm    0.856    0.880453  0.852965  ...   0.952802    335.328       3.72587\n",
              "LSVC_lemm     0.8956    0.948267  0.898357  ...   0.987726    410.152       3.41793\n",
              "\n",
              "[3 rows x 8 columns]"
            ]
          },
          "metadata": {},
          "execution_count": 149
        }
      ]
    },
    {
      "cell_type": "code",
      "metadata": {
        "colab": {
          "base_uri": "https://localhost:8080/"
        },
        "id": "IjFsmE1MEZ5h",
        "outputId": "fa9bcb36-2491-45e8-f113-ef8f398b0883"
      },
      "source": [
        "best_params"
      ],
      "execution_count": null,
      "outputs": [
        {
          "output_type": "execute_result",
          "data": {
            "text/plain": [
              "[{'classifier__alpha': 1.584893192461114e-05,\n",
              "  'classifier__l1_ratio': 1.584893192461114e-05,\n",
              "  'classifier__loss': 'log',\n",
              "  'classifier__penalty': 'elasticnet'},\n",
              " {'classifier__alpha': 4.0},\n",
              " {'classifier__C': 0.2368421052631579, 'classifier__penalty': 'l2'}]"
            ]
          },
          "metadata": {},
          "execution_count": 150
        }
      ]
    },
    {
      "cell_type": "code",
      "metadata": {
        "colab": {
          "base_uri": "https://localhost:8080/",
          "height": 610
        },
        "id": "4Y0x2nP-AEjM",
        "outputId": "fcc983e9-56d9-4a07-d4e2-a8ce40848ceb"
      },
      "source": [
        "plt.figure(figsize=(15, 10))\n",
        "plt.grid(True)\n",
        "plt.title('ROC AUC for different classifiers')\n",
        "\n",
        "for y_pred_proba, classifier in zip(y_proba_list, ['SGD', 'MultNB', 'LSVC']):\n",
        "  fpr, tpr, _ = roc_curve(y_test,  y_pred_proba)\n",
        "  auc = roc_auc_score(y_test, y_pred_proba)\n",
        "  plt.plot(fpr, tpr, label=f\"{classifier}, auc={auc}\")\n",
        "  plt.legend(loc=4)\n",
        "plt.show()"
      ],
      "execution_count": null,
      "outputs": [
        {
          "output_type": "display_data",
          "data": {
            "image/png": "[encoded data removed]",
            "text/plain": [
              "<Figure size 1080x720 with 1 Axes>"
            ]
          },
          "metadata": {}
        }
      ]
    },
    {
      "cell_type": "markdown",
      "metadata": {
        "id": "tl67aFQnYcO3"
      },
      "source": [
        "* We cannot see any significant changes, results only slightly changed for some models."
      ]
    },
    {
      "cell_type": "markdown",
      "metadata": {
        "id": "KzmvXJ3v4BW5"
      },
      "source": [
        "In this work:\n",
        "\n",
        "* We cleaned and normalized text data;\n",
        "* Used TF-IDF to vectorize texts;\n",
        "* Used WordCloud to analyze text and find important words;\n",
        "* Used some Linear models to find important words;\n",
        "* Compared different normalization strategies (stemming faster, but text after lemmatization is more readable for human);\n",
        "* Used 3 classification algorithms and compared them (the fastest - Linear SVC (4.13 per fold), the slowest - SGD(3.42 per fold));\n",
        "* The best results are shown by Linear SVC and SGD (roc_auc: 0.961 and 0.960 accordingly).\n",
        "* Entirely, text classification require more RAM for working with large amount of features. Also, text classification model require more time for training."
      ]
    },
    {
      "cell_type": "code",
      "metadata": {
        "id": "g62rDkV5Zg1E"
      },
      "source": [
        ""
      ],
      "execution_count": null,
      "outputs": []
    }
  ]
}