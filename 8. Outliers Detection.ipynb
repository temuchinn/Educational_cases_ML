{
  "nbformat": 4,
  "nbformat_minor": 0,
  "metadata": {
    "colab": {
      "name": "HW_outliers.ipynb",
      "provenance": [],
      "collapsed_sections": [],
      "toc_visible": true
    },
    "kernelspec": {
      "display_name": "Python 3",
      "name": "python3"
    },
    "language_info": {
      "name": "python"
    },
    "widgets": {
      "application/vnd.jupyter.widget-state+json": {
        "a61476158ce7432a87f1883ae3358502": {
          "model_module": "@jupyter-widgets/controls",
          "model_name": "HBoxModel",
          "model_module_version": "1.5.0",
          "state": {
            "_view_name": "HBoxView",
            "_dom_classes": [],
            "_model_name": "HBoxModel",
            "_view_module": "@jupyter-widgets/controls",
            "_model_module_version": "1.5.0",
            "_view_count": null,
            "_view_module_version": "1.5.0",
            "box_style": "",
            "layout": "IPY_MODEL_038147292f4041e681f13297217ed53f",
            "_model_module": "@jupyter-widgets/controls",
            "children": [
              "IPY_MODEL_1f13673dc6784c2f9f3f5d6af7257f8b",
              "IPY_MODEL_419171b4e6a346a0823f2582465d869a",
              "IPY_MODEL_52cb3dd457ea42f8b212310436bfd10a"
            ]
          }
        },
        "038147292f4041e681f13297217ed53f": {
          "model_module": "@jupyter-widgets/base",
          "model_name": "LayoutModel",
          "model_module_version": "1.2.0",
          "state": {
            "_view_name": "LayoutView",
            "grid_template_rows": null,
            "right": null,
            "justify_content": null,
            "_view_module": "@jupyter-widgets/base",
            "overflow": null,
            "_model_module_version": "1.2.0",
            "_view_count": null,
            "flex_flow": null,
            "width": null,
            "min_width": null,
            "border": null,
            "align_items": null,
            "bottom": null,
            "_model_module": "@jupyter-widgets/base",
            "top": null,
            "grid_column": null,
            "overflow_y": null,
            "overflow_x": null,
            "grid_auto_flow": null,
            "grid_area": null,
            "grid_template_columns": null,
            "flex": null,
            "_model_name": "LayoutModel",
            "justify_items": null,
            "grid_row": null,
            "max_height": null,
            "align_content": null,
            "visibility": null,
            "align_self": null,
            "height": null,
            "min_height": null,
            "padding": null,
            "grid_auto_rows": null,
            "grid_gap": null,
            "max_width": null,
            "order": null,
            "_view_module_version": "1.2.0",
            "grid_template_areas": null,
            "object_position": null,
            "object_fit": null,
            "grid_auto_columns": null,
            "margin": null,
            "display": null,
            "left": null
          }
        },
        "1f13673dc6784c2f9f3f5d6af7257f8b": {
          "model_module": "@jupyter-widgets/controls",
          "model_name": "HTMLModel",
          "model_module_version": "1.5.0",
          "state": {
            "_view_name": "HTMLView",
            "style": "IPY_MODEL_784f3794a35f405c83e29c095e612f78",
            "_dom_classes": [],
            "description": "",
            "_model_name": "HTMLModel",
            "placeholder": "​",
            "_view_module": "@jupyter-widgets/controls",
            "_model_module_version": "1.5.0",
            "value": "100%",
            "_view_count": null,
            "_view_module_version": "1.5.0",
            "description_tooltip": null,
            "_model_module": "@jupyter-widgets/controls",
            "layout": "IPY_MODEL_36eeb74c34864d61af6d0441c51d7f9d"
          }
        },
        "419171b4e6a346a0823f2582465d869a": {
          "model_module": "@jupyter-widgets/controls",
          "model_name": "FloatProgressModel",
          "model_module_version": "1.5.0",
          "state": {
            "_view_name": "ProgressView",
            "style": "IPY_MODEL_7339b9ee8ef04a4faaa81013244e835e",
            "_dom_classes": [],
            "description": "",
            "_model_name": "FloatProgressModel",
            "bar_style": "success",
            "max": 40,
            "_view_module": "@jupyter-widgets/controls",
            "_model_module_version": "1.5.0",
            "value": 40,
            "_view_count": null,
            "_view_module_version": "1.5.0",
            "orientation": "horizontal",
            "min": 0,
            "description_tooltip": null,
            "_model_module": "@jupyter-widgets/controls",
            "layout": "IPY_MODEL_eb8d30119ac04f85910cff4a594a1453"
          }
        },
        "52cb3dd457ea42f8b212310436bfd10a": {
          "model_module": "@jupyter-widgets/controls",
          "model_name": "HTMLModel",
          "model_module_version": "1.5.0",
          "state": {
            "_view_name": "HTMLView",
            "style": "IPY_MODEL_82e0acde77eb49b88ce295bf49950e12",
            "_dom_classes": [],
            "description": "",
            "_model_name": "HTMLModel",
            "placeholder": "​",
            "_view_module": "@jupyter-widgets/controls",
            "_model_module_version": "1.5.0",
            "value": " 40/40 [02:20&lt;00:00,  7.71s/it]",
            "_view_count": null,
            "_view_module_version": "1.5.0",
            "description_tooltip": null,
            "_model_module": "@jupyter-widgets/controls",
            "layout": "IPY_MODEL_02c22f03f3494c4da726c42d1651beac"
          }
        },
        "784f3794a35f405c83e29c095e612f78": {
          "model_module": "@jupyter-widgets/controls",
          "model_name": "DescriptionStyleModel",
          "model_module_version": "1.5.0",
          "state": {
            "_view_name": "StyleView",
            "_model_name": "DescriptionStyleModel",
            "description_width": "",
            "_view_module": "@jupyter-widgets/base",
            "_model_module_version": "1.5.0",
            "_view_count": null,
            "_view_module_version": "1.2.0",
            "_model_module": "@jupyter-widgets/controls"
          }
        },
        "36eeb74c34864d61af6d0441c51d7f9d": {
          "model_module": "@jupyter-widgets/base",
          "model_name": "LayoutModel",
          "model_module_version": "1.2.0",
          "state": {
            "_view_name": "LayoutView",
            "grid_template_rows": null,
            "right": null,
            "justify_content": null,
            "_view_module": "@jupyter-widgets/base",
            "overflow": null,
            "_model_module_version": "1.2.0",
            "_view_count": null,
            "flex_flow": null,
            "width": null,
            "min_width": null,
            "border": null,
            "align_items": null,
            "bottom": null,
            "_model_module": "@jupyter-widgets/base",
            "top": null,
            "grid_column": null,
            "overflow_y": null,
            "overflow_x": null,
            "grid_auto_flow": null,
            "grid_area": null,
            "grid_template_columns": null,
            "flex": null,
            "_model_name": "LayoutModel",
            "justify_items": null,
            "grid_row": null,
            "max_height": null,
            "align_content": null,
            "visibility": null,
            "align_self": null,
            "height": null,
            "min_height": null,
            "padding": null,
            "grid_auto_rows": null,
            "grid_gap": null,
            "max_width": null,
            "order": null,
            "_view_module_version": "1.2.0",
            "grid_template_areas": null,
            "object_position": null,
            "object_fit": null,
            "grid_auto_columns": null,
            "margin": null,
            "display": null,
            "left": null
          }
        },
        "7339b9ee8ef04a4faaa81013244e835e": {
          "model_module": "@jupyter-widgets/controls",
          "model_name": "ProgressStyleModel",
          "model_module_version": "1.5.0",
          "state": {
            "_view_name": "StyleView",
            "_model_name": "ProgressStyleModel",
            "description_width": "",
            "_view_module": "@jupyter-widgets/base",
            "_model_module_version": "1.5.0",
            "_view_count": null,
            "_view_module_version": "1.2.0",
            "bar_color": null,
            "_model_module": "@jupyter-widgets/controls"
          }
        },
        "eb8d30119ac04f85910cff4a594a1453": {
          "model_module": "@jupyter-widgets/base",
          "model_name": "LayoutModel",
          "model_module_version": "1.2.0",
          "state": {
            "_view_name": "LayoutView",
            "grid_template_rows": null,
            "right": null,
            "justify_content": null,
            "_view_module": "@jupyter-widgets/base",
            "overflow": null,
            "_model_module_version": "1.2.0",
            "_view_count": null,
            "flex_flow": null,
            "width": null,
            "min_width": null,
            "border": null,
            "align_items": null,
            "bottom": null,
            "_model_module": "@jupyter-widgets/base",
            "top": null,
            "grid_column": null,
            "overflow_y": null,
            "overflow_x": null,
            "grid_auto_flow": null,
            "grid_area": null,
            "grid_template_columns": null,
            "flex": null,
            "_model_name": "LayoutModel",
            "justify_items": null,
            "grid_row": null,
            "max_height": null,
            "align_content": null,
            "visibility": null,
            "align_self": null,
            "height": null,
            "min_height": null,
            "padding": null,
            "grid_auto_rows": null,
            "grid_gap": null,
            "max_width": null,
            "order": null,
            "_view_module_version": "1.2.0",
            "grid_template_areas": null,
            "object_position": null,
            "object_fit": null,
            "grid_auto_columns": null,
            "margin": null,
            "display": null,
            "left": null
          }
        },
        "82e0acde77eb49b88ce295bf49950e12": {
          "model_module": "@jupyter-widgets/controls",
          "model_name": "DescriptionStyleModel",
          "model_module_version": "1.5.0",
          "state": {
            "_view_name": "StyleView",
            "_model_name": "DescriptionStyleModel",
            "description_width": "",
            "_view_module": "@jupyter-widgets/base",
            "_model_module_version": "1.5.0",
            "_view_count": null,
            "_view_module_version": "1.2.0",
            "_model_module": "@jupyter-widgets/controls"
          }
        },
        "02c22f03f3494c4da726c42d1651beac": {
          "model_module": "@jupyter-widgets/base",
          "model_name": "LayoutModel",
          "model_module_version": "1.2.0",
          "state": {
            "_view_name": "LayoutView",
            "grid_template_rows": null,
            "right": null,
            "justify_content": null,
            "_view_module": "@jupyter-widgets/base",
            "overflow": null,
            "_model_module_version": "1.2.0",
            "_view_count": null,
            "flex_flow": null,
            "width": null,
            "min_width": null,
            "border": null,
            "align_items": null,
            "bottom": null,
            "_model_module": "@jupyter-widgets/base",
            "top": null,
            "grid_column": null,
            "overflow_y": null,
            "overflow_x": null,
            "grid_auto_flow": null,
            "grid_area": null,
            "grid_template_columns": null,
            "flex": null,
            "_model_name": "LayoutModel",
            "justify_items": null,
            "grid_row": null,
            "max_height": null,
            "align_content": null,
            "visibility": null,
            "align_self": null,
            "height": null,
            "min_height": null,
            "padding": null,
            "grid_auto_rows": null,
            "grid_gap": null,
            "max_width": null,
            "order": null,
            "_view_module_version": "1.2.0",
            "grid_template_areas": null,
            "object_position": null,
            "object_fit": null,
            "grid_auto_columns": null,
            "margin": null,
            "display": null,
            "left": null
          }
        },
        "3411d3aa41dc43d6a66e2f8fb724387f": {
          "model_module": "@jupyter-widgets/controls",
          "model_name": "HBoxModel",
          "model_module_version": "1.5.0",
          "state": {
            "_view_name": "HBoxView",
            "_dom_classes": [],
            "_model_name": "HBoxModel",
            "_view_module": "@jupyter-widgets/controls",
            "_model_module_version": "1.5.0",
            "_view_count": null,
            "_view_module_version": "1.5.0",
            "box_style": "",
            "layout": "IPY_MODEL_8d97453242c74fd59c1c0d12518d9064",
            "_model_module": "@jupyter-widgets/controls",
            "children": [
              "IPY_MODEL_f569b436d4a74858b872fdb684c5542c",
              "IPY_MODEL_f2654912fe0a4518afd54e6a984a5ad5",
              "IPY_MODEL_4f7ef1471a9747fe9a1d160ba36bc42f"
            ]
          }
        },
        "8d97453242c74fd59c1c0d12518d9064": {
          "model_module": "@jupyter-widgets/base",
          "model_name": "LayoutModel",
          "model_module_version": "1.2.0",
          "state": {
            "_view_name": "LayoutView",
            "grid_template_rows": null,
            "right": null,
            "justify_content": null,
            "_view_module": "@jupyter-widgets/base",
            "overflow": null,
            "_model_module_version": "1.2.0",
            "_view_count": null,
            "flex_flow": null,
            "width": null,
            "min_width": null,
            "border": null,
            "align_items": null,
            "bottom": null,
            "_model_module": "@jupyter-widgets/base",
            "top": null,
            "grid_column": null,
            "overflow_y": null,
            "overflow_x": null,
            "grid_auto_flow": null,
            "grid_area": null,
            "grid_template_columns": null,
            "flex": null,
            "_model_name": "LayoutModel",
            "justify_items": null,
            "grid_row": null,
            "max_height": null,
            "align_content": null,
            "visibility": null,
            "align_self": null,
            "height": null,
            "min_height": null,
            "padding": null,
            "grid_auto_rows": null,
            "grid_gap": null,
            "max_width": null,
            "order": null,
            "_view_module_version": "1.2.0",
            "grid_template_areas": null,
            "object_position": null,
            "object_fit": null,
            "grid_auto_columns": null,
            "margin": null,
            "display": null,
            "left": null
          }
        },
        "f569b436d4a74858b872fdb684c5542c": {
          "model_module": "@jupyter-widgets/controls",
          "model_name": "HTMLModel",
          "model_module_version": "1.5.0",
          "state": {
            "_view_name": "HTMLView",
            "style": "IPY_MODEL_b8bd4d815585489d83cea3bc5cc71e79",
            "_dom_classes": [],
            "description": "",
            "_model_name": "HTMLModel",
            "placeholder": "​",
            "_view_module": "@jupyter-widgets/controls",
            "_model_module_version": "1.5.0",
            "value": "100%",
            "_view_count": null,
            "_view_module_version": "1.5.0",
            "description_tooltip": null,
            "_model_module": "@jupyter-widgets/controls",
            "layout": "IPY_MODEL_094aa41f2c064335a7c3958bfa0952b0"
          }
        },
        "f2654912fe0a4518afd54e6a984a5ad5": {
          "model_module": "@jupyter-widgets/controls",
          "model_name": "FloatProgressModel",
          "model_module_version": "1.5.0",
          "state": {
            "_view_name": "ProgressView",
            "style": "IPY_MODEL_18406a120d5a4303882b3ee97693cc74",
            "_dom_classes": [],
            "description": "",
            "_model_name": "FloatProgressModel",
            "bar_style": "success",
            "max": 10,
            "_view_module": "@jupyter-widgets/controls",
            "_model_module_version": "1.5.0",
            "value": 10,
            "_view_count": null,
            "_view_module_version": "1.5.0",
            "orientation": "horizontal",
            "min": 0,
            "description_tooltip": null,
            "_model_module": "@jupyter-widgets/controls",
            "layout": "IPY_MODEL_4373d744e3674cc983897ddbad1be4be"
          }
        },
        "4f7ef1471a9747fe9a1d160ba36bc42f": {
          "model_module": "@jupyter-widgets/controls",
          "model_name": "HTMLModel",
          "model_module_version": "1.5.0",
          "state": {
            "_view_name": "HTMLView",
            "style": "IPY_MODEL_1444fa55d27341f1ad22b8fc5e703ef6",
            "_dom_classes": [],
            "description": "",
            "_model_name": "HTMLModel",
            "placeholder": "​",
            "_view_module": "@jupyter-widgets/controls",
            "_model_module_version": "1.5.0",
            "value": " 10/10 [00:29&lt;00:00,  3.31s/it]",
            "_view_count": null,
            "_view_module_version": "1.5.0",
            "description_tooltip": null,
            "_model_module": "@jupyter-widgets/controls",
            "layout": "IPY_MODEL_77efacd1bf7944bebedeff60cec008d5"
          }
        },
        "b8bd4d815585489d83cea3bc5cc71e79": {
          "model_module": "@jupyter-widgets/controls",
          "model_name": "DescriptionStyleModel",
          "model_module_version": "1.5.0",
          "state": {
            "_view_name": "StyleView",
            "_model_name": "DescriptionStyleModel",
            "description_width": "",
            "_view_module": "@jupyter-widgets/base",
            "_model_module_version": "1.5.0",
            "_view_count": null,
            "_view_module_version": "1.2.0",
            "_model_module": "@jupyter-widgets/controls"
          }
        },
        "094aa41f2c064335a7c3958bfa0952b0": {
          "model_module": "@jupyter-widgets/base",
          "model_name": "LayoutModel",
          "model_module_version": "1.2.0",
          "state": {
            "_view_name": "LayoutView",
            "grid_template_rows": null,
            "right": null,
            "justify_content": null,
            "_view_module": "@jupyter-widgets/base",
            "overflow": null,
            "_model_module_version": "1.2.0",
            "_view_count": null,
            "flex_flow": null,
            "width": null,
            "min_width": null,
            "border": null,
            "align_items": null,
            "bottom": null,
            "_model_module": "@jupyter-widgets/base",
            "top": null,
            "grid_column": null,
            "overflow_y": null,
            "overflow_x": null,
            "grid_auto_flow": null,
            "grid_area": null,
            "grid_template_columns": null,
            "flex": null,
            "_model_name": "LayoutModel",
            "justify_items": null,
            "grid_row": null,
            "max_height": null,
            "align_content": null,
            "visibility": null,
            "align_self": null,
            "height": null,
            "min_height": null,
            "padding": null,
            "grid_auto_rows": null,
            "grid_gap": null,
            "max_width": null,
            "order": null,
            "_view_module_version": "1.2.0",
            "grid_template_areas": null,
            "object_position": null,
            "object_fit": null,
            "grid_auto_columns": null,
            "margin": null,
            "display": null,
            "left": null
          }
        },
        "18406a120d5a4303882b3ee97693cc74": {
          "model_module": "@jupyter-widgets/controls",
          "model_name": "ProgressStyleModel",
          "model_module_version": "1.5.0",
          "state": {
            "_view_name": "StyleView",
            "_model_name": "ProgressStyleModel",
            "description_width": "",
            "_view_module": "@jupyter-widgets/base",
            "_model_module_version": "1.5.0",
            "_view_count": null,
            "_view_module_version": "1.2.0",
            "bar_color": null,
            "_model_module": "@jupyter-widgets/controls"
          }
        },
        "4373d744e3674cc983897ddbad1be4be": {
          "model_module": "@jupyter-widgets/base",
          "model_name": "LayoutModel",
          "model_module_version": "1.2.0",
          "state": {
            "_view_name": "LayoutView",
            "grid_template_rows": null,
            "right": null,
            "justify_content": null,
            "_view_module": "@jupyter-widgets/base",
            "overflow": null,
            "_model_module_version": "1.2.0",
            "_view_count": null,
            "flex_flow": null,
            "width": null,
            "min_width": null,
            "border": null,
            "align_items": null,
            "bottom": null,
            "_model_module": "@jupyter-widgets/base",
            "top": null,
            "grid_column": null,
            "overflow_y": null,
            "overflow_x": null,
            "grid_auto_flow": null,
            "grid_area": null,
            "grid_template_columns": null,
            "flex": null,
            "_model_name": "LayoutModel",
            "justify_items": null,
            "grid_row": null,
            "max_height": null,
            "align_content": null,
            "visibility": null,
            "align_self": null,
            "height": null,
            "min_height": null,
            "padding": null,
            "grid_auto_rows": null,
            "grid_gap": null,
            "max_width": null,
            "order": null,
            "_view_module_version": "1.2.0",
            "grid_template_areas": null,
            "object_position": null,
            "object_fit": null,
            "grid_auto_columns": null,
            "margin": null,
            "display": null,
            "left": null
          }
        },
        "1444fa55d27341f1ad22b8fc5e703ef6": {
          "model_module": "@jupyter-widgets/controls",
          "model_name": "DescriptionStyleModel",
          "model_module_version": "1.5.0",
          "state": {
            "_view_name": "StyleView",
            "_model_name": "DescriptionStyleModel",
            "description_width": "",
            "_view_module": "@jupyter-widgets/base",
            "_model_module_version": "1.5.0",
            "_view_count": null,
            "_view_module_version": "1.2.0",
            "_model_module": "@jupyter-widgets/controls"
          }
        },
        "77efacd1bf7944bebedeff60cec008d5": {
          "model_module": "@jupyter-widgets/base",
          "model_name": "LayoutModel",
          "model_module_version": "1.2.0",
          "state": {
            "_view_name": "LayoutView",
            "grid_template_rows": null,
            "right": null,
            "justify_content": null,
            "_view_module": "@jupyter-widgets/base",
            "overflow": null,
            "_model_module_version": "1.2.0",
            "_view_count": null,
            "flex_flow": null,
            "width": null,
            "min_width": null,
            "border": null,
            "align_items": null,
            "bottom": null,
            "_model_module": "@jupyter-widgets/base",
            "top": null,
            "grid_column": null,
            "overflow_y": null,
            "overflow_x": null,
            "grid_auto_flow": null,
            "grid_area": null,
            "grid_template_columns": null,
            "flex": null,
            "_model_name": "LayoutModel",
            "justify_items": null,
            "grid_row": null,
            "max_height": null,
            "align_content": null,
            "visibility": null,
            "align_self": null,
            "height": null,
            "min_height": null,
            "padding": null,
            "grid_auto_rows": null,
            "grid_gap": null,
            "max_width": null,
            "order": null,
            "_view_module_version": "1.2.0",
            "grid_template_areas": null,
            "object_position": null,
            "object_fit": null,
            "grid_auto_columns": null,
            "margin": null,
            "display": null,
            "left": null
          }
        },
        "6c2723daa6b047b38a1f2da7ecbc116e": {
          "model_module": "@jupyter-widgets/controls",
          "model_name": "HBoxModel",
          "model_module_version": "1.5.0",
          "state": {
            "_view_name": "HBoxView",
            "_dom_classes": [],
            "_model_name": "HBoxModel",
            "_view_module": "@jupyter-widgets/controls",
            "_model_module_version": "1.5.0",
            "_view_count": null,
            "_view_module_version": "1.5.0",
            "box_style": "",
            "layout": "IPY_MODEL_a674b6dd5cdd420a904de05a48bf6c1f",
            "_model_module": "@jupyter-widgets/controls",
            "children": [
              "IPY_MODEL_d467fe97e68d4faaafbda991bbb5f54d",
              "IPY_MODEL_164419153a4e45ddb3841f785ecd0178",
              "IPY_MODEL_e2baacc44b474e1780b8a0d2610d3f62"
            ]
          }
        },
        "a674b6dd5cdd420a904de05a48bf6c1f": {
          "model_module": "@jupyter-widgets/base",
          "model_name": "LayoutModel",
          "model_module_version": "1.2.0",
          "state": {
            "_view_name": "LayoutView",
            "grid_template_rows": null,
            "right": null,
            "justify_content": null,
            "_view_module": "@jupyter-widgets/base",
            "overflow": null,
            "_model_module_version": "1.2.0",
            "_view_count": null,
            "flex_flow": null,
            "width": null,
            "min_width": null,
            "border": null,
            "align_items": null,
            "bottom": null,
            "_model_module": "@jupyter-widgets/base",
            "top": null,
            "grid_column": null,
            "overflow_y": null,
            "overflow_x": null,
            "grid_auto_flow": null,
            "grid_area": null,
            "grid_template_columns": null,
            "flex": null,
            "_model_name": "LayoutModel",
            "justify_items": null,
            "grid_row": null,
            "max_height": null,
            "align_content": null,
            "visibility": null,
            "align_self": null,
            "height": null,
            "min_height": null,
            "padding": null,
            "grid_auto_rows": null,
            "grid_gap": null,
            "max_width": null,
            "order": null,
            "_view_module_version": "1.2.0",
            "grid_template_areas": null,
            "object_position": null,
            "object_fit": null,
            "grid_auto_columns": null,
            "margin": null,
            "display": null,
            "left": null
          }
        },
        "d467fe97e68d4faaafbda991bbb5f54d": {
          "model_module": "@jupyter-widgets/controls",
          "model_name": "HTMLModel",
          "model_module_version": "1.5.0",
          "state": {
            "_view_name": "HTMLView",
            "style": "IPY_MODEL_b9d28fdbd6db4f5ca1969fe06e017fbb",
            "_dom_classes": [],
            "description": "",
            "_model_name": "HTMLModel",
            "placeholder": "​",
            "_view_module": "@jupyter-widgets/controls",
            "_model_module_version": "1.5.0",
            "value": "100%",
            "_view_count": null,
            "_view_module_version": "1.5.0",
            "description_tooltip": null,
            "_model_module": "@jupyter-widgets/controls",
            "layout": "IPY_MODEL_401ddbd7f95341c197bfb5c7932cc8a0"
          }
        },
        "164419153a4e45ddb3841f785ecd0178": {
          "model_module": "@jupyter-widgets/controls",
          "model_name": "FloatProgressModel",
          "model_module_version": "1.5.0",
          "state": {
            "_view_name": "ProgressView",
            "style": "IPY_MODEL_a8a66084ef344308a0d9dc76be5d8877",
            "_dom_classes": [],
            "description": "",
            "_model_name": "FloatProgressModel",
            "bar_style": "success",
            "max": 350,
            "_view_module": "@jupyter-widgets/controls",
            "_model_module_version": "1.5.0",
            "value": 350,
            "_view_count": null,
            "_view_module_version": "1.5.0",
            "orientation": "horizontal",
            "min": 0,
            "description_tooltip": null,
            "_model_module": "@jupyter-widgets/controls",
            "layout": "IPY_MODEL_fbcb513fe8354c3ba77fd5877ea64461"
          }
        },
        "e2baacc44b474e1780b8a0d2610d3f62": {
          "model_module": "@jupyter-widgets/controls",
          "model_name": "HTMLModel",
          "model_module_version": "1.5.0",
          "state": {
            "_view_name": "HTMLView",
            "style": "IPY_MODEL_b469d3045ae14c8d94facd4a0ac61012",
            "_dom_classes": [],
            "description": "",
            "_model_name": "HTMLModel",
            "placeholder": "​",
            "_view_module": "@jupyter-widgets/controls",
            "_model_module_version": "1.5.0",
            "value": " 350/350 [03:30&lt;00:00,  1.19s/it]",
            "_view_count": null,
            "_view_module_version": "1.5.0",
            "description_tooltip": null,
            "_model_module": "@jupyter-widgets/controls",
            "layout": "IPY_MODEL_0197b0767020435f903dab94ed04cf3c"
          }
        },
        "b9d28fdbd6db4f5ca1969fe06e017fbb": {
          "model_module": "@jupyter-widgets/controls",
          "model_name": "DescriptionStyleModel",
          "model_module_version": "1.5.0",
          "state": {
            "_view_name": "StyleView",
            "_model_name": "DescriptionStyleModel",
            "description_width": "",
            "_view_module": "@jupyter-widgets/base",
            "_model_module_version": "1.5.0",
            "_view_count": null,
            "_view_module_version": "1.2.0",
            "_model_module": "@jupyter-widgets/controls"
          }
        },
        "401ddbd7f95341c197bfb5c7932cc8a0": {
          "model_module": "@jupyter-widgets/base",
          "model_name": "LayoutModel",
          "model_module_version": "1.2.0",
          "state": {
            "_view_name": "LayoutView",
            "grid_template_rows": null,
            "right": null,
            "justify_content": null,
            "_view_module": "@jupyter-widgets/base",
            "overflow": null,
            "_model_module_version": "1.2.0",
            "_view_count": null,
            "flex_flow": null,
            "width": null,
            "min_width": null,
            "border": null,
            "align_items": null,
            "bottom": null,
            "_model_module": "@jupyter-widgets/base",
            "top": null,
            "grid_column": null,
            "overflow_y": null,
            "overflow_x": null,
            "grid_auto_flow": null,
            "grid_area": null,
            "grid_template_columns": null,
            "flex": null,
            "_model_name": "LayoutModel",
            "justify_items": null,
            "grid_row": null,
            "max_height": null,
            "align_content": null,
            "visibility": null,
            "align_self": null,
            "height": null,
            "min_height": null,
            "padding": null,
            "grid_auto_rows": null,
            "grid_gap": null,
            "max_width": null,
            "order": null,
            "_view_module_version": "1.2.0",
            "grid_template_areas": null,
            "object_position": null,
            "object_fit": null,
            "grid_auto_columns": null,
            "margin": null,
            "display": null,
            "left": null
          }
        },
        "a8a66084ef344308a0d9dc76be5d8877": {
          "model_module": "@jupyter-widgets/controls",
          "model_name": "ProgressStyleModel",
          "model_module_version": "1.5.0",
          "state": {
            "_view_name": "StyleView",
            "_model_name": "ProgressStyleModel",
            "description_width": "",
            "_view_module": "@jupyter-widgets/base",
            "_model_module_version": "1.5.0",
            "_view_count": null,
            "_view_module_version": "1.2.0",
            "bar_color": null,
            "_model_module": "@jupyter-widgets/controls"
          }
        },
        "fbcb513fe8354c3ba77fd5877ea64461": {
          "model_module": "@jupyter-widgets/base",
          "model_name": "LayoutModel",
          "model_module_version": "1.2.0",
          "state": {
            "_view_name": "LayoutView",
            "grid_template_rows": null,
            "right": null,
            "justify_content": null,
            "_view_module": "@jupyter-widgets/base",
            "overflow": null,
            "_model_module_version": "1.2.0",
            "_view_count": null,
            "flex_flow": null,
            "width": null,
            "min_width": null,
            "border": null,
            "align_items": null,
            "bottom": null,
            "_model_module": "@jupyter-widgets/base",
            "top": null,
            "grid_column": null,
            "overflow_y": null,
            "overflow_x": null,
            "grid_auto_flow": null,
            "grid_area": null,
            "grid_template_columns": null,
            "flex": null,
            "_model_name": "LayoutModel",
            "justify_items": null,
            "grid_row": null,
            "max_height": null,
            "align_content": null,
            "visibility": null,
            "align_self": null,
            "height": null,
            "min_height": null,
            "padding": null,
            "grid_auto_rows": null,
            "grid_gap": null,
            "max_width": null,
            "order": null,
            "_view_module_version": "1.2.0",
            "grid_template_areas": null,
            "object_position": null,
            "object_fit": null,
            "grid_auto_columns": null,
            "margin": null,
            "display": null,
            "left": null
          }
        },
        "b469d3045ae14c8d94facd4a0ac61012": {
          "model_module": "@jupyter-widgets/controls",
          "model_name": "DescriptionStyleModel",
          "model_module_version": "1.5.0",
          "state": {
            "_view_name": "StyleView",
            "_model_name": "DescriptionStyleModel",
            "description_width": "",
            "_view_module": "@jupyter-widgets/base",
            "_model_module_version": "1.5.0",
            "_view_count": null,
            "_view_module_version": "1.2.0",
            "_model_module": "@jupyter-widgets/controls"
          }
        },
        "0197b0767020435f903dab94ed04cf3c": {
          "model_module": "@jupyter-widgets/base",
          "model_name": "LayoutModel",
          "model_module_version": "1.2.0",
          "state": {
            "_view_name": "LayoutView",
            "grid_template_rows": null,
            "right": null,
            "justify_content": null,
            "_view_module": "@jupyter-widgets/base",
            "overflow": null,
            "_model_module_version": "1.2.0",
            "_view_count": null,
            "flex_flow": null,
            "width": null,
            "min_width": null,
            "border": null,
            "align_items": null,
            "bottom": null,
            "_model_module": "@jupyter-widgets/base",
            "top": null,
            "grid_column": null,
            "overflow_y": null,
            "overflow_x": null,
            "grid_auto_flow": null,
            "grid_area": null,
            "grid_template_columns": null,
            "flex": null,
            "_model_name": "LayoutModel",
            "justify_items": null,
            "grid_row": null,
            "max_height": null,
            "align_content": null,
            "visibility": null,
            "align_self": null,
            "height": null,
            "min_height": null,
            "padding": null,
            "grid_auto_rows": null,
            "grid_gap": null,
            "max_width": null,
            "order": null,
            "_view_module_version": "1.2.0",
            "grid_template_areas": null,
            "object_position": null,
            "object_fit": null,
            "grid_auto_columns": null,
            "margin": null,
            "display": null,
            "left": null
          }
        }
      }
    }
  },
  "cells": [
    {
      "cell_type": "code",
      "metadata": {
        "colab": {
          "base_uri": "https://localhost:8080/"
        },
        "id": "KKpFNdA2Gtf_",
        "outputId": "12c82931-479b-4933-e245-7f8626cd3574"
      },
      "source": [
        "!pip install imbalanced-learn"
      ],
      "execution_count": null,
      "outputs": [
        {
          "output_type": "stream",
          "name": "stdout",
          "text": [
            "Requirement already satisfied: imbalanced-learn in /usr/local/lib/python3.7/dist-packages (0.4.3)\n",
            "Requirement already satisfied: scipy>=0.13.3 in /usr/local/lib/python3.7/dist-packages (from imbalanced-learn) (1.4.1)\n",
            "Requirement already satisfied: scikit-learn>=0.20 in /usr/local/lib/python3.7/dist-packages (from imbalanced-learn) (0.22.2.post1)\n",
            "Requirement already satisfied: numpy>=1.8.2 in /usr/local/lib/python3.7/dist-packages (from imbalanced-learn) (1.19.5)\n",
            "Requirement already satisfied: joblib>=0.11 in /usr/local/lib/python3.7/dist-packages (from scikit-learn>=0.20->imbalanced-learn) (1.0.1)\n"
          ]
        }
      ]
    },
    {
      "cell_type": "code",
      "metadata": {
        "id": "Enq-0RHZpejk"
      },
      "source": [
        "# core libraries\n",
        "import numpy as np \n",
        "import pandas as pd\n",
        "\n",
        "# visualization libraries\n",
        "import matplotlib.pyplot as plt\n",
        "import seaborn as sns\n",
        "import matplotlib.cm as cm\n",
        "import plotly.express as px\n",
        "import plotly\n",
        "\n",
        "# Outliers detection\n",
        "from sklearn.linear_model import LogisticRegression\n",
        "from sklearn.svm import LinearSVC, SVC\n",
        "from sklearn.neighbors import KNeighborsClassifier\n",
        "from sklearn.svm import OneClassSVM\n",
        "from sklearn.ensemble import IsolationForest\n",
        "from scipy.spatial.distance import pdist, mahalanobis, squareform\n",
        "from scipy.stats import chi2\n",
        "\n",
        "# libraries for data preparation\n",
        "from sklearn.decomposition import PCA\n",
        "from sklearn.preprocessing import StandardScaler, MinMaxScaler, PowerTransformer, QuantileTransformer, FunctionTransformer, OneHotEncoder\n",
        "\n",
        "# model selection and evaluation\n",
        "from sklearn.model_selection import  train_test_split, GridSearchCV, StratifiedKFold\n",
        "from sklearn.metrics import r2_score, classification_report, make_scorer, f1_score\n",
        "\n",
        "# supportive libraries\n",
        "from sklearn.compose import ColumnTransformer\n",
        "from sklearn.pipeline import Pipeline\n",
        "from tqdm.notebook import tqdm as tqdm\n",
        "import itertools"
      ],
      "execution_count": null,
      "outputs": []
    },
    {
      "cell_type": "code",
      "metadata": {
        "colab": {
          "base_uri": "https://localhost:8080/"
        },
        "id": "ocO41LV-wqQu",
        "outputId": "48b734ee-226e-4e23-a14f-7fb02e4077f5"
      },
      "source": [
        "from google.colab import drive\n",
        "drive.mount('/content/drive')"
      ],
      "execution_count": null,
      "outputs": [
        {
          "output_type": "stream",
          "name": "stdout",
          "text": [
            "Drive already mounted at /content/drive; to attempt to forcibly remount, call drive.mount(\"/content/drive\", force_remount=True).\n"
          ]
        }
      ]
    },
    {
      "cell_type": "code",
      "metadata": {
        "colab": {
          "base_uri": "https://localhost:8080/",
          "height": 442
        },
        "id": "bKDdgHIawqTf",
        "outputId": "98b4fcfc-dc80-4d8b-8fca-816f064e699e"
      },
      "source": [
        "df = pd.read_csv(\"drive/MyDrive/training/HW/data/Cardiotocography.csv\")\n",
        "df"
      ],
      "execution_count": null,
      "outputs": [
        {
          "output_type": "execute_result",
          "data": {
            "text/html": [
              "<div>\n",
              "<style scoped>\n",
              "    .dataframe tbody tr th:only-of-type {\n",
              "        vertical-align: middle;\n",
              "    }\n",
              "\n",
              "    .dataframe tbody tr th {\n",
              "        vertical-align: top;\n",
              "    }\n",
              "\n",
              "    .dataframe thead th {\n",
              "        text-align: right;\n",
              "    }\n",
              "</style>\n",
              "<table border=\"1\" class=\"dataframe\">\n",
              "  <thead>\n",
              "    <tr style=\"text-align: right;\">\n",
              "      <th></th>\n",
              "      <th>id</th>\n",
              "      <th>LB</th>\n",
              "      <th>AC</th>\n",
              "      <th>FM</th>\n",
              "      <th>UC</th>\n",
              "      <th>ASTV</th>\n",
              "      <th>MSTV</th>\n",
              "      <th>ALTV</th>\n",
              "      <th>MLTV</th>\n",
              "      <th>DL</th>\n",
              "      <th>DS</th>\n",
              "      <th>DP</th>\n",
              "      <th>Width</th>\n",
              "      <th>Min</th>\n",
              "      <th>Max</th>\n",
              "      <th>Nmax</th>\n",
              "      <th>Nzeros</th>\n",
              "      <th>Mode</th>\n",
              "      <th>Mean</th>\n",
              "      <th>Median</th>\n",
              "      <th>Variance</th>\n",
              "      <th>Tendency</th>\n",
              "      <th>outlier</th>\n",
              "    </tr>\n",
              "  </thead>\n",
              "  <tbody>\n",
              "    <tr>\n",
              "      <th>0</th>\n",
              "      <td>1881.0</td>\n",
              "      <td>0.592593</td>\n",
              "      <td>0.000000</td>\n",
              "      <td>0.000000</td>\n",
              "      <td>0.294118</td>\n",
              "      <td>0.633803</td>\n",
              "      <td>0.338235</td>\n",
              "      <td>0.000000</td>\n",
              "      <td>0.013807</td>\n",
              "      <td>0.500000</td>\n",
              "      <td>0.0</td>\n",
              "      <td>0.000000</td>\n",
              "      <td>0.595376</td>\n",
              "      <td>0.045872</td>\n",
              "      <td>0.336207</td>\n",
              "      <td>0.333333</td>\n",
              "      <td>0.1</td>\n",
              "      <td>0.485149</td>\n",
              "      <td>0.247423</td>\n",
              "      <td>0.284091</td>\n",
              "      <td>0.638418</td>\n",
              "      <td>1.0</td>\n",
              "      <td>b'yes'</td>\n",
              "    </tr>\n",
              "    <tr>\n",
              "      <th>1</th>\n",
              "      <td>421.0</td>\n",
              "      <td>0.574074</td>\n",
              "      <td>0.038462</td>\n",
              "      <td>0.000000</td>\n",
              "      <td>0.000000</td>\n",
              "      <td>0.816901</td>\n",
              "      <td>0.029412</td>\n",
              "      <td>0.527473</td>\n",
              "      <td>0.092702</td>\n",
              "      <td>0.000000</td>\n",
              "      <td>0.0</td>\n",
              "      <td>0.000000</td>\n",
              "      <td>0.364162</td>\n",
              "      <td>0.770642</td>\n",
              "      <td>0.672414</td>\n",
              "      <td>0.166667</td>\n",
              "      <td>0.0</td>\n",
              "      <td>0.534653</td>\n",
              "      <td>0.587629</td>\n",
              "      <td>0.511364</td>\n",
              "      <td>0.016949</td>\n",
              "      <td>0.0</td>\n",
              "      <td>b'yes'</td>\n",
              "    </tr>\n",
              "    <tr>\n",
              "      <th>2</th>\n",
              "      <td>92.0</td>\n",
              "      <td>0.777778</td>\n",
              "      <td>0.000000</td>\n",
              "      <td>0.000000</td>\n",
              "      <td>0.000000</td>\n",
              "      <td>0.774648</td>\n",
              "      <td>0.029412</td>\n",
              "      <td>0.736264</td>\n",
              "      <td>0.096647</td>\n",
              "      <td>0.000000</td>\n",
              "      <td>0.0</td>\n",
              "      <td>0.000000</td>\n",
              "      <td>0.069364</td>\n",
              "      <td>0.816514</td>\n",
              "      <td>0.275862</td>\n",
              "      <td>0.222222</td>\n",
              "      <td>0.0</td>\n",
              "      <td>0.633663</td>\n",
              "      <td>0.659794</td>\n",
              "      <td>0.602273</td>\n",
              "      <td>0.000000</td>\n",
              "      <td>1.0</td>\n",
              "      <td>b'yes'</td>\n",
              "    </tr>\n",
              "    <tr>\n",
              "      <th>3</th>\n",
              "      <td>1767.0</td>\n",
              "      <td>0.259259</td>\n",
              "      <td>0.000000</td>\n",
              "      <td>0.000000</td>\n",
              "      <td>0.294118</td>\n",
              "      <td>0.704225</td>\n",
              "      <td>0.191176</td>\n",
              "      <td>0.000000</td>\n",
              "      <td>0.183432</td>\n",
              "      <td>0.428571</td>\n",
              "      <td>0.0</td>\n",
              "      <td>0.333333</td>\n",
              "      <td>0.473988</td>\n",
              "      <td>0.174312</td>\n",
              "      <td>0.275862</td>\n",
              "      <td>0.222222</td>\n",
              "      <td>0.1</td>\n",
              "      <td>0.000000</td>\n",
              "      <td>0.164948</td>\n",
              "      <td>0.000000</td>\n",
              "      <td>0.361582</td>\n",
              "      <td>0.0</td>\n",
              "      <td>b'yes'</td>\n",
              "    </tr>\n",
              "    <tr>\n",
              "      <th>4</th>\n",
              "      <td>1880.0</td>\n",
              "      <td>0.592593</td>\n",
              "      <td>0.000000</td>\n",
              "      <td>0.001773</td>\n",
              "      <td>0.294118</td>\n",
              "      <td>0.633803</td>\n",
              "      <td>0.352941</td>\n",
              "      <td>0.000000</td>\n",
              "      <td>0.013807</td>\n",
              "      <td>0.428571</td>\n",
              "      <td>0.0</td>\n",
              "      <td>0.333333</td>\n",
              "      <td>0.595376</td>\n",
              "      <td>0.045872</td>\n",
              "      <td>0.336207</td>\n",
              "      <td>0.333333</td>\n",
              "      <td>0.1</td>\n",
              "      <td>0.485149</td>\n",
              "      <td>0.226804</td>\n",
              "      <td>0.272727</td>\n",
              "      <td>0.683616</td>\n",
              "      <td>1.0</td>\n",
              "      <td>b'yes'</td>\n",
              "    </tr>\n",
              "    <tr>\n",
              "      <th>...</th>\n",
              "      <td>...</td>\n",
              "      <td>...</td>\n",
              "      <td>...</td>\n",
              "      <td>...</td>\n",
              "      <td>...</td>\n",
              "      <td>...</td>\n",
              "      <td>...</td>\n",
              "      <td>...</td>\n",
              "      <td>...</td>\n",
              "      <td>...</td>\n",
              "      <td>...</td>\n",
              "      <td>...</td>\n",
              "      <td>...</td>\n",
              "      <td>...</td>\n",
              "      <td>...</td>\n",
              "      <td>...</td>\n",
              "      <td>...</td>\n",
              "      <td>...</td>\n",
              "      <td>...</td>\n",
              "      <td>...</td>\n",
              "      <td>...</td>\n",
              "      <td>...</td>\n",
              "      <td>...</td>\n",
              "    </tr>\n",
              "    <tr>\n",
              "      <th>16875</th>\n",
              "      <td>2118.0</td>\n",
              "      <td>0.629630</td>\n",
              "      <td>0.000000</td>\n",
              "      <td>0.000000</td>\n",
              "      <td>0.352941</td>\n",
              "      <td>0.893333</td>\n",
              "      <td>0.014706</td>\n",
              "      <td>0.253165</td>\n",
              "      <td>0.167653</td>\n",
              "      <td>0.000000</td>\n",
              "      <td>0.0</td>\n",
              "      <td>0.000000</td>\n",
              "      <td>0.096386</td>\n",
              "      <td>0.678899</td>\n",
              "      <td>0.241379</td>\n",
              "      <td>0.055556</td>\n",
              "      <td>0.0</td>\n",
              "      <td>0.641667</td>\n",
              "      <td>0.642202</td>\n",
              "      <td>0.563830</td>\n",
              "      <td>0.005650</td>\n",
              "      <td>1.0</td>\n",
              "      <td>b'no'</td>\n",
              "    </tr>\n",
              "    <tr>\n",
              "      <th>16876</th>\n",
              "      <td>2119.0</td>\n",
              "      <td>0.629630</td>\n",
              "      <td>0.000000</td>\n",
              "      <td>0.000000</td>\n",
              "      <td>0.411765</td>\n",
              "      <td>0.893333</td>\n",
              "      <td>0.044118</td>\n",
              "      <td>0.329114</td>\n",
              "      <td>0.138067</td>\n",
              "      <td>0.071429</td>\n",
              "      <td>0.0</td>\n",
              "      <td>0.000000</td>\n",
              "      <td>0.066265</td>\n",
              "      <td>0.724771</td>\n",
              "      <td>0.241379</td>\n",
              "      <td>0.055556</td>\n",
              "      <td>0.0</td>\n",
              "      <td>0.650000</td>\n",
              "      <td>0.633028</td>\n",
              "      <td>0.563830</td>\n",
              "      <td>0.011299</td>\n",
              "      <td>1.0</td>\n",
              "      <td>b'no'</td>\n",
              "    </tr>\n",
              "    <tr>\n",
              "      <th>16877</th>\n",
              "      <td>2120.0</td>\n",
              "      <td>0.629630</td>\n",
              "      <td>0.000000</td>\n",
              "      <td>0.000000</td>\n",
              "      <td>0.352941</td>\n",
              "      <td>0.893333</td>\n",
              "      <td>0.058824</td>\n",
              "      <td>0.341772</td>\n",
              "      <td>0.126233</td>\n",
              "      <td>0.071429</td>\n",
              "      <td>0.0</td>\n",
              "      <td>0.000000</td>\n",
              "      <td>0.096386</td>\n",
              "      <td>0.678899</td>\n",
              "      <td>0.241379</td>\n",
              "      <td>0.055556</td>\n",
              "      <td>0.0</td>\n",
              "      <td>0.641667</td>\n",
              "      <td>0.623853</td>\n",
              "      <td>0.563830</td>\n",
              "      <td>0.005650</td>\n",
              "      <td>1.0</td>\n",
              "      <td>b'no'</td>\n",
              "    </tr>\n",
              "    <tr>\n",
              "      <th>16878</th>\n",
              "      <td>2121.0</td>\n",
              "      <td>0.629630</td>\n",
              "      <td>0.000000</td>\n",
              "      <td>0.000000</td>\n",
              "      <td>0.235294</td>\n",
              "      <td>0.866667</td>\n",
              "      <td>0.073529</td>\n",
              "      <td>0.215190</td>\n",
              "      <td>0.118343</td>\n",
              "      <td>0.071429</td>\n",
              "      <td>0.0</td>\n",
              "      <td>0.000000</td>\n",
              "      <td>0.126506</td>\n",
              "      <td>0.678899</td>\n",
              "      <td>0.284483</td>\n",
              "      <td>0.111111</td>\n",
              "      <td>0.0</td>\n",
              "      <td>0.650000</td>\n",
              "      <td>0.642202</td>\n",
              "      <td>0.563830</td>\n",
              "      <td>0.011299</td>\n",
              "      <td>0.5</td>\n",
              "      <td>b'no'</td>\n",
              "    </tr>\n",
              "    <tr>\n",
              "      <th>16879</th>\n",
              "      <td>2126.0</td>\n",
              "      <td>0.666667</td>\n",
              "      <td>0.038462</td>\n",
              "      <td>0.001773</td>\n",
              "      <td>0.294118</td>\n",
              "      <td>0.826667</td>\n",
              "      <td>0.029412</td>\n",
              "      <td>0.455696</td>\n",
              "      <td>0.098619</td>\n",
              "      <td>0.000000</td>\n",
              "      <td>0.0</td>\n",
              "      <td>0.000000</td>\n",
              "      <td>0.192771</td>\n",
              "      <td>0.614679</td>\n",
              "      <td>0.318966</td>\n",
              "      <td>0.111111</td>\n",
              "      <td>0.1</td>\n",
              "      <td>0.650000</td>\n",
              "      <td>0.642202</td>\n",
              "      <td>0.563830</td>\n",
              "      <td>0.005650</td>\n",
              "      <td>0.5</td>\n",
              "      <td>b'no'</td>\n",
              "    </tr>\n",
              "  </tbody>\n",
              "</table>\n",
              "<p>16880 rows × 23 columns</p>\n",
              "</div>"
            ],
            "text/plain": [
              "           id        LB        AC  ...  Variance  Tendency  outlier\n",
              "0      1881.0  0.592593  0.000000  ...  0.638418       1.0   b'yes'\n",
              "1       421.0  0.574074  0.038462  ...  0.016949       0.0   b'yes'\n",
              "2        92.0  0.777778  0.000000  ...  0.000000       1.0   b'yes'\n",
              "3      1767.0  0.259259  0.000000  ...  0.361582       0.0   b'yes'\n",
              "4      1880.0  0.592593  0.000000  ...  0.683616       1.0   b'yes'\n",
              "...       ...       ...       ...  ...       ...       ...      ...\n",
              "16875  2118.0  0.629630  0.000000  ...  0.005650       1.0    b'no'\n",
              "16876  2119.0  0.629630  0.000000  ...  0.011299       1.0    b'no'\n",
              "16877  2120.0  0.629630  0.000000  ...  0.005650       1.0    b'no'\n",
              "16878  2121.0  0.629630  0.000000  ...  0.011299       0.5    b'no'\n",
              "16879  2126.0  0.666667  0.038462  ...  0.005650       0.5    b'no'\n",
              "\n",
              "[16880 rows x 23 columns]"
            ]
          },
          "metadata": {},
          "execution_count": 4
        }
      ]
    },
    {
      "cell_type": "markdown",
      "metadata": {
        "id": "hWGzrlGzZvDZ"
      },
      "source": [
        "# EDA and Data Preparation"
      ]
    },
    {
      "cell_type": "code",
      "metadata": {
        "id": "h6Gk0xOMZxfB"
      },
      "source": [
        "d = {\"b'yes'\" : 1, \"b'no'\" : 0}"
      ],
      "execution_count": null,
      "outputs": []
    },
    {
      "cell_type": "code",
      "metadata": {
        "colab": {
          "base_uri": "https://localhost:8080/",
          "height": 442
        },
        "id": "TA44Jg_PZSyE",
        "outputId": "f4e43990-d74a-4e7e-e0fd-bd305fde41fa"
      },
      "source": [
        "df['outlier'] = df['outlier'].map(d)\n",
        "df"
      ],
      "execution_count": null,
      "outputs": [
        {
          "output_type": "execute_result",
          "data": {
            "text/html": [
              "<div>\n",
              "<style scoped>\n",
              "    .dataframe tbody tr th:only-of-type {\n",
              "        vertical-align: middle;\n",
              "    }\n",
              "\n",
              "    .dataframe tbody tr th {\n",
              "        vertical-align: top;\n",
              "    }\n",
              "\n",
              "    .dataframe thead th {\n",
              "        text-align: right;\n",
              "    }\n",
              "</style>\n",
              "<table border=\"1\" class=\"dataframe\">\n",
              "  <thead>\n",
              "    <tr style=\"text-align: right;\">\n",
              "      <th></th>\n",
              "      <th>id</th>\n",
              "      <th>LB</th>\n",
              "      <th>AC</th>\n",
              "      <th>FM</th>\n",
              "      <th>UC</th>\n",
              "      <th>ASTV</th>\n",
              "      <th>MSTV</th>\n",
              "      <th>ALTV</th>\n",
              "      <th>MLTV</th>\n",
              "      <th>DL</th>\n",
              "      <th>DS</th>\n",
              "      <th>DP</th>\n",
              "      <th>Width</th>\n",
              "      <th>Min</th>\n",
              "      <th>Max</th>\n",
              "      <th>Nmax</th>\n",
              "      <th>Nzeros</th>\n",
              "      <th>Mode</th>\n",
              "      <th>Mean</th>\n",
              "      <th>Median</th>\n",
              "      <th>Variance</th>\n",
              "      <th>Tendency</th>\n",
              "      <th>outlier</th>\n",
              "    </tr>\n",
              "  </thead>\n",
              "  <tbody>\n",
              "    <tr>\n",
              "      <th>0</th>\n",
              "      <td>1881.0</td>\n",
              "      <td>0.592593</td>\n",
              "      <td>0.000000</td>\n",
              "      <td>0.000000</td>\n",
              "      <td>0.294118</td>\n",
              "      <td>0.633803</td>\n",
              "      <td>0.338235</td>\n",
              "      <td>0.000000</td>\n",
              "      <td>0.013807</td>\n",
              "      <td>0.500000</td>\n",
              "      <td>0.0</td>\n",
              "      <td>0.000000</td>\n",
              "      <td>0.595376</td>\n",
              "      <td>0.045872</td>\n",
              "      <td>0.336207</td>\n",
              "      <td>0.333333</td>\n",
              "      <td>0.1</td>\n",
              "      <td>0.485149</td>\n",
              "      <td>0.247423</td>\n",
              "      <td>0.284091</td>\n",
              "      <td>0.638418</td>\n",
              "      <td>1.0</td>\n",
              "      <td>1</td>\n",
              "    </tr>\n",
              "    <tr>\n",
              "      <th>1</th>\n",
              "      <td>421.0</td>\n",
              "      <td>0.574074</td>\n",
              "      <td>0.038462</td>\n",
              "      <td>0.000000</td>\n",
              "      <td>0.000000</td>\n",
              "      <td>0.816901</td>\n",
              "      <td>0.029412</td>\n",
              "      <td>0.527473</td>\n",
              "      <td>0.092702</td>\n",
              "      <td>0.000000</td>\n",
              "      <td>0.0</td>\n",
              "      <td>0.000000</td>\n",
              "      <td>0.364162</td>\n",
              "      <td>0.770642</td>\n",
              "      <td>0.672414</td>\n",
              "      <td>0.166667</td>\n",
              "      <td>0.0</td>\n",
              "      <td>0.534653</td>\n",
              "      <td>0.587629</td>\n",
              "      <td>0.511364</td>\n",
              "      <td>0.016949</td>\n",
              "      <td>0.0</td>\n",
              "      <td>1</td>\n",
              "    </tr>\n",
              "    <tr>\n",
              "      <th>2</th>\n",
              "      <td>92.0</td>\n",
              "      <td>0.777778</td>\n",
              "      <td>0.000000</td>\n",
              "      <td>0.000000</td>\n",
              "      <td>0.000000</td>\n",
              "      <td>0.774648</td>\n",
              "      <td>0.029412</td>\n",
              "      <td>0.736264</td>\n",
              "      <td>0.096647</td>\n",
              "      <td>0.000000</td>\n",
              "      <td>0.0</td>\n",
              "      <td>0.000000</td>\n",
              "      <td>0.069364</td>\n",
              "      <td>0.816514</td>\n",
              "      <td>0.275862</td>\n",
              "      <td>0.222222</td>\n",
              "      <td>0.0</td>\n",
              "      <td>0.633663</td>\n",
              "      <td>0.659794</td>\n",
              "      <td>0.602273</td>\n",
              "      <td>0.000000</td>\n",
              "      <td>1.0</td>\n",
              "      <td>1</td>\n",
              "    </tr>\n",
              "    <tr>\n",
              "      <th>3</th>\n",
              "      <td>1767.0</td>\n",
              "      <td>0.259259</td>\n",
              "      <td>0.000000</td>\n",
              "      <td>0.000000</td>\n",
              "      <td>0.294118</td>\n",
              "      <td>0.704225</td>\n",
              "      <td>0.191176</td>\n",
              "      <td>0.000000</td>\n",
              "      <td>0.183432</td>\n",
              "      <td>0.428571</td>\n",
              "      <td>0.0</td>\n",
              "      <td>0.333333</td>\n",
              "      <td>0.473988</td>\n",
              "      <td>0.174312</td>\n",
              "      <td>0.275862</td>\n",
              "      <td>0.222222</td>\n",
              "      <td>0.1</td>\n",
              "      <td>0.000000</td>\n",
              "      <td>0.164948</td>\n",
              "      <td>0.000000</td>\n",
              "      <td>0.361582</td>\n",
              "      <td>0.0</td>\n",
              "      <td>1</td>\n",
              "    </tr>\n",
              "    <tr>\n",
              "      <th>4</th>\n",
              "      <td>1880.0</td>\n",
              "      <td>0.592593</td>\n",
              "      <td>0.000000</td>\n",
              "      <td>0.001773</td>\n",
              "      <td>0.294118</td>\n",
              "      <td>0.633803</td>\n",
              "      <td>0.352941</td>\n",
              "      <td>0.000000</td>\n",
              "      <td>0.013807</td>\n",
              "      <td>0.428571</td>\n",
              "      <td>0.0</td>\n",
              "      <td>0.333333</td>\n",
              "      <td>0.595376</td>\n",
              "      <td>0.045872</td>\n",
              "      <td>0.336207</td>\n",
              "      <td>0.333333</td>\n",
              "      <td>0.1</td>\n",
              "      <td>0.485149</td>\n",
              "      <td>0.226804</td>\n",
              "      <td>0.272727</td>\n",
              "      <td>0.683616</td>\n",
              "      <td>1.0</td>\n",
              "      <td>1</td>\n",
              "    </tr>\n",
              "    <tr>\n",
              "      <th>...</th>\n",
              "      <td>...</td>\n",
              "      <td>...</td>\n",
              "      <td>...</td>\n",
              "      <td>...</td>\n",
              "      <td>...</td>\n",
              "      <td>...</td>\n",
              "      <td>...</td>\n",
              "      <td>...</td>\n",
              "      <td>...</td>\n",
              "      <td>...</td>\n",
              "      <td>...</td>\n",
              "      <td>...</td>\n",
              "      <td>...</td>\n",
              "      <td>...</td>\n",
              "      <td>...</td>\n",
              "      <td>...</td>\n",
              "      <td>...</td>\n",
              "      <td>...</td>\n",
              "      <td>...</td>\n",
              "      <td>...</td>\n",
              "      <td>...</td>\n",
              "      <td>...</td>\n",
              "      <td>...</td>\n",
              "    </tr>\n",
              "    <tr>\n",
              "      <th>16875</th>\n",
              "      <td>2118.0</td>\n",
              "      <td>0.629630</td>\n",
              "      <td>0.000000</td>\n",
              "      <td>0.000000</td>\n",
              "      <td>0.352941</td>\n",
              "      <td>0.893333</td>\n",
              "      <td>0.014706</td>\n",
              "      <td>0.253165</td>\n",
              "      <td>0.167653</td>\n",
              "      <td>0.000000</td>\n",
              "      <td>0.0</td>\n",
              "      <td>0.000000</td>\n",
              "      <td>0.096386</td>\n",
              "      <td>0.678899</td>\n",
              "      <td>0.241379</td>\n",
              "      <td>0.055556</td>\n",
              "      <td>0.0</td>\n",
              "      <td>0.641667</td>\n",
              "      <td>0.642202</td>\n",
              "      <td>0.563830</td>\n",
              "      <td>0.005650</td>\n",
              "      <td>1.0</td>\n",
              "      <td>0</td>\n",
              "    </tr>\n",
              "    <tr>\n",
              "      <th>16876</th>\n",
              "      <td>2119.0</td>\n",
              "      <td>0.629630</td>\n",
              "      <td>0.000000</td>\n",
              "      <td>0.000000</td>\n",
              "      <td>0.411765</td>\n",
              "      <td>0.893333</td>\n",
              "      <td>0.044118</td>\n",
              "      <td>0.329114</td>\n",
              "      <td>0.138067</td>\n",
              "      <td>0.071429</td>\n",
              "      <td>0.0</td>\n",
              "      <td>0.000000</td>\n",
              "      <td>0.066265</td>\n",
              "      <td>0.724771</td>\n",
              "      <td>0.241379</td>\n",
              "      <td>0.055556</td>\n",
              "      <td>0.0</td>\n",
              "      <td>0.650000</td>\n",
              "      <td>0.633028</td>\n",
              "      <td>0.563830</td>\n",
              "      <td>0.011299</td>\n",
              "      <td>1.0</td>\n",
              "      <td>0</td>\n",
              "    </tr>\n",
              "    <tr>\n",
              "      <th>16877</th>\n",
              "      <td>2120.0</td>\n",
              "      <td>0.629630</td>\n",
              "      <td>0.000000</td>\n",
              "      <td>0.000000</td>\n",
              "      <td>0.352941</td>\n",
              "      <td>0.893333</td>\n",
              "      <td>0.058824</td>\n",
              "      <td>0.341772</td>\n",
              "      <td>0.126233</td>\n",
              "      <td>0.071429</td>\n",
              "      <td>0.0</td>\n",
              "      <td>0.000000</td>\n",
              "      <td>0.096386</td>\n",
              "      <td>0.678899</td>\n",
              "      <td>0.241379</td>\n",
              "      <td>0.055556</td>\n",
              "      <td>0.0</td>\n",
              "      <td>0.641667</td>\n",
              "      <td>0.623853</td>\n",
              "      <td>0.563830</td>\n",
              "      <td>0.005650</td>\n",
              "      <td>1.0</td>\n",
              "      <td>0</td>\n",
              "    </tr>\n",
              "    <tr>\n",
              "      <th>16878</th>\n",
              "      <td>2121.0</td>\n",
              "      <td>0.629630</td>\n",
              "      <td>0.000000</td>\n",
              "      <td>0.000000</td>\n",
              "      <td>0.235294</td>\n",
              "      <td>0.866667</td>\n",
              "      <td>0.073529</td>\n",
              "      <td>0.215190</td>\n",
              "      <td>0.118343</td>\n",
              "      <td>0.071429</td>\n",
              "      <td>0.0</td>\n",
              "      <td>0.000000</td>\n",
              "      <td>0.126506</td>\n",
              "      <td>0.678899</td>\n",
              "      <td>0.284483</td>\n",
              "      <td>0.111111</td>\n",
              "      <td>0.0</td>\n",
              "      <td>0.650000</td>\n",
              "      <td>0.642202</td>\n",
              "      <td>0.563830</td>\n",
              "      <td>0.011299</td>\n",
              "      <td>0.5</td>\n",
              "      <td>0</td>\n",
              "    </tr>\n",
              "    <tr>\n",
              "      <th>16879</th>\n",
              "      <td>2126.0</td>\n",
              "      <td>0.666667</td>\n",
              "      <td>0.038462</td>\n",
              "      <td>0.001773</td>\n",
              "      <td>0.294118</td>\n",
              "      <td>0.826667</td>\n",
              "      <td>0.029412</td>\n",
              "      <td>0.455696</td>\n",
              "      <td>0.098619</td>\n",
              "      <td>0.000000</td>\n",
              "      <td>0.0</td>\n",
              "      <td>0.000000</td>\n",
              "      <td>0.192771</td>\n",
              "      <td>0.614679</td>\n",
              "      <td>0.318966</td>\n",
              "      <td>0.111111</td>\n",
              "      <td>0.1</td>\n",
              "      <td>0.650000</td>\n",
              "      <td>0.642202</td>\n",
              "      <td>0.563830</td>\n",
              "      <td>0.005650</td>\n",
              "      <td>0.5</td>\n",
              "      <td>0</td>\n",
              "    </tr>\n",
              "  </tbody>\n",
              "</table>\n",
              "<p>16880 rows × 23 columns</p>\n",
              "</div>"
            ],
            "text/plain": [
              "           id        LB        AC  ...  Variance  Tendency  outlier\n",
              "0      1881.0  0.592593  0.000000  ...  0.638418       1.0        1\n",
              "1       421.0  0.574074  0.038462  ...  0.016949       0.0        1\n",
              "2        92.0  0.777778  0.000000  ...  0.000000       1.0        1\n",
              "3      1767.0  0.259259  0.000000  ...  0.361582       0.0        1\n",
              "4      1880.0  0.592593  0.000000  ...  0.683616       1.0        1\n",
              "...       ...       ...       ...  ...       ...       ...      ...\n",
              "16875  2118.0  0.629630  0.000000  ...  0.005650       1.0        0\n",
              "16876  2119.0  0.629630  0.000000  ...  0.011299       1.0        0\n",
              "16877  2120.0  0.629630  0.000000  ...  0.005650       1.0        0\n",
              "16878  2121.0  0.629630  0.000000  ...  0.011299       0.5        0\n",
              "16879  2126.0  0.666667  0.038462  ...  0.005650       0.5        0\n",
              "\n",
              "[16880 rows x 23 columns]"
            ]
          },
          "metadata": {},
          "execution_count": 6
        }
      ]
    },
    {
      "cell_type": "code",
      "metadata": {
        "colab": {
          "base_uri": "https://localhost:8080/"
        },
        "id": "d5JZ9fHXwfpg",
        "outputId": "342275f7-abbd-469e-d884-59551a5272bd"
      },
      "source": [
        "df.info()"
      ],
      "execution_count": null,
      "outputs": [
        {
          "output_type": "stream",
          "name": "stdout",
          "text": [
            "<class 'pandas.core.frame.DataFrame'>\n",
            "RangeIndex: 16880 entries, 0 to 16879\n",
            "Data columns (total 23 columns):\n",
            " #   Column    Non-Null Count  Dtype  \n",
            "---  ------    --------------  -----  \n",
            " 0   id        16880 non-null  float64\n",
            " 1   LB        16880 non-null  float64\n",
            " 2   AC        16880 non-null  float64\n",
            " 3   FM        16880 non-null  float64\n",
            " 4   UC        16880 non-null  float64\n",
            " 5   ASTV      16880 non-null  float64\n",
            " 6   MSTV      16880 non-null  float64\n",
            " 7   ALTV      16880 non-null  float64\n",
            " 8   MLTV      16880 non-null  float64\n",
            " 9   DL        16880 non-null  float64\n",
            " 10  DS        16880 non-null  float64\n",
            " 11  DP        16880 non-null  float64\n",
            " 12  Width     16880 non-null  float64\n",
            " 13  Min       16880 non-null  float64\n",
            " 14  Max       16880 non-null  float64\n",
            " 15  Nmax      16880 non-null  float64\n",
            " 16  Nzeros    16880 non-null  float64\n",
            " 17  Mode      16880 non-null  float64\n",
            " 18  Mean      16880 non-null  float64\n",
            " 19  Median    16880 non-null  float64\n",
            " 20  Variance  16880 non-null  float64\n",
            " 21  Tendency  16880 non-null  float64\n",
            " 22  outlier   16880 non-null  int64  \n",
            "dtypes: float64(22), int64(1)\n",
            "memory usage: 3.0 MB\n"
          ]
        }
      ]
    },
    {
      "cell_type": "markdown",
      "metadata": {
        "id": "fup4ymWara6R"
      },
      "source": [
        "We don't need id for predicting."
      ]
    },
    {
      "cell_type": "code",
      "metadata": {
        "id": "M4aq_LU0KQk1"
      },
      "source": [
        "df.drop('id', axis=1, inplace=True)"
      ],
      "execution_count": null,
      "outputs": []
    },
    {
      "cell_type": "code",
      "metadata": {
        "id": "khGuJefPI280"
      },
      "source": [
        "X, y = df.drop('outlier', axis=1), df['outlier']"
      ],
      "execution_count": null,
      "outputs": []
    },
    {
      "cell_type": "code",
      "metadata": {
        "colab": {
          "base_uri": "https://localhost:8080/"
        },
        "id": "fGtVJsngFGBQ",
        "outputId": "d04d8747-9189-48ed-ddef-7ee2adc61338"
      },
      "source": [
        "y.value_counts()"
      ],
      "execution_count": null,
      "outputs": [
        {
          "output_type": "execute_result",
          "data": {
            "text/plain": [
              "0    16550\n",
              "1      330\n",
              "Name: outlier, dtype: int64"
            ]
          },
          "metadata": {},
          "execution_count": 10
        }
      ]
    },
    {
      "cell_type": "code",
      "metadata": {
        "colab": {
          "base_uri": "https://localhost:8080/",
          "height": 319
        },
        "id": "DMpGGNG4YY_d",
        "outputId": "827bd257-cdc7-4fed-bfa9-a90d208b9ad6"
      },
      "source": [
        "df.describe()"
      ],
      "execution_count": null,
      "outputs": [
        {
          "output_type": "execute_result",
          "data": {
            "text/html": [
              "<div>\n",
              "<style scoped>\n",
              "    .dataframe tbody tr th:only-of-type {\n",
              "        vertical-align: middle;\n",
              "    }\n",
              "\n",
              "    .dataframe tbody tr th {\n",
              "        vertical-align: top;\n",
              "    }\n",
              "\n",
              "    .dataframe thead th {\n",
              "        text-align: right;\n",
              "    }\n",
              "</style>\n",
              "<table border=\"1\" class=\"dataframe\">\n",
              "  <thead>\n",
              "    <tr style=\"text-align: right;\">\n",
              "      <th></th>\n",
              "      <th>LB</th>\n",
              "      <th>AC</th>\n",
              "      <th>FM</th>\n",
              "      <th>UC</th>\n",
              "      <th>ASTV</th>\n",
              "      <th>MSTV</th>\n",
              "      <th>ALTV</th>\n",
              "      <th>MLTV</th>\n",
              "      <th>DL</th>\n",
              "      <th>DS</th>\n",
              "      <th>DP</th>\n",
              "      <th>Width</th>\n",
              "      <th>Min</th>\n",
              "      <th>Max</th>\n",
              "      <th>Nmax</th>\n",
              "      <th>Nzeros</th>\n",
              "      <th>Mode</th>\n",
              "      <th>Mean</th>\n",
              "      <th>Median</th>\n",
              "      <th>Variance</th>\n",
              "      <th>Tendency</th>\n",
              "      <th>outlier</th>\n",
              "    </tr>\n",
              "  </thead>\n",
              "  <tbody>\n",
              "    <tr>\n",
              "      <th>count</th>\n",
              "      <td>16880.000000</td>\n",
              "      <td>16880.000000</td>\n",
              "      <td>16880.000000</td>\n",
              "      <td>16880.000000</td>\n",
              "      <td>16880.000000</td>\n",
              "      <td>16880.000000</td>\n",
              "      <td>16880.000000</td>\n",
              "      <td>16880.000000</td>\n",
              "      <td>16880.000000</td>\n",
              "      <td>16880.000000</td>\n",
              "      <td>16880.000000</td>\n",
              "      <td>16880.000000</td>\n",
              "      <td>16880.000000</td>\n",
              "      <td>16880.000000</td>\n",
              "      <td>16880.000000</td>\n",
              "      <td>16880.000000</td>\n",
              "      <td>16880.000000</td>\n",
              "      <td>16880.000000</td>\n",
              "      <td>16880.000000</td>\n",
              "      <td>16880.000000</td>\n",
              "      <td>16880.000000</td>\n",
              "      <td>16880.000000</td>\n",
              "    </tr>\n",
              "    <tr>\n",
              "      <th>mean</th>\n",
              "      <td>0.483186</td>\n",
              "      <td>0.129270</td>\n",
              "      <td>0.011411</td>\n",
              "      <td>0.226668</td>\n",
              "      <td>0.425672</td>\n",
              "      <td>0.179521</td>\n",
              "      <td>0.064739</td>\n",
              "      <td>0.170819</td>\n",
              "      <td>0.113227</td>\n",
              "      <td>0.000770</td>\n",
              "      <td>0.017417</td>\n",
              "      <td>0.391083</td>\n",
              "      <td>0.379411</td>\n",
              "      <td>0.365604</td>\n",
              "      <td>0.230579</td>\n",
              "      <td>0.033365</td>\n",
              "      <td>0.563887</td>\n",
              "      <td>0.525497</td>\n",
              "      <td>0.475086</td>\n",
              "      <td>0.090984</td>\n",
              "      <td>0.670794</td>\n",
              "      <td>0.019550</td>\n",
              "    </tr>\n",
              "    <tr>\n",
              "      <th>std</th>\n",
              "      <td>0.175738</td>\n",
              "      <td>0.143077</td>\n",
              "      <td>0.060514</td>\n",
              "      <td>0.156665</td>\n",
              "      <td>0.216970</td>\n",
              "      <td>0.121198</td>\n",
              "      <td>0.146732</td>\n",
              "      <td>0.114551</td>\n",
              "      <td>0.171935</td>\n",
              "      <td>0.027742</td>\n",
              "      <td>0.084956</td>\n",
              "      <td>0.214992</td>\n",
              "      <td>0.252147</td>\n",
              "      <td>0.153285</td>\n",
              "      <td>0.159211</td>\n",
              "      <td>0.069209</td>\n",
              "      <td>0.128429</td>\n",
              "      <td>0.136375</td>\n",
              "      <td>0.146790</td>\n",
              "      <td>0.119737</td>\n",
              "      <td>0.295171</td>\n",
              "      <td>0.138451</td>\n",
              "    </tr>\n",
              "    <tr>\n",
              "      <th>min</th>\n",
              "      <td>0.000000</td>\n",
              "      <td>0.000000</td>\n",
              "      <td>0.000000</td>\n",
              "      <td>0.000000</td>\n",
              "      <td>0.000000</td>\n",
              "      <td>0.000000</td>\n",
              "      <td>0.000000</td>\n",
              "      <td>0.000000</td>\n",
              "      <td>0.000000</td>\n",
              "      <td>0.000000</td>\n",
              "      <td>0.000000</td>\n",
              "      <td>0.000000</td>\n",
              "      <td>0.000000</td>\n",
              "      <td>0.000000</td>\n",
              "      <td>0.000000</td>\n",
              "      <td>0.000000</td>\n",
              "      <td>0.000000</td>\n",
              "      <td>0.000000</td>\n",
              "      <td>0.000000</td>\n",
              "      <td>0.000000</td>\n",
              "      <td>0.000000</td>\n",
              "      <td>0.000000</td>\n",
              "    </tr>\n",
              "    <tr>\n",
              "      <th>25%</th>\n",
              "      <td>0.351852</td>\n",
              "      <td>0.000000</td>\n",
              "      <td>0.000000</td>\n",
              "      <td>0.117647</td>\n",
              "      <td>0.236111</td>\n",
              "      <td>0.088235</td>\n",
              "      <td>0.000000</td>\n",
              "      <td>0.094675</td>\n",
              "      <td>0.000000</td>\n",
              "      <td>0.000000</td>\n",
              "      <td>0.000000</td>\n",
              "      <td>0.204678</td>\n",
              "      <td>0.155963</td>\n",
              "      <td>0.258621</td>\n",
              "      <td>0.111111</td>\n",
              "      <td>0.000000</td>\n",
              "      <td>0.482143</td>\n",
              "      <td>0.431193</td>\n",
              "      <td>0.373494</td>\n",
              "      <td>0.015385</td>\n",
              "      <td>0.500000</td>\n",
              "      <td>0.000000</td>\n",
              "    </tr>\n",
              "    <tr>\n",
              "      <th>50%</th>\n",
              "      <td>0.481481</td>\n",
              "      <td>0.076923</td>\n",
              "      <td>0.000000</td>\n",
              "      <td>0.235294</td>\n",
              "      <td>0.408451</td>\n",
              "      <td>0.161765</td>\n",
              "      <td>0.000000</td>\n",
              "      <td>0.155819</td>\n",
              "      <td>0.000000</td>\n",
              "      <td>0.000000</td>\n",
              "      <td>0.000000</td>\n",
              "      <td>0.377907</td>\n",
              "      <td>0.376147</td>\n",
              "      <td>0.353448</td>\n",
              "      <td>0.222222</td>\n",
              "      <td>0.000000</td>\n",
              "      <td>0.567797</td>\n",
              "      <td>0.525773</td>\n",
              "      <td>0.478261</td>\n",
              "      <td>0.045198</td>\n",
              "      <td>0.500000</td>\n",
              "      <td>0.000000</td>\n",
              "    </tr>\n",
              "    <tr>\n",
              "      <th>75%</th>\n",
              "      <td>0.592593</td>\n",
              "      <td>0.192308</td>\n",
              "      <td>0.003546</td>\n",
              "      <td>0.304348</td>\n",
              "      <td>0.608108</td>\n",
              "      <td>0.220588</td>\n",
              "      <td>0.050633</td>\n",
              "      <td>0.226824</td>\n",
              "      <td>0.214286</td>\n",
              "      <td>0.000000</td>\n",
              "      <td>0.000000</td>\n",
              "      <td>0.549133</td>\n",
              "      <td>0.596330</td>\n",
              "      <td>0.456897</td>\n",
              "      <td>0.333333</td>\n",
              "      <td>0.000000</td>\n",
              "      <td>0.650000</td>\n",
              "      <td>0.621053</td>\n",
              "      <td>0.576087</td>\n",
              "      <td>0.122677</td>\n",
              "      <td>1.000000</td>\n",
              "      <td>0.000000</td>\n",
              "    </tr>\n",
              "    <tr>\n",
              "      <th>max</th>\n",
              "      <td>1.000000</td>\n",
              "      <td>1.000000</td>\n",
              "      <td>1.000000</td>\n",
              "      <td>1.000000</td>\n",
              "      <td>1.000000</td>\n",
              "      <td>1.000000</td>\n",
              "      <td>1.000000</td>\n",
              "      <td>1.000000</td>\n",
              "      <td>1.000000</td>\n",
              "      <td>1.000000</td>\n",
              "      <td>1.000000</td>\n",
              "      <td>1.000000</td>\n",
              "      <td>1.000000</td>\n",
              "      <td>1.000000</td>\n",
              "      <td>1.000000</td>\n",
              "      <td>1.000000</td>\n",
              "      <td>1.000000</td>\n",
              "      <td>1.000000</td>\n",
              "      <td>1.000000</td>\n",
              "      <td>1.000000</td>\n",
              "      <td>1.000000</td>\n",
              "      <td>1.000000</td>\n",
              "    </tr>\n",
              "  </tbody>\n",
              "</table>\n",
              "</div>"
            ],
            "text/plain": [
              "                 LB            AC  ...      Tendency       outlier\n",
              "count  16880.000000  16880.000000  ...  16880.000000  16880.000000\n",
              "mean       0.483186      0.129270  ...      0.670794      0.019550\n",
              "std        0.175738      0.143077  ...      0.295171      0.138451\n",
              "min        0.000000      0.000000  ...      0.000000      0.000000\n",
              "25%        0.351852      0.000000  ...      0.500000      0.000000\n",
              "50%        0.481481      0.076923  ...      0.500000      0.000000\n",
              "75%        0.592593      0.192308  ...      1.000000      0.000000\n",
              "max        1.000000      1.000000  ...      1.000000      1.000000\n",
              "\n",
              "[8 rows x 22 columns]"
            ]
          },
          "metadata": {},
          "execution_count": 11
        }
      ]
    },
    {
      "cell_type": "markdown",
      "metadata": {
        "id": "T7wezrkHrg9O"
      },
      "source": [
        "We can look through the distributions of features. Some of them have large amout of near-to-zero values. "
      ]
    },
    {
      "cell_type": "code",
      "metadata": {
        "colab": {
          "base_uri": "https://localhost:8080/",
          "height": 934
        },
        "id": "yLYMYoY9xc8A",
        "outputId": "3db991e8-02c6-42fa-cd57-04e7b5d0085e"
      },
      "source": [
        "df.hist(figsize=(20, 16), bins=40);"
      ],
      "execution_count": null,
      "outputs": [
        {
          "output_type": "display_data",
          "data": {
            "image/png": "[encoded data removed]",
            "text/plain": [
              "<Figure size 1440x1152 with 25 Axes>"
            ]
          },
          "metadata": {
            "needs_background": "light"
          }
        }
      ]
    },
    {
      "cell_type": "markdown",
      "metadata": {
        "id": "RQW95YTrr6FO"
      },
      "source": [
        "Let's check some suspicious features."
      ]
    },
    {
      "cell_type": "code",
      "metadata": {
        "colab": {
          "base_uri": "https://localhost:8080/"
        },
        "id": "2sSVd7vdC6E_",
        "outputId": "00768a9b-58d7-48a4-a2ce-bd6f5a00f47b"
      },
      "source": [
        "for feature in ['FM', 'DS', 'DP']:\n",
        "  print(feature)\n",
        "  print(df[feature].value_counts())\n",
        "  print()"
      ],
      "execution_count": null,
      "outputs": [
        {
          "output_type": "stream",
          "name": "stdout",
          "text": [
            "FM\n",
            "0.000000    10887\n",
            "0.001773     1416\n",
            "0.003546      920\n",
            "0.005319      608\n",
            "0.007092      521\n",
            "            ...  \n",
            "0.287234        2\n",
            "0.539007        2\n",
            "0.258865        1\n",
            "0.785461        1\n",
            "0.342199        1\n",
            "Name: FM, Length: 87, dtype: int64\n",
            "\n",
            "DS\n",
            "0.0    16867\n",
            "1.0       13\n",
            "Name: DS, dtype: int64\n",
            "\n",
            "DP\n",
            "0.000000    16127\n",
            "0.333333      572\n",
            "0.500000      142\n",
            "0.666667       20\n",
            "1.000000       19\n",
            "Name: DP, dtype: int64\n",
            "\n"
          ]
        }
      ]
    },
    {
      "cell_type": "markdown",
      "metadata": {
        "id": "ObfXfzZRr95s"
      },
      "source": [
        "DS has too little unique values, we can drop it."
      ]
    },
    {
      "cell_type": "code",
      "metadata": {
        "id": "NHwGg0aOC94b",
        "colab": {
          "base_uri": "https://localhost:8080/",
          "height": 322
        },
        "outputId": "6f9d63bc-cbd6-454e-8ab5-59841afae8d5"
      },
      "source": [
        "df.drop('DS', axis=1, inplace=True)"
      ],
      "execution_count": null,
      "outputs": [
        {
          "output_type": "error",
          "ename": "KeyError",
          "evalue": "ignored",
          "traceback": [
            "\u001b[0;31m---------------------------------------------------------------------------\u001b[0m",
            "\u001b[0;31mKeyError\u001b[0m                                  Traceback (most recent call last)",
            "\u001b[0;32m<ipython-input-109-e342006e8296>\u001b[0m in \u001b[0;36m<module>\u001b[0;34m()\u001b[0m\n\u001b[0;32m----> 1\u001b[0;31m \u001b[0mdf\u001b[0m\u001b[0;34m.\u001b[0m\u001b[0mdrop\u001b[0m\u001b[0;34m(\u001b[0m\u001b[0;34m'DS'\u001b[0m\u001b[0;34m,\u001b[0m \u001b[0maxis\u001b[0m\u001b[0;34m=\u001b[0m\u001b[0;36m1\u001b[0m\u001b[0;34m,\u001b[0m \u001b[0minplace\u001b[0m\u001b[0;34m=\u001b[0m\u001b[0;32mTrue\u001b[0m\u001b[0;34m)\u001b[0m\u001b[0;34m\u001b[0m\u001b[0;34m\u001b[0m\u001b[0m\n\u001b[0m",
            "\u001b[0;32m/usr/local/lib/python3.7/dist-packages/pandas/core/frame.py\u001b[0m in \u001b[0;36mdrop\u001b[0;34m(self, labels, axis, index, columns, level, inplace, errors)\u001b[0m\n\u001b[1;32m   4172\u001b[0m             \u001b[0mlevel\u001b[0m\u001b[0;34m=\u001b[0m\u001b[0mlevel\u001b[0m\u001b[0;34m,\u001b[0m\u001b[0;34m\u001b[0m\u001b[0;34m\u001b[0m\u001b[0m\n\u001b[1;32m   4173\u001b[0m             \u001b[0minplace\u001b[0m\u001b[0;34m=\u001b[0m\u001b[0minplace\u001b[0m\u001b[0;34m,\u001b[0m\u001b[0;34m\u001b[0m\u001b[0;34m\u001b[0m\u001b[0m\n\u001b[0;32m-> 4174\u001b[0;31m             \u001b[0merrors\u001b[0m\u001b[0;34m=\u001b[0m\u001b[0merrors\u001b[0m\u001b[0;34m,\u001b[0m\u001b[0;34m\u001b[0m\u001b[0;34m\u001b[0m\u001b[0m\n\u001b[0m\u001b[1;32m   4175\u001b[0m         )\n\u001b[1;32m   4176\u001b[0m \u001b[0;34m\u001b[0m\u001b[0m\n",
            "\u001b[0;32m/usr/local/lib/python3.7/dist-packages/pandas/core/generic.py\u001b[0m in \u001b[0;36mdrop\u001b[0;34m(self, labels, axis, index, columns, level, inplace, errors)\u001b[0m\n\u001b[1;32m   3887\u001b[0m         \u001b[0;32mfor\u001b[0m \u001b[0maxis\u001b[0m\u001b[0;34m,\u001b[0m \u001b[0mlabels\u001b[0m \u001b[0;32min\u001b[0m \u001b[0maxes\u001b[0m\u001b[0;34m.\u001b[0m\u001b[0mitems\u001b[0m\u001b[0;34m(\u001b[0m\u001b[0;34m)\u001b[0m\u001b[0;34m:\u001b[0m\u001b[0;34m\u001b[0m\u001b[0;34m\u001b[0m\u001b[0m\n\u001b[1;32m   3888\u001b[0m             \u001b[0;32mif\u001b[0m \u001b[0mlabels\u001b[0m \u001b[0;32mis\u001b[0m \u001b[0;32mnot\u001b[0m \u001b[0;32mNone\u001b[0m\u001b[0;34m:\u001b[0m\u001b[0;34m\u001b[0m\u001b[0;34m\u001b[0m\u001b[0m\n\u001b[0;32m-> 3889\u001b[0;31m                 \u001b[0mobj\u001b[0m \u001b[0;34m=\u001b[0m \u001b[0mobj\u001b[0m\u001b[0;34m.\u001b[0m\u001b[0m_drop_axis\u001b[0m\u001b[0;34m(\u001b[0m\u001b[0mlabels\u001b[0m\u001b[0;34m,\u001b[0m \u001b[0maxis\u001b[0m\u001b[0;34m,\u001b[0m \u001b[0mlevel\u001b[0m\u001b[0;34m=\u001b[0m\u001b[0mlevel\u001b[0m\u001b[0;34m,\u001b[0m \u001b[0merrors\u001b[0m\u001b[0;34m=\u001b[0m\u001b[0merrors\u001b[0m\u001b[0;34m)\u001b[0m\u001b[0;34m\u001b[0m\u001b[0;34m\u001b[0m\u001b[0m\n\u001b[0m\u001b[1;32m   3890\u001b[0m \u001b[0;34m\u001b[0m\u001b[0m\n\u001b[1;32m   3891\u001b[0m         \u001b[0;32mif\u001b[0m \u001b[0minplace\u001b[0m\u001b[0;34m:\u001b[0m\u001b[0;34m\u001b[0m\u001b[0;34m\u001b[0m\u001b[0m\n",
            "\u001b[0;32m/usr/local/lib/python3.7/dist-packages/pandas/core/generic.py\u001b[0m in \u001b[0;36m_drop_axis\u001b[0;34m(self, labels, axis, level, errors)\u001b[0m\n\u001b[1;32m   3921\u001b[0m                 \u001b[0mnew_axis\u001b[0m \u001b[0;34m=\u001b[0m \u001b[0maxis\u001b[0m\u001b[0;34m.\u001b[0m\u001b[0mdrop\u001b[0m\u001b[0;34m(\u001b[0m\u001b[0mlabels\u001b[0m\u001b[0;34m,\u001b[0m \u001b[0mlevel\u001b[0m\u001b[0;34m=\u001b[0m\u001b[0mlevel\u001b[0m\u001b[0;34m,\u001b[0m \u001b[0merrors\u001b[0m\u001b[0;34m=\u001b[0m\u001b[0merrors\u001b[0m\u001b[0;34m)\u001b[0m\u001b[0;34m\u001b[0m\u001b[0;34m\u001b[0m\u001b[0m\n\u001b[1;32m   3922\u001b[0m             \u001b[0;32melse\u001b[0m\u001b[0;34m:\u001b[0m\u001b[0;34m\u001b[0m\u001b[0;34m\u001b[0m\u001b[0m\n\u001b[0;32m-> 3923\u001b[0;31m                 \u001b[0mnew_axis\u001b[0m \u001b[0;34m=\u001b[0m \u001b[0maxis\u001b[0m\u001b[0;34m.\u001b[0m\u001b[0mdrop\u001b[0m\u001b[0;34m(\u001b[0m\u001b[0mlabels\u001b[0m\u001b[0;34m,\u001b[0m \u001b[0merrors\u001b[0m\u001b[0;34m=\u001b[0m\u001b[0merrors\u001b[0m\u001b[0;34m)\u001b[0m\u001b[0;34m\u001b[0m\u001b[0;34m\u001b[0m\u001b[0m\n\u001b[0m\u001b[1;32m   3924\u001b[0m             \u001b[0mresult\u001b[0m \u001b[0;34m=\u001b[0m \u001b[0mself\u001b[0m\u001b[0;34m.\u001b[0m\u001b[0mreindex\u001b[0m\u001b[0;34m(\u001b[0m\u001b[0;34m**\u001b[0m\u001b[0;34m{\u001b[0m\u001b[0maxis_name\u001b[0m\u001b[0;34m:\u001b[0m \u001b[0mnew_axis\u001b[0m\u001b[0;34m}\u001b[0m\u001b[0;34m)\u001b[0m\u001b[0;34m\u001b[0m\u001b[0;34m\u001b[0m\u001b[0m\n\u001b[1;32m   3925\u001b[0m \u001b[0;34m\u001b[0m\u001b[0m\n",
            "\u001b[0;32m/usr/local/lib/python3.7/dist-packages/pandas/core/indexes/base.py\u001b[0m in \u001b[0;36mdrop\u001b[0;34m(self, labels, errors)\u001b[0m\n\u001b[1;32m   5285\u001b[0m         \u001b[0;32mif\u001b[0m \u001b[0mmask\u001b[0m\u001b[0;34m.\u001b[0m\u001b[0many\u001b[0m\u001b[0;34m(\u001b[0m\u001b[0;34m)\u001b[0m\u001b[0;34m:\u001b[0m\u001b[0;34m\u001b[0m\u001b[0;34m\u001b[0m\u001b[0m\n\u001b[1;32m   5286\u001b[0m             \u001b[0;32mif\u001b[0m \u001b[0merrors\u001b[0m \u001b[0;34m!=\u001b[0m \u001b[0;34m\"ignore\"\u001b[0m\u001b[0;34m:\u001b[0m\u001b[0;34m\u001b[0m\u001b[0;34m\u001b[0m\u001b[0m\n\u001b[0;32m-> 5287\u001b[0;31m                 \u001b[0;32mraise\u001b[0m \u001b[0mKeyError\u001b[0m\u001b[0;34m(\u001b[0m\u001b[0;34mf\"{labels[mask]} not found in axis\"\u001b[0m\u001b[0;34m)\u001b[0m\u001b[0;34m\u001b[0m\u001b[0;34m\u001b[0m\u001b[0m\n\u001b[0m\u001b[1;32m   5288\u001b[0m             \u001b[0mindexer\u001b[0m \u001b[0;34m=\u001b[0m \u001b[0mindexer\u001b[0m\u001b[0;34m[\u001b[0m\u001b[0;34m~\u001b[0m\u001b[0mmask\u001b[0m\u001b[0;34m]\u001b[0m\u001b[0;34m\u001b[0m\u001b[0;34m\u001b[0m\u001b[0m\n\u001b[1;32m   5289\u001b[0m         \u001b[0;32mreturn\u001b[0m \u001b[0mself\u001b[0m\u001b[0;34m.\u001b[0m\u001b[0mdelete\u001b[0m\u001b[0;34m(\u001b[0m\u001b[0mindexer\u001b[0m\u001b[0;34m)\u001b[0m\u001b[0;34m\u001b[0m\u001b[0;34m\u001b[0m\u001b[0m\n",
            "\u001b[0;31mKeyError\u001b[0m: \"['DS'] not found in axis\""
          ]
        }
      ]
    },
    {
      "cell_type": "code",
      "metadata": {
        "id": "uu4nyq8Sb56d"
      },
      "source": [
        "# cols_num = 5\n",
        "# leng = df.drop('outlier', axis=1).columns.shape[0]\n",
        "# fig, axes = plt.subplots( int(np.ceil(leng / cols_num)) , cols_num,\n",
        "#                          sharex=False, figsize=(20, 10 * leng // cols_num))\n",
        "\n",
        "\n",
        "# for i, feature in enumerate(df.drop('outlier', axis=1).columns):\n",
        "#     sns.violinplot(ax=axes[i // cols_num, i % cols_num], x='outlier', y=feature , data=df);\n",
        "#     axes[i // cols_num, i % cols_num].set_title(feature)\n"
      ],
      "execution_count": null,
      "outputs": []
    },
    {
      "cell_type": "markdown",
      "metadata": {
        "id": "Y9mvb0gystbP"
      },
      "source": [
        "Let's build pipeline for data preparation."
      ]
    },
    {
      "cell_type": "code",
      "metadata": {
        "id": "ITtzk4OtDDm8"
      },
      "source": [
        "quant_list = ['LB', 'ASTV', 'MSTV', 'MLTV', 'Width', 'Min', 'Max', 'Median', 'Variance', 'Mean', 'Mode']\n",
        "std_list = [ 'FM', 'ALTV', 'DL', 'DP', 'Nzeros', 'Tendency', 'UC', 'AC', 'Nmax']\n",
        "\n",
        "quant_pipe = Pipeline([\n",
        "    ('quant', QuantileTransformer(output_distribution='normal', n_quantiles=100)),\n",
        "])\n",
        "\n",
        "std_pipe = Pipeline([\n",
        "    ('scaler', StandardScaler()),\n",
        "])\n",
        "\n",
        "pipe = ColumnTransformer(transformers=[\n",
        "    ('quant', quant_pipe, quant_list),\n",
        "    ('std', std_pipe, std_list)\n",
        "], verbose=False)"
      ],
      "execution_count": null,
      "outputs": []
    },
    {
      "cell_type": "code",
      "metadata": {
        "id": "weVmhUxHDDv-"
      },
      "source": [
        "X_scaled = pd.DataFrame(pipe.fit_transform(X), columns=quant_list+std_list)"
      ],
      "execution_count": null,
      "outputs": []
    },
    {
      "cell_type": "code",
      "metadata": {
        "colab": {
          "base_uri": "https://localhost:8080/",
          "height": 934
        },
        "id": "596SYBurEiQ1",
        "outputId": "35b23a82-a66a-43c2-e072-47186e77713d"
      },
      "source": [
        "X_scaled.hist(figsize=(20, 16), bins=40);"
      ],
      "execution_count": null,
      "outputs": [
        {
          "output_type": "display_data",
          "data": {
            "image/png": "[encoded data removed]",
            "text/plain": [
              "<Figure size 1440x1152 with 20 Axes>"
            ]
          },
          "metadata": {
            "needs_background": "light"
          }
        }
      ]
    },
    {
      "cell_type": "markdown",
      "metadata": {
        "id": "-uK4NQ7-njrr"
      },
      "source": [
        "# Mahalanobis"
      ]
    },
    {
      "cell_type": "markdown",
      "metadata": {
        "id": "34mHlO9Ss0oH"
      },
      "source": [
        "Firstly we will try to find outliers using Mahalanobis rule. After that, we will use some information from this in our further investigations."
      ]
    },
    {
      "cell_type": "code",
      "metadata": {
        "id": "8czG5xwFmCSt"
      },
      "source": [
        "covariance_inverse = np.linalg.inv(np.cov(X_scaled.T))\n",
        "mean_vector = X_scaled.mean(axis=0)\n",
        "\n",
        "bias_distance = X_scaled.apply(lambda row:\n",
        "                             mahalanobis(mean_vector, row, VI=covariance_inverse), \n",
        "                             axis=1)"
      ],
      "execution_count": null,
      "outputs": []
    },
    {
      "cell_type": "code",
      "metadata": {
        "id": "5RoBoVBkZqFe"
      },
      "source": [
        "pvals = 1 - chi2.cdf(bias_distance**2, df=X_scaled.shape[1])\n",
        "\n",
        "predictions = np.zeros(X_scaled.shape[0])\n",
        "predictions[pvals < 0.001] = 1"
      ],
      "execution_count": null,
      "outputs": []
    },
    {
      "cell_type": "code",
      "metadata": {
        "colab": {
          "base_uri": "https://localhost:8080/"
        },
        "id": "vRvs5SpiaSBy",
        "outputId": "24a86c76-8a72-4ae0-b769-9620cc415ccd"
      },
      "source": [
        "set(predictions)"
      ],
      "execution_count": null,
      "outputs": [
        {
          "output_type": "execute_result",
          "data": {
            "text/plain": [
              "{0.0, 1.0}"
            ]
          },
          "metadata": {},
          "execution_count": 26
        }
      ]
    },
    {
      "cell_type": "code",
      "metadata": {
        "colab": {
          "base_uri": "https://localhost:8080/",
          "height": 265
        },
        "id": "HREmiO_oZ9Am",
        "outputId": "a9256fdb-8734-4522-d094-18c62a6f0b47"
      },
      "source": [
        "X_scaled_reduced = PCA().fit_transform(X_scaled)\n",
        "plt.scatter(X_scaled_reduced[:,0], X_scaled_reduced[:,1], c=y);\n",
        "plt.show()"
      ],
      "execution_count": null,
      "outputs": [
        {
          "output_type": "display_data",
          "data": {
            "image/png": "[encoded data removed]",
            "text/plain": [
              "<Figure size 432x288 with 1 Axes>"
            ]
          },
          "metadata": {
            "needs_background": "light"
          }
        }
      ]
    },
    {
      "cell_type": "code",
      "metadata": {
        "colab": {
          "base_uri": "https://localhost:8080/",
          "height": 265
        },
        "id": "TV1q_tGRfhoP",
        "outputId": "d567399f-be91-4edf-d325-5dd1fa001e25"
      },
      "source": [
        "X_scaled_reduced = PCA().fit_transform(X_scaled)\n",
        "plt.scatter(X_scaled_reduced[:,0], X_scaled_reduced[:,1], c=predictions);\n",
        "plt.show()"
      ],
      "execution_count": null,
      "outputs": [
        {
          "output_type": "display_data",
          "data": {
            "image/png": "[encoded data removed]",
            "text/plain": [
              "<Figure size 432x288 with 1 Axes>"
            ]
          },
          "metadata": {
            "needs_background": "light"
          }
        }
      ]
    },
    {
      "cell_type": "code",
      "metadata": {
        "id": "Hqqr0kUTcNcD"
      },
      "source": [
        "def report(y_data, predictions, outlier_label =-1):\n",
        "  predictions = predictions.copy()\n",
        "\n",
        "  predictions[predictions != outlier_label] = 0\n",
        "  predictions[predictions == outlier_label] = 1\n",
        "\n",
        "\n",
        "  print(classification_report(y_data, predictions))"
      ],
      "execution_count": null,
      "outputs": []
    },
    {
      "cell_type": "code",
      "metadata": {
        "colab": {
          "base_uri": "https://localhost:8080/"
        },
        "id": "d1i23Xd6gUeG",
        "outputId": "8dd321c8-86c7-4ceb-b33d-4bb57fdcd978"
      },
      "source": [
        "report(df['outlier'], predictions, outlier_label=1)"
      ],
      "execution_count": null,
      "outputs": [
        {
          "output_type": "stream",
          "name": "stdout",
          "text": [
            "              precision    recall  f1-score   support\n",
            "\n",
            "           0       0.99      0.94      0.96     16550\n",
            "           1       0.12      0.41      0.18       330\n",
            "\n",
            "    accuracy                           0.93     16880\n",
            "   macro avg       0.55      0.67      0.57     16880\n",
            "weighted avg       0.97      0.93      0.95     16880\n",
            "\n"
          ]
        }
      ]
    },
    {
      "cell_type": "markdown",
      "metadata": {
        "id": "wY07uWIarMuq"
      },
      "source": [
        "# Supervised"
      ]
    },
    {
      "cell_type": "code",
      "metadata": {
        "id": "b8KexxyB-sMR"
      },
      "source": [
        "X['bias'] = bias_distance"
      ],
      "execution_count": null,
      "outputs": []
    },
    {
      "cell_type": "code",
      "metadata": {
        "id": "1i3JiXIu-plx"
      },
      "source": [
        "quant_list = ['LB', 'ASTV', 'MSTV', 'MLTV', 'Width', 'Min', 'Max', 'Median', 'Variance', 'Mean', 'Mode', 'bias']\n",
        "std_list = [ 'FM', 'ALTV', 'DL', 'DP', 'Nzeros', 'Tendency', 'UC', 'AC', 'Nmax']\n",
        "\n",
        "quant_pipe = Pipeline([\n",
        "    ('quant', QuantileTransformer(output_distribution='normal', n_quantiles=100)),\n",
        "])\n",
        "\n",
        "std_pipe = Pipeline([\n",
        "    ('scaler', StandardScaler()),\n",
        "])\n",
        "\n",
        "pipe = ColumnTransformer(transformers=[\n",
        "    ('quant', quant_pipe, quant_list),\n",
        "    ('std', std_pipe, std_list)\n",
        "], verbose=False)"
      ],
      "execution_count": null,
      "outputs": []
    },
    {
      "cell_type": "code",
      "metadata": {
        "id": "ud0r_7A4Q0jd"
      },
      "source": [
        "X_scaled = pd.DataFrame(pipe.fit_transform(X), columns=quant_list+std_list)"
      ],
      "execution_count": null,
      "outputs": []
    },
    {
      "cell_type": "markdown",
      "metadata": {
        "id": "ZlpNk6sRt7Pc"
      },
      "source": [
        "The main metric is F1, because we have highly imbalanced data."
      ]
    },
    {
      "cell_type": "markdown",
      "metadata": {
        "id": "B_yg8oqprcgo"
      },
      "source": [
        "## Logistic Regression"
      ]
    },
    {
      "cell_type": "code",
      "metadata": {
        "id": "GHC7dfjAMO2h"
      },
      "source": [
        "X_train_scaled, X_test_scaled, y_train, y_test= train_test_split(X_scaled, y, test_size=0.33, random_state=42, stratify=y)"
      ],
      "execution_count": null,
      "outputs": []
    },
    {
      "cell_type": "code",
      "metadata": {
        "id": "QqGe1evoO-qa"
      },
      "source": [
        "f1 = make_scorer(f1_score , average='macro')"
      ],
      "execution_count": null,
      "outputs": []
    },
    {
      "cell_type": "code",
      "metadata": {
        "id": "7QLVDxonq4Wr"
      },
      "source": [
        "cv = StratifiedKFold(n_splits=3, shuffle=True, random_state=42)\n",
        "\n",
        "pipeline = Pipeline([\n",
        "    ('estimator', LogisticRegression(max_iter=10000))\n",
        "])\n",
        "\n",
        "grid = {\n",
        "    'estimator__C': np.linspace(0, 1, 100),\n",
        "}\n",
        "\n",
        "gs = GridSearchCV(pipeline, grid, \n",
        "                  n_jobs=-1, \n",
        "                  scoring=f1,\n",
        "                  cv=cv,\n",
        "                  verbose=10)"
      ],
      "execution_count": null,
      "outputs": []
    },
    {
      "cell_type": "code",
      "metadata": {
        "colab": {
          "base_uri": "https://localhost:8080/"
        },
        "id": "gDD7X2UVs-HJ",
        "outputId": "64700232-73fd-4690-d279-4741e6c38ea0"
      },
      "source": [
        "gs.fit(X_train_scaled, y_train)\n",
        "y_p = gs.predict(X_test_scaled)\n",
        "print(classification_report(y_test , y_p))\n",
        "print(f1_score(y_test, y_p))"
      ],
      "execution_count": null,
      "outputs": [
        {
          "output_type": "stream",
          "name": "stdout",
          "text": [
            "Fitting 3 folds for each of 100 candidates, totalling 300 fits\n"
          ]
        },
        {
          "output_type": "stream",
          "name": "stderr",
          "text": [
            "[Parallel(n_jobs=-1)]: Using backend LokyBackend with 2 concurrent workers.\n",
            "[Parallel(n_jobs=-1)]: Done   1 tasks      | elapsed:    1.1s\n",
            "[Parallel(n_jobs=-1)]: Done   4 tasks      | elapsed:    1.2s\n",
            "[Parallel(n_jobs=-1)]: Done   9 tasks      | elapsed:    1.3s\n",
            "[Parallel(n_jobs=-1)]: Done  14 tasks      | elapsed:    1.5s\n",
            "[Parallel(n_jobs=-1)]: Batch computation too fast (0.1919s.) Setting batch_size=2.\n",
            "[Parallel(n_jobs=-1)]: Batch computation too fast (0.1877s.) Setting batch_size=4.\n",
            "[Parallel(n_jobs=-1)]: Done  24 tasks      | elapsed:    1.8s\n",
            "[Parallel(n_jobs=-1)]: Done  50 tasks      | elapsed:    2.5s\n",
            "[Parallel(n_jobs=-1)]: Done  86 tasks      | elapsed:    3.9s\n",
            "[Parallel(n_jobs=-1)]: Done 122 tasks      | elapsed:    5.1s\n",
            "[Parallel(n_jobs=-1)]: Done 166 tasks      | elapsed:    6.8s\n",
            "[Parallel(n_jobs=-1)]: Done 210 tasks      | elapsed:    8.4s\n",
            "[Parallel(n_jobs=-1)]: Done 262 tasks      | elapsed:   10.6s\n",
            "[Parallel(n_jobs=-1)]: Done 300 out of 300 | elapsed:   12.2s finished\n"
          ]
        },
        {
          "output_type": "stream",
          "name": "stdout",
          "text": [
            "              precision    recall  f1-score   support\n",
            "\n",
            "           0       0.99      1.00      0.99      5462\n",
            "           1       0.80      0.40      0.54       109\n",
            "\n",
            "    accuracy                           0.99      5571\n",
            "   macro avg       0.89      0.70      0.76      5571\n",
            "weighted avg       0.98      0.99      0.98      5571\n",
            "\n",
            "0.5365853658536586\n"
          ]
        }
      ]
    },
    {
      "cell_type": "code",
      "metadata": {
        "colab": {
          "base_uri": "https://localhost:8080/"
        },
        "id": "iBW5L0K4YjWU",
        "outputId": "4b3dc16b-6193-48e4-e823-aae517a1082a"
      },
      "source": [
        "gs.best_params_"
      ],
      "execution_count": null,
      "outputs": [
        {
          "output_type": "execute_result",
          "data": {
            "text/plain": [
              "{'estimator__C': 0.36363636363636365}"
            ]
          },
          "metadata": {},
          "execution_count": 40
        }
      ]
    },
    {
      "cell_type": "code",
      "metadata": {
        "colab": {
          "base_uri": "https://localhost:8080/",
          "height": 265
        },
        "id": "OzrhHQl5bHLW",
        "outputId": "b1546913-cfa7-44c2-ba60-726dc6b462dc"
      },
      "source": [
        "X_test_scaled_reduced = PCA().fit_transform(X_test_scaled)\n",
        "plt.scatter(X_test_scaled_reduced[:,0], X_test_scaled_reduced[:,1], c=y_p);\n",
        "plt.show()"
      ],
      "execution_count": null,
      "outputs": [
        {
          "output_type": "display_data",
          "data": {
            "image/png": "[encoded data removed]",
            "text/plain": [
              "<Figure size 432x288 with 1 Axes>"
            ]
          },
          "metadata": {
            "needs_background": "light"
          }
        }
      ]
    },
    {
      "cell_type": "markdown",
      "metadata": {
        "id": "flp0-v1nrhON"
      },
      "source": [
        "## SVM"
      ]
    },
    {
      "cell_type": "code",
      "metadata": {
        "id": "69yQ9YNOrqVs"
      },
      "source": [
        "cv = StratifiedKFold(n_splits=3, shuffle=True, random_state=42)\n",
        "\n",
        "pipeline = Pipeline([\n",
        "    ('estimator', SVC())\n",
        "])\n",
        "\n",
        "grid = {\n",
        "    'estimator__C': np.linspace(0, 1, 100),\n",
        "    'estimator__kernel' : ['linear', 'poly', 'rbf']\n",
        "}\n",
        "\n",
        "gs = GridSearchCV(pipeline, grid, \n",
        "                  n_jobs=-1, \n",
        "                  scoring=f1,\n",
        "                  cv=cv,\n",
        "                  verbose=10)"
      ],
      "execution_count": null,
      "outputs": []
    },
    {
      "cell_type": "code",
      "metadata": {
        "colab": {
          "base_uri": "https://localhost:8080/"
        },
        "id": "inxbUXdg2JC0",
        "outputId": "abbf1a03-62ef-43e2-cb15-b8b0b9d7d114"
      },
      "source": [
        "gs.fit(X_train_scaled, y_train)\n",
        "y_p = gs.predict(X_test_scaled) \n",
        "print(classification_report(y_test , y_p))\n",
        "print(f1_score(y_test, y_p))"
      ],
      "execution_count": null,
      "outputs": [
        {
          "output_type": "stream",
          "name": "stdout",
          "text": [
            "Fitting 3 folds for each of 300 candidates, totalling 900 fits\n"
          ]
        },
        {
          "output_type": "stream",
          "name": "stderr",
          "text": [
            "[Parallel(n_jobs=-1)]: Using backend LokyBackend with 2 concurrent workers.\n",
            "[Parallel(n_jobs=-1)]: Done   1 tasks      | elapsed:    0.0s\n",
            "[Parallel(n_jobs=-1)]: Batch computation too fast (0.0222s.) Setting batch_size=2.\n",
            "[Parallel(n_jobs=-1)]: Done   4 tasks      | elapsed:    0.1s\n",
            "[Parallel(n_jobs=-1)]: Batch computation too fast (0.0411s.) Setting batch_size=4.\n",
            "[Parallel(n_jobs=-1)]: Done  16 tasks      | elapsed:    1.0s\n",
            "[Parallel(n_jobs=-1)]: Done  36 tasks      | elapsed:    3.0s\n",
            "[Parallel(n_jobs=-1)]: Done  64 tasks      | elapsed:    6.0s\n",
            "[Parallel(n_jobs=-1)]: Done  92 tasks      | elapsed:    8.9s\n",
            "[Parallel(n_jobs=-1)]: Done 128 tasks      | elapsed:   12.6s\n",
            "[Parallel(n_jobs=-1)]: Done 164 tasks      | elapsed:   16.6s\n",
            "[Parallel(n_jobs=-1)]: Done 208 tasks      | elapsed:   21.5s\n",
            "[Parallel(n_jobs=-1)]: Done 252 tasks      | elapsed:   26.3s\n",
            "[Parallel(n_jobs=-1)]: Done 304 tasks      | elapsed:   32.2s\n",
            "[Parallel(n_jobs=-1)]: Done 356 tasks      | elapsed:   37.7s\n",
            "[Parallel(n_jobs=-1)]: Done 416 tasks      | elapsed:   44.9s\n",
            "[Parallel(n_jobs=-1)]: Done 476 tasks      | elapsed:   52.0s\n",
            "[Parallel(n_jobs=-1)]: Done 544 tasks      | elapsed:   59.8s\n",
            "[Parallel(n_jobs=-1)]: Done 612 tasks      | elapsed:  1.1min\n",
            "[Parallel(n_jobs=-1)]: Done 688 tasks      | elapsed:  1.3min\n",
            "[Parallel(n_jobs=-1)]: Batch computation too slow (2.0026s.) Setting batch_size=1.\n",
            "[Parallel(n_jobs=-1)]: Done 716 tasks      | elapsed:  1.3min\n",
            "[Parallel(n_jobs=-1)]: Done 737 tasks      | elapsed:  1.4min\n",
            "[Parallel(n_jobs=-1)]: Done 758 tasks      | elapsed:  1.4min\n",
            "[Parallel(n_jobs=-1)]: Done 781 tasks      | elapsed:  1.5min\n",
            "[Parallel(n_jobs=-1)]: Done 804 tasks      | elapsed:  1.5min\n",
            "[Parallel(n_jobs=-1)]: Done 829 tasks      | elapsed:  1.6min\n",
            "[Parallel(n_jobs=-1)]: Done 854 tasks      | elapsed:  1.6min\n",
            "[Parallel(n_jobs=-1)]: Done 881 tasks      | elapsed:  1.7min\n",
            "[Parallel(n_jobs=-1)]: Done 900 out of 900 | elapsed:  1.7min finished\n"
          ]
        },
        {
          "output_type": "stream",
          "name": "stdout",
          "text": [
            "              precision    recall  f1-score   support\n",
            "\n",
            "           0       0.99      1.00      1.00      5462\n",
            "           1       1.00      0.58      0.73       109\n",
            "\n",
            "    accuracy                           0.99      5571\n",
            "   macro avg       1.00      0.79      0.86      5571\n",
            "weighted avg       0.99      0.99      0.99      5571\n",
            "\n",
            "0.7325581395348838\n"
          ]
        }
      ]
    },
    {
      "cell_type": "code",
      "metadata": {
        "colab": {
          "base_uri": "https://localhost:8080/"
        },
        "id": "9q58nEZ5YisI",
        "outputId": "835727f9-4a49-4163-bfa6-c5204d321b25"
      },
      "source": [
        "gs.best_params_"
      ],
      "execution_count": null,
      "outputs": [
        {
          "output_type": "execute_result",
          "data": {
            "text/plain": [
              "{'estimator__C': 1.0, 'estimator__kernel': 'poly'}"
            ]
          },
          "metadata": {},
          "execution_count": 45
        }
      ]
    },
    {
      "cell_type": "code",
      "metadata": {
        "colab": {
          "base_uri": "https://localhost:8080/",
          "height": 265
        },
        "id": "YYke-4TFbl64",
        "outputId": "c20ddb1d-2889-4e64-85e8-9717393caf03"
      },
      "source": [
        "X_test_scaled_reduced = PCA().fit_transform(X_test_scaled)\n",
        "plt.scatter(X_test_scaled_reduced[:,0], X_test_scaled_reduced[:,1], c=y_p);\n",
        "plt.show()"
      ],
      "execution_count": null,
      "outputs": [
        {
          "output_type": "display_data",
          "data": {
            "image/png": "[encoded data removed]",
            "text/plain": [
              "<Figure size 432x288 with 1 Axes>"
            ]
          },
          "metadata": {
            "needs_background": "light"
          }
        }
      ]
    },
    {
      "cell_type": "markdown",
      "metadata": {
        "id": "Tj4I-rXUrhRD"
      },
      "source": [
        "## KNN"
      ]
    },
    {
      "cell_type": "code",
      "metadata": {
        "id": "r9meQ9wCrbLv"
      },
      "source": [
        "cv = StratifiedKFold(n_splits=3, shuffle=True, random_state=42)\n",
        "\n",
        "pipeline = Pipeline([\n",
        "    ('estimator', KNeighborsClassifier())\n",
        "])\n",
        "\n",
        "grid = {\n",
        "    'estimator__n_neighbors': np.arange(2, 30, 1),\n",
        "    'estimator__weights' : ['uniform', 'distance']\n",
        "}\n",
        "\n",
        "gs = GridSearchCV(pipeline, grid, \n",
        "                  n_jobs=-1, \n",
        "                  scoring=f1,\n",
        "                  cv=cv,\n",
        "                  verbose=10)\n",
        "\n"
      ],
      "execution_count": null,
      "outputs": []
    },
    {
      "cell_type": "code",
      "metadata": {
        "colab": {
          "base_uri": "https://localhost:8080/"
        },
        "id": "UqVQxtWlYXvA",
        "outputId": "f28c554c-f4f5-4c2c-ac34-d7c6c8436a16"
      },
      "source": [
        "gs.fit(X_train_scaled, y_train)\n",
        "y_p = gs.predict(X_test_scaled) \n",
        "print(classification_report(y_test , y_p))\n",
        "print(f1_score(y_test, y_p))"
      ],
      "execution_count": null,
      "outputs": [
        {
          "output_type": "stream",
          "name": "stdout",
          "text": [
            "Fitting 3 folds for each of 56 candidates, totalling 168 fits\n"
          ]
        },
        {
          "output_type": "stream",
          "name": "stderr",
          "text": [
            "[Parallel(n_jobs=-1)]: Using backend LokyBackend with 2 concurrent workers.\n",
            "[Parallel(n_jobs=-1)]: Done   1 tasks      | elapsed:    0.7s\n",
            "[Parallel(n_jobs=-1)]: Done   4 tasks      | elapsed:    1.3s\n",
            "[Parallel(n_jobs=-1)]: Done   9 tasks      | elapsed:    3.4s\n",
            "[Parallel(n_jobs=-1)]: Done  14 tasks      | elapsed:    5.0s\n",
            "[Parallel(n_jobs=-1)]: Done  21 tasks      | elapsed:    8.1s\n",
            "[Parallel(n_jobs=-1)]: Done  28 tasks      | elapsed:   10.8s\n",
            "[Parallel(n_jobs=-1)]: Done  37 tasks      | elapsed:   15.6s\n",
            "[Parallel(n_jobs=-1)]: Done  46 tasks      | elapsed:   19.7s\n",
            "[Parallel(n_jobs=-1)]: Done  57 tasks      | elapsed:   26.0s\n",
            "[Parallel(n_jobs=-1)]: Done  68 tasks      | elapsed:   31.6s\n",
            "[Parallel(n_jobs=-1)]: Done  81 tasks      | elapsed:   39.5s\n",
            "[Parallel(n_jobs=-1)]: Done  94 tasks      | elapsed:   46.7s\n",
            "[Parallel(n_jobs=-1)]: Done 109 tasks      | elapsed:   56.3s\n",
            "[Parallel(n_jobs=-1)]: Done 124 tasks      | elapsed:  1.1min\n",
            "[Parallel(n_jobs=-1)]: Done 141 tasks      | elapsed:  1.3min\n",
            "[Parallel(n_jobs=-1)]: Done 158 tasks      | elapsed:  1.4min\n",
            "[Parallel(n_jobs=-1)]: Done 168 out of 168 | elapsed:  1.5min finished\n"
          ]
        },
        {
          "output_type": "stream",
          "name": "stdout",
          "text": [
            "              precision    recall  f1-score   support\n",
            "\n",
            "           0       1.00      1.00      1.00      5462\n",
            "           1       1.00      0.78      0.88       109\n",
            "\n",
            "    accuracy                           1.00      5571\n",
            "   macro avg       1.00      0.89      0.94      5571\n",
            "weighted avg       1.00      1.00      1.00      5571\n",
            "\n",
            "0.8762886597938144\n"
          ]
        }
      ]
    },
    {
      "cell_type": "code",
      "metadata": {
        "colab": {
          "base_uri": "https://localhost:8080/"
        },
        "id": "IQvt1hwzYouO",
        "outputId": "e177863c-8262-45b7-e8de-3555a44e789d"
      },
      "source": [
        "gs.best_params_"
      ],
      "execution_count": null,
      "outputs": [
        {
          "output_type": "execute_result",
          "data": {
            "text/plain": [
              "{'estimator__n_neighbors': 2, 'estimator__weights': 'distance'}"
            ]
          },
          "metadata": {},
          "execution_count": 49
        }
      ]
    },
    {
      "cell_type": "code",
      "metadata": {
        "colab": {
          "base_uri": "https://localhost:8080/",
          "height": 265
        },
        "id": "WEJAM63obnkD",
        "outputId": "481bffd2-3b43-4450-81d2-0f4145b3a762"
      },
      "source": [
        "X_test_scaled_reduced = PCA().fit_transform(X_test_scaled)\n",
        "plt.scatter(X_test_scaled_reduced[:,0], X_test_scaled_reduced[:,1], c=y_p);\n",
        "plt.show()"
      ],
      "execution_count": null,
      "outputs": [
        {
          "output_type": "display_data",
          "data": {
            "image/png": "[encoded data removed]",
            "text/plain": [
              "<Figure size 432x288 with 1 Axes>"
            ]
          },
          "metadata": {
            "needs_background": "light"
          }
        }
      ]
    },
    {
      "cell_type": "markdown",
      "metadata": {
        "id": "rYROt5NgrvTK"
      },
      "source": [
        "## Best Algorithm"
      ]
    },
    {
      "cell_type": "markdown",
      "metadata": {
        "id": "qhq2hn-fZ3rM"
      },
      "source": [
        "It seems, that KNN showed the best results. Probably, this is related to that this algo analyses the distance between samples."
      ]
    },
    {
      "cell_type": "markdown",
      "metadata": {
        "id": "RD6Jvfk0rz5m"
      },
      "source": [
        "# Unsupervised"
      ]
    },
    {
      "cell_type": "code",
      "metadata": {
        "id": "TXMvAn-hevBk"
      },
      "source": [
        "def f1_score_unsup(y_data, predictions, outlier_label =-1):\n",
        "  predictions = predictions.copy()\n",
        "\n",
        "  predictions[predictions != outlier_label] = 0\n",
        "  predictions[predictions == outlier_label] = 1\n",
        "\n",
        "  return f1_score(y_data, predictions)"
      ],
      "execution_count": null,
      "outputs": []
    },
    {
      "cell_type": "markdown",
      "metadata": {
        "id": "nb2lW2yUr4DW"
      },
      "source": [
        "## One-Class SVM"
      ]
    },
    {
      "cell_type": "code",
      "metadata": {
        "colab": {
          "base_uri": "https://localhost:8080/"
        },
        "id": "E5bzNNcvdb9d",
        "outputId": "df3b0b16-728c-49b4-bc2f-b4688dea5d41"
      },
      "source": [
        "nu = np.linspace(0.001, 0.2, 10)\n",
        "kernel = ['linear', 'poly', 'rbf', 'sigmoid']\n",
        "param_grid = itertools.product(nu, kernel)\n",
        "\n",
        "print('Amount of hyperparameters combinations: {}'.format(len(nu) * len(kernel)))"
      ],
      "execution_count": null,
      "outputs": [
        {
          "output_type": "stream",
          "name": "stdout",
          "text": [
            "Amount of hyperparameters combinations: 40\n"
          ]
        }
      ]
    },
    {
      "cell_type": "code",
      "metadata": {
        "colab": {
          "base_uri": "https://localhost:8080/",
          "height": 49,
          "referenced_widgets": [
            "a61476158ce7432a87f1883ae3358502",
            "038147292f4041e681f13297217ed53f",
            "1f13673dc6784c2f9f3f5d6af7257f8b",
            "419171b4e6a346a0823f2582465d869a",
            "52cb3dd457ea42f8b212310436bfd10a",
            "784f3794a35f405c83e29c095e612f78",
            "36eeb74c34864d61af6d0441c51d7f9d",
            "7339b9ee8ef04a4faaa81013244e835e",
            "eb8d30119ac04f85910cff4a594a1453",
            "82e0acde77eb49b88ce295bf49950e12",
            "02c22f03f3494c4da726c42d1651beac"
          ]
        },
        "id": "N4xpmcrFeWBi",
        "outputId": "45ea7007-e95f-4802-c0a6-17afc9aa7345"
      },
      "source": [
        "params_dict = {}\n",
        "\n",
        "for param_set in tqdm(param_grid, total=len(nu) * len(kernel)):\n",
        "  clf = OneClassSVM(nu=param_set[0], kernel=param_set[1])\n",
        "  \n",
        "  y_p = clf.fit_predict(X_scaled)\n",
        "  if len(set(y_p)) != 1:\n",
        "    params_dict['{}_{}'.format( param_set[0], param_set[1])] = (param_set, \n",
        "                                                               f1_score_unsup(y, y_p))"
      ],
      "execution_count": null,
      "outputs": [
        {
          "output_type": "display_data",
          "data": {
            "application/vnd.jupyter.widget-view+json": {
              "model_id": "a61476158ce7432a87f1883ae3358502",
              "version_minor": 0,
              "version_major": 2
            },
            "text/plain": [
              "  0%|          | 0/40 [00:00<?, ?it/s]"
            ]
          },
          "metadata": {}
        }
      ]
    },
    {
      "cell_type": "code",
      "metadata": {
        "colab": {
          "base_uri": "https://localhost:8080/"
        },
        "id": "b5CXJYLzrFtT",
        "outputId": "a6a0711e-953d-418d-d45a-139925583467"
      },
      "source": [
        "best = max(params_dict.items(), key=lambda x: x[1][1])\n",
        "best"
      ],
      "execution_count": null,
      "outputs": [
        {
          "output_type": "execute_result",
          "data": {
            "text/plain": [
              "('0.023111111111111114_rbf',\n",
              " ((0.023111111111111114, 'rbf'), 0.24930747922437674))"
            ]
          },
          "metadata": {},
          "execution_count": 154
        }
      ]
    },
    {
      "cell_type": "code",
      "metadata": {
        "id": "-uRkSS45k7fJ"
      },
      "source": [
        "clf = OneClassSVM(nu=best[1][0][0], kernel=best[1][0][1])\n",
        "svm_predictions = clf.fit_predict(X_scaled)"
      ],
      "execution_count": null,
      "outputs": []
    },
    {
      "cell_type": "code",
      "metadata": {
        "colab": {
          "base_uri": "https://localhost:8080/"
        },
        "id": "8J-Y8ekv5JtW",
        "outputId": "7a9d54ab-ab6d-4d6b-f47e-06a42c86b22d"
      },
      "source": [
        "report(y, svm_predictions)"
      ],
      "execution_count": null,
      "outputs": [
        {
          "output_type": "stream",
          "name": "stdout",
          "text": [
            "              precision    recall  f1-score   support\n",
            "\n",
            "           0       0.99      0.98      0.98     16550\n",
            "           1       0.23      0.27      0.25       330\n",
            "\n",
            "    accuracy                           0.97     16880\n",
            "   macro avg       0.61      0.63      0.62     16880\n",
            "weighted avg       0.97      0.97      0.97     16880\n",
            "\n"
          ]
        }
      ]
    },
    {
      "cell_type": "markdown",
      "metadata": {
        "id": "YgrzklHlqG8w"
      },
      "source": [
        "## One-Class SVM with precomputed kernel"
      ]
    },
    {
      "cell_type": "code",
      "metadata": {
        "id": "e2HM-x_Hm_6l"
      },
      "source": [
        "covariance_inverse = np.linalg.inv(np.cov(X_scaled.T))\n",
        "\n",
        "codense = pdist(X_scaled, metric='mahalanobis', VI=covariance_inverse)\n",
        "distance = squareform(codense)"
      ],
      "execution_count": null,
      "outputs": []
    },
    {
      "cell_type": "code",
      "metadata": {
        "colab": {
          "base_uri": "https://localhost:8080/"
        },
        "id": "W7S9Up7lpBYj",
        "outputId": "31bc4b3d-1f35-4a5b-92e6-704850662b45"
      },
      "source": [
        "distance.shape"
      ],
      "execution_count": null,
      "outputs": [
        {
          "output_type": "execute_result",
          "data": {
            "text/plain": [
              "(16880, 16880)"
            ]
          },
          "metadata": {},
          "execution_count": 158
        }
      ]
    },
    {
      "cell_type": "code",
      "metadata": {
        "id": "ejK084npni1T"
      },
      "source": [
        "nus = np.linspace(0.001, 0.2, 10)"
      ],
      "execution_count": null,
      "outputs": []
    },
    {
      "cell_type": "code",
      "metadata": {
        "colab": {
          "base_uri": "https://localhost:8080/",
          "height": 49,
          "referenced_widgets": [
            "3411d3aa41dc43d6a66e2f8fb724387f",
            "8d97453242c74fd59c1c0d12518d9064",
            "f569b436d4a74858b872fdb684c5542c",
            "f2654912fe0a4518afd54e6a984a5ad5",
            "4f7ef1471a9747fe9a1d160ba36bc42f",
            "b8bd4d815585489d83cea3bc5cc71e79",
            "094aa41f2c064335a7c3958bfa0952b0",
            "18406a120d5a4303882b3ee97693cc74",
            "4373d744e3674cc983897ddbad1be4be",
            "1444fa55d27341f1ad22b8fc5e703ef6",
            "77efacd1bf7944bebedeff60cec008d5"
          ]
        },
        "id": "scQsKwVnmOHf",
        "outputId": "3a925caa-786f-414a-b73c-b7026c374e25"
      },
      "source": [
        "params_dict = {}\n",
        "for nu in tqdm(nus):\n",
        "  clf = OneClassSVM(nu=nu, kernel='precomputed')\n",
        "  \n",
        "  y_p = clf.fit_predict(1 / (1 + distance))\n",
        "  if len(set(y_p)) != 1:\n",
        "    params_dict['{}'.format(nu)] = (nu, \n",
        "                                    f1_score_unsup(y, y_p))"
      ],
      "execution_count": null,
      "outputs": [
        {
          "output_type": "display_data",
          "data": {
            "application/vnd.jupyter.widget-view+json": {
              "model_id": "3411d3aa41dc43d6a66e2f8fb724387f",
              "version_minor": 0,
              "version_major": 2
            },
            "text/plain": [
              "  0%|          | 0/10 [00:00<?, ?it/s]"
            ]
          },
          "metadata": {}
        }
      ]
    },
    {
      "cell_type": "code",
      "metadata": {
        "colab": {
          "base_uri": "https://localhost:8080/"
        },
        "id": "Z6snwYfZvakf",
        "outputId": "3866b7ba-5dca-456f-ebbe-018dbda711ed"
      },
      "source": [
        "best = max(params_dict.items(), key=lambda x: x[1][1])\n",
        "best"
      ],
      "execution_count": null,
      "outputs": [
        {
          "output_type": "execute_result",
          "data": {
            "text/plain": [
              "('0.023111111111111114', (0.023111111111111114, 0.24935732647814907))"
            ]
          },
          "metadata": {},
          "execution_count": 161
        }
      ]
    },
    {
      "cell_type": "code",
      "metadata": {
        "id": "qvl6Cs8XvanJ"
      },
      "source": [
        "clf = OneClassSVM(nu=best[1][0], kernel='precomputed')\n",
        "svm_predictions = clf.fit_predict(1 / (1 + distance))"
      ],
      "execution_count": null,
      "outputs": []
    },
    {
      "cell_type": "code",
      "metadata": {
        "colab": {
          "base_uri": "https://localhost:8080/"
        },
        "id": "7NZLwoIMxhiX",
        "outputId": "5b8fee2f-72a4-4a7c-89bb-01b4afe62130"
      },
      "source": [
        "report(y, svm_predictions)\n",
        "f1_score_unsup(y, svm_predictions)"
      ],
      "execution_count": null,
      "outputs": [
        {
          "output_type": "stream",
          "name": "stdout",
          "text": [
            "              precision    recall  f1-score   support\n",
            "\n",
            "           0       0.99      0.98      0.98     16550\n",
            "           1       0.22      0.29      0.25       330\n",
            "\n",
            "    accuracy                           0.97     16880\n",
            "   macro avg       0.60      0.64      0.62     16880\n",
            "weighted avg       0.97      0.97      0.97     16880\n",
            "\n"
          ]
        },
        {
          "output_type": "execute_result",
          "data": {
            "text/plain": [
              "0.24935732647814907"
            ]
          },
          "metadata": {},
          "execution_count": 163
        }
      ]
    },
    {
      "cell_type": "markdown",
      "metadata": {
        "id": "0yOnXUxkuGoF"
      },
      "source": [
        "We can see, that one class svm, built on Mahalonobis distances, showed a little better results."
      ]
    },
    {
      "cell_type": "markdown",
      "metadata": {
        "id": "_6iZHjkusJdE"
      },
      "source": [
        "## Isolation Forest"
      ]
    },
    {
      "cell_type": "code",
      "metadata": {
        "id": "lA5F_KIXsKNo",
        "colab": {
          "base_uri": "https://localhost:8080/"
        },
        "outputId": "5c0da7e1-2753-4ee4-b52e-bd08170a7935"
      },
      "source": [
        "n_estimators = np.arange(20, 300, 20)\n",
        "max_samples = ['auto', 3, 4, 10, 15]\n",
        "max_features = [1, 2, 5, 10, 15]\n",
        "param_grid = itertools.product(n_estimators, max_samples, max_features)\n",
        "\n",
        "print('Amount of hyperparameters combinations: {}'.format(len(n_estimators) * len(max_samples) * len(max_features)))"
      ],
      "execution_count": null,
      "outputs": [
        {
          "output_type": "stream",
          "name": "stdout",
          "text": [
            "Amount of hyperparameters combinations: 350\n"
          ]
        }
      ]
    },
    {
      "cell_type": "code",
      "metadata": {
        "colab": {
          "base_uri": "https://localhost:8080/",
          "height": 49,
          "referenced_widgets": [
            "6c2723daa6b047b38a1f2da7ecbc116e",
            "a674b6dd5cdd420a904de05a48bf6c1f",
            "d467fe97e68d4faaafbda991bbb5f54d",
            "164419153a4e45ddb3841f785ecd0178",
            "e2baacc44b474e1780b8a0d2610d3f62",
            "b9d28fdbd6db4f5ca1969fe06e017fbb",
            "401ddbd7f95341c197bfb5c7932cc8a0",
            "a8a66084ef344308a0d9dc76be5d8877",
            "fbcb513fe8354c3ba77fd5877ea64461",
            "b469d3045ae14c8d94facd4a0ac61012",
            "0197b0767020435f903dab94ed04cf3c"
          ]
        },
        "id": "zSvrkMYiy6-3",
        "outputId": "03a4eb88-9de9-4a65-b89b-c6a2dacdae5e"
      },
      "source": [
        "params_dict = {}\n",
        "\n",
        "for param_set in tqdm(param_grid, total=len(n_estimators) * len(max_samples) * len(max_features)):\n",
        "  clf = IsolationForest(n_estimators=param_set[0], max_samples=param_set[1], max_features=param_set[2])\n",
        "  \n",
        "  y_p = clf.fit_predict(X_scaled)\n",
        "  if len(set(y_p)) != 1:\n",
        "    params_dict['{}_{}'.format( param_set[0], param_set[1])] = (param_set, \n",
        "                                                               f1_score_unsup(y, y_p))"
      ],
      "execution_count": null,
      "outputs": [
        {
          "output_type": "display_data",
          "data": {
            "application/vnd.jupyter.widget-view+json": {
              "model_id": "6c2723daa6b047b38a1f2da7ecbc116e",
              "version_minor": 0,
              "version_major": 2
            },
            "text/plain": [
              "  0%|          | 0/350 [00:00<?, ?it/s]"
            ]
          },
          "metadata": {}
        }
      ]
    },
    {
      "cell_type": "code",
      "metadata": {
        "colab": {
          "base_uri": "https://localhost:8080/"
        },
        "id": "ihRO9DDt0zNH",
        "outputId": "b238cb2d-4760-4e46-af55-aa3d091be495"
      },
      "source": [
        "best = max(params_dict.items(), key=lambda x: x[1][1])\n",
        "best"
      ],
      "execution_count": null,
      "outputs": [
        {
          "output_type": "execute_result",
          "data": {
            "text/plain": [
              "('80_auto', ((80, 'auto', 15), 0.23252496433666195))"
            ]
          },
          "metadata": {},
          "execution_count": 174
        }
      ]
    },
    {
      "cell_type": "code",
      "metadata": {
        "id": "OdlZjQtOnYLO"
      },
      "source": [
        "clf = IsolationForest(n_estimators=best[1][0][0], max_samples=best[1][0][1], max_features=best[1][0][2])\n",
        "y_p = clf.fit_predict(X_scaled)"
      ],
      "execution_count": null,
      "outputs": []
    },
    {
      "cell_type": "code",
      "metadata": {
        "colab": {
          "base_uri": "https://localhost:8080/"
        },
        "id": "Ss33WTj62Zrh",
        "outputId": "577c0b9b-cf54-48f6-dd91-c85db37c5fbe"
      },
      "source": [
        "report(y, y_p)\n",
        "f1_score_unsup(y, y_p)"
      ],
      "execution_count": null,
      "outputs": [
        {
          "output_type": "stream",
          "name": "stdout",
          "text": [
            "              precision    recall  f1-score   support\n",
            "\n",
            "           0       0.99      0.92      0.95     16550\n",
            "           1       0.11      0.50      0.18       330\n",
            "\n",
            "    accuracy                           0.91     16880\n",
            "   macro avg       0.55      0.71      0.56     16880\n",
            "weighted avg       0.97      0.91      0.94     16880\n",
            "\n"
          ]
        },
        {
          "output_type": "execute_result",
          "data": {
            "text/plain": [
              "0.17780172413793105"
            ]
          },
          "metadata": {},
          "execution_count": 176
        }
      ]
    },
    {
      "cell_type": "markdown",
      "metadata": {
        "id": "tshcVNlZsN1f"
      },
      "source": [
        "## Best algorithm"
      ]
    },
    {
      "cell_type": "markdown",
      "metadata": {
        "id": "BuJEJ95r1sUe"
      },
      "source": [
        "So, One Class SVM showed better results for our data. \n",
        "\n",
        "Unsupervised algorithms showed worse results, but they don't use labels to predict."
      ]
    },
    {
      "cell_type": "code",
      "metadata": {
        "id": "kmoKAqHLsORq"
      },
      "source": [
        ""
      ],
      "execution_count": null,
      "outputs": []
    }
  ]
}